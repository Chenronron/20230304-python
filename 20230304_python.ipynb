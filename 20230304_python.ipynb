{
  "nbformat": 4,
  "nbformat_minor": 0,
  "metadata": {
    "colab": {
      "provenance": [],
      "authorship_tag": "ABX9TyPjM8QHsAuy2Xb28GYp014y",
      "include_colab_link": true
    },
    "kernelspec": {
      "name": "python3",
      "display_name": "Python 3"
    },
    "language_info": {
      "name": "python"
    }
  },
  "cells": [
    {
      "cell_type": "markdown",
      "metadata": {
        "id": "view-in-github",
        "colab_type": "text"
      },
      "source": [
        "<a href=\"https://colab.research.google.com/github/Chenronron/20230304-python/blob/main/20230304_python.ipynb\" target=\"_parent\"><img src=\"https://colab.research.google.com/assets/colab-badge.svg\" alt=\"Open In Colab\"/></a>"
      ]
    },
    {
      "cell_type": "markdown",
      "source": [
        "## 抓取網頁原始碼"
      ],
      "metadata": {
        "id": "10FcNivcVxsl"
      }
    },
    {
      "cell_type": "code",
      "execution_count": null,
      "metadata": {
        "id": "i_B3hQGXJYoG"
      },
      "outputs": [],
      "source": [
        "import requests"
      ]
    },
    {
      "cell_type": "code",
      "source": [
        "url = \"https://victorgau.github.io/khpy_web_intro/html_only.html\""
      ],
      "metadata": {
        "id": "eRWG6Gq3UyyJ"
      },
      "execution_count": null,
      "outputs": []
    },
    {
      "cell_type": "code",
      "source": [
        "r = requests.get(url)"
      ],
      "metadata": {
        "id": "QIsUe8ZlU_eh"
      },
      "execution_count": null,
      "outputs": []
    },
    {
      "cell_type": "code",
      "source": [
        "print(r.text)"
      ],
      "metadata": {
        "colab": {
          "base_uri": "https://localhost:8080/"
        },
        "id": "dvfGx1xxU4Oy",
        "outputId": "5377d8ca-1154-4147-dcfe-b62dc7351c6b"
      },
      "execution_count": null,
      "outputs": [
        {
          "output_type": "stream",
          "name": "stdout",
          "text": [
            "<!DOCTYPE html>\n",
            "<html>\n",
            "<head>\n",
            "    <title>HTML範例</title>\n",
            "</head>\n",
            "<body>\n",
            "\n",
            "<h1>哈囉！HTML！</h1>\n",
            "\n",
            "<img src=\"ninja.jpg\" />\n",
            "\n",
            "</body>\n",
            "</html>\n"
          ]
        }
      ]
    },
    {
      "cell_type": "markdown",
      "source": [
        "## 抓取 Ajax 網頁資料"
      ],
      "metadata": {
        "id": "50KNRrILV41Z"
      }
    },
    {
      "cell_type": "markdown",
      "source": [
        "### 從非 Ajax 網站的網頁上，可以直接看到資料"
      ],
      "metadata": {
        "id": "KcoVga0NWrD_"
      }
    },
    {
      "cell_type": "code",
      "source": [
        "url = \"https://victorgau.github.io/khpy_web_intro/spy.html\""
      ],
      "metadata": {
        "id": "o6X4vwYhV_9D"
      },
      "execution_count": null,
      "outputs": []
    },
    {
      "cell_type": "code",
      "source": [
        "r = requests.get(url)"
      ],
      "metadata": {
        "id": "opr1BdHoWC9k"
      },
      "execution_count": null,
      "outputs": []
    },
    {
      "cell_type": "code",
      "source": [
        "print(r.text)"
      ],
      "metadata": {
        "colab": {
          "base_uri": "https://localhost:8080/"
        },
        "id": "hRSbcJRlWMoj",
        "outputId": "fe78cd64-18c4-4f75-e82e-f1cf09564570"
      },
      "execution_count": null,
      "outputs": [
        {
          "output_type": "stream",
          "name": "stdout",
          "text": [
            "<!DOCTYPE html>\n",
            "<html>\n",
            "<head>\n",
            "    <!-- Required meta tags -->\n",
            "    <meta charset=\"utf-8\">\n",
            "    <meta name=\"viewport\" content=\"width=device-width, initial-scale=1, shrink-to-fit=no\">\n",
            "\n",
            "    <!-- Bootstrap CSS -->\n",
            "    <link rel=\"stylesheet\" href=\"https://maxcdn.bootstrapcdn.com/bootstrap/4.0.0/css/bootstrap.min.css\" integrity=\"sha384-Gn5384xqQ1aoWXA+058RXPxPg6fy4IWvTNh0E263XmFcJlSAwiGgFAW/dAiS6JXm\" crossorigin=\"anonymous\">\n",
            "    <link rel=\"stylesheet\" href=\"https://cdn.jsdelivr.net/npm/bootstrap-icons@1.5.0/font/bootstrap-icons.css\">\n",
            "    <title>HTML範例</title>\n",
            "</head>\n",
            "<body>\n",
            "  <div class=\"container\">\n",
            "    <h1>SPY股價</h1>\n",
            "  </div>\n",
            "    <div class=\"container\">\n",
            "<table border=\"1\" class=\"dataframe table table-striped\">\n",
            "  <thead>\n",
            "    <tr style=\"text-align: right;\">\n",
            "      <th></th>\n",
            "      <th>Open</th>\n",
            "      <th>High</th>\n",
            "      <th>Low</th>\n",
            "      <th>Close</th>\n",
            "      <th>Adj Close</th>\n",
            "      <th>Volume</th>\n",
            "    </tr>\n",
            "    <tr>\n",
            "      <th>Date</th>\n",
            "      <th></th>\n",
            "      <th></th>\n",
            "      <th></th>\n",
            "      <th></th>\n",
            "      <th></th>\n",
            "      <th></th>\n",
            "    </tr>\n",
            "  </thead>\n",
            "  <tbody>\n",
            "    <tr>\n",
            "      <th>2021-07-26</th>\n",
            "      <td>439.309998</td>\n",
            "      <td>441.029999</td>\n",
            "      <td>439.260010</td>\n",
            "      <td>441.019989</td>\n",
            "      <td>441.019989</td>\n",
            "      <td>43719200</td>\n",
            "    </tr>\n",
            "    <tr>\n",
            "      <th>2021-07-27</th>\n",
            "      <td>439.910004</td>\n",
            "      <td>439.940002</td>\n",
            "      <td>435.989990</td>\n",
            "      <td>439.010010</td>\n",
            "      <td>439.010010</td>\n",
            "      <td>67397100</td>\n",
            "    </tr>\n",
            "    <tr>\n",
            "      <th>2021-07-28</th>\n",
            "      <td>439.679993</td>\n",
            "      <td>440.299988</td>\n",
            "      <td>437.309998</td>\n",
            "      <td>438.829987</td>\n",
            "      <td>438.829987</td>\n",
            "      <td>52472400</td>\n",
            "    </tr>\n",
            "    <tr>\n",
            "      <th>2021-07-29</th>\n",
            "      <td>439.820007</td>\n",
            "      <td>441.799988</td>\n",
            "      <td>439.809998</td>\n",
            "      <td>440.649994</td>\n",
            "      <td>440.649994</td>\n",
            "      <td>47435300</td>\n",
            "    </tr>\n",
            "    <tr>\n",
            "      <th>2021-07-30</th>\n",
            "      <td>437.910004</td>\n",
            "      <td>440.059998</td>\n",
            "      <td>437.769989</td>\n",
            "      <td>438.510010</td>\n",
            "      <td>438.510010</td>\n",
            "      <td>68890600</td>\n",
            "    </tr>\n",
            "    <tr>\n",
            "      <th>2021-08-02</th>\n",
            "      <td>440.339996</td>\n",
            "      <td>440.929993</td>\n",
            "      <td>437.209991</td>\n",
            "      <td>437.589996</td>\n",
            "      <td>437.589996</td>\n",
            "      <td>58783300</td>\n",
            "    </tr>\n",
            "    <tr>\n",
            "      <th>2021-08-03</th>\n",
            "      <td>438.440002</td>\n",
            "      <td>441.279999</td>\n",
            "      <td>436.100006</td>\n",
            "      <td>441.149994</td>\n",
            "      <td>441.149994</td>\n",
            "      <td>58053900</td>\n",
            "    </tr>\n",
            "    <tr>\n",
            "      <th>2021-08-04</th>\n",
            "      <td>439.779999</td>\n",
            "      <td>441.119995</td>\n",
            "      <td>438.730011</td>\n",
            "      <td>438.980011</td>\n",
            "      <td>438.980011</td>\n",
            "      <td>46732200</td>\n",
            "    </tr>\n",
            "    <tr>\n",
            "      <th>2021-08-05</th>\n",
            "      <td>440.220001</td>\n",
            "      <td>441.850006</td>\n",
            "      <td>439.880005</td>\n",
            "      <td>441.760010</td>\n",
            "      <td>441.760010</td>\n",
            "      <td>38969700</td>\n",
            "    </tr>\n",
            "    <tr>\n",
            "      <th>2021-08-06</th>\n",
            "      <td>442.100006</td>\n",
            "      <td>442.940002</td>\n",
            "      <td>441.799988</td>\n",
            "      <td>442.489990</td>\n",
            "      <td>442.489990</td>\n",
            "      <td>46864100</td>\n",
            "    </tr>\n",
            "  </tbody>\n",
            "</table>\n",
            "\n",
            "</div>\n",
            "</body>\n",
            "</html>\n"
          ]
        }
      ]
    },
    {
      "cell_type": "code",
      "source": [
        "import pandas as pd"
      ],
      "metadata": {
        "id": "S12hHAyLXPER"
      },
      "execution_count": null,
      "outputs": []
    },
    {
      "cell_type": "code",
      "source": [
        "dfs = pd.read_html(url)"
      ],
      "metadata": {
        "id": "1C-oH9kCXS6P"
      },
      "execution_count": null,
      "outputs": []
    },
    {
      "cell_type": "code",
      "source": [
        "dfs[0]"
      ],
      "metadata": {
        "colab": {
          "base_uri": "https://localhost:8080/",
          "height": 394
        },
        "id": "rTkynZK-XUTM",
        "outputId": "568d931e-c233-47d5-fc30-d3e16a71bd05"
      },
      "execution_count": null,
      "outputs": [
        {
          "output_type": "execute_result",
          "data": {
            "text/plain": [
              "  Unnamed: 0_level_0               Open               High                Low  \\\n",
              "                Date Unnamed: 1_level_1 Unnamed: 2_level_1 Unnamed: 3_level_1   \n",
              "0         2021-07-26         439.309998         441.029999         439.260010   \n",
              "1         2021-07-27         439.910004         439.940002         435.989990   \n",
              "2         2021-07-28         439.679993         440.299988         437.309998   \n",
              "3         2021-07-29         439.820007         441.799988         439.809998   \n",
              "4         2021-07-30         437.910004         440.059998         437.769989   \n",
              "5         2021-08-02         440.339996         440.929993         437.209991   \n",
              "6         2021-08-03         438.440002         441.279999         436.100006   \n",
              "7         2021-08-04         439.779999         441.119995         438.730011   \n",
              "8         2021-08-05         440.220001         441.850006         439.880005   \n",
              "9         2021-08-06         442.100006         442.940002         441.799988   \n",
              "\n",
              "               Close          Adj Close             Volume  \n",
              "  Unnamed: 4_level_1 Unnamed: 5_level_1 Unnamed: 6_level_1  \n",
              "0         441.019989         441.019989           43719200  \n",
              "1         439.010010         439.010010           67397100  \n",
              "2         438.829987         438.829987           52472400  \n",
              "3         440.649994         440.649994           47435300  \n",
              "4         438.510010         438.510010           68890600  \n",
              "5         437.589996         437.589996           58783300  \n",
              "6         441.149994         441.149994           58053900  \n",
              "7         438.980011         438.980011           46732200  \n",
              "8         441.760010         441.760010           38969700  \n",
              "9         442.489990         442.489990           46864100  "
            ],
            "text/html": [
              "\n",
              "  <div id=\"df-e2b14750-7dcd-4020-94f1-92b05bb676e1\">\n",
              "    <div class=\"colab-df-container\">\n",
              "      <div>\n",
              "<style scoped>\n",
              "    .dataframe tbody tr th:only-of-type {\n",
              "        vertical-align: middle;\n",
              "    }\n",
              "\n",
              "    .dataframe tbody tr th {\n",
              "        vertical-align: top;\n",
              "    }\n",
              "\n",
              "    .dataframe thead tr th {\n",
              "        text-align: left;\n",
              "    }\n",
              "</style>\n",
              "<table border=\"1\" class=\"dataframe\">\n",
              "  <thead>\n",
              "    <tr>\n",
              "      <th></th>\n",
              "      <th>Unnamed: 0_level_0</th>\n",
              "      <th>Open</th>\n",
              "      <th>High</th>\n",
              "      <th>Low</th>\n",
              "      <th>Close</th>\n",
              "      <th>Adj Close</th>\n",
              "      <th>Volume</th>\n",
              "    </tr>\n",
              "    <tr>\n",
              "      <th></th>\n",
              "      <th>Date</th>\n",
              "      <th>Unnamed: 1_level_1</th>\n",
              "      <th>Unnamed: 2_level_1</th>\n",
              "      <th>Unnamed: 3_level_1</th>\n",
              "      <th>Unnamed: 4_level_1</th>\n",
              "      <th>Unnamed: 5_level_1</th>\n",
              "      <th>Unnamed: 6_level_1</th>\n",
              "    </tr>\n",
              "  </thead>\n",
              "  <tbody>\n",
              "    <tr>\n",
              "      <th>0</th>\n",
              "      <td>2021-07-26</td>\n",
              "      <td>439.309998</td>\n",
              "      <td>441.029999</td>\n",
              "      <td>439.260010</td>\n",
              "      <td>441.019989</td>\n",
              "      <td>441.019989</td>\n",
              "      <td>43719200</td>\n",
              "    </tr>\n",
              "    <tr>\n",
              "      <th>1</th>\n",
              "      <td>2021-07-27</td>\n",
              "      <td>439.910004</td>\n",
              "      <td>439.940002</td>\n",
              "      <td>435.989990</td>\n",
              "      <td>439.010010</td>\n",
              "      <td>439.010010</td>\n",
              "      <td>67397100</td>\n",
              "    </tr>\n",
              "    <tr>\n",
              "      <th>2</th>\n",
              "      <td>2021-07-28</td>\n",
              "      <td>439.679993</td>\n",
              "      <td>440.299988</td>\n",
              "      <td>437.309998</td>\n",
              "      <td>438.829987</td>\n",
              "      <td>438.829987</td>\n",
              "      <td>52472400</td>\n",
              "    </tr>\n",
              "    <tr>\n",
              "      <th>3</th>\n",
              "      <td>2021-07-29</td>\n",
              "      <td>439.820007</td>\n",
              "      <td>441.799988</td>\n",
              "      <td>439.809998</td>\n",
              "      <td>440.649994</td>\n",
              "      <td>440.649994</td>\n",
              "      <td>47435300</td>\n",
              "    </tr>\n",
              "    <tr>\n",
              "      <th>4</th>\n",
              "      <td>2021-07-30</td>\n",
              "      <td>437.910004</td>\n",
              "      <td>440.059998</td>\n",
              "      <td>437.769989</td>\n",
              "      <td>438.510010</td>\n",
              "      <td>438.510010</td>\n",
              "      <td>68890600</td>\n",
              "    </tr>\n",
              "    <tr>\n",
              "      <th>5</th>\n",
              "      <td>2021-08-02</td>\n",
              "      <td>440.339996</td>\n",
              "      <td>440.929993</td>\n",
              "      <td>437.209991</td>\n",
              "      <td>437.589996</td>\n",
              "      <td>437.589996</td>\n",
              "      <td>58783300</td>\n",
              "    </tr>\n",
              "    <tr>\n",
              "      <th>6</th>\n",
              "      <td>2021-08-03</td>\n",
              "      <td>438.440002</td>\n",
              "      <td>441.279999</td>\n",
              "      <td>436.100006</td>\n",
              "      <td>441.149994</td>\n",
              "      <td>441.149994</td>\n",
              "      <td>58053900</td>\n",
              "    </tr>\n",
              "    <tr>\n",
              "      <th>7</th>\n",
              "      <td>2021-08-04</td>\n",
              "      <td>439.779999</td>\n",
              "      <td>441.119995</td>\n",
              "      <td>438.730011</td>\n",
              "      <td>438.980011</td>\n",
              "      <td>438.980011</td>\n",
              "      <td>46732200</td>\n",
              "    </tr>\n",
              "    <tr>\n",
              "      <th>8</th>\n",
              "      <td>2021-08-05</td>\n",
              "      <td>440.220001</td>\n",
              "      <td>441.850006</td>\n",
              "      <td>439.880005</td>\n",
              "      <td>441.760010</td>\n",
              "      <td>441.760010</td>\n",
              "      <td>38969700</td>\n",
              "    </tr>\n",
              "    <tr>\n",
              "      <th>9</th>\n",
              "      <td>2021-08-06</td>\n",
              "      <td>442.100006</td>\n",
              "      <td>442.940002</td>\n",
              "      <td>441.799988</td>\n",
              "      <td>442.489990</td>\n",
              "      <td>442.489990</td>\n",
              "      <td>46864100</td>\n",
              "    </tr>\n",
              "  </tbody>\n",
              "</table>\n",
              "</div>\n",
              "      <button class=\"colab-df-convert\" onclick=\"convertToInteractive('df-e2b14750-7dcd-4020-94f1-92b05bb676e1')\"\n",
              "              title=\"Convert this dataframe to an interactive table.\"\n",
              "              style=\"display:none;\">\n",
              "        \n",
              "  <svg xmlns=\"http://www.w3.org/2000/svg\" height=\"24px\"viewBox=\"0 0 24 24\"\n",
              "       width=\"24px\">\n",
              "    <path d=\"M0 0h24v24H0V0z\" fill=\"none\"/>\n",
              "    <path d=\"M18.56 5.44l.94 2.06.94-2.06 2.06-.94-2.06-.94-.94-2.06-.94 2.06-2.06.94zm-11 1L8.5 8.5l.94-2.06 2.06-.94-2.06-.94L8.5 2.5l-.94 2.06-2.06.94zm10 10l.94 2.06.94-2.06 2.06-.94-2.06-.94-.94-2.06-.94 2.06-2.06.94z\"/><path d=\"M17.41 7.96l-1.37-1.37c-.4-.4-.92-.59-1.43-.59-.52 0-1.04.2-1.43.59L10.3 9.45l-7.72 7.72c-.78.78-.78 2.05 0 2.83L4 21.41c.39.39.9.59 1.41.59.51 0 1.02-.2 1.41-.59l7.78-7.78 2.81-2.81c.8-.78.8-2.07 0-2.86zM5.41 20L4 18.59l7.72-7.72 1.47 1.35L5.41 20z\"/>\n",
              "  </svg>\n",
              "      </button>\n",
              "      \n",
              "  <style>\n",
              "    .colab-df-container {\n",
              "      display:flex;\n",
              "      flex-wrap:wrap;\n",
              "      gap: 12px;\n",
              "    }\n",
              "\n",
              "    .colab-df-convert {\n",
              "      background-color: #E8F0FE;\n",
              "      border: none;\n",
              "      border-radius: 50%;\n",
              "      cursor: pointer;\n",
              "      display: none;\n",
              "      fill: #1967D2;\n",
              "      height: 32px;\n",
              "      padding: 0 0 0 0;\n",
              "      width: 32px;\n",
              "    }\n",
              "\n",
              "    .colab-df-convert:hover {\n",
              "      background-color: #E2EBFA;\n",
              "      box-shadow: 0px 1px 2px rgba(60, 64, 67, 0.3), 0px 1px 3px 1px rgba(60, 64, 67, 0.15);\n",
              "      fill: #174EA6;\n",
              "    }\n",
              "\n",
              "    [theme=dark] .colab-df-convert {\n",
              "      background-color: #3B4455;\n",
              "      fill: #D2E3FC;\n",
              "    }\n",
              "\n",
              "    [theme=dark] .colab-df-convert:hover {\n",
              "      background-color: #434B5C;\n",
              "      box-shadow: 0px 1px 3px 1px rgba(0, 0, 0, 0.15);\n",
              "      filter: drop-shadow(0px 1px 2px rgba(0, 0, 0, 0.3));\n",
              "      fill: #FFFFFF;\n",
              "    }\n",
              "  </style>\n",
              "\n",
              "      <script>\n",
              "        const buttonEl =\n",
              "          document.querySelector('#df-e2b14750-7dcd-4020-94f1-92b05bb676e1 button.colab-df-convert');\n",
              "        buttonEl.style.display =\n",
              "          google.colab.kernel.accessAllowed ? 'block' : 'none';\n",
              "\n",
              "        async function convertToInteractive(key) {\n",
              "          const element = document.querySelector('#df-e2b14750-7dcd-4020-94f1-92b05bb676e1');\n",
              "          const dataTable =\n",
              "            await google.colab.kernel.invokeFunction('convertToInteractive',\n",
              "                                                     [key], {});\n",
              "          if (!dataTable) return;\n",
              "\n",
              "          const docLinkHtml = 'Like what you see? Visit the ' +\n",
              "            '<a target=\"_blank\" href=https://colab.research.google.com/notebooks/data_table.ipynb>data table notebook</a>'\n",
              "            + ' to learn more about interactive tables.';\n",
              "          element.innerHTML = '';\n",
              "          dataTable['output_type'] = 'display_data';\n",
              "          await google.colab.output.renderOutput(dataTable, element);\n",
              "          const docLink = document.createElement('div');\n",
              "          docLink.innerHTML = docLinkHtml;\n",
              "          element.appendChild(docLink);\n",
              "        }\n",
              "      </script>\n",
              "    </div>\n",
              "  </div>\n",
              "  "
            ]
          },
          "metadata": {},
          "execution_count": 23
        }
      ]
    },
    {
      "cell_type": "markdown",
      "source": [
        "### 從 ajax 網頁上，可能看不到資料"
      ],
      "metadata": {
        "id": "dUoaEZnHW7Dm"
      }
    },
    {
      "cell_type": "code",
      "source": [
        "url = \"https://victorgau.github.io/khpy_web_intro/spy_ajax.html\""
      ],
      "metadata": {
        "id": "m4jEMQF1WOwF"
      },
      "execution_count": null,
      "outputs": []
    },
    {
      "cell_type": "code",
      "source": [
        "r = requests.get(url)"
      ],
      "metadata": {
        "id": "22z6XEx7WURV"
      },
      "execution_count": null,
      "outputs": []
    },
    {
      "cell_type": "code",
      "source": [
        "print(r.text)"
      ],
      "metadata": {
        "colab": {
          "base_uri": "https://localhost:8080/"
        },
        "id": "NfJFRqKXWWxw",
        "outputId": "d9513497-4ba2-4097-adba-b04fdced06c7"
      },
      "execution_count": null,
      "outputs": [
        {
          "output_type": "stream",
          "name": "stdout",
          "text": [
            "<!DOCTYPE html>\n",
            "<html>\n",
            "<head>\n",
            "    <!-- Required meta tags -->\n",
            "    <meta charset=\"utf-8\">\n",
            "    <meta name=\"viewport\" content=\"width=device-width, initial-scale=1, shrink-to-fit=no\">\n",
            "\n",
            "    <!-- Bootstrap CSS -->\n",
            "    <link rel=\"stylesheet\" href=\"https://maxcdn.bootstrapcdn.com/bootstrap/4.0.0/css/bootstrap.min.css\" integrity=\"sha384-Gn5384xqQ1aoWXA+058RXPxPg6fy4IWvTNh0E263XmFcJlSAwiGgFAW/dAiS6JXm\" crossorigin=\"anonymous\">\n",
            "    <link rel=\"stylesheet\" href=\"https://cdn.jsdelivr.net/npm/bootstrap-icons@1.5.0/font/bootstrap-icons.css\">\n",
            "    <script src=\"https://code.jquery.com/jquery-3.6.0.min.js\"></script>\n",
            "    <title>AJAX範例</title>\n",
            "</head>\n",
            "<body>\n",
            "  <div class=\"container\">\n",
            "    <h1>SPY股價</h1>\n",
            "  </div>\n",
            "  <div class=\"container\">\n",
            "    <table border=\"1\" class=\"dataframe table table-striped\">\n",
            "        <thead>\n",
            "          <tr style=\"text-align: right;\">\n",
            "            <th></th>\n",
            "            <th>Open</th>\n",
            "            <th>High</th>\n",
            "            <th>Low</th>\n",
            "            <th>Close</th>\n",
            "            <th>Adj Close</th>\n",
            "            <th>Volume</th>\n",
            "          </tr>\n",
            "          <tr>\n",
            "            <th>Date</th>\n",
            "            <th></th>\n",
            "            <th></th>\n",
            "            <th></th>\n",
            "            <th></th>\n",
            "            <th></th>\n",
            "            <th></th>\n",
            "          </tr>\n",
            "        </thead>\n",
            "        <tbody id=\"spy\">\n",
            "\n",
            "        </tbody>\n",
            "    </table>\n",
            "  </div>\n",
            "\n",
            "  <script type=\"text/javascript\">\n",
            "    $(document).ready(function(){\n",
            "        $.ajax({\n",
            "            url: \"spy.json\",\n",
            "            dataType: 'json',\n",
            "            type: 'get',\n",
            "            cache:false,\n",
            "            success: function(data){\n",
            "                // console.log(data);\n",
            "                var event_data = '';\n",
            "                $.each(data, function(index, value){\n",
            "                    // console.log(value);\n",
            "                    event_data += '<tr>';\n",
            "                    event_data += '<th>'+value.Date+'</th>';\n",
            "                    event_data += '<td>'+value.Open+'</td>';\n",
            "                    event_data += '<td>'+value.High+'</td>';\n",
            "                    event_data += '<td>'+value.Low+'</td>';\n",
            "                    event_data += '<td>'+value.Close+'</td>';\n",
            "                    event_data += '<td>'+value['Adj Close']+'</td>';\n",
            "                    event_data += '<td>'+value.Volume+'</td>';\n",
            "                    event_data += '</tr>';\n",
            "                });\n",
            "                $(\"#spy\").append(event_data);\n",
            "            },\n",
            "            error: function(d){\n",
            "                // console.log(\"error\");\n",
            "                alert(\"404. Please wait until the File is Loaded.\");\n",
            "            }\n",
            "        });\n",
            "    });\n",
            "    </script>\n",
            "    \n",
            "\n",
            "</body>\n",
            "</html>\n"
          ]
        }
      ]
    },
    {
      "cell_type": "code",
      "source": [
        "url = \"https://victorgau.github.io/khpy_web_intro/spy.json\""
      ],
      "metadata": {
        "id": "RCRN6J7VWaL8"
      },
      "execution_count": null,
      "outputs": []
    },
    {
      "cell_type": "code",
      "source": [
        "data = requests.get(url).json()"
      ],
      "metadata": {
        "id": "tPob3dR-hlCr"
      },
      "execution_count": null,
      "outputs": []
    },
    {
      "cell_type": "code",
      "source": [
        "df = pd.read_json(url)"
      ],
      "metadata": {
        "id": "zcPxE11RhuuR"
      },
      "execution_count": null,
      "outputs": []
    },
    {
      "cell_type": "code",
      "source": [
        "df.head()"
      ],
      "metadata": {
        "colab": {
          "base_uri": "https://localhost:8080/",
          "height": 206
        },
        "id": "BNSkeDSTh50w",
        "outputId": "42ce08fb-0b43-44b2-ce1d-b631a3ea5547"
      },
      "execution_count": null,
      "outputs": [
        {
          "output_type": "execute_result",
          "data": {
            "text/plain": [
              "        Date        Open        High         Low       Close   Adj Close  \\\n",
              "0 2021-07-26  439.309998  441.029999  439.260010  441.019989  441.019989   \n",
              "1 2021-07-27  439.910004  439.940002  435.989990  439.010010  439.010010   \n",
              "2 2021-07-28  439.679993  440.299988  437.309998  438.829987  438.829987   \n",
              "3 2021-07-29  439.820007  441.799988  439.809998  440.649994  440.649994   \n",
              "4 2021-07-30  437.910004  440.059998  437.769989  438.510010  438.510010   \n",
              "\n",
              "     Volume  \n",
              "0  43719200  \n",
              "1  67397100  \n",
              "2  52472400  \n",
              "3  47435300  \n",
              "4  68890600  "
            ],
            "text/html": [
              "\n",
              "  <div id=\"df-4ef3dcfc-3c01-4099-b631-d4c265236830\">\n",
              "    <div class=\"colab-df-container\">\n",
              "      <div>\n",
              "<style scoped>\n",
              "    .dataframe tbody tr th:only-of-type {\n",
              "        vertical-align: middle;\n",
              "    }\n",
              "\n",
              "    .dataframe tbody tr th {\n",
              "        vertical-align: top;\n",
              "    }\n",
              "\n",
              "    .dataframe thead th {\n",
              "        text-align: right;\n",
              "    }\n",
              "</style>\n",
              "<table border=\"1\" class=\"dataframe\">\n",
              "  <thead>\n",
              "    <tr style=\"text-align: right;\">\n",
              "      <th></th>\n",
              "      <th>Date</th>\n",
              "      <th>Open</th>\n",
              "      <th>High</th>\n",
              "      <th>Low</th>\n",
              "      <th>Close</th>\n",
              "      <th>Adj Close</th>\n",
              "      <th>Volume</th>\n",
              "    </tr>\n",
              "  </thead>\n",
              "  <tbody>\n",
              "    <tr>\n",
              "      <th>0</th>\n",
              "      <td>2021-07-26</td>\n",
              "      <td>439.309998</td>\n",
              "      <td>441.029999</td>\n",
              "      <td>439.260010</td>\n",
              "      <td>441.019989</td>\n",
              "      <td>441.019989</td>\n",
              "      <td>43719200</td>\n",
              "    </tr>\n",
              "    <tr>\n",
              "      <th>1</th>\n",
              "      <td>2021-07-27</td>\n",
              "      <td>439.910004</td>\n",
              "      <td>439.940002</td>\n",
              "      <td>435.989990</td>\n",
              "      <td>439.010010</td>\n",
              "      <td>439.010010</td>\n",
              "      <td>67397100</td>\n",
              "    </tr>\n",
              "    <tr>\n",
              "      <th>2</th>\n",
              "      <td>2021-07-28</td>\n",
              "      <td>439.679993</td>\n",
              "      <td>440.299988</td>\n",
              "      <td>437.309998</td>\n",
              "      <td>438.829987</td>\n",
              "      <td>438.829987</td>\n",
              "      <td>52472400</td>\n",
              "    </tr>\n",
              "    <tr>\n",
              "      <th>3</th>\n",
              "      <td>2021-07-29</td>\n",
              "      <td>439.820007</td>\n",
              "      <td>441.799988</td>\n",
              "      <td>439.809998</td>\n",
              "      <td>440.649994</td>\n",
              "      <td>440.649994</td>\n",
              "      <td>47435300</td>\n",
              "    </tr>\n",
              "    <tr>\n",
              "      <th>4</th>\n",
              "      <td>2021-07-30</td>\n",
              "      <td>437.910004</td>\n",
              "      <td>440.059998</td>\n",
              "      <td>437.769989</td>\n",
              "      <td>438.510010</td>\n",
              "      <td>438.510010</td>\n",
              "      <td>68890600</td>\n",
              "    </tr>\n",
              "  </tbody>\n",
              "</table>\n",
              "</div>\n",
              "      <button class=\"colab-df-convert\" onclick=\"convertToInteractive('df-4ef3dcfc-3c01-4099-b631-d4c265236830')\"\n",
              "              title=\"Convert this dataframe to an interactive table.\"\n",
              "              style=\"display:none;\">\n",
              "        \n",
              "  <svg xmlns=\"http://www.w3.org/2000/svg\" height=\"24px\"viewBox=\"0 0 24 24\"\n",
              "       width=\"24px\">\n",
              "    <path d=\"M0 0h24v24H0V0z\" fill=\"none\"/>\n",
              "    <path d=\"M18.56 5.44l.94 2.06.94-2.06 2.06-.94-2.06-.94-.94-2.06-.94 2.06-2.06.94zm-11 1L8.5 8.5l.94-2.06 2.06-.94-2.06-.94L8.5 2.5l-.94 2.06-2.06.94zm10 10l.94 2.06.94-2.06 2.06-.94-2.06-.94-.94-2.06-.94 2.06-2.06.94z\"/><path d=\"M17.41 7.96l-1.37-1.37c-.4-.4-.92-.59-1.43-.59-.52 0-1.04.2-1.43.59L10.3 9.45l-7.72 7.72c-.78.78-.78 2.05 0 2.83L4 21.41c.39.39.9.59 1.41.59.51 0 1.02-.2 1.41-.59l7.78-7.78 2.81-2.81c.8-.78.8-2.07 0-2.86zM5.41 20L4 18.59l7.72-7.72 1.47 1.35L5.41 20z\"/>\n",
              "  </svg>\n",
              "      </button>\n",
              "      \n",
              "  <style>\n",
              "    .colab-df-container {\n",
              "      display:flex;\n",
              "      flex-wrap:wrap;\n",
              "      gap: 12px;\n",
              "    }\n",
              "\n",
              "    .colab-df-convert {\n",
              "      background-color: #E8F0FE;\n",
              "      border: none;\n",
              "      border-radius: 50%;\n",
              "      cursor: pointer;\n",
              "      display: none;\n",
              "      fill: #1967D2;\n",
              "      height: 32px;\n",
              "      padding: 0 0 0 0;\n",
              "      width: 32px;\n",
              "    }\n",
              "\n",
              "    .colab-df-convert:hover {\n",
              "      background-color: #E2EBFA;\n",
              "      box-shadow: 0px 1px 2px rgba(60, 64, 67, 0.3), 0px 1px 3px 1px rgba(60, 64, 67, 0.15);\n",
              "      fill: #174EA6;\n",
              "    }\n",
              "\n",
              "    [theme=dark] .colab-df-convert {\n",
              "      background-color: #3B4455;\n",
              "      fill: #D2E3FC;\n",
              "    }\n",
              "\n",
              "    [theme=dark] .colab-df-convert:hover {\n",
              "      background-color: #434B5C;\n",
              "      box-shadow: 0px 1px 3px 1px rgba(0, 0, 0, 0.15);\n",
              "      filter: drop-shadow(0px 1px 2px rgba(0, 0, 0, 0.3));\n",
              "      fill: #FFFFFF;\n",
              "    }\n",
              "  </style>\n",
              "\n",
              "      <script>\n",
              "        const buttonEl =\n",
              "          document.querySelector('#df-4ef3dcfc-3c01-4099-b631-d4c265236830 button.colab-df-convert');\n",
              "        buttonEl.style.display =\n",
              "          google.colab.kernel.accessAllowed ? 'block' : 'none';\n",
              "\n",
              "        async function convertToInteractive(key) {\n",
              "          const element = document.querySelector('#df-4ef3dcfc-3c01-4099-b631-d4c265236830');\n",
              "          const dataTable =\n",
              "            await google.colab.kernel.invokeFunction('convertToInteractive',\n",
              "                                                     [key], {});\n",
              "          if (!dataTable) return;\n",
              "\n",
              "          const docLinkHtml = 'Like what you see? Visit the ' +\n",
              "            '<a target=\"_blank\" href=https://colab.research.google.com/notebooks/data_table.ipynb>data table notebook</a>'\n",
              "            + ' to learn more about interactive tables.';\n",
              "          element.innerHTML = '';\n",
              "          dataTable['output_type'] = 'display_data';\n",
              "          await google.colab.output.renderOutput(dataTable, element);\n",
              "          const docLink = document.createElement('div');\n",
              "          docLink.innerHTML = docLinkHtml;\n",
              "          element.appendChild(docLink);\n",
              "        }\n",
              "      </script>\n",
              "    </div>\n",
              "  </div>\n",
              "  "
            ]
          },
          "metadata": {},
          "execution_count": 28
        }
      ]
    },
    {
      "cell_type": "markdown",
      "source": [
        "## 關於 pandas 的 read_html()"
      ],
      "metadata": {
        "id": "ZYr_lF4Kh_53"
      }
    },
    {
      "cell_type": "code",
      "source": [
        "url = \"https://en.wikipedia.org/wiki/List_of_S%26P_500_companies\""
      ],
      "metadata": {
        "id": "bskqkm-TiANG"
      },
      "execution_count": null,
      "outputs": []
    },
    {
      "cell_type": "code",
      "source": [
        "dfs = pd.read_html(url)"
      ],
      "metadata": {
        "id": "8_aE2crsiCKw"
      },
      "execution_count": null,
      "outputs": []
    },
    {
      "cell_type": "code",
      "source": [
        "type(dfs)"
      ],
      "metadata": {
        "colab": {
          "base_uri": "https://localhost:8080/"
        },
        "id": "Tc2_qHlSiDz3",
        "outputId": "8d5fea4c-2c2c-46ea-fd74-a2bc10ff5381"
      },
      "execution_count": null,
      "outputs": [
        {
          "output_type": "execute_result",
          "data": {
            "text/plain": [
              "list"
            ]
          },
          "metadata": {},
          "execution_count": 31
        }
      ]
    },
    {
      "cell_type": "code",
      "source": [
        "len(dfs)"
      ],
      "metadata": {
        "colab": {
          "base_uri": "https://localhost:8080/"
        },
        "id": "IxRvgRpLiFMF",
        "outputId": "f62e11f7-a2be-462f-eb9f-f1be5e156f5f"
      },
      "execution_count": null,
      "outputs": [
        {
          "output_type": "execute_result",
          "data": {
            "text/plain": [
              "2"
            ]
          },
          "metadata": {},
          "execution_count": 32
        }
      ]
    },
    {
      "cell_type": "code",
      "source": [
        "dfs[0]"
      ],
      "metadata": {
        "colab": {
          "base_uri": "https://localhost:8080/",
          "height": 423
        },
        "id": "K2b0V9bmiH87",
        "outputId": "dbc93477-325d-4aaf-d5f8-8196ece59785"
      },
      "execution_count": null,
      "outputs": [
        {
          "output_type": "execute_result",
          "data": {
            "text/plain": [
              "    Symbol              Security             GICS Sector  \\\n",
              "0      MMM                    3M             Industrials   \n",
              "1      AOS           A. O. Smith             Industrials   \n",
              "2      ABT                Abbott             Health Care   \n",
              "3     ABBV                AbbVie             Health Care   \n",
              "4      ACN             Accenture  Information Technology   \n",
              "..     ...                   ...                     ...   \n",
              "498    YUM           Yum! Brands  Consumer Discretionary   \n",
              "499   ZBRA    Zebra Technologies  Information Technology   \n",
              "500    ZBH         Zimmer Biomet             Health Care   \n",
              "501   ZION  Zions Bancorporation              Financials   \n",
              "502    ZTS                Zoetis             Health Care   \n",
              "\n",
              "                      GICS Sub-Industry    Headquarters Location  Date added  \\\n",
              "0              Industrial Conglomerates    Saint Paul, Minnesota  1957-03-04   \n",
              "1                     Building Products     Milwaukee, Wisconsin  2017-07-26   \n",
              "2                 Health Care Equipment  North Chicago, Illinois  1957-03-04   \n",
              "3                       Pharmaceuticals  North Chicago, Illinois  2012-12-31   \n",
              "4        IT Consulting & Other Services          Dublin, Ireland  2011-07-06   \n",
              "..                                  ...                      ...         ...   \n",
              "498                         Restaurants     Louisville, Kentucky  1997-10-06   \n",
              "499  Electronic Equipment & Instruments   Lincolnshire, Illinois  2019-12-23   \n",
              "500               Health Care Equipment          Warsaw, Indiana  2001-08-07   \n",
              "501                      Regional Banks     Salt Lake City, Utah  2001-06-22   \n",
              "502                     Pharmaceuticals   Parsippany, New Jersey  2013-06-21   \n",
              "\n",
              "         CIK      Founded  \n",
              "0      66740         1902  \n",
              "1      91142         1916  \n",
              "2       1800         1888  \n",
              "3    1551152  2013 (1888)  \n",
              "4    1467373         1989  \n",
              "..       ...          ...  \n",
              "498  1041061         1997  \n",
              "499   877212         1969  \n",
              "500  1136869         1927  \n",
              "501   109380         1873  \n",
              "502  1555280         1952  \n",
              "\n",
              "[503 rows x 8 columns]"
            ],
            "text/html": [
              "\n",
              "  <div id=\"df-8e339ddd-a987-4a7f-b5d7-21b62dbdb6ee\">\n",
              "    <div class=\"colab-df-container\">\n",
              "      <div>\n",
              "<style scoped>\n",
              "    .dataframe tbody tr th:only-of-type {\n",
              "        vertical-align: middle;\n",
              "    }\n",
              "\n",
              "    .dataframe tbody tr th {\n",
              "        vertical-align: top;\n",
              "    }\n",
              "\n",
              "    .dataframe thead th {\n",
              "        text-align: right;\n",
              "    }\n",
              "</style>\n",
              "<table border=\"1\" class=\"dataframe\">\n",
              "  <thead>\n",
              "    <tr style=\"text-align: right;\">\n",
              "      <th></th>\n",
              "      <th>Symbol</th>\n",
              "      <th>Security</th>\n",
              "      <th>GICS Sector</th>\n",
              "      <th>GICS Sub-Industry</th>\n",
              "      <th>Headquarters Location</th>\n",
              "      <th>Date added</th>\n",
              "      <th>CIK</th>\n",
              "      <th>Founded</th>\n",
              "    </tr>\n",
              "  </thead>\n",
              "  <tbody>\n",
              "    <tr>\n",
              "      <th>0</th>\n",
              "      <td>MMM</td>\n",
              "      <td>3M</td>\n",
              "      <td>Industrials</td>\n",
              "      <td>Industrial Conglomerates</td>\n",
              "      <td>Saint Paul, Minnesota</td>\n",
              "      <td>1957-03-04</td>\n",
              "      <td>66740</td>\n",
              "      <td>1902</td>\n",
              "    </tr>\n",
              "    <tr>\n",
              "      <th>1</th>\n",
              "      <td>AOS</td>\n",
              "      <td>A. O. Smith</td>\n",
              "      <td>Industrials</td>\n",
              "      <td>Building Products</td>\n",
              "      <td>Milwaukee, Wisconsin</td>\n",
              "      <td>2017-07-26</td>\n",
              "      <td>91142</td>\n",
              "      <td>1916</td>\n",
              "    </tr>\n",
              "    <tr>\n",
              "      <th>2</th>\n",
              "      <td>ABT</td>\n",
              "      <td>Abbott</td>\n",
              "      <td>Health Care</td>\n",
              "      <td>Health Care Equipment</td>\n",
              "      <td>North Chicago, Illinois</td>\n",
              "      <td>1957-03-04</td>\n",
              "      <td>1800</td>\n",
              "      <td>1888</td>\n",
              "    </tr>\n",
              "    <tr>\n",
              "      <th>3</th>\n",
              "      <td>ABBV</td>\n",
              "      <td>AbbVie</td>\n",
              "      <td>Health Care</td>\n",
              "      <td>Pharmaceuticals</td>\n",
              "      <td>North Chicago, Illinois</td>\n",
              "      <td>2012-12-31</td>\n",
              "      <td>1551152</td>\n",
              "      <td>2013 (1888)</td>\n",
              "    </tr>\n",
              "    <tr>\n",
              "      <th>4</th>\n",
              "      <td>ACN</td>\n",
              "      <td>Accenture</td>\n",
              "      <td>Information Technology</td>\n",
              "      <td>IT Consulting &amp; Other Services</td>\n",
              "      <td>Dublin, Ireland</td>\n",
              "      <td>2011-07-06</td>\n",
              "      <td>1467373</td>\n",
              "      <td>1989</td>\n",
              "    </tr>\n",
              "    <tr>\n",
              "      <th>...</th>\n",
              "      <td>...</td>\n",
              "      <td>...</td>\n",
              "      <td>...</td>\n",
              "      <td>...</td>\n",
              "      <td>...</td>\n",
              "      <td>...</td>\n",
              "      <td>...</td>\n",
              "      <td>...</td>\n",
              "    </tr>\n",
              "    <tr>\n",
              "      <th>498</th>\n",
              "      <td>YUM</td>\n",
              "      <td>Yum! Brands</td>\n",
              "      <td>Consumer Discretionary</td>\n",
              "      <td>Restaurants</td>\n",
              "      <td>Louisville, Kentucky</td>\n",
              "      <td>1997-10-06</td>\n",
              "      <td>1041061</td>\n",
              "      <td>1997</td>\n",
              "    </tr>\n",
              "    <tr>\n",
              "      <th>499</th>\n",
              "      <td>ZBRA</td>\n",
              "      <td>Zebra Technologies</td>\n",
              "      <td>Information Technology</td>\n",
              "      <td>Electronic Equipment &amp; Instruments</td>\n",
              "      <td>Lincolnshire, Illinois</td>\n",
              "      <td>2019-12-23</td>\n",
              "      <td>877212</td>\n",
              "      <td>1969</td>\n",
              "    </tr>\n",
              "    <tr>\n",
              "      <th>500</th>\n",
              "      <td>ZBH</td>\n",
              "      <td>Zimmer Biomet</td>\n",
              "      <td>Health Care</td>\n",
              "      <td>Health Care Equipment</td>\n",
              "      <td>Warsaw, Indiana</td>\n",
              "      <td>2001-08-07</td>\n",
              "      <td>1136869</td>\n",
              "      <td>1927</td>\n",
              "    </tr>\n",
              "    <tr>\n",
              "      <th>501</th>\n",
              "      <td>ZION</td>\n",
              "      <td>Zions Bancorporation</td>\n",
              "      <td>Financials</td>\n",
              "      <td>Regional Banks</td>\n",
              "      <td>Salt Lake City, Utah</td>\n",
              "      <td>2001-06-22</td>\n",
              "      <td>109380</td>\n",
              "      <td>1873</td>\n",
              "    </tr>\n",
              "    <tr>\n",
              "      <th>502</th>\n",
              "      <td>ZTS</td>\n",
              "      <td>Zoetis</td>\n",
              "      <td>Health Care</td>\n",
              "      <td>Pharmaceuticals</td>\n",
              "      <td>Parsippany, New Jersey</td>\n",
              "      <td>2013-06-21</td>\n",
              "      <td>1555280</td>\n",
              "      <td>1952</td>\n",
              "    </tr>\n",
              "  </tbody>\n",
              "</table>\n",
              "<p>503 rows × 8 columns</p>\n",
              "</div>\n",
              "      <button class=\"colab-df-convert\" onclick=\"convertToInteractive('df-8e339ddd-a987-4a7f-b5d7-21b62dbdb6ee')\"\n",
              "              title=\"Convert this dataframe to an interactive table.\"\n",
              "              style=\"display:none;\">\n",
              "        \n",
              "  <svg xmlns=\"http://www.w3.org/2000/svg\" height=\"24px\"viewBox=\"0 0 24 24\"\n",
              "       width=\"24px\">\n",
              "    <path d=\"M0 0h24v24H0V0z\" fill=\"none\"/>\n",
              "    <path d=\"M18.56 5.44l.94 2.06.94-2.06 2.06-.94-2.06-.94-.94-2.06-.94 2.06-2.06.94zm-11 1L8.5 8.5l.94-2.06 2.06-.94-2.06-.94L8.5 2.5l-.94 2.06-2.06.94zm10 10l.94 2.06.94-2.06 2.06-.94-2.06-.94-.94-2.06-.94 2.06-2.06.94z\"/><path d=\"M17.41 7.96l-1.37-1.37c-.4-.4-.92-.59-1.43-.59-.52 0-1.04.2-1.43.59L10.3 9.45l-7.72 7.72c-.78.78-.78 2.05 0 2.83L4 21.41c.39.39.9.59 1.41.59.51 0 1.02-.2 1.41-.59l7.78-7.78 2.81-2.81c.8-.78.8-2.07 0-2.86zM5.41 20L4 18.59l7.72-7.72 1.47 1.35L5.41 20z\"/>\n",
              "  </svg>\n",
              "      </button>\n",
              "      \n",
              "  <style>\n",
              "    .colab-df-container {\n",
              "      display:flex;\n",
              "      flex-wrap:wrap;\n",
              "      gap: 12px;\n",
              "    }\n",
              "\n",
              "    .colab-df-convert {\n",
              "      background-color: #E8F0FE;\n",
              "      border: none;\n",
              "      border-radius: 50%;\n",
              "      cursor: pointer;\n",
              "      display: none;\n",
              "      fill: #1967D2;\n",
              "      height: 32px;\n",
              "      padding: 0 0 0 0;\n",
              "      width: 32px;\n",
              "    }\n",
              "\n",
              "    .colab-df-convert:hover {\n",
              "      background-color: #E2EBFA;\n",
              "      box-shadow: 0px 1px 2px rgba(60, 64, 67, 0.3), 0px 1px 3px 1px rgba(60, 64, 67, 0.15);\n",
              "      fill: #174EA6;\n",
              "    }\n",
              "\n",
              "    [theme=dark] .colab-df-convert {\n",
              "      background-color: #3B4455;\n",
              "      fill: #D2E3FC;\n",
              "    }\n",
              "\n",
              "    [theme=dark] .colab-df-convert:hover {\n",
              "      background-color: #434B5C;\n",
              "      box-shadow: 0px 1px 3px 1px rgba(0, 0, 0, 0.15);\n",
              "      filter: drop-shadow(0px 1px 2px rgba(0, 0, 0, 0.3));\n",
              "      fill: #FFFFFF;\n",
              "    }\n",
              "  </style>\n",
              "\n",
              "      <script>\n",
              "        const buttonEl =\n",
              "          document.querySelector('#df-8e339ddd-a987-4a7f-b5d7-21b62dbdb6ee button.colab-df-convert');\n",
              "        buttonEl.style.display =\n",
              "          google.colab.kernel.accessAllowed ? 'block' : 'none';\n",
              "\n",
              "        async function convertToInteractive(key) {\n",
              "          const element = document.querySelector('#df-8e339ddd-a987-4a7f-b5d7-21b62dbdb6ee');\n",
              "          const dataTable =\n",
              "            await google.colab.kernel.invokeFunction('convertToInteractive',\n",
              "                                                     [key], {});\n",
              "          if (!dataTable) return;\n",
              "\n",
              "          const docLinkHtml = 'Like what you see? Visit the ' +\n",
              "            '<a target=\"_blank\" href=https://colab.research.google.com/notebooks/data_table.ipynb>data table notebook</a>'\n",
              "            + ' to learn more about interactive tables.';\n",
              "          element.innerHTML = '';\n",
              "          dataTable['output_type'] = 'display_data';\n",
              "          await google.colab.output.renderOutput(dataTable, element);\n",
              "          const docLink = document.createElement('div');\n",
              "          docLink.innerHTML = docLinkHtml;\n",
              "          element.appendChild(docLink);\n",
              "        }\n",
              "      </script>\n",
              "    </div>\n",
              "  </div>\n",
              "  "
            ]
          },
          "metadata": {},
          "execution_count": 33
        }
      ]
    },
    {
      "cell_type": "code",
      "source": [
        "dfs[1]"
      ],
      "metadata": {
        "colab": {
          "base_uri": "https://localhost:8080/",
          "height": 455
        },
        "id": "u2Z-2EQBiJkz",
        "outputId": "75e0f32a-4a86-4e4f-95bc-00b2257f0329"
      },
      "execution_count": null,
      "outputs": [
        {
          "output_type": "execute_result",
          "data": {
            "text/plain": [
              "                  Date  Added                                Removed  \\\n",
              "                  Date Ticker                       Security  Ticker   \n",
              "0      January 5, 2023    NaN                            NaN     VNO   \n",
              "1      January 4, 2023   GEHC                  GE HealthCare     NaN   \n",
              "2    December 22, 2022   STLD                 Steel Dynamics    ABMD   \n",
              "3    December 19, 2022   FSLR                    First Solar    FBHS   \n",
              "4    December 19, 2022    NaN                            NaN     MBC   \n",
              "..                 ...    ...                            ...     ...   \n",
              "315       June 9, 1999    WLP                      Wellpoint     HPH   \n",
              "316  December 11, 1998    FSR                        Firstar     LDW   \n",
              "317  December 11, 1998    CCL                 Carnival Corp.     GRN   \n",
              "318  December 11, 1998   CPWR                      Compuware     SUN   \n",
              "319      June 17, 1997    CCI  Countrywide Credit Industries     USL   \n",
              "\n",
              "                                     \\\n",
              "                           Security   \n",
              "0              Vornado Realty Trust   \n",
              "1                               NaN   \n",
              "2                           Abiomed   \n",
              "3    Fortune Brands Home & Security   \n",
              "4                       MasterBrand   \n",
              "..                              ...   \n",
              "315        Harnischfeger Industries   \n",
              "316                           Amoco   \n",
              "317                      General Re   \n",
              "318                      SunAmerica   \n",
              "319                          USLife   \n",
              "\n",
              "                                                Reason  \n",
              "                                                Reason  \n",
              "0                     Market capitalization change.[4]  \n",
              "1    S&P 500 constituent General Electric spun off ...  \n",
              "2    S&P 500 constituent Johnson & Johnson acquired...  \n",
              "3                     Market capitalization change.[7]  \n",
              "4                     Market capitalization change.[7]  \n",
              "..                                                 ...  \n",
              "315           Harnischfeger filed for bankruptcy.[241]  \n",
              "316            British Petroleum purchased Amoco.[242]  \n",
              "317      Berkshire Hathaway purchased General Re.[242]  \n",
              "318                     AIG purchased SunAmerica.[242]  \n",
              "319                          AIG acquired USLife.[243]  \n",
              "\n",
              "[320 rows x 6 columns]"
            ],
            "text/html": [
              "\n",
              "  <div id=\"df-08139ee6-1b48-4c18-8b74-bc989c3a3b26\">\n",
              "    <div class=\"colab-df-container\">\n",
              "      <div>\n",
              "<style scoped>\n",
              "    .dataframe tbody tr th:only-of-type {\n",
              "        vertical-align: middle;\n",
              "    }\n",
              "\n",
              "    .dataframe tbody tr th {\n",
              "        vertical-align: top;\n",
              "    }\n",
              "\n",
              "    .dataframe thead tr th {\n",
              "        text-align: left;\n",
              "    }\n",
              "</style>\n",
              "<table border=\"1\" class=\"dataframe\">\n",
              "  <thead>\n",
              "    <tr>\n",
              "      <th></th>\n",
              "      <th>Date</th>\n",
              "      <th colspan=\"2\" halign=\"left\">Added</th>\n",
              "      <th colspan=\"2\" halign=\"left\">Removed</th>\n",
              "      <th>Reason</th>\n",
              "    </tr>\n",
              "    <tr>\n",
              "      <th></th>\n",
              "      <th>Date</th>\n",
              "      <th>Ticker</th>\n",
              "      <th>Security</th>\n",
              "      <th>Ticker</th>\n",
              "      <th>Security</th>\n",
              "      <th>Reason</th>\n",
              "    </tr>\n",
              "  </thead>\n",
              "  <tbody>\n",
              "    <tr>\n",
              "      <th>0</th>\n",
              "      <td>January 5, 2023</td>\n",
              "      <td>NaN</td>\n",
              "      <td>NaN</td>\n",
              "      <td>VNO</td>\n",
              "      <td>Vornado Realty Trust</td>\n",
              "      <td>Market capitalization change.[4]</td>\n",
              "    </tr>\n",
              "    <tr>\n",
              "      <th>1</th>\n",
              "      <td>January 4, 2023</td>\n",
              "      <td>GEHC</td>\n",
              "      <td>GE HealthCare</td>\n",
              "      <td>NaN</td>\n",
              "      <td>NaN</td>\n",
              "      <td>S&amp;P 500 constituent General Electric spun off ...</td>\n",
              "    </tr>\n",
              "    <tr>\n",
              "      <th>2</th>\n",
              "      <td>December 22, 2022</td>\n",
              "      <td>STLD</td>\n",
              "      <td>Steel Dynamics</td>\n",
              "      <td>ABMD</td>\n",
              "      <td>Abiomed</td>\n",
              "      <td>S&amp;P 500 constituent Johnson &amp; Johnson acquired...</td>\n",
              "    </tr>\n",
              "    <tr>\n",
              "      <th>3</th>\n",
              "      <td>December 19, 2022</td>\n",
              "      <td>FSLR</td>\n",
              "      <td>First Solar</td>\n",
              "      <td>FBHS</td>\n",
              "      <td>Fortune Brands Home &amp; Security</td>\n",
              "      <td>Market capitalization change.[7]</td>\n",
              "    </tr>\n",
              "    <tr>\n",
              "      <th>4</th>\n",
              "      <td>December 19, 2022</td>\n",
              "      <td>NaN</td>\n",
              "      <td>NaN</td>\n",
              "      <td>MBC</td>\n",
              "      <td>MasterBrand</td>\n",
              "      <td>Market capitalization change.[7]</td>\n",
              "    </tr>\n",
              "    <tr>\n",
              "      <th>...</th>\n",
              "      <td>...</td>\n",
              "      <td>...</td>\n",
              "      <td>...</td>\n",
              "      <td>...</td>\n",
              "      <td>...</td>\n",
              "      <td>...</td>\n",
              "    </tr>\n",
              "    <tr>\n",
              "      <th>315</th>\n",
              "      <td>June 9, 1999</td>\n",
              "      <td>WLP</td>\n",
              "      <td>Wellpoint</td>\n",
              "      <td>HPH</td>\n",
              "      <td>Harnischfeger Industries</td>\n",
              "      <td>Harnischfeger filed for bankruptcy.[241]</td>\n",
              "    </tr>\n",
              "    <tr>\n",
              "      <th>316</th>\n",
              "      <td>December 11, 1998</td>\n",
              "      <td>FSR</td>\n",
              "      <td>Firstar</td>\n",
              "      <td>LDW</td>\n",
              "      <td>Amoco</td>\n",
              "      <td>British Petroleum purchased Amoco.[242]</td>\n",
              "    </tr>\n",
              "    <tr>\n",
              "      <th>317</th>\n",
              "      <td>December 11, 1998</td>\n",
              "      <td>CCL</td>\n",
              "      <td>Carnival Corp.</td>\n",
              "      <td>GRN</td>\n",
              "      <td>General Re</td>\n",
              "      <td>Berkshire Hathaway purchased General Re.[242]</td>\n",
              "    </tr>\n",
              "    <tr>\n",
              "      <th>318</th>\n",
              "      <td>December 11, 1998</td>\n",
              "      <td>CPWR</td>\n",
              "      <td>Compuware</td>\n",
              "      <td>SUN</td>\n",
              "      <td>SunAmerica</td>\n",
              "      <td>AIG purchased SunAmerica.[242]</td>\n",
              "    </tr>\n",
              "    <tr>\n",
              "      <th>319</th>\n",
              "      <td>June 17, 1997</td>\n",
              "      <td>CCI</td>\n",
              "      <td>Countrywide Credit Industries</td>\n",
              "      <td>USL</td>\n",
              "      <td>USLife</td>\n",
              "      <td>AIG acquired USLife.[243]</td>\n",
              "    </tr>\n",
              "  </tbody>\n",
              "</table>\n",
              "<p>320 rows × 6 columns</p>\n",
              "</div>\n",
              "      <button class=\"colab-df-convert\" onclick=\"convertToInteractive('df-08139ee6-1b48-4c18-8b74-bc989c3a3b26')\"\n",
              "              title=\"Convert this dataframe to an interactive table.\"\n",
              "              style=\"display:none;\">\n",
              "        \n",
              "  <svg xmlns=\"http://www.w3.org/2000/svg\" height=\"24px\"viewBox=\"0 0 24 24\"\n",
              "       width=\"24px\">\n",
              "    <path d=\"M0 0h24v24H0V0z\" fill=\"none\"/>\n",
              "    <path d=\"M18.56 5.44l.94 2.06.94-2.06 2.06-.94-2.06-.94-.94-2.06-.94 2.06-2.06.94zm-11 1L8.5 8.5l.94-2.06 2.06-.94-2.06-.94L8.5 2.5l-.94 2.06-2.06.94zm10 10l.94 2.06.94-2.06 2.06-.94-2.06-.94-.94-2.06-.94 2.06-2.06.94z\"/><path d=\"M17.41 7.96l-1.37-1.37c-.4-.4-.92-.59-1.43-.59-.52 0-1.04.2-1.43.59L10.3 9.45l-7.72 7.72c-.78.78-.78 2.05 0 2.83L4 21.41c.39.39.9.59 1.41.59.51 0 1.02-.2 1.41-.59l7.78-7.78 2.81-2.81c.8-.78.8-2.07 0-2.86zM5.41 20L4 18.59l7.72-7.72 1.47 1.35L5.41 20z\"/>\n",
              "  </svg>\n",
              "      </button>\n",
              "      \n",
              "  <style>\n",
              "    .colab-df-container {\n",
              "      display:flex;\n",
              "      flex-wrap:wrap;\n",
              "      gap: 12px;\n",
              "    }\n",
              "\n",
              "    .colab-df-convert {\n",
              "      background-color: #E8F0FE;\n",
              "      border: none;\n",
              "      border-radius: 50%;\n",
              "      cursor: pointer;\n",
              "      display: none;\n",
              "      fill: #1967D2;\n",
              "      height: 32px;\n",
              "      padding: 0 0 0 0;\n",
              "      width: 32px;\n",
              "    }\n",
              "\n",
              "    .colab-df-convert:hover {\n",
              "      background-color: #E2EBFA;\n",
              "      box-shadow: 0px 1px 2px rgba(60, 64, 67, 0.3), 0px 1px 3px 1px rgba(60, 64, 67, 0.15);\n",
              "      fill: #174EA6;\n",
              "    }\n",
              "\n",
              "    [theme=dark] .colab-df-convert {\n",
              "      background-color: #3B4455;\n",
              "      fill: #D2E3FC;\n",
              "    }\n",
              "\n",
              "    [theme=dark] .colab-df-convert:hover {\n",
              "      background-color: #434B5C;\n",
              "      box-shadow: 0px 1px 3px 1px rgba(0, 0, 0, 0.15);\n",
              "      filter: drop-shadow(0px 1px 2px rgba(0, 0, 0, 0.3));\n",
              "      fill: #FFFFFF;\n",
              "    }\n",
              "  </style>\n",
              "\n",
              "      <script>\n",
              "        const buttonEl =\n",
              "          document.querySelector('#df-08139ee6-1b48-4c18-8b74-bc989c3a3b26 button.colab-df-convert');\n",
              "        buttonEl.style.display =\n",
              "          google.colab.kernel.accessAllowed ? 'block' : 'none';\n",
              "\n",
              "        async function convertToInteractive(key) {\n",
              "          const element = document.querySelector('#df-08139ee6-1b48-4c18-8b74-bc989c3a3b26');\n",
              "          const dataTable =\n",
              "            await google.colab.kernel.invokeFunction('convertToInteractive',\n",
              "                                                     [key], {});\n",
              "          if (!dataTable) return;\n",
              "\n",
              "          const docLinkHtml = 'Like what you see? Visit the ' +\n",
              "            '<a target=\"_blank\" href=https://colab.research.google.com/notebooks/data_table.ipynb>data table notebook</a>'\n",
              "            + ' to learn more about interactive tables.';\n",
              "          element.innerHTML = '';\n",
              "          dataTable['output_type'] = 'display_data';\n",
              "          await google.colab.output.renderOutput(dataTable, element);\n",
              "          const docLink = document.createElement('div');\n",
              "          docLink.innerHTML = docLinkHtml;\n",
              "          element.appendChild(docLink);\n",
              "        }\n",
              "      </script>\n",
              "    </div>\n",
              "  </div>\n",
              "  "
            ]
          },
          "metadata": {},
          "execution_count": 34
        }
      ]
    },
    {
      "cell_type": "markdown",
      "source": [
        "# 剖析網頁原始碼"
      ],
      "metadata": {
        "id": "XdFjDoMZi0WW"
      }
    },
    {
      "cell_type": "code",
      "source": [
        "# 多字串要用三個引號\n",
        "s = \"\"\"\n",
        "<!DOCTYPE html>\n",
        "<html>\n",
        "<head>\n",
        "    <!-- Required meta tags -->\n",
        "    <meta charset=\"utf-8\">\n",
        "    <meta name=\"viewport\" content=\"width=device-width, initial-scale=1, shrink-to-fit=no\">\n",
        "\n",
        "    <!-- Bootstrap CSS -->\n",
        "    <link rel=\"stylesheet\" href=\"https://maxcdn.bootstrapcdn.com/bootstrap/4.0.0/css/bootstrap.min.css\" integrity=\"sha384-Gn5384xqQ1aoWXA+058RXPxPg6fy4IWvTNh0E263XmFcJlSAwiGgFAW/dAiS6JXm\" crossorigin=\"anonymous\">\n",
        "    <link rel=\"stylesheet\" href=\"https://cdn.jsdelivr.net/npm/bootstrap-icons@1.5.0/font/bootstrap-icons.css\">\n",
        "    <title>範例索引</title>\n",
        "</head>\n",
        "<body>\n",
        "    <div class=\"container\">\n",
        "        <div class=\"row my-5\">\n",
        "            <div class=\"col\">\n",
        "                <h1 class=\"bg-warning p-3 rounded\">Web及爬蟲簡介課程範例</h1>\n",
        "\n",
        "                <ul class=\"list-group\">\n",
        "                    <li class=\"list-group-item\"><i class=\"bi bi-globe\"></i> <a href=\"html_only.html\">HTML 範例</a></li>\n",
        "                    <li class=\"list-group-item\"><i class=\"bi bi-globe\"></i> <a href=\"html_css.html\">HTML + CSS 範例</a></li>\n",
        "                    <li class=\"list-group-item\"><i class=\"bi bi-globe\"></i> <a href=\"html_css_javascript.html\">HTML + CSS + Javascript 範例</a></li>\n",
        "                    <li class=\"list-group-item\"><i class=\"bi bi-bug\"></i> <a href=\"example01.html\">example01.html (爬蟲抓取用範例)</a></li>\n",
        "                    <li class=\"list-group-item\"><i class=\"bi bi-bug\"></i> <a href=\"example02.html\">example02.html (爬蟲抓取用範例)</a></li>\n",
        "                    <li class=\"list-group-item\"><i class=\"bi bi-bug\"></i> <a href=\"example03.html\">example03.html (爬蟲抓取用範例)</a></li>\n",
        "                    <li class=\"list-group-item\"><i class=\"bi bi-bug\"></i> <a href=\"example04.html\">example04.html (爬蟲抓取用範例)</a></li>\n",
        "                    <li class=\"list-group-item\"><i class=\"bi bi-bug\"></i> <a href=\"example05.html\">example05.html (爬蟲抓取用範例)</a></li>\n",
        "                    <li class=\"list-group-item\"><i class=\"bi bi-bug\"></i> <a href=\"spy.html\">Classic HTML 範例 (爬蟲抓取用範例)</a></li>\n",
        "                    <li class=\"list-group-item\"><i class=\"bi bi-bug\"></i> <a href=\"spy_ajax.html\">Ajax 範例 (爬蟲抓取用範例)</a></li>\n",
        "                    <li class=\"list-group-item\"><i class=\"bi bi-bug\"></i> <a href=\"form_get.html\">HTTP GET 方法說明</a></li>\n",
        "                    <li class=\"list-group-item\"><i class=\"bi bi-bug\"></i> <a href=\"form_post.html\">HTTP POST 方法說明</a></li>\n",
        "                </ul>         \n",
        "            </div>\n",
        "    \n",
        "        </div>\n",
        "    </div>\n",
        "\n",
        "<!-- Optional JavaScript -->\n",
        "<!-- jQuery first, then Popper.js, then Bootstrap JS -->\n",
        "<script src=\"https://code.jquery.com/jquery-3.2.1.slim.min.js\" integrity=\"sha384-KJ3o2DKtIkvYIK3UENzmM7KCkRr/rE9/Qpg6aAZGJwFDMVNA/GpGFF93hXpG5KkN\" crossorigin=\"anonymous\"></script>\n",
        "<script src=\"https://cdnjs.cloudflare.com/ajax/libs/popper.js/1.12.9/umd/popper.min.js\" integrity=\"sha384-ApNbgh9B+Y1QKtv3Rn7W3mgPxhU9K/ScQsAP7hUibX39j7fakFPskvXusvfa0b4Q\" crossorigin=\"anonymous\"></script>\n",
        "<script src=\"https://maxcdn.bootstrapcdn.com/bootstrap/4.0.0/js/bootstrap.min.js\" integrity=\"sha384-JZR6Spejh4U02d8jOt6vLEHfe/JQGiRRSQQxSfFWpi1MquVdAyjUar5+76PVCmYl\" crossorigin=\"anonymous\"></script>\n",
        "\n",
        "</body>\n",
        "</html>\"\"\""
      ],
      "metadata": {
        "id": "AmBwGgY4jSqq"
      },
      "execution_count": null,
      "outputs": []
    },
    {
      "cell_type": "code",
      "source": [
        "type(s)"
      ],
      "metadata": {
        "colab": {
          "base_uri": "https://localhost:8080/"
        },
        "id": "4IASPY9sjpdY",
        "outputId": "8bf59cb1-eb65-4e1f-f6de-4cffc6fb7821"
      },
      "execution_count": null,
      "outputs": [
        {
          "output_type": "execute_result",
          "data": {
            "text/plain": [
              "str"
            ]
          },
          "metadata": {},
          "execution_count": 37
        }
      ]
    },
    {
      "cell_type": "code",
      "source": [
        "from bs4 import BeautifulSoup"
      ],
      "metadata": {
        "id": "NXeM4fx4j8uF"
      },
      "execution_count": null,
      "outputs": []
    },
    {
      "cell_type": "code",
      "source": [
        "soup = BeautifulSoup(s)"
      ],
      "metadata": {
        "id": "6rWBnk0hkEp4"
      },
      "execution_count": null,
      "outputs": []
    },
    {
      "cell_type": "code",
      "source": [
        "soup.h1"
      ],
      "metadata": {
        "colab": {
          "base_uri": "https://localhost:8080/"
        },
        "id": "dxKdn3BKkJIq",
        "outputId": "2e55ce04-8447-4f04-b49c-b48e09d7ad07"
      },
      "execution_count": null,
      "outputs": [
        {
          "output_type": "execute_result",
          "data": {
            "text/plain": [
              "<h1 class=\"bg-warning p-3 rounded\">Web及爬蟲簡介課程範例</h1>"
            ]
          },
          "metadata": {},
          "execution_count": 41
        }
      ]
    },
    {
      "cell_type": "code",
      "source": [
        "soup.h1.text"
      ],
      "metadata": {
        "colab": {
          "base_uri": "https://localhost:8080/",
          "height": 35
        },
        "id": "XL6ZjBdQkWiw",
        "outputId": "6b8c5149-1d7a-4776-98c1-d7b9c9c3291b"
      },
      "execution_count": null,
      "outputs": [
        {
          "output_type": "execute_result",
          "data": {
            "text/plain": [
              "'Web及爬蟲簡介課程範例'"
            ],
            "application/vnd.google.colaboratory.intrinsic+json": {
              "type": "string"
            }
          },
          "metadata": {},
          "execution_count": 42
        }
      ]
    },
    {
      "cell_type": "code",
      "source": [
        "soup.li"
      ],
      "metadata": {
        "colab": {
          "base_uri": "https://localhost:8080/"
        },
        "id": "TsJLMCAykke5",
        "outputId": "9b9bbf77-1984-4f46-9796-1b5d4c5fcca5"
      },
      "execution_count": null,
      "outputs": [
        {
          "output_type": "execute_result",
          "data": {
            "text/plain": [
              "<li class=\"list-group-item\"><i class=\"bi bi-globe\"></i> <a href=\"html_only.html\">HTML 範例</a></li>"
            ]
          },
          "metadata": {},
          "execution_count": 43
        }
      ]
    },
    {
      "cell_type": "code",
      "source": [
        "soup.select(\"li\")"
      ],
      "metadata": {
        "colab": {
          "base_uri": "https://localhost:8080/"
        },
        "id": "Dk3Df5EwkuJt",
        "outputId": "1862be5d-eeb4-4e0d-8d33-794b4d21a0ac"
      },
      "execution_count": null,
      "outputs": [
        {
          "output_type": "execute_result",
          "data": {
            "text/plain": [
              "[<li class=\"list-group-item\"><i class=\"bi bi-globe\"></i> <a href=\"html_only.html\">HTML 範例</a></li>,\n",
              " <li class=\"list-group-item\"><i class=\"bi bi-globe\"></i> <a href=\"html_css.html\">HTML + CSS 範例</a></li>,\n",
              " <li class=\"list-group-item\"><i class=\"bi bi-globe\"></i> <a href=\"html_css_javascript.html\">HTML + CSS + Javascript 範例</a></li>,\n",
              " <li class=\"list-group-item\"><i class=\"bi bi-bug\"></i> <a href=\"example01.html\">example01.html (爬蟲抓取用範例)</a></li>,\n",
              " <li class=\"list-group-item\"><i class=\"bi bi-bug\"></i> <a href=\"example02.html\">example02.html (爬蟲抓取用範例)</a></li>,\n",
              " <li class=\"list-group-item\"><i class=\"bi bi-bug\"></i> <a href=\"example03.html\">example03.html (爬蟲抓取用範例)</a></li>,\n",
              " <li class=\"list-group-item\"><i class=\"bi bi-bug\"></i> <a href=\"example04.html\">example04.html (爬蟲抓取用範例)</a></li>,\n",
              " <li class=\"list-group-item\"><i class=\"bi bi-bug\"></i> <a href=\"example05.html\">example05.html (爬蟲抓取用範例)</a></li>,\n",
              " <li class=\"list-group-item\"><i class=\"bi bi-bug\"></i> <a href=\"spy.html\">Classic HTML 範例 (爬蟲抓取用範例)</a></li>,\n",
              " <li class=\"list-group-item\"><i class=\"bi bi-bug\"></i> <a href=\"spy_ajax.html\">Ajax 範例 (爬蟲抓取用範例)</a></li>,\n",
              " <li class=\"list-group-item\"><i class=\"bi bi-bug\"></i> <a href=\"form_get.html\">HTTP GET 方法說明</a></li>,\n",
              " <li class=\"list-group-item\"><i class=\"bi bi-bug\"></i> <a href=\"form_post.html\">HTTP POST 方法說明</a></li>]"
            ]
          },
          "metadata": {},
          "execution_count": 44
        }
      ]
    },
    {
      "cell_type": "code",
      "source": [
        "soup.select(\"li\")[0]"
      ],
      "metadata": {
        "colab": {
          "base_uri": "https://localhost:8080/"
        },
        "id": "-MPu-aMxkxy-",
        "outputId": "d39538d7-59fb-4d1e-a961-f4dc600365cf"
      },
      "execution_count": null,
      "outputs": [
        {
          "output_type": "execute_result",
          "data": {
            "text/plain": [
              "<li class=\"list-group-item\"><i class=\"bi bi-globe\"></i> <a href=\"html_only.html\">HTML 範例</a></li>"
            ]
          },
          "metadata": {},
          "execution_count": 45
        }
      ]
    },
    {
      "cell_type": "code",
      "source": [
        "soup.select(\"li\")[0].text"
      ],
      "metadata": {
        "colab": {
          "base_uri": "https://localhost:8080/",
          "height": 35
        },
        "id": "ps71zzRTpPyO",
        "outputId": "2acece05-938b-43b4-dbd4-9a332e2d59c5"
      },
      "execution_count": null,
      "outputs": [
        {
          "output_type": "execute_result",
          "data": {
            "text/plain": [
              "' HTML 範例'"
            ],
            "application/vnd.google.colaboratory.intrinsic+json": {
              "type": "string"
            }
          },
          "metadata": {},
          "execution_count": 46
        }
      ]
    },
    {
      "cell_type": "code",
      "source": [
        "soup.select(\"li\")[1].text"
      ],
      "metadata": {
        "colab": {
          "base_uri": "https://localhost:8080/",
          "height": 35
        },
        "id": "bnD9AsinpTp7",
        "outputId": "c67a516a-8795-4925-d610-3d14e34e8dc2"
      },
      "execution_count": null,
      "outputs": [
        {
          "output_type": "execute_result",
          "data": {
            "text/plain": [
              "' HTML + CSS 範例'"
            ],
            "application/vnd.google.colaboratory.intrinsic+json": {
              "type": "string"
            }
          },
          "metadata": {},
          "execution_count": 47
        }
      ]
    },
    {
      "cell_type": "code",
      "source": [
        "for x in soup.select(\"li\"):\n",
        "  print(x.text)"
      ],
      "metadata": {
        "colab": {
          "base_uri": "https://localhost:8080/"
        },
        "id": "QsZZwXpOpVTg",
        "outputId": "dbc37bb8-4bf7-41a0-de14-4aad7e0c015f"
      },
      "execution_count": null,
      "outputs": [
        {
          "output_type": "stream",
          "name": "stdout",
          "text": [
            " HTML 範例\n",
            " HTML + CSS 範例\n",
            " HTML + CSS + Javascript 範例\n",
            " example01.html (爬蟲抓取用範例)\n",
            " example02.html (爬蟲抓取用範例)\n",
            " example03.html (爬蟲抓取用範例)\n",
            " example04.html (爬蟲抓取用範例)\n",
            " example05.html (爬蟲抓取用範例)\n",
            " Classic HTML 範例 (爬蟲抓取用範例)\n",
            " Ajax 範例 (爬蟲抓取用範例)\n",
            " HTTP GET 方法說明\n",
            " HTTP POST 方法說明\n"
          ]
        }
      ]
    },
    {
      "cell_type": "code",
      "source": [
        "for i, x in enumerate(soup.select(\"li\")):\n",
        "  print(i, \":\", x.text)"
      ],
      "metadata": {
        "colab": {
          "base_uri": "https://localhost:8080/"
        },
        "id": "zfB5DhkGplcr",
        "outputId": "f698a910-02a1-4955-9f2c-a4e7f9588baf"
      },
      "execution_count": null,
      "outputs": [
        {
          "output_type": "stream",
          "name": "stdout",
          "text": [
            "0 :  HTML 範例\n",
            "1 :  HTML + CSS 範例\n",
            "2 :  HTML + CSS + Javascript 範例\n",
            "3 :  example01.html (爬蟲抓取用範例)\n",
            "4 :  example02.html (爬蟲抓取用範例)\n",
            "5 :  example03.html (爬蟲抓取用範例)\n",
            "6 :  example04.html (爬蟲抓取用範例)\n",
            "7 :  example05.html (爬蟲抓取用範例)\n",
            "8 :  Classic HTML 範例 (爬蟲抓取用範例)\n",
            "9 :  Ajax 範例 (爬蟲抓取用範例)\n",
            "10 :  HTTP GET 方法說明\n",
            "11 :  HTTP POST 方法說明\n"
          ]
        }
      ]
    },
    {
      "cell_type": "code",
      "source": [
        "for i, x in enumerate(soup.select(\"li\")):\n",
        "  print(f\"{i:2}\", \":\", x.text)"
      ],
      "metadata": {
        "colab": {
          "base_uri": "https://localhost:8080/"
        },
        "id": "etc1cq0Fp9OU",
        "outputId": "c6755cd7-213a-427d-eb33-f7d11c7e9c3f"
      },
      "execution_count": null,
      "outputs": [
        {
          "output_type": "stream",
          "name": "stdout",
          "text": [
            " 0 :  HTML 範例\n",
            " 1 :  HTML + CSS 範例\n",
            " 2 :  HTML + CSS + Javascript 範例\n",
            " 3 :  example01.html (爬蟲抓取用範例)\n",
            " 4 :  example02.html (爬蟲抓取用範例)\n",
            " 5 :  example03.html (爬蟲抓取用範例)\n",
            " 6 :  example04.html (爬蟲抓取用範例)\n",
            " 7 :  example05.html (爬蟲抓取用範例)\n",
            " 8 :  Classic HTML 範例 (爬蟲抓取用範例)\n",
            " 9 :  Ajax 範例 (爬蟲抓取用範例)\n",
            "10 :  HTTP GET 方法說明\n",
            "11 :  HTTP POST 方法說明\n"
          ]
        }
      ]
    },
    {
      "cell_type": "code",
      "source": [
        "for i, x in enumerate(soup.select(\"li\")):\n",
        "  print(f\"{i:2}: {x.text}\")"
      ],
      "metadata": {
        "colab": {
          "base_uri": "https://localhost:8080/"
        },
        "id": "_Lqc3fvhqDVS",
        "outputId": "b6de1ffd-19fc-4b5f-d823-7d387d3d7bc8"
      },
      "execution_count": null,
      "outputs": [
        {
          "output_type": "stream",
          "name": "stdout",
          "text": [
            " 0:  HTML 範例\n",
            " 1:  HTML + CSS 範例\n",
            " 2:  HTML + CSS + Javascript 範例\n",
            " 3:  example01.html (爬蟲抓取用範例)\n",
            " 4:  example02.html (爬蟲抓取用範例)\n",
            " 5:  example03.html (爬蟲抓取用範例)\n",
            " 6:  example04.html (爬蟲抓取用範例)\n",
            " 7:  example05.html (爬蟲抓取用範例)\n",
            " 8:  Classic HTML 範例 (爬蟲抓取用範例)\n",
            " 9:  Ajax 範例 (爬蟲抓取用範例)\n",
            "10:  HTTP GET 方法說明\n",
            "11:  HTTP POST 方法說明\n"
          ]
        }
      ]
    },
    {
      "cell_type": "markdown",
      "source": [
        "# 關於字串格式化"
      ],
      "metadata": {
        "id": "1OWZv7RwuN6e"
      }
    },
    {
      "cell_type": "code",
      "source": [
        "x = 1\n",
        "y = 1.23\n",
        "z = True\n",
        "w = \"dog\""
      ],
      "metadata": {
        "id": "Y-89UzrmuRPM"
      },
      "execution_count": null,
      "outputs": []
    },
    {
      "cell_type": "code",
      "source": [
        "print(x, y ,z ,w)"
      ],
      "metadata": {
        "colab": {
          "base_uri": "https://localhost:8080/"
        },
        "id": "Q1BhyDUYulCz",
        "outputId": "6207ecb7-ef14-4288-b34b-c9c78feebba0"
      },
      "execution_count": null,
      "outputs": [
        {
          "output_type": "stream",
          "name": "stdout",
          "text": [
            "1 1.23 True dog\n"
          ]
        }
      ]
    },
    {
      "cell_type": "code",
      "source": [
        "print(x, y ,z ,w, sep=\"+\")"
      ],
      "metadata": {
        "colab": {
          "base_uri": "https://localhost:8080/"
        },
        "id": "9XQsTGKDupUi",
        "outputId": "3cc36d85-849c-4730-e07a-abc5a95d7169"
      },
      "execution_count": null,
      "outputs": [
        {
          "output_type": "stream",
          "name": "stdout",
          "text": [
            "1+1.23+True+dog\n"
          ]
        }
      ]
    },
    {
      "cell_type": "markdown",
      "source": [
        "### f-string(3.5+)"
      ],
      "metadata": {
        "id": "joBqClF4u9S4"
      }
    },
    {
      "cell_type": "code",
      "source": [
        "print(f\"{x}, {y}, {z}, {w}\")"
      ],
      "metadata": {
        "colab": {
          "base_uri": "https://localhost:8080/"
        },
        "id": "6KUm2wYBuv-s",
        "outputId": "296fbdfa-75cd-41ff-a71e-6d25c86c91cf"
      },
      "execution_count": null,
      "outputs": [
        {
          "output_type": "stream",
          "name": "stdout",
          "text": [
            "1, 1.23, True, dog\n"
          ]
        }
      ]
    },
    {
      "cell_type": "code",
      "source": [
        "print(\"{x}, {y}, {z}, {w}\")"
      ],
      "metadata": {
        "colab": {
          "base_uri": "https://localhost:8080/"
        },
        "id": "aan66Fztvdbl",
        "outputId": "03e80613-f022-4ccf-cae5-542c44374d92"
      },
      "execution_count": null,
      "outputs": [
        {
          "output_type": "stream",
          "name": "stdout",
          "text": [
            "{x}, {y}, {z}, {w}\n"
          ]
        }
      ]
    },
    {
      "cell_type": "code",
      "source": [
        "print(f\"{x}, {y}, {z}, {w}\")\n",
        "print(f\"{x:5}, {y}, {z}, {w}\")\n",
        "print(f\"{x:05}, {y}, {z}, {w}\")"
      ],
      "metadata": {
        "colab": {
          "base_uri": "https://localhost:8080/"
        },
        "id": "2ZWL78PUvipO",
        "outputId": "a1f53540-1c3e-4c4e-960c-3164257f69b5"
      },
      "execution_count": null,
      "outputs": [
        {
          "output_type": "stream",
          "name": "stdout",
          "text": [
            "1, 1.23, True, dog\n",
            "    1, 1.23, True, dog\n",
            "00001, 1.23, True, dog\n"
          ]
        }
      ]
    },
    {
      "cell_type": "code",
      "source": [
        "# f為浮點數幾位，7是總共幾個數字，包含小數點\n",
        "print(f\"{x}, {y}, {z}, {w}\")\n",
        "print(f\"{x}, {y:7.2f}, {z}, {w}\")\n",
        "print(f\"{x}, {y:07.2f}, {z}, {w}\")"
      ],
      "metadata": {
        "colab": {
          "base_uri": "https://localhost:8080/"
        },
        "id": "j_90h9hJwBXz",
        "outputId": "a484d5ba-7f6d-4fda-cdcf-dfa90bb67ad1"
      },
      "execution_count": null,
      "outputs": [
        {
          "output_type": "stream",
          "name": "stdout",
          "text": [
            "1, 1.23, True, dog\n",
            "1,    1.23, True, dog\n",
            "1, 0001.23, True, dog\n"
          ]
        }
      ]
    },
    {
      "cell_type": "code",
      "source": [
        "print(f\"{x}, {y}, {z}, {w}\")\n",
        "print(f\"{x}, {y}, {z}, {w:10}\")\n",
        "print(f\"{x}, {y}, {z}, {w:>10}\")"
      ],
      "metadata": {
        "colab": {
          "base_uri": "https://localhost:8080/"
        },
        "id": "cXjXG9B9wQL4",
        "outputId": "3bea6d3c-5f19-4f2f-d4b0-abd1a136d265"
      },
      "execution_count": null,
      "outputs": [
        {
          "output_type": "stream",
          "name": "stdout",
          "text": [
            "1, 1.23, True, dog\n",
            "1, 1.23, True, dog       \n",
            "1, 1.23, True,        dog\n"
          ]
        }
      ]
    },
    {
      "cell_type": "markdown",
      "source": [
        "### string.format"
      ],
      "metadata": {
        "id": "SKVhyu4LxuYw"
      }
    },
    {
      "cell_type": "code",
      "source": [
        "print(\"{}, {}, {}, {}\".format(x, y, z, w))"
      ],
      "metadata": {
        "colab": {
          "base_uri": "https://localhost:8080/"
        },
        "id": "wAaqOc9owksA",
        "outputId": "a8ce1172-f19a-4f20-c2ea-45af368b3c7d"
      },
      "execution_count": null,
      "outputs": [
        {
          "output_type": "stream",
          "name": "stdout",
          "text": [
            "1, 1.23, True, dog\n"
          ]
        }
      ]
    },
    {
      "cell_type": "code",
      "source": [
        "#保留太多會出錯\n",
        "print(\"{}, {}, {}, {}, {}\".format(x, y, z, w))"
      ],
      "metadata": {
        "colab": {
          "base_uri": "https://localhost:8080/",
          "height": 184
        },
        "id": "zrb5qtEax4t6",
        "outputId": "7d9dda78-2d28-4097-f83e-254e22a5b3b8"
      },
      "execution_count": null,
      "outputs": [
        {
          "output_type": "error",
          "ename": "IndexError",
          "evalue": "ignored",
          "traceback": [
            "\u001b[0;31m---------------------------------------------------------------------------\u001b[0m",
            "\u001b[0;31mIndexError\u001b[0m                                Traceback (most recent call last)",
            "\u001b[0;32m<ipython-input-66-4cdc112a68f4>\u001b[0m in \u001b[0;36m<module>\u001b[0;34m\u001b[0m\n\u001b[1;32m      1\u001b[0m \u001b[0;31m#保留太多會出錯\u001b[0m\u001b[0;34m\u001b[0m\u001b[0;34m\u001b[0m\u001b[0;34m\u001b[0m\u001b[0m\n\u001b[0;32m----> 2\u001b[0;31m \u001b[0mprint\u001b[0m\u001b[0;34m(\u001b[0m\u001b[0;34m\"{}, {}, {}, {}, {}\"\u001b[0m\u001b[0;34m.\u001b[0m\u001b[0mformat\u001b[0m\u001b[0;34m(\u001b[0m\u001b[0mx\u001b[0m\u001b[0;34m,\u001b[0m \u001b[0my\u001b[0m\u001b[0;34m,\u001b[0m \u001b[0mz\u001b[0m\u001b[0;34m,\u001b[0m \u001b[0mw\u001b[0m\u001b[0;34m)\u001b[0m\u001b[0;34m)\u001b[0m\u001b[0;34m\u001b[0m\u001b[0;34m\u001b[0m\u001b[0m\n\u001b[0m",
            "\u001b[0;31mIndexError\u001b[0m: Replacement index 4 out of range for positional args tuple"
          ]
        }
      ]
    },
    {
      "cell_type": "code",
      "source": [
        "print(\"{}, {}, {},\".format(x, y, z, w))"
      ],
      "metadata": {
        "colab": {
          "base_uri": "https://localhost:8080/"
        },
        "id": "q7ePIcBKx-dA",
        "outputId": "1ac78968-23b7-4c2b-c51c-e082536b8153"
      },
      "execution_count": null,
      "outputs": [
        {
          "output_type": "stream",
          "name": "stdout",
          "text": [
            "1, 1.23, True,\n"
          ]
        }
      ]
    },
    {
      "cell_type": "code",
      "source": [
        "print(\"{0}, {1}, {2}, {1}\".format(x, y, z, w))"
      ],
      "metadata": {
        "colab": {
          "base_uri": "https://localhost:8080/"
        },
        "id": "PJzFx1xKyEuV",
        "outputId": "218f4c76-af7f-49c8-eb6b-bd4c6d4d998a"
      },
      "execution_count": null,
      "outputs": [
        {
          "output_type": "stream",
          "name": "stdout",
          "text": [
            "1, 1.23, True, 1.23\n"
          ]
        }
      ]
    },
    {
      "cell_type": "code",
      "source": [
        "print(\"{a}, {b}, {c}, {d}\".format(a=x, b=y, c=z, d=w))"
      ],
      "metadata": {
        "colab": {
          "base_uri": "https://localhost:8080/"
        },
        "id": "CtvGtZrNyLfW",
        "outputId": "c1f53186-b57f-456b-fff5-73ca32ab8bf4"
      },
      "execution_count": null,
      "outputs": [
        {
          "output_type": "stream",
          "name": "stdout",
          "text": [
            "1, 1.23, True, dog\n"
          ]
        }
      ]
    },
    {
      "cell_type": "markdown",
      "source": [
        "### 練習\n",
        "https://stackoverflow.com/questions/53908134/what-is-20-format-string-meaning-in-python"
      ],
      "metadata": {
        "id": "tE7IDHO3CCFt"
      }
    },
    {
      "cell_type": "code",
      "source": [
        "popularity = [[\"Language\", 2017, 2012, 2007, 2002, 1997, 1992, 1987], \n",
        "          [\"Java\", 1, 2, 1, 1, 15, 0, 0],\n",
        "          [\"C\", 2, 1, 2, 2, 1, 1, 1],\n",
        "          [\"C++\", 3, 3, 3, 3, 2, 2, 5],\n",
        "          [\"C#\", 4, 4, 7, 13, 0, 0, 0],\n",
        "          [\"Python\", 5, 7, 6, 11, 27, 0, 0],\n",
        "          [\"Visual Basic .NET\", 6, 17, 0, 0, 0, 0, 0],\n",
        "          [\"PHP\", 7, 6, 4, 5, 0, 0, 0],\n",
        "          [\"JavaScript\", 8, 9, 8, 7, 23, 0, 0],\n",
        "          [\"Perl\", 9, 8, 5, 4, 4, 10, 0]]\n",
        "\n",
        "format_string = \"{:<20}  {:>4}  {:>4}  {:>4}  {:>4}  {:>4}  {:>4}  {:>4}\""
      ],
      "metadata": {
        "id": "31v-L2bQyQLi"
      },
      "execution_count": null,
      "outputs": []
    },
    {
      "cell_type": "code",
      "source": [
        "for i in popularity:\n",
        "  print(format_string.format(i[0], i[1], i[2], i[3], i[4], i[5], i[6], i[7]))"
      ],
      "metadata": {
        "colab": {
          "base_uri": "https://localhost:8080/"
        },
        "id": "-gqfZE9EC6rM",
        "outputId": "dc65767e-a36f-414b-d254-bfecab9e8b5a"
      },
      "execution_count": null,
      "outputs": [
        {
          "output_type": "stream",
          "name": "stdout",
          "text": [
            "Language              2017  2012  2007  2002  1997  1992  1987\n",
            "Java                     1     2     1     1    15     0     0\n",
            "C                        2     1     2     2     1     1     1\n",
            "C++                      3     3     3     3     2     2     5\n",
            "C#                       4     4     7    13     0     0     0\n",
            "Python                   5     7     6    11    27     0     0\n",
            "Visual Basic .NET        6    17     0     0     0     0     0\n",
            "PHP                      7     6     4     5     0     0     0\n",
            "JavaScript               8     9     8     7    23     0     0\n",
            "Perl                     9     8     5     4     4    10     0\n"
          ]
        }
      ]
    },
    {
      "cell_type": "code",
      "source": [
        "# 使用* unpack list\n",
        "for i in popularity:\n",
        "  print(format_string.format(*i))"
      ],
      "metadata": {
        "colab": {
          "base_uri": "https://localhost:8080/"
        },
        "id": "J1fgE91DCbMN",
        "outputId": "d21682e4-9294-4d39-ce94-91f72f1fcaee"
      },
      "execution_count": null,
      "outputs": [
        {
          "output_type": "stream",
          "name": "stdout",
          "text": [
            "Language              2017  2012  2007  2002  1997  1992  1987\n",
            "Java                     1     2     1     1    15     0     0\n",
            "C                        2     1     2     2     1     1     1\n",
            "C++                      3     3     3     3     2     2     5\n",
            "C#                       4     4     7    13     0     0     0\n",
            "Python                   5     7     6    11    27     0     0\n",
            "Visual Basic .NET        6    17     0     0     0     0     0\n",
            "PHP                      7     6     4     5     0     0     0\n",
            "JavaScript               8     9     8     7    23     0     0\n",
            "Perl                     9     8     5     4     4    10     0\n"
          ]
        }
      ]
    },
    {
      "cell_type": "code",
      "source": [
        "format_string = \"{:<20}{:>6}{:>6}{:>6}{:>6}{:>6}{:>6}{:>6}\"\n",
        "for i in popularity:\n",
        "  print(format_string.format(*i))"
      ],
      "metadata": {
        "colab": {
          "base_uri": "https://localhost:8080/"
        },
        "id": "rgXYp770C2y4",
        "outputId": "8d651973-7ab6-48cf-d43b-bdf3f818b619"
      },
      "execution_count": null,
      "outputs": [
        {
          "output_type": "stream",
          "name": "stdout",
          "text": [
            "Language              2017  2012  2007  2002  1997  1992  1987\n",
            "Java                     1     2     1     1    15     0     0\n",
            "C                        2     1     2     2     1     1     1\n",
            "C++                      3     3     3     3     2     2     5\n",
            "C#                       4     4     7    13     0     0     0\n",
            "Python                   5     7     6    11    27     0     0\n",
            "Visual Basic .NET        6    17     0     0     0     0     0\n",
            "PHP                      7     6     4     5     0     0     0\n",
            "JavaScript               8     9     8     7    23     0     0\n",
            "Perl                     9     8     5     4     4    10     0\n"
          ]
        }
      ]
    },
    {
      "cell_type": "markdown",
      "source": [
        "## 使用css selector 來剖析資料\n",
        "\n",
        "https://www.w3schools.com/cssref/css_selectors.php"
      ],
      "metadata": {
        "id": "oMNkcqsAEOER"
      }
    },
    {
      "cell_type": "code",
      "source": [
        "url = \"https://victorgau.github.io/khpy_web_intro/\""
      ],
      "metadata": {
        "id": "hRUNlxpjEyEB"
      },
      "execution_count": null,
      "outputs": []
    },
    {
      "cell_type": "code",
      "source": [
        "r = requests.get(url)"
      ],
      "metadata": {
        "id": "1euBjF8FHIhQ"
      },
      "execution_count": null,
      "outputs": []
    },
    {
      "cell_type": "code",
      "source": [
        "soup = BeautifulSoup(r.text)"
      ],
      "metadata": {
        "id": "0gs9QY6qHJ7h"
      },
      "execution_count": null,
      "outputs": []
    },
    {
      "cell_type": "code",
      "source": [
        "soup.select(\"li\")"
      ],
      "metadata": {
        "colab": {
          "base_uri": "https://localhost:8080/"
        },
        "id": "hdlk5xSMHYI3",
        "outputId": "e96ab6f3-cf28-4f39-b4cc-1331a39f0104"
      },
      "execution_count": null,
      "outputs": [
        {
          "output_type": "execute_result",
          "data": {
            "text/plain": [
              "[<li class=\"list-group-item\"><i class=\"bi bi-globe\"></i> <a href=\"html_only.html\">HTML 範例</a></li>,\n",
              " <li class=\"list-group-item\"><i class=\"bi bi-globe\"></i> <a href=\"html_css.html\">HTML + CSS 範例</a></li>,\n",
              " <li class=\"list-group-item\"><i class=\"bi bi-globe\"></i> <a href=\"html_css_javascript.html\">HTML + CSS + Javascript 範例</a></li>,\n",
              " <li class=\"list-group-item\"><i class=\"bi bi-bug\"></i> <a href=\"example01.html\">example01.html (爬蟲抓取用範例)</a></li>,\n",
              " <li class=\"list-group-item\"><i class=\"bi bi-bug\"></i> <a href=\"example02.html\">example02.html (爬蟲抓取用範例)</a></li>,\n",
              " <li class=\"list-group-item\"><i class=\"bi bi-bug\"></i> <a href=\"example03.html\">example03.html (爬蟲抓取用範例)</a></li>,\n",
              " <li class=\"list-group-item\"><i class=\"bi bi-bug\"></i> <a href=\"example04.html\">example04.html (爬蟲抓取用範例)</a></li>,\n",
              " <li class=\"list-group-item\"><i class=\"bi bi-bug\"></i> <a href=\"example05.html\">example05.html (爬蟲抓取用範例)</a></li>,\n",
              " <li class=\"list-group-item\"><i class=\"bi bi-bug\"></i> <a href=\"spy.html\">Classic HTML 範例 (爬蟲抓取用範例)</a></li>,\n",
              " <li class=\"list-group-item\"><i class=\"bi bi-bug\"></i> <a href=\"spy_ajax.html\">Ajax 範例 (爬蟲抓取用範例)</a></li>,\n",
              " <li class=\"list-group-item\"><i class=\"bi bi-bug\"></i> <a href=\"form_get.html\">HTTP GET 方法說明</a></li>,\n",
              " <li class=\"list-group-item\"><i class=\"bi bi-bug\"></i> <a href=\"form_post.html\">HTTP POST 方法說明</a></li>]"
            ]
          },
          "metadata": {},
          "execution_count": 79
        }
      ]
    },
    {
      "cell_type": "markdown",
      "source": [
        "## 抓取露天拍賣資料\n",
        "\n",
        "https://www.ruten.com.tw/category/0011"
      ],
      "metadata": {
        "id": "jRtsV4mSH9FA"
      }
    },
    {
      "cell_type": "code",
      "source": [
        "url = \"https://www.ruten.com.tw/category/0011\""
      ],
      "metadata": {
        "id": "q9zUBKewIGxa"
      },
      "execution_count": null,
      "outputs": []
    },
    {
      "cell_type": "code",
      "source": [
        "headers = {'user-agent':'Mozilla/5.0 (Windows NT 10.0; Win64; x64) AppleWebKit/537.36 (KHTML, like Gecko) Chrome/110.0.0.0 Safari/537.36'}"
      ],
      "metadata": {
        "id": "AVkmi63QIKjV"
      },
      "execution_count": null,
      "outputs": []
    },
    {
      "cell_type": "code",
      "source": [
        "r = requests.get(url, headers=headers)"
      ],
      "metadata": {
        "id": "aOPlGrDjIktm"
      },
      "execution_count": null,
      "outputs": []
    },
    {
      "cell_type": "code",
      "source": [
        "'凸頭' in r.text"
      ],
      "metadata": {
        "colab": {
          "base_uri": "https://localhost:8080/"
        },
        "id": "F7NiDoiWJRce",
        "outputId": "aa619e81-1279-4b6a-aee9-60935e41fc74"
      },
      "execution_count": null,
      "outputs": [
        {
          "output_type": "execute_result",
          "data": {
            "text/plain": [
              "False"
            ]
          },
          "metadata": {},
          "execution_count": 84
        }
      ]
    },
    {
      "cell_type": "code",
      "source": [
        "url = \"https://rapi.ruten.com.tw/api/items/v2/list?gno=21203073884581,21203073855084,22243606777400,22244608865692,22302937500980,22306987134735,22308073518043,22134699516389,22238403273488,21945822081428,22115680698839&level=detail\""
      ],
      "metadata": {
        "id": "wdehHo8tJczt"
      },
      "execution_count": null,
      "outputs": []
    },
    {
      "cell_type": "code",
      "source": [
        "data = requests.get(url, headers=headers).json()"
      ],
      "metadata": {
        "id": "hjTTb922KiTy"
      },
      "execution_count": null,
      "outputs": []
    },
    {
      "cell_type": "code",
      "source": [
        "data"
      ],
      "metadata": {
        "colab": {
          "base_uri": "https://localhost:8080/"
        },
        "id": "UzLpG61fKlXV",
        "outputId": "37446df3-ff84-46ca-a8a2-01ca7fcffda6"
      },
      "execution_count": null,
      "outputs": [
        {
          "output_type": "execute_result",
          "data": {
            "text/plain": [
              "{'status': 'success',\n",
              " 'data': [{'id': '21203073884581',\n",
              "   'class': '001100030010',\n",
              "   'name': '凸頭 18650電池 可開發票 尖頭 鋰電池 充電電池 3000mAh 3.7v 高容量 手電筒 電風扇 Li-ion',\n",
              "   'num': 90438,\n",
              "   'images': {'filename': '21203073884581_115.jpg,21203073884581_785.jpg,21203073884581_909.jpg,21203073884581_937.jpg',\n",
              "    'url': ['https://image.ruten.com.tw/g1/7/c1/a5/21203073884581_115.jpg',\n",
              "     'https://image.ruten.com.tw/g1/7/c1/a5/21203073884581_785.jpg',\n",
              "     'https://image.ruten.com.tw/g1/7/c1/a5/21203073884581_909.jpg',\n",
              "     'https://image.ruten.com.tw/g1/7/c1/a5/21203073884581_937.jpg'],\n",
              "    'm_url': ['https://image.ruten.com.tw/g1/7/c1/a5/21203073884581_115_m.jpg',\n",
              "     'https://image.ruten.com.tw/g1/7/c1/a5/21203073884581_785_m.jpg',\n",
              "     'https://image.ruten.com.tw/g1/7/c1/a5/21203073884581_909_m.jpg',\n",
              "     'https://image.ruten.com.tw/g1/7/c1/a5/21203073884581_937_m.jpg']},\n",
              "   'currency': 'TWD',\n",
              "   'goods_price': 8,\n",
              "   'goods_ori_price': 8,\n",
              "   'goods_price_range': {'min': 8, 'max': 24, 'ori_min': 8, 'ori_max': 24},\n",
              "   'watch_num': 437,\n",
              "   'sold_num': 15427,\n",
              "   'buyer_limit_num': 0,\n",
              "   'stock_status': 1,\n",
              "   'pre_order_ship_date': None,\n",
              "   'fast_ship': 0,\n",
              "   'free_shipping': 0,\n",
              "   'youtube_link': '',\n",
              "   'video_link': '',\n",
              "   'ncc_check_code': '',\n",
              "   'bsmi_code': '',\n",
              "   'goods_no': '',\n",
              "   'available': True,\n",
              "   'post_time': '1331093175',\n",
              "   'spec_type': 'R',\n",
              "   'deliver_way': {'SEVEN_COD': 60,\n",
              "    'SEVEN': 60,\n",
              "    'FAMI_COD': 60,\n",
              "    'FAMI': 60,\n",
              "    'HILIFE_COD': 45,\n",
              "    'HILIFE': 45,\n",
              "    'HOUSE': 90,\n",
              "    'ISLAND': 120},\n",
              "   'mode': 'B',\n",
              "   'ship': 'A',\n",
              "   'platform': 'RUTEN',\n",
              "   'ctrl_rowid': '1832576',\n",
              "   'user': 'partsworld66',\n",
              "   'user_credit': 210310,\n",
              "   'pay_way': ['PP_PI',\n",
              "    'PP_CRD',\n",
              "    'PAYLINK',\n",
              "    'SEVEN_COD',\n",
              "    'FAMI_COD',\n",
              "    'HILIFE_COD',\n",
              "    'ATM',\n",
              "    'PS'],\n",
              "   'title_style': '0',\n",
              "   'selling_g_now_price': 8,\n",
              "   'item_remaining_time': 467979073,\n",
              "   'translation_type': None,\n",
              "   'translated_name': None,\n",
              "   'min_estimated_delivery_date': None,\n",
              "   'max_estimated_delivery_date': None,\n",
              "   'update_time': '2023-03-03',\n",
              "   'is_brand_seller': False,\n",
              "   'is_goods_from_oversea': False,\n",
              "   'location': '台北市',\n",
              "   'condition': 'B',\n",
              "   'codition': 'B',\n",
              "   'accept_shiprule': True,\n",
              "   'user_class': '3172882',\n",
              "   'close_no': None,\n",
              "   'description_url': 'https://www.ruten.com.tw/item/goods_comments.php?id=21203073884581&k=025d98b2&o=1645411722',\n",
              "   'spec_info': {'level': 1,\n",
              "    'structure': {'203358040772539': [], '213931129134267': []},\n",
              "    'specs': {'203358040772539': {'spec_id': '203358040772539',\n",
              "      'parent_id': '0',\n",
              "      'spec_name': '18650充電電池-單入(19-310)',\n",
              "      'spec_num': 89670,\n",
              "      'spec_price': 24,\n",
              "      'spec_status': 'Y',\n",
              "      'spec_ext': {'goods_no': '19-310'},\n",
              "      'childs': [],\n",
              "      'spec_ori_price': 24},\n",
              "     '213931129134267': {'spec_id': '213931129134267',\n",
              "      'parent_id': '0',\n",
              "      'spec_name': '18650電池盒可放2入，不挑色',\n",
              "      'spec_num': 768,\n",
              "      'spec_price': 8,\n",
              "      'spec_status': 'Y',\n",
              "      'spec_ext': {'goods_no': '34-709'},\n",
              "      'childs': [],\n",
              "      'spec_ori_price': 8}},\n",
              "    'map': {'spec': {'18650充電電池-單入(19-310)': ['203358040772539'],\n",
              "      '18650電池盒可放2入，不挑色': ['213931129134267']}}},\n",
              "   'text2': '\\n&lt;style type=&quot;text/css&quot;&gt;&lt;!--\\ndiv.tidied-202102253878-6 {text-align: center;}\\n table.tidied-202102253878-5 {background-color: #c4cde4;}\\n table.tidied-202102253878-4 {background-color: #ffffff;}\\n span.tidied-202102253878-3 {color: #3155ad; font-size: medium;}\\n span.tidied-202102253878-2 {color: #3155ad; font-size: x-large;}\\n span.tidied-202102253878-1 {color: #bd2029; font-size: medium;} span.tidied-202202215869-1 {color: #202124; font-size: 16px; font-family: arial, sans-serif;}\\n--&gt;&lt;/style&gt;&lt;div&gt;\\n&lt;div class=&quot;tidied-201904095077-1&quot;&gt;\\n&lt;div&gt;\\n&lt;table&gt;&lt;tbody&gt;&lt;tr&gt;&lt;td class=&quot;tidied-201904099749-1&quot;&gt;&lt;a  href=&quot;https://class.ruten.com.tw/user/index00.php?s=partsworld66&amp;amp;d=2373672&amp;amp;o=0&amp;amp;m=1&quot; target=&quot;_blank&quot;&gt;&lt;img class=&quot;tidied-201711305395-1&quot;  src=&quot;https://www.mydashop.info/extra/20190409.jpg&quot; border=&quot;0&quot;&gt;&lt;/a&gt;&lt;/td&gt;\\n&lt;td class=&quot;tidied-201904099749-1&quot;&gt;&lt;a  href=&quot;https://class.ruten.com.tw/user/index00.php?s=partsworld66&amp;amp;d=3394489&amp;amp;o=0&amp;amp;m=1&quot; target=&quot;_blank&quot;&gt;&lt;img class=&quot;tidied-201711305395-1&quot;  src=&quot;https://www.mydashop.info/extra/20190409-1.jpg&quot; border=&quot;0&quot;&gt;&lt;/a&gt;&lt;/td&gt;\\n&lt;td class=&quot;tidied-201904099749-1&quot;&gt;&lt;a  href=&quot;https://class.ruten.com.tw/user/index00.php?s=partsworld66&amp;amp;d=3458889&amp;amp;o=0&amp;amp;m=1&quot; target=&quot;_blank&quot;&gt;&lt;img class=&quot;tidied-201711305395-1&quot;  src=&quot;https://www.mydashop.info/extra/20190409-3.jpg&quot; border=&quot;0&quot;&gt;&lt;/a&gt;&lt;/td&gt;\\n&lt;td class=&quot;tidied-201904099749-1&quot;&gt;&lt;a  href=&quot;https://class.ruten.com.tw/user/index00.php?s=partsworld66&amp;amp;d=5177518&amp;amp;o=0&amp;amp;m=1&quot; target=&quot;_blank&quot;&gt;&lt;img class=&quot;tidied-201711305395-1&quot;  src=&quot;https://www.mydashop.info/extra/20190409-2.jpg&quot; border=&quot;0&quot;&gt;&lt;/a&gt;&lt;/td&gt;\\n&lt;/tr&gt;&lt;/tbody&gt;&lt;/table&gt;&lt;/div&gt;\\n&lt;/div&gt;\\n&lt;/div&gt;\\n&lt;div class=&quot;tidied-202102253878-6&quot;&gt;\\n&lt;table class=&quot;tidied-202102253878-5&quot; border=&quot;0&quot; cellpadding=&quot;0&quot; cellspacing=&quot;5&quot; width=&quot;800&quot;&gt;&lt;tbody&gt;&lt;tr&gt;&lt;td&gt;&lt;img  src=&quot;https://www.mydashop.info/im2/t/part/pyh2.jpg&quot; border=&quot;0&quot;&gt;&lt;table class=&quot;tidied-202102253878-4&quot; border=&quot;0&quot; cellpadding=&quot;0&quot; cellspacing=&quot;0&quot; width=&quot;100%&quot;&gt;&lt;tbody&gt;&lt;tr&gt;&lt;td&gt;\\n&lt;p align=&quot;center&quot;&gt;&lt;img  src=&quot;https://www.mydashop.info/promo/promor01.png&quot; border=&quot;0&quot;&gt;&lt;/p&gt;\\n&lt;/td&gt;\\n&lt;/tr&gt;&lt;tr&gt;&lt;td align=&quot;left&quot;&gt;&lt;img  src=&quot;https://www.mydashop.info/im2/t/part/pyn2.jpg&quot; border=&quot;0&quot;&gt;&lt;/td&gt;\\n&lt;/tr&gt;&lt;tr&gt;&lt;td align=&quot;left&quot;&gt;&lt;span class=&quot;tidied-202102253878-1&quot;&gt;&lt;br&gt;&lt;b&gt;&nbsp;&nbsp;產品編號&nbsp;&nbsp;19-310&lt;/b&gt;&lt;/span&gt;&lt;/td&gt;\\n&lt;/tr&gt;&lt;tr&gt;&lt;td width=&quot;720&quot; align=&quot;center&quot;&gt;&lt;span class=&quot;tidied-202102253878-2&quot;&gt;&lt;br&gt;&lt;b&gt;18650 強化 藍色 高容量 3000mAh 3.7V Li-ion 充電電池&lt;/b&gt;&lt;/span&gt;&lt;/td&gt;\\n&lt;/tr&gt;&lt;tr&gt;&lt;td&gt;&lt;/td&gt;\\n&lt;/tr&gt;&lt;tr&gt;&lt;td align=&quot;left&quot;&gt;&lt;span class=&quot;tidied-202102253878-3&quot;&gt;&lt;br&gt;&lt;b&gt;&nbsp;&nbsp;產品特色&nbsp;&nbsp;&lt;/b&gt;&lt;/span&gt;&lt;/td&gt;\\n&lt;/tr&gt;&lt;tr&gt;&lt;td align=&quot;left&quot;&gt;&lt;br&gt;&lt;ul class=&quot;style2&quot;&gt;&lt;li class=&quot;style1&quot;&gt;3000mAh 高容量，使用時間更耐久&lt;/li&gt;\\n&lt;li class=&quot;style1&quot;&gt;適用手電筒，供電設備使用&lt;/li&gt;\\n&lt;/ul&gt;&lt;/td&gt;\\n&lt;/tr&gt;&lt;tr&gt;&lt;td&gt;&lt;/td&gt;\\n&lt;/tr&gt;&lt;tr&gt;&lt;td align=&quot;left&quot;&gt;&lt;span class=&quot;tidied-202102253878-3&quot;&gt;&lt;br&gt;&lt;b&gt;&nbsp;&nbsp;產品規格&nbsp;&nbsp;&lt;/b&gt;&lt;/span&gt;&lt;/td&gt;\\n&lt;/tr&gt;&lt;tr&gt;&lt;td align=&quot;left&quot;&gt;&lt;br&gt;&lt;ul class=&quot;style2&quot;&gt;&lt;li class=&quot;style1&quot;&gt;尺寸： &lt;span class=&quot;tidied-202202215869-1&quot;&gt;電池直徑為1.8cm，電池長度為6.5cm&lt;/span&gt;&lt;/li&gt;\\n&lt;li class=&quot;style1&quot;&gt;淨重： 41 g&lt;/li&gt;\\n&lt;li class=&quot;style1&quot;&gt;電壓： 3.7V&lt;/li&gt;\\n&lt;li class=&quot;style1&quot;&gt;電容量：3000mAh&lt;/li&gt;\\n&lt;/ul&gt;&lt;/td&gt;\\n&lt;/tr&gt;&lt;tr&gt;&lt;td&gt;&lt;/td&gt;\\n&lt;/tr&gt;&lt;tr&gt;&lt;td align=&quot;left&quot;&gt;&lt;span class=&quot;tidied-202102253878-3&quot;&gt;&lt;br&gt;&lt;b&gt;&nbsp;&nbsp;產品內容&nbsp;&nbsp;&lt;/b&gt;&lt;/span&gt;&lt;/td&gt;\\n&lt;/tr&gt;&lt;tr&gt;&lt;td align=&quot;left&quot;&gt;&lt;br&gt;&lt;ul class=&quot;style2&quot;&gt;&lt;li class=&quot;style1&quot;&gt;1 x 18650 強化 藍色 高容量 3000mAh 3.7V Li-ion 充電電池&lt;/li&gt;\\n&lt;/ul&gt;&lt;/td&gt;\\n&lt;/tr&gt;&lt;tr&gt;&lt;td&gt;&lt;/td&gt;\\n&lt;/tr&gt;&lt;/tbody&gt;&lt;/table&gt;&lt;/td&gt;\\n&lt;/tr&gt;&lt;/tbody&gt;&lt;/table&gt;&lt;/div&gt;\\n'},\n",
              "  {'id': '21203073855084',\n",
              "   'class': '001100170011',\n",
              "   'name': '18650充電電池 高容量 4000mAh 電池 鋰電池 充電電池 3.7V Li-ion 尖頭 凸頭 充電器 USB',\n",
              "   'num': 27070,\n",
              "   'images': {'filename': '21203073855084_668.jpg,21203073855084_115.jpg,21203073855084_770.jpg,21203073855084_528.jpg,21203073855084_810.jpg',\n",
              "    'url': ['https://image.ruten.com.tw/g2/7/4e/6c/21203073855084_668.jpg',\n",
              "     'https://image.ruten.com.tw/g2/7/4e/6c/21203073855084_115.jpg',\n",
              "     'https://image.ruten.com.tw/g2/7/4e/6c/21203073855084_770.jpg',\n",
              "     'https://image.ruten.com.tw/g2/7/4e/6c/21203073855084_528.jpg',\n",
              "     'https://image.ruten.com.tw/g2/7/4e/6c/21203073855084_810.jpg'],\n",
              "    'm_url': ['https://image.ruten.com.tw/g2/7/4e/6c/21203073855084_668_m.jpg',\n",
              "     'https://image.ruten.com.tw/g2/7/4e/6c/21203073855084_115_m.jpg',\n",
              "     'https://image.ruten.com.tw/g2/7/4e/6c/21203073855084_770_m.jpg',\n",
              "     'https://image.ruten.com.tw/g2/7/4e/6c/21203073855084_528_m.jpg',\n",
              "     'https://image.ruten.com.tw/g2/7/4e/6c/21203073855084_810_m.jpg']},\n",
              "   'currency': 'TWD',\n",
              "   'goods_price': 39,\n",
              "   'goods_ori_price': 39,\n",
              "   'goods_price_range': {'min': 39, 'max': 119, 'ori_min': 39, 'ori_max': 119},\n",
              "   'watch_num': 190,\n",
              "   'sold_num': 3041,\n",
              "   'buyer_limit_num': 0,\n",
              "   'stock_status': 1,\n",
              "   'pre_order_ship_date': None,\n",
              "   'fast_ship': 0,\n",
              "   'free_shipping': 0,\n",
              "   'youtube_link': '',\n",
              "   'video_link': '',\n",
              "   'ncc_check_code': '',\n",
              "   'bsmi_code': '',\n",
              "   'goods_no': '',\n",
              "   'available': True,\n",
              "   'post_time': '1331092327',\n",
              "   'spec_type': 'R',\n",
              "   'deliver_way': {'SEVEN_COD': 60,\n",
              "    'SEVEN': 60,\n",
              "    'FAMI_COD': 60,\n",
              "    'FAMI': 60,\n",
              "    'HILIFE_COD': 45,\n",
              "    'HILIFE': 45,\n",
              "    'HOUSE': 90,\n",
              "    'ISLAND': 120},\n",
              "   'mode': 'B',\n",
              "   'ship': 'A',\n",
              "   'platform': 'RUTEN',\n",
              "   'ctrl_rowid': '1832576',\n",
              "   'user': 'partsworld66',\n",
              "   'user_credit': 210310,\n",
              "   'pay_way': ['PP_PI',\n",
              "    'PP_CRD',\n",
              "    'PAYLINK',\n",
              "    'SEVEN_COD',\n",
              "    'FAMI_COD',\n",
              "    'HILIFE_COD',\n",
              "    'ATM',\n",
              "    'PS'],\n",
              "   'title_style': '0',\n",
              "   'selling_g_now_price': 39,\n",
              "   'item_remaining_time': 467979073,\n",
              "   'translation_type': None,\n",
              "   'translated_name': None,\n",
              "   'min_estimated_delivery_date': None,\n",
              "   'max_estimated_delivery_date': None,\n",
              "   'update_time': '2023-03-04',\n",
              "   'is_brand_seller': False,\n",
              "   'is_goods_from_oversea': False,\n",
              "   'location': '台北市',\n",
              "   'condition': 'B',\n",
              "   'codition': 'B',\n",
              "   'accept_shiprule': True,\n",
              "   'user_class': '3172882',\n",
              "   'close_no': None,\n",
              "   'description_url': 'https://www.ruten.com.tw/item/goods_comments.php?id=21203073855084&k=51aa9bcb&o=1624346373',\n",
              "   'spec_info': {'level': 1,\n",
              "    'structure': {'204163653034782': [],\n",
              "     '204163653034793': [],\n",
              "     '204163653034805': []},\n",
              "    'specs': {'204163653034782': {'spec_id': '204163653034782',\n",
              "      'parent_id': '0',\n",
              "      'spec_name': '18650充電電池',\n",
              "      'spec_num': 7283,\n",
              "      'spec_price': 39,\n",
              "      'spec_status': 'Y',\n",
              "      'spec_ext': {'goods_no': '19-311'},\n",
              "      'childs': [],\n",
              "      'spec_ori_price': 39},\n",
              "     '204163653034793': {'spec_id': '204163653034793',\n",
              "      'parent_id': '0',\n",
              "      'spec_name': '單買 【18650鋰電池充電器】',\n",
              "      'spec_num': 9970,\n",
              "      'spec_price': 89,\n",
              "      'spec_status': 'Y',\n",
              "      'spec_ext': {'goods_no': '80-3703'},\n",
              "      'childs': [],\n",
              "      'spec_ori_price': 89},\n",
              "     '204163653034805': {'spec_id': '204163653034805',\n",
              "      'parent_id': '0',\n",
              "      'spec_name': '【優惠價】充電電池*1顆+充電器*1個',\n",
              "      'spec_num': 9817,\n",
              "      'spec_price': 119,\n",
              "      'spec_status': 'Y',\n",
              "      'spec_ext': {'goods_no': 'C01-0637'},\n",
              "      'childs': [],\n",
              "      'spec_ori_price': 119}},\n",
              "    'map': {'spec': {'18650充電電池': ['204163653034782'],\n",
              "      '單買 【18650鋰電池充電器】': ['204163653034793'],\n",
              "      '【優惠價】充電電池*1顆+充電器*1個': ['204163653034805']}}},\n",
              "   'text2': '\\n&lt;style type=&quot;text/css&quot;&gt;&lt;!--\\ndiv.tidied-201710038060-7 {text-align: center;} table.tidied-201710038060-6 {background-color: #c4cde4;} table.tidied-201710038060-5 {background-color: #ffffff;} span.tidied-201710038060-4 {color: #3155ad; font-size: medium;} span.tidied-201710038060-3 {color: #3155ad; font-size: x-large;} span.tidied-201710038060-2 {color: #bd2029; font-size: medium;} p.tidied-201710038060-1 {text-align: center} div.tidied-201711305395-4 {width: 100%;} table.tidied-201711305395-3 {width: 100%;} td.tidied-201711305395-2 {width: 49%;} img.tidied-201711305395-1 {width: 100%;} span.tidied-201711307329-2 {color: #ff0000;} span.tidied-201711307329-1 {font-size: 36pt;} ul.tidied-202008054183-5 {text-align: -webkit-left;} li.tidied-202008054183-4 {text-align: center;} strong.tidied-202008054183-3 {color: #0000ff;} span.tidied-202008054183-2 {color: #0000ff;} span.tidied-202008054183-1 {font-size: 18pt;}\\n--&gt;&lt;/style&gt;&lt;div&gt;\\n&lt;p&gt;&lt;a  href=&quot;https://theme.ruten.com.tw/promo/?id=20200525000004&quot; target=&quot;_blank&quot; rel=&quot;nofollow&quot;&gt;&lt;img  src=&quot;http://o.mydashop.info/extra/DADA.jpg&quot; border=&quot;0&quot;&gt;&lt;/a&gt;&lt;/p&gt;\\n&lt;div&gt;\\n&lt;div class=&quot;tidied-201711305395-4&quot;&gt;&lt;img  src=&quot;http://o.mydashop.info/extra/aboutplus.jpg&quot; border=&quot;0&quot; alt=&quot;&quot;&gt;&lt;br&gt;&lt;table class=&quot;tidied-201711305395-3&quot;&gt;&lt;tbody&gt;&lt;tr&gt;&lt;td class=&quot;tidied-201711305395-2&quot;&gt;&lt;a  href=&quot;http://goods.ruten.com.tw/item/show?21203073869988&quot; target=&quot;_blank&quot;&gt;&lt;img class=&quot;tidied-201711305395-1&quot;  src=&quot;http://o.mydashop.info/extra/19-443plus.jpg&quot; border=&quot;0&quot;&gt;&lt;/a&gt;&lt;/td&gt;\\n&lt;td class=&quot;tidied-201711305395-2&quot;&gt;&lt;a  href=&quot;http://goods.ruten.com.tw/item/show?21203073889441&quot; target=&quot;_blank&quot;&gt;&lt;img class=&quot;tidied-201711305395-1&quot;  src=&quot;http://o.mydashop.info/extra/25-223plus.jpg&quot; border=&quot;0&quot;&gt;&lt;/a&gt;&lt;/td&gt;\\n&lt;/tr&gt;&lt;tr&gt;&lt;td class=&quot;tidied-201711305395-2&quot;&gt;&lt;a  href=&quot;http://goods.ruten.com.tw/item/show?21203073869023&quot; target=&quot;_blank&quot;&gt;&lt;img class=&quot;tidied-201711305395-1&quot;  src=&quot;http://o.mydashop.info/extra/19-298plus.jpg&quot; border=&quot;0&quot;&gt;&lt;/a&gt;&lt;/td&gt;\\n&lt;td class=&quot;tidied-201711305395-2&quot;&gt;&lt;a  href=&quot;http://goods.ruten.com.tw/item/show?21208100511449&quot; target=&quot;_blank&quot;&gt;&lt;img class=&quot;tidied-201711305395-1&quot;  src=&quot;http://o.mydashop.info/extra/78-0642plus.jpg&quot; border=&quot;0&quot;&gt;&lt;/a&gt;&lt;/td&gt;\\n&lt;/tr&gt;&lt;tr&gt;&lt;td class=&quot;tidied-201711305395-2&quot;&gt;&lt;a  href=&quot;http://goods.ruten.com.tw/item/show?21203073869865&quot; target=&quot;_blank&quot;&gt;&lt;img class=&quot;tidied-201711305395-1&quot;  src=&quot;http://o.mydashop.info/extra/19-404plus.jpg&quot; border=&quot;0&quot;&gt;&lt;/a&gt;&lt;/td&gt;\\n&lt;td class=&quot;tidied-201711305395-2&quot;&gt;&lt;a  href=&quot;http://goods.ruten.com.tw/item/show?21208100511438&quot; target=&quot;_blank&quot;&gt;&lt;img class=&quot;tidied-201711305395-1&quot;  src=&quot;http://o.mydashop.info/extra/78-0641plus.jpg&quot; border=&quot;0&quot;&gt;&lt;/a&gt;&lt;/td&gt;\\n&lt;/tr&gt;&lt;/tbody&gt;&lt;/table&gt;&lt;div class=&quot;tidied-201710038060-7&quot;&gt;\\n&lt;table class=&quot;tidied-201710038060-6&quot; border=&quot;0&quot; cellpadding=&quot;0&quot; cellspacing=&quot;5&quot; width=&quot;800&quot;&gt;&lt;tbody&gt;&lt;tr&gt;&lt;td&gt;&lt;br&gt;&lt;table class=&quot;tidied-201710038060-5&quot; border=&quot;0&quot; cellpadding=&quot;0&quot; cellspacing=&quot;0&quot; width=&quot;100%&quot;&gt;&lt;tbody&gt;&lt;tr&gt;&lt;td&gt;\\n&lt;p class=&quot;tidied-201710038060-1&quot;&gt;&lt;a&gt;&lt;img  src=&quot;http://p.mydashop.info/promo/promor01.png&quot; border=&quot;0&quot;&gt;&lt;/a&gt;&lt;/p&gt;\\n&lt;/td&gt;\\n&lt;/tr&gt;&lt;tr&gt;&lt;td align=&quot;left&quot;&gt;&lt;img  src=&quot;http://o.mydashop.info/im2/t/part/pyn2.jpg&quot; border=&quot;0&quot;&gt;&lt;/td&gt;\\n&lt;/tr&gt;&lt;tr&gt;&lt;td align=&quot;left&quot;&gt;&lt;/td&gt;\\n&lt;/tr&gt;&lt;tr&gt;&lt;td width=&quot;720&quot; align=&quot;center&quot;&gt;\\n&lt;p&gt;&lt;span class=&quot;tidied-201710038060-3&quot;&gt;&lt;br&gt;&lt;b&gt;單入 18650 高容量 充電電池 4000mAh 3.7V Li-ion&lt;/b&gt;&lt;br&gt;&lt;/span&gt;&lt;/p&gt;\\n&lt;ul class=&quot;style2 tidied-202008054183-5&quot;&gt;&lt;li class=&quot;style1 tidied-202008054183-4&quot;&gt;&lt;span class=&quot;tidied-202008054183-2&quot;&gt;&lt;strong&gt;&lt;span class=&quot;tidied-202008054183-1&quot;&gt;充&lt;/span&gt;&lt;/strong&gt;&lt;/span&gt;&lt;strong class=&quot;tidied-202008054183-3&quot;&gt;&lt;span class=&quot;tidied-202008054183-1&quot;&gt;電器&lt;/span&gt;&lt;/strong&gt;&lt;strong class=&quot;tidied-202008054183-3&quot;&gt;&lt;span class=&quot;tidied-202008054183-1&quot;&gt;要另&lt;/span&gt;&lt;/strong&gt;&lt;strong class=&quot;tidied-202008054183-3&quot;&gt;&lt;span class=&quot;tidied-202008054183-1&quot;&gt;外加購&lt;/span&gt;&lt;/strong&gt;&lt;/li&gt;\\n&lt;/ul&gt;&lt;/td&gt;\\n&lt;/tr&gt;&lt;tr&gt;&lt;td&gt;&lt;/td&gt;\\n&lt;/tr&gt;&lt;tr&gt;&lt;td align=&quot;left&quot;&gt;&lt;span class=&quot;tidied-201710038060-4&quot;&gt;&lt;br&gt;&lt;b&gt;&nbsp;&nbsp;產品特色&nbsp;&nbsp;&lt;/b&gt;&lt;/span&gt;&lt;/td&gt;\\n&lt;/tr&gt;&lt;tr&gt;&lt;td align=&quot;left&quot;&gt;&lt;br&gt;&lt;ul class=&quot;style2&quot;&gt;&lt;li class=&quot;style1&quot;&gt;4000mAh 高容量，使用時間超耐久&lt;/li&gt;\\n&lt;li class=&quot;style1&quot;&gt;適用手電筒，供電設備使用&lt;/li&gt;\\n&lt;li class=&quot;style1&quot;&gt;&lt;strong&gt;注意! 附有充電保護晶片相較於一般18650電池長度更長，&lt;/strong&gt;&lt;strong&gt;若有特別的規格尺寸請參考適用的尺寸後再購買&lt;/strong&gt;&lt;/li&gt;\\n&lt;/ul&gt;&lt;/td&gt;\\n&lt;/tr&gt;&lt;tr&gt;&lt;td&gt;&lt;/td&gt;\\n&lt;/tr&gt;&lt;tr&gt;&lt;td align=&quot;left&quot;&gt;&lt;span class=&quot;tidied-201710038060-4&quot;&gt;&lt;br&gt;&lt;b&gt;&nbsp;&nbsp;產品規格&nbsp;&nbsp;&lt;/b&gt;&lt;/span&gt;&lt;/td&gt;\\n&lt;/tr&gt;&lt;tr&gt;&lt;td align=&quot;left&quot;&gt;&lt;br&gt;&lt;ul class=&quot;style2&quot;&gt;&lt;li class=&quot;style1&quot;&gt;尺寸： 高 x 直徑 - 6.7 x 1.8cm&lt;/li&gt;\\n&lt;li class=&quot;style1&quot;&gt;淨重： 41 g&lt;/li&gt;\\n&lt;li class=&quot;style1&quot;&gt;電壓： 3.7V&lt;/li&gt;\\n&lt;li class=&quot;style1&quot;&gt;電容量：4000mAh&lt;/li&gt;\\n&lt;/ul&gt;&lt;/td&gt;\\n&lt;/tr&gt;&lt;tr&gt;&lt;td&gt;&lt;/td&gt;\\n&lt;/tr&gt;&lt;tr&gt;&lt;td align=&quot;left&quot;&gt;&lt;span class=&quot;tidied-201710038060-4&quot;&gt;&lt;br&gt;&lt;b&gt;&nbsp;&nbsp;產品內容&nbsp;&nbsp;&lt;/b&gt;&lt;/span&gt;&lt;/td&gt;\\n&lt;/tr&gt;&lt;tr&gt;&lt;td align=&quot;left&quot;&gt;&lt;br&gt;&lt;ul class=&quot;style2&quot;&gt;&lt;li class=&quot;style1&quot;&gt;1 x 18650 高容量 4000 mAh 黑色 3.7V 充電電池&lt;/li&gt;\\n&lt;/ul&gt;&lt;/td&gt;\\n&lt;/tr&gt;&lt;tr&gt;&lt;td&gt;&lt;/td&gt;\\n&lt;/tr&gt;&lt;/tbody&gt;&lt;/table&gt;&lt;/td&gt;\\n&lt;/tr&gt;&lt;/tbody&gt;&lt;/table&gt;&lt;/div&gt;\\n&lt;/div&gt;\\n&lt;/div&gt;\\n&lt;/div&gt;\\n'},\n",
              "  {'id': '22243606777400',\n",
              "   'class': '001100160008',\n",
              "   'name': '三菱電機HC-BH023-S12   99新',\n",
              "   'num': 20,\n",
              "   'images': {'filename': '22243606777400_201.jpg,22243606777400_508.jpg,22243606777400_662.jpg',\n",
              "    'url': ['https://a.rimg.com.tw/s6/06f/f81/sssq9393436/e/38/22243606777400_201.jpg',\n",
              "     'https://a.rimg.com.tw/s6/06f/f81/sssq9393436/e/38/22243606777400_508.jpg',\n",
              "     'https://a.rimg.com.tw/s6/06f/f81/sssq9393436/e/38/22243606777400_662.jpg'],\n",
              "    'm_url': ['https://a.rimg.com.tw/s6/06f/f81/sssq9393436/e/38/22243606777400_201_m.jpg',\n",
              "     'https://a.rimg.com.tw/s6/06f/f81/sssq9393436/e/38/22243606777400_508_m.jpg',\n",
              "     'https://a.rimg.com.tw/s6/06f/f81/sssq9393436/e/38/22243606777400_662_m.jpg']},\n",
              "   'currency': 'TWD',\n",
              "   'goods_price': 39000,\n",
              "   'goods_ori_price': 39000,\n",
              "   'goods_price_range': {'min': 39000,\n",
              "    'max': 40950,\n",
              "    'ori_min': 39000,\n",
              "    'ori_max': 40950},\n",
              "   'watch_num': 0,\n",
              "   'sold_num': 0,\n",
              "   'buyer_limit_num': 0,\n",
              "   'stock_status': 1,\n",
              "   'pre_order_ship_date': None,\n",
              "   'fast_ship': 0,\n",
              "   'free_shipping': 1,\n",
              "   'youtube_link': '',\n",
              "   'video_link': '',\n",
              "   'ncc_check_code': '',\n",
              "   'bsmi_code': '',\n",
              "   'goods_no': '',\n",
              "   'available': True,\n",
              "   'post_time': '1667143598',\n",
              "   'spec_type': 'R',\n",
              "   'deliver_way': {'SEVEN_COD': 0,\n",
              "    'SEVEN': 0,\n",
              "    'FAMI_COD': 0,\n",
              "    'HILIFE_COD': 45,\n",
              "    'HILIFE': 45,\n",
              "    'HOUSE': 0,\n",
              "    'COD': 0},\n",
              "   'mode': 'B',\n",
              "   'ship': 'A',\n",
              "   'platform': 'RUTEN',\n",
              "   'ctrl_rowid': '18576028',\n",
              "   'user': 'sssq9393436',\n",
              "   'user_credit': 265,\n",
              "   'pay_way': ['PP_PI',\n",
              "    'PP_CRD',\n",
              "    'PAYLINK',\n",
              "    'SEVEN_COD',\n",
              "    'FAMI_COD',\n",
              "    'HILIFE_COD',\n",
              "    'COD'],\n",
              "   'title_style': '0',\n",
              "   'selling_g_now_price': 39000,\n",
              "   'item_remaining_time': 467979073,\n",
              "   'translation_type': None,\n",
              "   'translated_name': None,\n",
              "   'min_estimated_delivery_date': None,\n",
              "   'max_estimated_delivery_date': None,\n",
              "   'update_time': '2023-01-29',\n",
              "   'is_brand_seller': False,\n",
              "   'is_goods_from_oversea': False,\n",
              "   'location': '台北市',\n",
              "   'condition': 'B',\n",
              "   'codition': 'B',\n",
              "   'accept_shiprule': True,\n",
              "   'user_class': '0',\n",
              "   'close_no': None,\n",
              "   'description_url': 'https://www.ruten.com.tw/item/goods_comments.php?id=22243606777400&k=270e8d14&o=1667143598',\n",
              "   'spec_info': {'level': 1,\n",
              "    'structure': {'224300797476955': [], '224300797476966': []},\n",
              "    'specs': {'224300797476955': {'spec_id': '224300797476955',\n",
              "      'parent_id': '0',\n",
              "      'spec_name': 'HC-BH023-S12不含稅',\n",
              "      'spec_num': 10,\n",
              "      'spec_price': 39000,\n",
              "      'spec_status': 'Y',\n",
              "      'spec_ext': [],\n",
              "      'childs': [],\n",
              "      'spec_ori_price': 39000},\n",
              "     '224300797476966': {'spec_id': '224300797476966',\n",
              "      'parent_id': '0',\n",
              "      'spec_name': 'HC-BH023-S12  含稅',\n",
              "      'spec_num': 9,\n",
              "      'spec_price': 40950,\n",
              "      'spec_status': 'Y',\n",
              "      'spec_ext': [],\n",
              "      'childs': [],\n",
              "      'spec_ori_price': 40950}},\n",
              "    'map': {'spec': {'HC-BH023-S12不含稅': ['224300797476955'],\n",
              "      'HC-BH023-S12  含稅': ['224300797476966']}}},\n",
              "   'text2': '\\n\\n'},\n",
              "  {'id': '22244608865692',\n",
              "   'class': '0011001600120009',\n",
              "   'name': '【秀秀】三菱PLC模塊 QJ72LP25-25 全新',\n",
              "   'num': 29,\n",
              "   'images': {'filename': '22244608865692_668.jpg',\n",
              "    'url': ['https://a.rimg.com.tw/s6/06f/f81/sssq9393436/5/9c/22244608865692_668.jpg'],\n",
              "    'm_url': ['https://a.rimg.com.tw/s6/06f/f81/sssq9393436/5/9c/22244608865692_668_m.jpg']},\n",
              "   'currency': 'TWD',\n",
              "   'goods_price': 33000,\n",
              "   'goods_ori_price': 33000,\n",
              "   'goods_price_range': {'min': 33000,\n",
              "    'max': 33000,\n",
              "    'ori_min': 33000,\n",
              "    'ori_max': 33000},\n",
              "   'watch_num': 0,\n",
              "   'sold_num': 0,\n",
              "   'buyer_limit_num': 0,\n",
              "   'stock_status': 1,\n",
              "   'pre_order_ship_date': None,\n",
              "   'fast_ship': 0,\n",
              "   'free_shipping': 0,\n",
              "   'youtube_link': '',\n",
              "   'video_link': '',\n",
              "   'ncc_check_code': '',\n",
              "   'bsmi_code': '',\n",
              "   'goods_no': '',\n",
              "   'available': True,\n",
              "   'post_time': '1667187876',\n",
              "   'spec_type': 'N',\n",
              "   'deliver_way': {'SEVEN_COD': 60,\n",
              "    'SEVEN': 60,\n",
              "    'FAMI_COD': 60,\n",
              "    'HOUSE': 60,\n",
              "    'ISLAND': 300,\n",
              "    'COD': 60},\n",
              "   'mode': 'B',\n",
              "   'ship': 'A',\n",
              "   'platform': 'RUTEN',\n",
              "   'ctrl_rowid': '18576028',\n",
              "   'user': 'sssq9393436',\n",
              "   'user_credit': 265,\n",
              "   'pay_way': ['PP_PI', 'PP_CRD', 'PAYLINK', 'SEVEN_COD', 'FAMI_COD', 'COD'],\n",
              "   'title_style': '0',\n",
              "   'selling_g_now_price': 33000,\n",
              "   'item_remaining_time': 467979073,\n",
              "   'translation_type': None,\n",
              "   'translated_name': None,\n",
              "   'min_estimated_delivery_date': None,\n",
              "   'max_estimated_delivery_date': None,\n",
              "   'update_time': '2023-01-29',\n",
              "   'is_brand_seller': False,\n",
              "   'is_goods_from_oversea': False,\n",
              "   'location': '台北市',\n",
              "   'condition': 'B',\n",
              "   'codition': 'B',\n",
              "   'accept_shiprule': True,\n",
              "   'user_class': '5881825',\n",
              "   'close_no': None,\n",
              "   'description_url': 'https://www.ruten.com.tw/item/goods_comments.php?id=22244608865692&k=af16d4a6&o=1667187876',\n",
              "   'spec_info': [],\n",
              "   'text2': '\\n&lt;div&gt;品牌:三菱&lt;br&gt;&lt;p&gt;三菱PLC模塊 QJ72LP25-25 全新 質保1年&lt;/p&gt;\\n&lt;/div&gt;\\n'},\n",
              "  {'id': '22302937500980',\n",
              "   'class': '0011000100100004',\n",
              "   'name': '(辦公首選華碩I7商務桌機 獨家送微軟OFFICE)I7-11700時脈4.9G/16核心/16G/256G+1TB電腦',\n",
              "   'num': 12,\n",
              "   'images': {'filename': '22302937500980_152.jpg,22302937500980_594.jpg,22302937500980_781.jpg,22302937500980_291.jpg,22302937500980_804.jpg,22302937500980_698.jpg,22302937500980_306.jpg',\n",
              "    'url': ['https://image.ruten.com.tw/g2/6/b5/34/22302937500980_152.jpg',\n",
              "     'https://image.ruten.com.tw/g2/6/b5/34/22302937500980_594.jpg',\n",
              "     'https://image.ruten.com.tw/g2/6/b5/34/22302937500980_781.jpg',\n",
              "     'https://image.ruten.com.tw/g2/6/b5/34/22302937500980_291.jpg',\n",
              "     'https://image.ruten.com.tw/g2/6/b5/34/22302937500980_804.jpg',\n",
              "     'https://image.ruten.com.tw/g2/6/b5/34/22302937500980_698.jpg',\n",
              "     'https://image.ruten.com.tw/g2/6/b5/34/22302937500980_306.jpg'],\n",
              "    'm_url': ['https://image.ruten.com.tw/g2/6/b5/34/22302937500980_152_m.jpg',\n",
              "     'https://image.ruten.com.tw/g2/6/b5/34/22302937500980_594_m.jpg',\n",
              "     'https://image.ruten.com.tw/g2/6/b5/34/22302937500980_781_m.jpg',\n",
              "     'https://image.ruten.com.tw/g2/6/b5/34/22302937500980_291_m.jpg',\n",
              "     'https://image.ruten.com.tw/g2/6/b5/34/22302937500980_804_m.jpg',\n",
              "     'https://image.ruten.com.tw/g2/6/b5/34/22302937500980_698_m.jpg',\n",
              "     'https://image.ruten.com.tw/g2/6/b5/34/22302937500980_306_m.jpg']},\n",
              "   'currency': 'TWD',\n",
              "   'goods_price': 25900,\n",
              "   'goods_ori_price': 25900,\n",
              "   'goods_price_range': {'min': 25900,\n",
              "    'max': 29900,\n",
              "    'ori_min': 25900,\n",
              "    'ori_max': 29900},\n",
              "   'watch_num': 3,\n",
              "   'sold_num': 0,\n",
              "   'buyer_limit_num': 0,\n",
              "   'stock_status': 0,\n",
              "   'pre_order_ship_date': None,\n",
              "   'fast_ship': 0,\n",
              "   'free_shipping': 1,\n",
              "   'youtube_link': '',\n",
              "   'video_link': '',\n",
              "   'ncc_check_code': '',\n",
              "   'bsmi_code': '',\n",
              "   'goods_no': '',\n",
              "   'available': True,\n",
              "   'post_time': '1673653228',\n",
              "   'spec_type': 'R',\n",
              "   'deliver_way': {'HOUSE': 0},\n",
              "   'mode': 'B',\n",
              "   'ship': 'A',\n",
              "   'platform': 'RUTEN',\n",
              "   'ctrl_rowid': '2923085',\n",
              "   'user': 'kleist',\n",
              "   'user_credit': 317,\n",
              "   'pay_way': ['PP_PI', 'PP_CRD', 'PAYLINK', 'ATM', 'PS'],\n",
              "   'title_style': '0',\n",
              "   'selling_g_now_price': 25900,\n",
              "   'item_remaining_time': 467979073,\n",
              "   'translation_type': None,\n",
              "   'translated_name': None,\n",
              "   'min_estimated_delivery_date': None,\n",
              "   'max_estimated_delivery_date': None,\n",
              "   'update_time': '2023-02-19',\n",
              "   'is_brand_seller': False,\n",
              "   'is_goods_from_oversea': False,\n",
              "   'location': 'on',\n",
              "   'condition': 'B',\n",
              "   'codition': 'B',\n",
              "   'accept_shiprule': False,\n",
              "   'user_class': '0',\n",
              "   'close_no': None,\n",
              "   'description_url': 'https://www.ruten.com.tw/item/goods_comments.php?id=22302937500980&k=ebf48cea&o=1673653496',\n",
              "   'spec_info': {'level': 2,\n",
              "    'structure': {'230206641128881': {'230206641128915': [],\n",
              "      '230206641128948': []},\n",
              "     '230206641128892': {'230206641128926': [], '230206641128959': []},\n",
              "     '230206641128904': {'230206641128937': [], '230206641128960': []}},\n",
              "    'specs': {'230206641128881': {'spec_id': '230206641128881',\n",
              "      'parent_id': '0',\n",
              "      'spec_name': '(預設)256G M2 SSD',\n",
              "      'spec_num': 0,\n",
              "      'spec_price': 25900,\n",
              "      'spec_status': 'Y',\n",
              "      'spec_ext': [],\n",
              "      'childs': {'230206641128915': [], '230206641128948': []},\n",
              "      'spec_ori_price': 25900},\n",
              "     '230206641128892': {'spec_id': '230206641128892',\n",
              "      'parent_id': '0',\n",
              "      'spec_name': '(升級)500G M2 SSD',\n",
              "      'spec_num': 0,\n",
              "      'spec_price': 25900,\n",
              "      'spec_status': 'Y',\n",
              "      'spec_ext': [],\n",
              "      'childs': {'230206641128926': [], '230206641128959': []},\n",
              "      'spec_ori_price': 25900},\n",
              "     '230206641128904': {'spec_id': '230206641128904',\n",
              "      'parent_id': '0',\n",
              "      'spec_name': '(旗艦)1TB M2 SSD',\n",
              "      'spec_num': 0,\n",
              "      'spec_price': 25900,\n",
              "      'spec_status': 'Y',\n",
              "      'spec_ext': [],\n",
              "      'childs': {'230206641128937': [], '230206641128960': []},\n",
              "      'spec_ori_price': 25900},\n",
              "     '230206641128915': {'spec_id': '230206641128915',\n",
              "      'parent_id': '230206641128881',\n",
              "      'spec_name': '原廠8G免費加碼到16G記憶體',\n",
              "      'spec_num': 2,\n",
              "      'spec_price': 25900,\n",
              "      'spec_status': 'Y',\n",
              "      'spec_ext': [],\n",
              "      'childs': [],\n",
              "      'spec_ori_price': 25900},\n",
              "     '230206641128926': {'spec_id': '230206641128926',\n",
              "      'parent_id': '230206641128892',\n",
              "      'spec_name': '原廠8G免費加碼到16G記憶體',\n",
              "      'spec_num': 2,\n",
              "      'spec_price': 26900,\n",
              "      'spec_status': 'Y',\n",
              "      'spec_ext': [],\n",
              "      'childs': [],\n",
              "      'spec_ori_price': 26900},\n",
              "     '230206641128937': {'spec_id': '230206641128937',\n",
              "      'parent_id': '230206641128904',\n",
              "      'spec_name': '原廠8G免費加碼到16G記憶體',\n",
              "      'spec_num': 2,\n",
              "      'spec_price': 27900,\n",
              "      'spec_status': 'Y',\n",
              "      'spec_ext': [],\n",
              "      'childs': [],\n",
              "      'spec_ori_price': 27900},\n",
              "     '230206641128948': {'spec_id': '230206641128948',\n",
              "      'parent_id': '230206641128881',\n",
              "      'spec_name': '(升級)32G D4 記憶體',\n",
              "      'spec_num': 2,\n",
              "      'spec_price': 27900,\n",
              "      'spec_status': 'Y',\n",
              "      'spec_ext': [],\n",
              "      'childs': [],\n",
              "      'spec_ori_price': 27900},\n",
              "     '230206641128959': {'spec_id': '230206641128959',\n",
              "      'parent_id': '230206641128892',\n",
              "      'spec_name': '(升級)32G D4 記憶體',\n",
              "      'spec_num': 2,\n",
              "      'spec_price': 28900,\n",
              "      'spec_status': 'Y',\n",
              "      'spec_ext': [],\n",
              "      'childs': [],\n",
              "      'spec_ori_price': 28900},\n",
              "     '230206641128960': {'spec_id': '230206641128960',\n",
              "      'parent_id': '230206641128904',\n",
              "      'spec_name': '(升級)32G D4 記憶體',\n",
              "      'spec_num': 2,\n",
              "      'spec_price': 29900,\n",
              "      'spec_status': 'Y',\n",
              "      'spec_ext': [],\n",
              "      'childs': [],\n",
              "      'spec_ori_price': 29900}},\n",
              "    'map': {'spec': {'(預設)256G M2 SSD': ['230206641128915', '230206641128948'],\n",
              "      '(升級)500G M2 SSD': ['230206641128926', '230206641128959'],\n",
              "      '(旗艦)1TB M2 SSD': ['230206641128937', '230206641128960']},\n",
              "     'spec_sub': {'原廠8G免費加碼到16G記憶體': ['230206641128915',\n",
              "       '230206641128926',\n",
              "       '230206641128937'],\n",
              "      '(升級)32G D4 記憶體': ['230206641128948',\n",
              "       '230206641128959',\n",
              "       '230206641128960']}}},\n",
              "   'text2': '\\n&lt;style type=&quot;text/css&quot;&gt;&lt;!--\\nspan.tidied-202301144823-2 {color: #333333; font-size: 14.0pt; font-family: 標楷體;}\\n span.tidied-202301144823-1 {font-size: 14.0pt; font-family: 標楷體;} span.tidied-202301143760-1 {color: #ff0000;}\\n--&gt;&lt;/style&gt;&lt;div&gt;\\n&lt;p class=&quot;MsoNormal&quot;&gt;&lt;span class=&quot;tidied-202301144823-1&quot;&gt;挑戰&lt;span&gt;2023&lt;/span&gt;年最強商務桌機&lt;/span&gt;&lt;/p&gt;\\n&lt;p class=&quot;MsoNormal&quot;&gt;&lt;span class=&quot;tidied-202301144823-1&quot;&gt;&nbsp;&lt;/span&gt;&lt;/p&gt;\\n&lt;p class=&quot;MsoNormal&quot;&gt;&lt;span class=&quot;tidied-202301144823-1&quot;&gt;本賣場慶新年，並且為了滿足電腦買家要求操作快速的需求，特別推出&lt;span class=&quot;tidied-202301143760-1&quot;&gt;最強I7商務桌機&lt;/span&gt;，預設搭配&lt;span&gt;256G&lt;/span&gt;高速&lt;span&gt;SSD&lt;/span&gt;加&lt;span&gt;1TB&lt;/span&gt;大容量，讓您不論是平常文書還是商務辦公，都能享受到最快的速度，現在購買還加送&lt;span&gt;office365&lt;/span&gt;終生使用，市價&lt;span&gt;4990&lt;/span&gt;元，真的是買到賺到，產品數量有限，要買要快喔。&lt;/span&gt;&lt;/p&gt;\\n&lt;p class=&quot;MsoNormal&quot;&gt;&lt;span class=&quot;tidied-202301144823-1&quot;&gt;&nbsp;&lt;/span&gt;&lt;/p&gt;\\n&lt;p class=&quot;MsoNormal&quot;&gt;&lt;span class=&quot;tidied-202301144823-1&quot;&gt;&lt;span class=&quot;tidied-202301143760-1&quot;&gt;獨家贈送 &ldquo;微軟OFFICE365企業終生版&rdquo; 市價4990元&lt;/span&gt; 文書無煩惱&lt;/span&gt;&lt;/p&gt;\\n&lt;p class=&quot;MsoNormal&quot;&gt;&lt;span class=&quot;tidied-202301144823-1&quot;&gt;&nbsp;&lt;/span&gt;&lt;/p&gt;\\n&lt;p class=&quot;MsoNormal&quot;&gt;&lt;span class=&quot;tidied-202301144823-1&quot;&gt;過年加碼贈送 &lt;span&gt;&rdquo;&lt;/span&gt;高傳輸&lt;span&gt;USB&lt;/span&gt;無線網卡一隻&lt;span&gt;&rdquo;&lt;/span&gt;市價&lt;span&gt;499&lt;/span&gt;元&lt;/span&gt;&lt;/p&gt;\\n&lt;p class=&quot;MsoNormal&quot;&gt;&lt;span class=&quot;tidied-202301144823-1&quot;&gt;&nbsp;&lt;/span&gt;&lt;/p&gt;\\n&lt;p class=&quot;MsoNormal&quot;&gt;&lt;span class=&quot;tidied-202301144823-1&quot;&gt;&nbsp;&lt;/span&gt;&lt;/p&gt;\\n&lt;p class=&quot;MsoNormal&quot;&gt;&lt;span class=&quot;tidied-202301144823-1&quot;&gt;&lt;span class=&quot;tidied-202301143760-1&quot;&gt;過年驚爆價NT:25900&lt;/span&gt; 含稅開發票&nbsp;&lt;/span&gt;&lt;/p&gt;\\n&lt;p class=&quot;MsoNormal&quot;&gt;&lt;span class=&quot;tidied-202301144823-1&quot;&gt;&nbsp;&lt;/span&gt;&lt;/p&gt;\\n&lt;p class=&quot;MsoNormal&quot;&gt;&lt;span class=&quot;tidied-202301144823-1&quot;&gt;&nbsp;&lt;/span&gt;&lt;/p&gt;\\n&lt;p class=&quot;MsoNormal&quot;&gt;&lt;span class=&quot;tidied-202301144823-1&quot;&gt;電腦規格&lt;/span&gt;&lt;/p&gt;\\n&lt;p class=&quot;MsoNormal&quot;&gt;&lt;span class=&quot;tidied-202301144823-1&quot;&gt;&nbsp;&lt;/span&gt;&lt;/p&gt;\\n&lt;p class=&quot;MsoNormal&quot;&gt;&lt;span class=&quot;tidied-202301144823-1&quot;&gt;搭載&lt;span class=&quot;tidied-202301143760-1&quot;&gt;INTEL 11代處理器&lt;/span&gt;&lt;span&gt;&lt;span class=&quot;tidied-202301143760-1&quot;&gt;I7-11700&lt;/span&gt; 8&lt;/span&gt;核心&lt;span&gt;16&lt;/span&gt;執行緒 最高時脈&lt;span&gt;4.9GHz&lt;/span&gt;&lt;/span&gt;&lt;/p&gt;\\n&lt;p class=&quot;MsoNormal&quot;&gt;&lt;span class=&quot;tidied-202301144823-1&quot;&gt;&nbsp;&lt;/span&gt;&lt;/p&gt;\\n&lt;p class=&quot;MsoNormal&quot;&gt;&lt;span class=&quot;tidied-202301144823-1&quot;&gt;&nbsp;&lt;/span&gt;&lt;/p&gt;\\n&lt;p class=&quot;MsoNormal&quot;&gt;&lt;span class=&quot;tidied-202301144823-1&quot;&gt;原廠預設&lt;span&gt;8G&lt;/span&gt;記憶體 本賣場&lt;span class=&quot;tidied-202301143760-1&quot;&gt;免費加碼到&lt;/span&gt;&lt;span&gt;&lt;span class=&quot;tidied-202301143760-1&quot;&gt;16G&lt;/span&gt; DDR4&lt;/span&gt;記憶體&lt;/span&gt;&lt;/p&gt;\\n&lt;p class=&quot;MsoNormal&quot;&gt;&lt;span class=&quot;tidied-202301144823-1&quot;&gt;&nbsp;&lt;/span&gt;&lt;/p&gt;\\n&lt;p class=&quot;MsoNormal&quot;&gt;&lt;span class=&quot;tidied-202301144823-1&quot;&gt;如有更高需求 可以加價&lt;span&gt;NT:2000&lt;/span&gt;升級&lt;span&gt;32G DDR4&lt;/span&gt;記憶體&lt;/span&gt;&lt;/p&gt;\\n&lt;p class=&quot;MsoNormal&quot;&gt;&lt;span class=&quot;tidied-202301144823-1&quot;&gt;&nbsp;&lt;/span&gt;&lt;/p&gt;\\n&lt;p class=&quot;MsoNormal&quot;&gt;&lt;span class=&quot;tidied-202301144823-1&quot;&gt;&nbsp;&lt;/span&gt;&lt;/p&gt;\\n&lt;p class=&quot;MsoNormal&quot;&gt;&lt;span class=&quot;tidied-202301144823-1&quot;&gt;預設&lt;span&gt;256G M2&lt;/span&gt;高速&lt;span&gt;SSD&lt;/span&gt; 保證快的跟鬼一樣&lt;/span&gt;&lt;/p&gt;\\n&lt;p class=&quot;MsoNormal&quot;&gt;&lt;span class=&quot;tidied-202301144823-1&quot;&gt;&nbsp;&lt;/span&gt;&lt;/p&gt;\\n&lt;p class=&quot;MsoNormal&quot;&gt;&lt;span class=&quot;tidied-202301144823-1&quot;&gt;可以加價&lt;span&gt;NT:1000&lt;/span&gt;升級&lt;span&gt;500G M2 SSD&lt;/span&gt;&lt;/span&gt;&lt;/p&gt;\\n&lt;p class=&quot;MsoNormal&quot;&gt;&lt;span class=&quot;tidied-202301144823-1&quot;&gt;可以加價&lt;span&gt;NT:2000&lt;/span&gt;升級&lt;span&gt;1TB &lt;span&gt;&nbsp;&lt;/span&gt;M2 SSD&lt;/span&gt;&lt;/span&gt;&lt;/p&gt;\\n&lt;p class=&quot;MsoNormal&quot;&gt;&lt;span class=&quot;tidied-202301144823-1&quot;&gt;&nbsp;&lt;/span&gt;&lt;/p&gt;\\n&lt;p class=&quot;MsoNormal&quot;&gt;&lt;span class=&quot;tidied-202301144823-1&quot;&gt;&nbsp;&lt;/span&gt;&lt;/p&gt;\\n&lt;p class=&quot;MsoNormal&quot;&gt;&lt;span class=&quot;tidied-202301144823-1&quot;&gt;預設&lt;span&gt;1TB&lt;/span&gt;傳統硬碟 資料再多也不怕&lt;/span&gt;&lt;/p&gt;\\n&lt;p class=&quot;MsoNormal&quot;&gt;&lt;span class=&quot;tidied-202301144823-1&quot;&gt;&nbsp;&lt;/span&gt;&lt;/p&gt;\\n&lt;p class=&quot;MsoNormal&quot;&gt;&lt;span class=&quot;tidied-202301144823-1&quot;&gt;&nbsp;&lt;/span&gt;&lt;/p&gt;\\n&lt;p class=&quot;MsoNormal&quot;&gt;&lt;span class=&quot;tidied-202301144823-1&quot;&gt;系統&lt;span&gt;:&lt;/span&gt;搭載&lt;span&gt;WIN10&lt;/span&gt;專業版 可升級&lt;span&gt;WIN11&lt;/span&gt;專業版&lt;/span&gt;&lt;/p&gt;\\n&lt;p class=&quot;MsoNormal&quot;&gt;&lt;span class=&quot;tidied-202301144823-1&quot;&gt;&nbsp;&lt;/span&gt;&lt;/p&gt;\\n&lt;p class=&quot;MsoNormal&quot;&gt;&lt;span class=&quot;tidied-202301144823-1&quot;&gt;&nbsp;&lt;/span&gt;&lt;/p&gt;\\n&lt;p class=&quot;MsoNormal&quot;&gt;&lt;span class=&quot;tidied-202301144823-1&quot;&gt;附原廠鍵鼠組&lt;/span&gt;&lt;/p&gt;\\n&lt;p class=&quot;MsoNormal&quot;&gt;&lt;span class=&quot;tidied-202301144823-1&quot;&gt;&nbsp;&lt;/span&gt;&lt;/p&gt;\\n&lt;p class=&quot;MsoNormal&quot;&gt;&lt;span class=&quot;tidied-202301144823-1&quot;&gt;&nbsp;&lt;/span&gt;&lt;/p&gt;\\n&lt;p class=&quot;MsoNormal&quot;&gt;&lt;span class=&quot;tidied-202301144823-1&quot;&gt;保固&lt;span&gt;:&lt;/span&gt;原廠&lt;span class=&quot;tidied-202301143760-1&quot;&gt;三年全機保固到府維修&lt;/span&gt;&lt;/span&gt;&lt;/p&gt;\\n&lt;p class=&quot;MsoNormal&quot;&gt;&lt;span class=&quot;tidied-202301144823-1&quot;&gt;&nbsp;&lt;/span&gt;&lt;/p&gt;\\n&lt;p class=&quot;MsoNormal&quot;&gt;&lt;span class=&quot;tidied-202301144823-1&quot;&gt;本賣場獨家再送三年遠端維修 市價&lt;span&gt;2000&lt;/span&gt;元 其他家沒有喔&lt;/span&gt;&lt;/p&gt;\\n&lt;p class=&quot;MsoNormal&quot;&gt;&lt;span class=&quot;tidied-202301144823-1&quot;&gt;&nbsp;&lt;/span&gt;&lt;/p&gt;\\n&lt;p class=&quot;MsoNormal&quot;&gt;&lt;span class=&quot;tidied-202301144823-1&quot;&gt;&nbsp;&lt;/span&gt;&lt;/p&gt;\\n&lt;p class=&quot;MsoNormal&quot;&gt;&lt;span class=&quot;tidied-202301144823-1&quot;&gt;商務桌機官方詳細資料如下&lt;span&gt;:&lt;/span&gt;&lt;/span&gt;&lt;/p&gt;\\n&lt;p class=&quot;MsoNormal&quot;&gt;&lt;span class=&quot;tidied-202301144823-1&quot;&gt;&nbsp;&lt;/span&gt;&lt;/p&gt;\\n&lt;p class=&quot;MsoNormal&quot;&gt;&lt;span class=&quot;tidied-202301144823-2&quot;&gt;型號：&lt;span&gt;M900MC&lt;/span&gt;&lt;/span&gt;&lt;/p&gt;\\n&lt;p class=&quot;MsoNormal&quot;&gt;&lt;span class=&quot;tidied-202301144823-2&quot;&gt;處理器：&lt;span&gt;Intel&reg; Core&trade; i7-11700 Processor 2.5GHz (16M Cache, up to 4.9 GHz, 8 cores)&lt;/span&gt;&lt;/span&gt;&lt;/p&gt;\\n&lt;p class=&quot;MsoNormal&quot;&gt;&lt;span class=&quot;tidied-202301144823-2&quot;&gt;作業系統：&lt;span&gt;Windows 10 Pro (Win 11 Pro DG Win 10 Pro)&lt;/span&gt;&lt;/span&gt;&lt;/p&gt;\\n&lt;p class=&quot;MsoNormal&quot;&gt;&lt;span class=&quot;tidied-202301144823-2&quot;&gt;晶片組：&lt;span&gt;Intel&reg; Q570 Chipset&lt;/span&gt;&lt;/span&gt;&lt;/p&gt;\\n&lt;p class=&quot;MsoNormal&quot;&gt;&lt;span class=&quot;tidied-202301144823-2&quot;&gt;記憶體： &lt;span&gt;8GB DDR4 U-DIMM,&lt;/span&gt; 加碼&lt;span&gt;16GB DDR4&lt;/span&gt;&lt;/span&gt;&lt;/p&gt;\\n&lt;p class=&quot;MsoNormal&quot;&gt;&lt;span class=&quot;tidied-202301144823-2&quot;&gt;固態硬碟&lt;span&gt;: 256G M2&lt;/span&gt; 高速&lt;span&gt;SSD(&lt;/span&gt;獨家搭載&lt;span&gt;)&lt;/span&gt;&lt;/span&gt;&lt;/p&gt;\\n&lt;p class=&quot;MsoNormal&quot;&gt;&lt;span class=&quot;tidied-202301144823-2&quot;&gt;硬碟：&lt;span&gt;1TB SATA 7200RPM 3.5&lt;/span&gt; 吋 &lt;span&gt;HDD&lt;/span&gt;&lt;/span&gt;&lt;/p&gt;\\n&lt;p class=&quot;MsoNormal&quot;&gt;&lt;span class=&quot;tidied-202301144823-2&quot;&gt;顯示卡 &lt;span&gt;/&lt;/span&gt; 繪圖支援：&lt;span&gt;&lt;span&gt;&nbsp;&lt;/span&gt; Intel Graphic HD ,&lt;/span&gt; 支援&lt;span&gt;DirectX12&lt;/span&gt;&lt;/span&gt;&lt;/p&gt;\\n&lt;p class=&quot;MsoNormal&quot;&gt;&lt;span class=&quot;tidied-202301144823-2&quot;&gt;光碟機：&lt;span&gt;SuperMulti DVD RW&lt;/span&gt;&lt;/span&gt;&lt;/p&gt;\\n&lt;p class=&quot;MsoNormal&quot;&gt;&lt;span class=&quot;tidied-202301144823-2&quot;&gt;電腦滑鼠&lt;span&gt;&lt;span&gt;&nbsp;&lt;/span&gt;&lt;/span&gt; ：有&lt;/span&gt;&lt;/p&gt;\\n&lt;p class=&quot;MsoNormal&quot;&gt;&lt;span class=&quot;tidied-202301144823-2&quot;&gt;電腦鍵盤&lt;span&gt;&lt;span&gt;&nbsp;&lt;/span&gt;&lt;/span&gt; ：有&lt;/span&gt;&lt;/p&gt;\\n&lt;p class=&quot;MsoNormal&quot;&gt;&lt;span class=&quot;tidied-202301144823-2&quot;&gt;音訊：&lt;span&gt;High-Definition Audio,7 Channels&lt;/span&gt;&lt;/span&gt;&lt;/p&gt;\\n&lt;p class=&quot;MsoNormal&quot;&gt;&lt;span class=&quot;tidied-202301144823-2&quot;&gt;讀卡機：內接&lt;span&gt;IC&lt;/span&gt;卡讀卡機及記憶卡讀卡機&lt;/span&gt;&lt;/p&gt;\\n&lt;p class=&quot;MsoNormal&quot;&gt;&lt;span class=&quot;tidied-202301144823-2&quot;&gt;網路：&lt;span&gt;Intel I219LM 10 / 100 / 1000Mbps Lan&lt;/span&gt;乙太網路控制器，含網路喚醒功能 &lt;span&gt;WOL&lt;/span&gt;&lt;/span&gt;&lt;/p&gt;\\n&lt;p class=&quot;MsoNormal&quot;&gt;&lt;span class=&quot;tidied-202301144823-2&quot;&gt;電源規格：&lt;span&gt;300W&lt;/span&gt; 電源供應器 &lt;span&gt;(80+&lt;/span&gt; 白金，最高 &lt;span&gt;390W)&lt;/span&gt;&lt;/span&gt;&lt;/p&gt;\\n&lt;p class=&quot;MsoNormal&quot;&gt;&lt;span class=&quot;tidied-202301144823-2&quot;&gt;前面板輸出端子：&lt;/span&gt;&lt;/p&gt;\\n&lt;p class=&quot;MsoNormal&quot;&gt;&lt;span class=&quot;tidied-202301144823-2&quot;&gt;1x&lt;/span&gt; &lt;span class=&quot;tidied-202301144823-2&quot;&gt;耳機&lt;/span&gt;&lt;/p&gt;\\n&lt;p class=&quot;MsoNormal&quot;&gt;&lt;span class=&quot;tidied-202301144823-2&quot;&gt;1x 3.5mm&lt;/span&gt; &lt;span class=&quot;tidied-202301144823-2&quot;&gt;複合音源線插孔&lt;/span&gt;&lt;/p&gt;\\n&lt;p class=&quot;MsoNormal&quot;&gt;&lt;span class=&quot;tidied-202301144823-2&quot;&gt;1x USB 3.2 Gen 2 Type-C&lt;/span&gt;&lt;/p&gt;\\n&lt;p class=&quot;MsoNormal&quot;&gt;&lt;span class=&quot;tidied-202301144823-2&quot;&gt;2x USB 3.2 Gen 2 Type-A&lt;/span&gt;&lt;/p&gt;\\n&lt;p class=&quot;MsoNormal&quot;&gt;&lt;span class=&quot;tidied-202301144823-2&quot;&gt;4x USB 3.2 Gen 1 Type-A&lt;/span&gt;&lt;/p&gt;\\n&lt;p class=&quot;MsoNormal&quot;&gt;&lt;span class=&quot;tidied-202301144823-2&quot;&gt;後面板輸出端子：&lt;/span&gt;&lt;/p&gt;\\n&lt;p class=&quot;MsoNormal&quot;&gt;&lt;span class=&quot;tidied-202301144823-2&quot;&gt;1x RJ45 GB&lt;/span&gt; &lt;span class=&quot;tidied-202301144823-2&quot;&gt;乙太網路&lt;/span&gt;&lt;/p&gt;\\n&lt;p class=&quot;MsoNormal&quot;&gt;&lt;span class=&quot;tidied-202301144823-2&quot;&gt;1x HDMI 1.4&lt;/span&gt;&lt;/p&gt;\\n&lt;p class=&quot;MsoNormal&quot;&gt;&lt;span class=&quot;tidied-202301144823-2&quot;&gt;1x VGA&lt;/span&gt; &lt;span class=&quot;tidied-202301144823-2&quot;&gt;連接埠&lt;/span&gt;&lt;/p&gt;\\n&lt;p class=&quot;MsoNormal&quot;&gt;&lt;span class=&quot;tidied-202301144823-2&quot;&gt;2x DisplayPort 1.2&lt;/span&gt;&lt;/p&gt;\\n&lt;p class=&quot;MsoNormal&quot;&gt;&lt;span class=&quot;tidied-202301144823-2&quot;&gt;2x PS2&lt;/span&gt;&lt;/p&gt;\\n&lt;p class=&quot;MsoNormal&quot;&gt;&lt;span class=&quot;tidied-202301144823-2&quot;&gt;3 x&lt;/span&gt; &lt;span class=&quot;tidied-202301144823-2&quot;&gt;音源線插孔&lt;/span&gt;&lt;/p&gt;\\n&lt;p class=&quot;MsoNormal&quot;&gt;&lt;span class=&quot;tidied-202301144823-2&quot;&gt;2x USB 2.0 Type-A&lt;/span&gt;&lt;/p&gt;\\n&lt;p class=&quot;MsoNormal&quot;&gt;&lt;span class=&quot;tidied-202301144823-2&quot;&gt;2x USB 3.2 Gen 1 Type-A&lt;/span&gt;&lt;/p&gt;\\n&lt;p class=&quot;MsoNormal&quot;&gt;&lt;span class=&quot;tidied-202301144823-2&quot;&gt;2x Display port 1.2&lt;/span&gt;&lt;/p&gt;\\n&lt;p class=&quot;MsoNormal&quot;&gt;&lt;span class=&quot;tidied-202301144823-2&quot;&gt;重量：&lt;span&gt;6.00 kg (13.23 lbs)&lt;/span&gt;&lt;/span&gt;&lt;/p&gt;\\n&lt;p class=&quot;MsoNormal&quot;&gt;&lt;span class=&quot;tidied-202301144823-2&quot;&gt;產品尺寸 &lt;span&gt;(&lt;/span&gt;寬&lt;span&gt;x&lt;/span&gt;長&lt;span&gt;x&lt;/span&gt;高&lt;span&gt;)&lt;/span&gt;：&lt;span&gt;16.20 x 29.13 x 35.50 cm (6.38&quot; x 11.47&quot; x 13.98&quot;)&lt;/span&gt;&lt;/span&gt;&lt;/p&gt;\\n&lt;p class=&quot;MsoNormal&quot;&gt;&lt;span class=&quot;tidied-202301144823-2&quot;&gt;隨附軟體：&lt;span&gt;ASUS Business Manager - ASUS&lt;/span&gt;獨家商務套件&lt;/span&gt;&lt;/p&gt;\\n&lt;p class=&quot;MsoNormal&quot;&gt;&lt;span class=&quot;tidied-202301144823-2&quot;&gt;保固：三年（&lt;span&gt;3&lt;/span&gt;年到府維修／原廠客服&lt;span&gt;0800-093-456&lt;/span&gt;）&lt;/span&gt;&lt;/p&gt;\\n&lt;p class=&quot;MsoNormal&quot;&gt;&lt;span class=&quot;tidied-202301144823-1&quot;&gt;&nbsp;&lt;/span&gt;&lt;/p&gt;\\n&lt;/div&gt;\\n'},\n",
              "  {'id': '22306987134735',\n",
              "   'class': '00110005001700010008',\n",
              "   'name': 'WD西部數據NAS硬盤12T服務器硬盤12t網絡硬盤紅盤Pro WD121KFBX',\n",
              "   'num': 20,\n",
              "   'images': {'filename': '22306987134735_414.jpg,22306987134735_439.jpg',\n",
              "    'url': ['https://image.ruten.com.tw/g0/012/80d/kial1/7/37/0f/22306987134735_414.jpg',\n",
              "     'https://image.ruten.com.tw/g0/012/80d/kial1/7/37/0f/22306987134735_439.jpg'],\n",
              "    'm_url': ['https://image.ruten.com.tw/g0/012/80d/kial1/7/37/0f/22306987134735_414_m.jpg',\n",
              "     'https://image.ruten.com.tw/g0/012/80d/kial1/7/37/0f/22306987134735_439_m.jpg']},\n",
              "   'currency': 'TWD',\n",
              "   'goods_price': 50760,\n",
              "   'goods_ori_price': 50760,\n",
              "   'goods_price_range': {'min': 50760,\n",
              "    'max': 50760,\n",
              "    'ori_min': 50760,\n",
              "    'ori_max': 50760},\n",
              "   'watch_num': 0,\n",
              "   'sold_num': 0,\n",
              "   'buyer_limit_num': 0,\n",
              "   'stock_status': 1,\n",
              "   'pre_order_ship_date': None,\n",
              "   'fast_ship': 0,\n",
              "   'free_shipping': 0,\n",
              "   'youtube_link': '',\n",
              "   'video_link': '',\n",
              "   'ncc_check_code': '',\n",
              "   'bsmi_code': '',\n",
              "   'goods_no': '',\n",
              "   'available': True,\n",
              "   'post_time': '1675870037',\n",
              "   'spec_type': 'R',\n",
              "   'deliver_way': {'SEVEN_COD': 60,\n",
              "    'SEVEN': 60,\n",
              "    'FAMI_COD': 60,\n",
              "    'FAMI': 60,\n",
              "    'HILIFE_COD': 45,\n",
              "    'HILIFE': 45},\n",
              "   'mode': 'B',\n",
              "   'ship': 'A',\n",
              "   'platform': 'RUTEN',\n",
              "   'ctrl_rowid': '18225721',\n",
              "   'user': 'kial1',\n",
              "   'user_credit': 2,\n",
              "   'pay_way': ['PAYLINK', 'SEVEN_COD', 'FAMI_COD', 'HILIFE_COD'],\n",
              "   'title_style': '0',\n",
              "   'selling_g_now_price': 50760,\n",
              "   'item_remaining_time': 467979073,\n",
              "   'translation_type': None,\n",
              "   'translated_name': None,\n",
              "   'min_estimated_delivery_date': None,\n",
              "   'max_estimated_delivery_date': None,\n",
              "   'update_time': '2023-02-26',\n",
              "   'is_brand_seller': False,\n",
              "   'is_goods_from_oversea': False,\n",
              "   'location': '台北市',\n",
              "   'condition': 'B',\n",
              "   'codition': 'B',\n",
              "   'accept_shiprule': True,\n",
              "   'user_class': '0',\n",
              "   'close_no': None,\n",
              "   'description_url': 'https://www.ruten.com.tw/item/goods_comments.php?id=22306987134735&k=d2ae8b17&o=1675870038',\n",
              "   'spec_info': {'level': 1,\n",
              "    'structure': {'230607448688804': []},\n",
              "    'specs': {'230607448688804': {'spec_id': '230607448688804',\n",
              "      'parent_id': '0',\n",
              "      'spec_name': '西數NAS紅盤Pro 12T',\n",
              "      'spec_num': 20,\n",
              "      'spec_price': 50760,\n",
              "      'spec_status': 'Y',\n",
              "      'spec_ext': [],\n",
              "      'childs': [],\n",
              "      'spec_ori_price': 50760}},\n",
              "    'map': {'spec': {'西數NAS紅盤Pro 12T': ['230607448688804']}}},\n",
              "   'text2': '\\n&lt;div&gt;\\n&lt;p&gt;&lt;strong&gt;服務承諾：&lt;/strong&gt;&lt;/p&gt;\\n&lt;p&gt;&lt;strong&gt;▶本店承諾，原版正品，優良品質，折扣價&lt;/strong&gt;&lt;/p&gt;\\n&lt;p&gt;&lt;strong&gt;▶優質售前，售後迅速，只換不修，免費固保&lt;/strong&gt;&lt;/p&gt;\\n&lt;p&gt;&lt;strong&gt;運輸/庫存：&lt;/strong&gt;&lt;/p&gt;\\n&lt;p&gt;&lt;strong&gt;▶下標後2個工作日出貨，2-4個工作日送達門市/宅配地址&lt;/strong&gt;&lt;/p&gt;\\n&lt;p&gt;&lt;strong&gt;▶如有特殊預購/預定產品，客服妹妹會提前通知&lt;/strong&gt;&lt;/p&gt;\\n&lt;p&gt;&lt;strong&gt;▶賣場產品庫存數量有的，都是有貨直接下標即可&lt;/strong&gt;&lt;/p&gt;\\n&lt;p&gt;&lt;strong&gt;▶下標前請註意：超商寄件最大材積限制≦45*30*30且重量&amp;lt;&amp;gt;&lt;/strong&gt;&lt;/p&gt;\\n&lt;p&gt;&lt;strong&gt;▶支持大量採購 量大從優&lt;/strong&gt;&lt;/p&gt;\\n&lt;p&gt;&lt;strong&gt;▶館長客服上班時間：早上10:30~下午23：30&lt;/strong&gt;&lt;/p&gt;\\n&lt;p&gt;&lt;strong&gt;▶售前咨詢/產品資料詢問，聊聊客服會盡快回復&lt;/strong&gt;&lt;/p&gt;\\n&lt;p&gt;&lt;strong&gt;▶售後問題，請先聯繫客服妹妹，一定竭力幫您處理&lt;/strong&gt;&lt;/p&gt;\\n&lt;p&gt;&lt;strong&gt;【購買需知】&lt;/strong&gt;&lt;/p&gt;\\n&lt;p&gt;&lt;strong&gt;▶出貨時間為週一到週日&lt;/strong&gt;&lt;/p&gt;\\n&lt;p&gt;&lt;strong&gt;▶兩個工作日內出貨，三到四個工作日會送達，因出貨後無法追回貨物，若急單請勿下標！&lt;/strong&gt;&lt;/p&gt;\\n&lt;p&gt;&lt;strong&gt;▶購買時請確認商品顏色型號及數量，下單後不受理私聊或訂單備註變更，出貨皆已訂單選項出貨。&lt;/strong&gt;&lt;/p&gt;\\n&lt;p&gt;&lt;strong&gt;▶.商品圖片為原廠提供，圖片與實品有些許落差，歡迎詢問。&lt;/strong&gt;&lt;/p&gt;\\n&lt;p&gt;&lt;strong&gt;▶.商品售出後如有問題，歡迎詢問，勿用評價溝通。&lt;/strong&gt;&lt;/p&gt;\\n&lt;p&gt;&lt;strong&gt;▶.本商品可與其他商品合併購買，購物金額未滿300（不含運費）不出貨&lt;/strong&gt;&lt;/p&gt;\\n&lt;p&gt;&lt;strong&gt;▶如商品短缺或破損低於80元以下時，一律以退款方式處理，不便之處敬請見諒。&lt;/strong&gt;&lt;/p&gt;\\n&lt;/div&gt;\\n'},\n",
              "  {'id': '22308073518043',\n",
              "   'class': '001100010011',\n",
              "   'name': '全新零刻 SEi8 i5-8279U 酷睿i5辦公電腦微型主機 Intel 辦公電腦 迷你電腦 小電腦 微電腦',\n",
              "   'num': 99,\n",
              "   'images': {'filename': '22308073518043_877.jpg,22308073518043_491.jpg,22308073518043_225.jpg,22308073518043_148.jpg,22308073518043_628.jpg,22308073518043_373.jpg',\n",
              "    'url': ['https://image.ruten.com.tw/g1/8/1b/db/22308073518043_877.jpg',\n",
              "     'https://image.ruten.com.tw/g1/8/1b/db/22308073518043_491.jpg',\n",
              "     'https://image.ruten.com.tw/g1/8/1b/db/22308073518043_225.jpg',\n",
              "     'https://image.ruten.com.tw/g1/8/1b/db/22308073518043_148.jpg',\n",
              "     'https://image.ruten.com.tw/g1/8/1b/db/22308073518043_628.jpg',\n",
              "     'https://image.ruten.com.tw/g1/8/1b/db/22308073518043_373.jpg'],\n",
              "    'm_url': ['https://image.ruten.com.tw/g1/8/1b/db/22308073518043_877_m.jpg',\n",
              "     'https://image.ruten.com.tw/g1/8/1b/db/22308073518043_491_m.jpg',\n",
              "     'https://image.ruten.com.tw/g1/8/1b/db/22308073518043_225_m.jpg',\n",
              "     'https://image.ruten.com.tw/g1/8/1b/db/22308073518043_148_m.jpg',\n",
              "     'https://image.ruten.com.tw/g1/8/1b/db/22308073518043_628_m.jpg',\n",
              "     'https://image.ruten.com.tw/g1/8/1b/db/22308073518043_373_m.jpg']},\n",
              "   'currency': 'TWD',\n",
              "   'goods_price': 23692,\n",
              "   'goods_ori_price': 23692,\n",
              "   'goods_price_range': {'min': 23692,\n",
              "    'max': 23692,\n",
              "    'ori_min': 23692,\n",
              "    'ori_max': 23692},\n",
              "   'watch_num': 0,\n",
              "   'sold_num': 0,\n",
              "   'buyer_limit_num': 0,\n",
              "   'stock_status': 0,\n",
              "   'pre_order_ship_date': None,\n",
              "   'fast_ship': 0,\n",
              "   'free_shipping': 1,\n",
              "   'youtube_link': '',\n",
              "   'video_link': '',\n",
              "   'ncc_check_code': '',\n",
              "   'bsmi_code': '',\n",
              "   'goods_no': '',\n",
              "   'available': True,\n",
              "   'post_time': '1677143179',\n",
              "   'spec_type': 'R',\n",
              "   'deliver_way': {'SEVEN_COD': 60,\n",
              "    'SEVEN': 60,\n",
              "    'FAMI_COD': 60,\n",
              "    'FAMI': 60,\n",
              "    'HILIFE_COD': 45,\n",
              "    'HILIFE': 45,\n",
              "    'HOUSE': 0,\n",
              "    'COD': 60},\n",
              "   'mode': 'B',\n",
              "   'ship': 'A',\n",
              "   'platform': 'RUTEN',\n",
              "   'ctrl_rowid': '10707658',\n",
              "   'user': 'secadd17',\n",
              "   'user_credit': 29,\n",
              "   'pay_way': ['PP_PI',\n",
              "    'PP_CRD',\n",
              "    'PP_CRD_ZERO',\n",
              "    'PP_CRD_N3',\n",
              "    'PP_CRD_N6',\n",
              "    'PP_CRD_N12',\n",
              "    'PAYLINK',\n",
              "    'SEVEN_COD',\n",
              "    'FAMI_COD',\n",
              "    'HILIFE_COD',\n",
              "    'COD'],\n",
              "   'title_style': '0',\n",
              "   'selling_g_now_price': 23692,\n",
              "   'item_remaining_time': 467979073,\n",
              "   'translation_type': None,\n",
              "   'translated_name': None,\n",
              "   'min_estimated_delivery_date': None,\n",
              "   'max_estimated_delivery_date': None,\n",
              "   'update_time': '2023-02-24',\n",
              "   'is_brand_seller': False,\n",
              "   'is_goods_from_oversea': False,\n",
              "   'location': '桃園市',\n",
              "   'condition': 'B',\n",
              "   'codition': 'B',\n",
              "   'accept_shiprule': True,\n",
              "   'user_class': '6050057',\n",
              "   'close_no': None,\n",
              "   'description_url': 'https://www.ruten.com.tw/item/goods_comments.php?id=22308073518043&k=8fc300b9&o=1677215628',\n",
              "   'spec_info': {'level': 2,\n",
              "    'structure': {'230808759276906': {'230808759276917': []}},\n",
              "    'specs': {'230808759276906': {'spec_id': '230808759276906',\n",
              "      'parent_id': '0',\n",
              "      'spec_name': '16G/500G',\n",
              "      'spec_num': 0,\n",
              "      'spec_price': 23692,\n",
              "      'spec_status': 'Y',\n",
              "      'spec_ext': [],\n",
              "      'childs': {'230808759276917': []},\n",
              "      'spec_ori_price': 23692},\n",
              "     '230808759276917': {'spec_id': '230808759276917',\n",
              "      'parent_id': '230808759276906',\n",
              "      'spec_name': '套餐壹',\n",
              "      'spec_num': 99,\n",
              "      'spec_price': 23692,\n",
              "      'spec_status': 'Y',\n",
              "      'spec_ext': [],\n",
              "      'childs': [],\n",
              "      'spec_ori_price': 23692}},\n",
              "    'map': {'spec': {'16G/500G': ['230808759276917']},\n",
              "     'spec_sub': {'套餐壹': ['230808759276917']}}},\n",
              "   'text2': \"\\n&lt;style type=&quot;text/css&quot;&gt;&lt;!--\\nimg.tidied-202302232093-5 {width: 750px; height: 750px;}\\n span.tidied-202302232093-4 {color: #ff0000; background-color: #ffff00;}\\n span.tidied-202302232093-3 {background-color: #ffff00;}\\n p.tidied-202302232093-2 {font-size: 12px; font-family: 'sans serif', tahoma, verdana, helvetica;}\\n span.tidied-202302232093-1 {color: #ff0000;}\\n--&gt;&lt;/style&gt;&lt;div&gt;\\n&lt;p class=&quot;tidied-202302232093-2&quot;&gt;&lt;span class=&quot;tidied-202302232093-1&quot;&gt;&lt;strong&gt;歡迎光顧&lt;/strong&gt;&lt;strong&gt;優選K8生活館&lt;/strong&gt;&lt;/span&gt;&lt;/p&gt;\\n&lt;p class=&quot;tidied-202302232093-2&quot;&gt;&lt;span class=&quot;tidied-202302232093-1&quot;&gt;&lt;strong&gt;&lt;span class=&quot;tidied-202302232093-3&quot;&gt;商品問題/尺寸建議/出貨時間/訂單細節&lt;/span&gt;，&lt;/strong&gt;&lt;/span&gt;&lt;/p&gt;\\n&lt;p class=&quot;tidied-202302232093-2&quot;&gt;&lt;span class=&quot;tidied-202302232093-1&quot;&gt;&lt;strong&gt;&nbsp;歡迎露露通咨詢/&lt;/strong&gt;&lt;strong&gt;更多好物點擊下方直達賣場&nbsp;&nbsp;&lt;/strong&gt;&lt;/span&gt;&lt;/p&gt;\\n&lt;p class=&quot;tidied-202302232093-2&quot;&gt;&lt;span class=&quot;tidied-202302232093-4&quot;&gt;&lt;strong&gt;&lt;a  href=&quot;https://www.ruten.com.tw/store/secadd17/list?sort=new%2Fdc&amp;amp;cateid.seller=6050057&amp;amp;p=1&quot; target=&quot;_blank&quot;&gt;https://www.ruten.com.tw/store/secadd17/list?sort=new%2Fdc&amp;amp;cateid.seller=6050057&amp;amp;p=1&lt;/a&gt;&lt;/strong&gt;&lt;/span&gt;&lt;/p&gt;\\n&lt;p class=&quot;tidied-202302232093-2&quot;&gt;&lt;span class=&quot;tidied-202302232093-1&quot;&gt;&lt;strong&gt;&nbsp;&nbsp;&lt;/strong&gt;&lt;strong&gt;&nbsp;&nbsp;&lt;/strong&gt;&lt;strong&gt;商品任何問題，請務必和我們溝通~請勿以負面言語來溝通問題~感謝您的配合!!&nbsp;&lt;/strong&gt;&lt;/span&gt;&lt;/p&gt;\\n&lt;p class=&quot;tidied-202302232093-2&quot;&gt;&lt;br&gt;&lt;span class=&quot;tidied-202302232093-1&quot;&gt;&lt;strong&gt;&nbsp;&nbsp;&lt;/strong&gt;&lt;strong&gt;可用超商免運卷，全場商品含運！最終價格以訂單價為準！&lt;/strong&gt;&lt;/span&gt;&lt;br&gt;&lt;br&gt;&lt;span class=&quot;tidied-202302232093-1&quot;&gt;&lt;strong&gt;&nbsp;&nbsp;&lt;/strong&gt;&lt;strong&gt;============大尺寸商品需要選擇宅配，謝謝您&lt;/strong&gt;&lt;strong&gt;============&lt;/strong&gt;&lt;/span&gt;&lt;/p&gt;\\n&lt;p class=&quot;tidied-202302232093-2&quot;&gt;&lt;span class=&quot;tidied-202302232093-1&quot;&gt;&lt;strong&gt;&nbsp;&nbsp;&lt;/strong&gt;&lt;strong&gt;---願到店顧客們&nbsp; 好運連連~&lt;/strong&gt;&lt;/span&gt;&lt;br&gt;&lt;br&gt;&lt;span class=&quot;tidied-202302232093-1&quot;&gt;&lt;strong&gt;&nbsp;&lt;span class=&quot;tidied-202302232093-3&quot;&gt;&nbsp;&lt;/span&gt;&lt;/strong&gt;&lt;span class=&quot;tidied-202302232093-3&quot;&gt;&lt;strong&gt;---超商&nbsp;重量：不能超（5KG）如不清楚露露通咨詢客服&lt;/strong&gt;&lt;/span&gt;&lt;/span&gt;&lt;br&gt;&lt;br&gt;&lt;span class=&quot;tidied-202302232093-4&quot;&gt;&lt;strong&gt;&nbsp;&nbsp;&lt;/strong&gt;&lt;strong&gt;---超商規格：長*寬*高（45cm*30cm*30cm）&lt;/strong&gt;&lt;strong&gt;如不清楚露露通咨詢客服&lt;/strong&gt;&lt;/span&gt;&lt;/p&gt;\\n&lt;img  src=&quot;https://d931.com/gin678696/i/2023/02/23/mqp.png&quot; border=&quot;0&quot; alt=&quot;https://d931.com/gin678696/i/2023/02/23/mqp.png&quot; width=&quot;188&quot; height=&quot;236&quot;&gt;&lt;br&gt;&lt;img class=&quot;tidied-202302232093-5&quot;  src=&quot;http://img.alicdn.com/imgextra/i3/2213329888154/O1CN01fkhacH2A6aIKhwOxG_!!2213329888154.jpg&quot; border=&quot;0&quot;&gt;&lt;br&gt;&lt;img class=&quot;tidied-202302232093-5&quot;  src=&quot;http://img.alicdn.com/imgextra/i4/2213329888154/O1CN01eXADnd2A6aIBKxkMH_!!2213329888154.jpg&quot; border=&quot;0&quot;&gt;&lt;br&gt;&lt;img class=&quot;tidied-202302232093-5&quot;  src=&quot;http://img.alicdn.com/imgextra/i1/2213329888154/O1CN015LtJlm2A6aIFsDr1S_!!2213329888154.jpg&quot; border=&quot;0&quot;&gt;&lt;br&gt;&lt;img class=&quot;tidied-202302232093-5&quot;  src=&quot;http://img.alicdn.com/imgextra/i3/2213329888154/O1CN01v0Q6Iq2A6aIJsMS9H_!!2213329888154.jpg&quot; border=&quot;0&quot;&gt;&lt;br&gt;&lt;img class=&quot;tidied-202302232093-5&quot;  src=&quot;http://img.alicdn.com/imgextra/i1/2213329888154/O1CN01B1bGAQ2A6aI8HB1qe_!!2213329888154.jpg&quot; border=&quot;0&quot;&gt;&lt;br&gt;&lt;img class=&quot;tidied-202302232093-5&quot;  src=&quot;http://img.alicdn.com/imgextra/i2/2213329888154/O1CN01wL4Axs2A6aI8H9cXV_!!2213329888154.jpg&quot; border=&quot;0&quot;&gt;&lt;br&gt;&lt;img class=&quot;tidied-202302232093-5&quot;  src=&quot;http://img.alicdn.com/imgextra/i2/2213329888154/O1CN01gYGt572A6aIBL0pfw_!!2213329888154.jpg&quot; border=&quot;0&quot;&gt;&lt;br&gt;&lt;img class=&quot;tidied-202302232093-5&quot;  src=&quot;http://img.alicdn.com/imgextra/i3/2213329888154/O1CN01TQiw712A6aIBKyYGN_!!2213329888154.jpg&quot; border=&quot;0&quot;&gt;&lt;br&gt;&lt;img class=&quot;tidied-202302232093-5&quot;  src=&quot;http://img.alicdn.com/imgextra/i4/2213329888154/O1CN01Uq5Hff2A6aIHqYMuk_!!2213329888154.jpg&quot; border=&quot;0&quot;&gt;&lt;br&gt;&lt;img class=&quot;tidied-202302232093-5&quot;  src=&quot;http://img.alicdn.com/imgextra/i2/2213329888154/O1CN01IJ5Kmv2A6aIGiXeph_!!2213329888154.jpg&quot; border=&quot;0&quot;&gt;&lt;br&gt;&lt;img class=&quot;tidied-202302232093-5&quot;  src=&quot;http://img.alicdn.com/imgextra/i4/2213329888154/O1CN01Ba6ngB2A6aIKhvjR1_!!2213329888154.jpg&quot; border=&quot;0&quot;&gt;&lt;/div&gt;\\n\"},\n",
              "  {'id': '22134699516389',\n",
              "   'class': '001100190005',\n",
              "   'name': '【樂意創客官方店】《附發票》AI機械手臂 樹莓派 4B Raspberry 視覺識別 ArmPi-FPV (豪華版本)',\n",
              "   'num': 2998,\n",
              "   'images': {'filename': '22134699516389_285.jpg,22134699516389_688.jpg,22134699516389_980.jpg,22134699516389_381.jpg,22134699516389_542.jpg',\n",
              "    'url': ['https://a.rimg.com.tw/s6/df5/a7f/mirotekco/d/e5/22134699516389_285.jpg',\n",
              "     'https://a.rimg.com.tw/s6/df5/a7f/mirotekco/d/e5/22134699516389_688.jpg',\n",
              "     'https://a.rimg.com.tw/s6/df5/a7f/mirotekco/d/e5/22134699516389_980.jpg',\n",
              "     'https://a.rimg.com.tw/s6/df5/a7f/mirotekco/d/e5/22134699516389_381.jpg',\n",
              "     'https://a.rimg.com.tw/s6/df5/a7f/mirotekco/d/e5/22134699516389_542.jpg'],\n",
              "    'm_url': ['https://a.rimg.com.tw/s6/df5/a7f/mirotekco/d/e5/22134699516389_285_m.jpg',\n",
              "     'https://a.rimg.com.tw/s6/df5/a7f/mirotekco/d/e5/22134699516389_688_m.jpg',\n",
              "     'https://a.rimg.com.tw/s6/df5/a7f/mirotekco/d/e5/22134699516389_980_m.jpg',\n",
              "     'https://a.rimg.com.tw/s6/df5/a7f/mirotekco/d/e5/22134699516389_381_m.jpg',\n",
              "     'https://a.rimg.com.tw/s6/df5/a7f/mirotekco/d/e5/22134699516389_542_m.jpg']},\n",
              "   'currency': 'TWD',\n",
              "   'goods_price': 22800,\n",
              "   'goods_ori_price': 22800,\n",
              "   'goods_price_range': {'min': 22800,\n",
              "    'max': 22800,\n",
              "    'ori_min': 22800,\n",
              "    'ori_max': 22800},\n",
              "   'watch_num': 14,\n",
              "   'sold_num': 2,\n",
              "   'buyer_limit_num': 0,\n",
              "   'stock_status': 1,\n",
              "   'pre_order_ship_date': None,\n",
              "   'fast_ship': 0,\n",
              "   'free_shipping': 1,\n",
              "   'youtube_link': 'v72W9cii-D8',\n",
              "   'video_link': 'https://youtu.be/v72W9cii-D8',\n",
              "   'ncc_check_code': '',\n",
              "   'bsmi_code': '',\n",
              "   'goods_no': '100041',\n",
              "   'available': True,\n",
              "   'post_time': '1629881049',\n",
              "   'spec_type': 'N',\n",
              "   'deliver_way': {'POST': 0},\n",
              "   'mode': 'B',\n",
              "   'ship': 'A',\n",
              "   'platform': 'RUTEN',\n",
              "   'ctrl_rowid': '14142621',\n",
              "   'user': 'mirotekco',\n",
              "   'user_credit': 9351,\n",
              "   'pay_way': ['PP_PI', 'PP_CRD', 'PAYLINK', 'ATM', 'F2F'],\n",
              "   'title_style': '0',\n",
              "   'selling_g_now_price': 22800,\n",
              "   'item_remaining_time': 467979073,\n",
              "   'translation_type': None,\n",
              "   'translated_name': None,\n",
              "   'min_estimated_delivery_date': None,\n",
              "   'max_estimated_delivery_date': None,\n",
              "   'update_time': '2023-02-15',\n",
              "   'is_brand_seller': False,\n",
              "   'is_goods_from_oversea': False,\n",
              "   'location': '台北市',\n",
              "   'condition': 'B',\n",
              "   'codition': 'B',\n",
              "   'accept_shiprule': True,\n",
              "   'user_class': '5770823',\n",
              "   'close_no': None,\n",
              "   'description_url': 'https://www.ruten.com.tw/item/goods_comments.php?id=22134699516389&k=b8c7e82b&o=1676459097',\n",
              "   'spec_info': [],\n",
              "   'text2': \"\\n&lt;style type=&quot;text/css&quot;&gt;&lt;!--\\nspan.tidied-202108318527-2 {color: red; font-size: 18.0pt; font-family: '新細明體',serif;} span.tidied-202108318527-1 {color: red; font-size: 18.0pt;} ul.tidied-202108319545-18 {width: fit-content;} span.tidied-202108319545-17 {color: #333e48; font-size: 25px; font-weight: bold; text-align: center;} div.tidied-202108319545-16 {color: #333e48; font-size: 14px; width: 504.492px;} div.tidied-202108319545-15 {width: 484.297px;} div.tidied-202108319545-14 {color: #101010; font-size: 18px;} div.tidied-202108319545-13 {font-size: 25px; font-weight: bold; text-align: center;} img.tidied-202108319545-12 {height: auto; display: block;} div.tidied-202108319545-11 {font-size: 18px; background-color: #ffffff;} div.tidied-202108319545-10 {color: #333e48; font-size: 30px; font-weight: bold; text-align: center; background-color: #ffffff;} div.tidied-202108319545-9 {color: #101010; font-size: 16px; font-family: 'Open Sans', sans-serif;} div.tidied-202108319545-8 {color: #333e48; font-size: 20px; font-family: 'Open Sans', sans-serif; font-weight: bold;} div.tidied-202108319545-7 {font-size: 16px;} div.tidied-202108319545-6 {color: #333e48; font-size: 20px; font-weight: bold;} span.tidied-202108319545-5 {font-size: 16px;} span.tidied-202108319545-4 {color: #333e48; font-size: 20px; font-weight: bold;} div.tidied-202108319545-3 {color: #333e48; font-size: 30px; font-weight: bold; text-align: center;} div.tidied-202108319545-2 {color: #101010; font-size: 18px; font-family: 'Open Sans', sans-serif; background-color: #ffffff;} div.tidied-202108319545-1 {color: #333e48; font-size: 30px; font-family: 'Open Sans', sans-serif; font-weight: bold; text-align: center; background-color: #ffffff;} strong.tidied-202108318269-1 {color: #101010; font-size: 18px;} div.tidied-202108317824-2 {color: #101010;} div.tidied-202108317824-1 {color: #101010; font-family: 'Open Sans', sans-serif;} strong.tidied-202108312855-1 {font-size: 18px;} span.tidied-202108311389-1 {color: #222222; font-size: 12.0pt; font-family: '新細明體',serif;} span.tidied-202109104950-1 {font-size: 14pt;}\\n--&gt;&lt;/style&gt;&lt;div&gt;\\n&lt;p class=&quot;MsoNormal&quot;&gt;&lt;b&gt;&lt;span class=&quot;tidied-202108318527-1&quot;&gt;Note:&lt;/span&gt;&lt;/b&gt;&lt;b&gt;&lt;span class=&quot;tidied-202108318527-2&quot;&gt;所有商品已含稅並開立發票，報帳用請備註留言『抬頭』及『統編』&lt;/span&gt;&lt;/b&gt;&lt;b&gt;&lt;span class=&quot;tidied-202108318527-1&quot;&gt;!&lt;/span&gt;&lt;/b&gt;&lt;/p&gt;\\n&lt;h3&gt;&lt;strong&gt;【商品說明】&lt;/strong&gt;&lt;/h3&gt;\\n&lt;p&gt;&lt;strong&gt;&nbsp;&nbsp; ArmPi FPV 是您使用 Raspbery Pi 4B 控制器開始和繼續冒險所需的一切！ 使用OpenCV處理圖像，加載高清120度攝影機，具有ROS操作系統，內置MoveIt，支援Python程式。 提供人臉識別、撿獲等AI視覺遊戲，&lt;/strong&gt;&lt;b&gt;&lt;span class=&quot;tidied-202108311389-1&quot;&gt;豪華版本額外提供了語音識別功能，&lt;/span&gt;&lt;/b&gt;&lt;strong&gt;開源供您學習！&lt;/strong&gt;&lt;/p&gt;\\n&lt;p&gt;&lt;strong&gt;&nbsp;&lt;/strong&gt;&lt;/p&gt;\\n&lt;h3&gt;&lt;strong&gt;【產品特性】&lt;/strong&gt;&lt;/h3&gt;\\n&lt;ul&gt;&lt;li&gt;&lt;strong&gt;機器人套件包括 Raspberry Pi 4B 4GB 開發板板&lt;/strong&gt;&lt;/li&gt;\\n&lt;li&gt;&lt;strong&gt;帶有 MoveIt 的 ROS 機器人操作系統，和逆向運動學&lt;/strong&gt;&lt;/li&gt;\\n&lt;li&gt;&lt;strong&gt;提供Python程式和詳細教學&lt;/strong&gt;&lt;/li&gt;\\n&lt;li&gt;&lt;strong&gt;安裝高清攝影機捕捉實時圖像&lt;/strong&gt;&lt;/li&gt;\\n&lt;li&gt;&lt;strong&gt;高精度、數據反饋、接線友好的智能serial bus servo&lt;/strong&gt;&lt;/li&gt;\\n&lt;li&gt;&lt;strong&gt;支援PC軟體、手機App和VNC遠端桌面控制&lt;/strong&gt;&lt;/li&gt;\\n&lt;/ul&gt;&lt;p&gt;&nbsp;&lt;/p&gt;\\n&lt;h3&gt;&lt;strong&gt;【發貨清單】&lt;/strong&gt;&lt;/h3&gt;\\n&lt;ul&gt;&lt;li&gt;&lt;strong&gt;ArmPi FPV 手臂(已組裝完成) * 1&lt;/strong&gt;&lt;/li&gt;\\n&lt;li&gt;&lt;strong&gt;5V/6A電源 * 1&lt;/strong&gt;&lt;/li&gt;\\n&lt;li&gt;&lt;strong&gt;地圖 * 1&lt;/strong&gt;&lt;/li&gt;\\n&lt;li&gt;&lt;strong&gt;3*3CM彩色方塊 *3&lt;/strong&gt;&lt;/li&gt;\\n&lt;li&gt;&lt;strong&gt;彩色球 * 3&lt;/strong&gt;&lt;/li&gt;\\n&lt;li&gt;&lt;strong&gt;木方塊 * 3&lt;/strong&gt;&lt;/li&gt;\\n&lt;li&gt;&lt;strong&gt;QR-CODE * 3&lt;/strong&gt;&lt;/li&gt;\\n&lt;li&gt;&lt;strong&gt;16G隨身碟(教學資料) * 1&lt;/strong&gt;&lt;/li&gt;\\n&lt;li&gt;&lt;strong&gt;SD讀卡器 * 1&lt;/strong&gt;&lt;/li&gt;\\n&lt;li&gt;&lt;strong&gt;束線帶 * 1&lt;/strong&gt;&lt;/li&gt;\\n&lt;li&gt;&lt;strong&gt;十字螺絲起子 * 1&lt;/strong&gt;&lt;/li&gt;\\n&lt;li&gt;&lt;strong&gt;樹莓派入門手冊 * 1&lt;/strong&gt;&lt;/li&gt;\\n&lt;li&gt;&lt;strong&gt;貨架 (未組裝) * 1&lt;/strong&gt;&lt;/li&gt;\\n&lt;li&gt;&lt;strong&gt;語音識別模組 * 1&lt;/strong&gt;&lt;/li&gt;\\n&lt;li&gt;&lt;strong&gt;語音合成模組 * 1&lt;/strong&gt;&lt;/li&gt;\\n&lt;li&gt;&lt;strong&gt;4PIN線 * 1&lt;/strong&gt;&lt;/li&gt;\\n&lt;/ul&gt;&lt;p&gt;&lt;strong&gt;&lt;img  src=&quot;https://cdn.shopifycdn.net/s/files/1/0084/2799/5187/files/1_65ca1383-3b98-4d1e-ac00-1c676128be14.jpg?v=1625120704&quot; border=&quot;0&quot; alt=&quot;&quot; width=&quot;800&quot; height=&quot;328&quot;&gt;&lt;/strong&gt;&lt;/p&gt;\\n&lt;p&gt;&lt;img  src=&quot;https://cdn.shopifycdn.net/s/files/1/0084/2799/5187/files/e2c5988ccf69350d46f88effb3ca3e48_9846a156-b9af-4b94-ac48-a9c927894bdf.gif?v=1625123235&quot; border=&quot;0&quot; alt=&quot;Facial Recognition&quot; width=&quot;450&quot; height=&quot;253&quot;&gt;&lt;/p&gt;\\n&lt;p&gt;&lt;span class=&quot;tidied-202109104950-1&quot;&gt;&lt;strong&gt;人臉識別&lt;/strong&gt;&lt;/span&gt;&lt;/p&gt;\\n&lt;p&gt;&lt;img  src=&quot;https://cdn.shopifycdn.net/s/files/1/0084/2799/5187/files/a5ff5e83ee3757382c27ba2c74c4f2df_129305bc-1c6f-4ff3-8a34-bd3930e5736c.gif?v=1625121456&quot; border=&quot;0&quot; width=&quot;450&quot; height=&quot;253&quot;&gt;&lt;/p&gt;\\n&lt;p&gt;&lt;span class=&quot;tidied-202109104950-1&quot;&gt;&lt;strong&gt;標籤識別&lt;/strong&gt;&lt;/span&gt;&lt;/p&gt;\\n&lt;div class=&quot;desc tidied-202108319545-2&quot;&gt;&lt;img  src=&quot;https://cdn.shopifycdn.net/s/files/1/0084/2799/5187/files/f37a634b778bec5ac41dcf458ec7fb95.gif?v=1625123920&quot; border=&quot;0&quot; width=&quot;450&quot; height=&quot;253&quot;&gt;&lt;/div&gt;\\n&lt;div class=&quot;desc tidied-202108319545-2&quot;&gt;&lt;span class=&quot;tidied-202109104950-1&quot;&gt;&lt;strong&gt;智能分類&lt;/strong&gt;&lt;/span&gt;&lt;/div&gt;\\n&lt;div class=&quot;desc tidied-202108319545-2&quot;&gt;&lt;img  src=&quot;https://cdn.shopifycdn.net/s/files/1/0084/2799/5187/files/f8a8d9227bcc3c4ef9aa5fcc9a210865.gif?v=1625128773&quot; border=&quot;0&quot; width=&quot;450&quot; height=&quot;253&quot;&gt;&lt;/div&gt;\\n&lt;div class=&quot;desc tidied-202108319545-2&quot;&gt;&lt;strong&gt;智能堆疊&lt;/strong&gt;&lt;/div&gt;\\n&lt;div class=&quot;desc tidied-202108319545-2&quot;&gt;&lt;strong&gt;&nbsp;&lt;/strong&gt;&lt;/div&gt;\\n&lt;div class=&quot;desc tidied-202108319545-2&quot;&gt;\\n&lt;div class=&quot;desc&quot;&gt;&lt;img  src=&quot;https://cdn.shopifycdn.net/s/files/1/0084/2799/5187/files/3_cddfd1ee-6ec9-41df-8e8d-0ea584487e74.jpg?v=1625120985&quot; border=&quot;0&quot; alt=&quot;&quot; width=&quot;800&quot; height=&quot;330&quot;&gt;&lt;/div&gt;\\n&lt;/div&gt;\\n&lt;div class=&quot;desc tidied-202108319545-2&quot;&gt;&lt;strong&gt;&nbsp; ●&lt;/strong&gt;&lt;span class=&quot;tidied-202108319545-4&quot;&gt;Stock Enter&lt;/span&gt;&lt;/div&gt;\\n&lt;div class=&quot;desc tidied-202108319545-2&quot;&gt;&lt;span class=&quot;tidied-202108319545-5&quot;&gt;Drag the block to shelf in the APP interface and then ArmPi FPV will pick the block according the command.&lt;/span&gt;&lt;/div&gt;\\n&lt;br&gt;&lt;div class=&quot;desc tidied-202108319545-7 tidied-202108317824-1&quot;&gt;&lt;strong class=&quot;tidied-202108312855-1&quot;&gt;&lt;img  src=&quot;https://cdn.shopifycdn.net/s/files/1/0084/2799/5187/files/4_cc830b3b-e4d3-412d-8261-6491ca7ef86d.jpg?v=1625121007&quot; border=&quot;0&quot; alt=&quot;&quot; width=&quot;800&quot; height=&quot;330&quot;&gt;&nbsp; &nbsp; &nbsp; &nbsp; &nbsp; &nbsp; &nbsp; &nbsp; &nbsp; &nbsp; &nbsp; &nbsp; &nbsp; &nbsp; &nbsp; &nbsp; &nbsp; &nbsp; &nbsp; &nbsp; &nbsp; &nbsp; &nbsp; &nbsp; &nbsp; &nbsp; &nbsp;&lt;/strong&gt;&lt;/div&gt;\\n&lt;div class=&quot;desc tidied-202108319545-2&quot;&gt;\\n&lt;div class=&quot;head tidied-202108319545-6&quot;&gt;&nbsp;&lt;strong class=&quot;tidied-202108318269-1&quot;&gt;&nbsp;●&lt;/strong&gt;Stock Deliver&lt;/div&gt;\\n&lt;div class=&quot;desc tidied-202108319545-7&quot;&gt;Choose the shelf No. in the interface. ArmPi FPV will take out the block in corresponding stock.&lt;/div&gt;\\n&lt;br&gt;&lt;div class=&quot;desc tidied-202108319545-7&quot;&gt;&lt;img  src=&quot;https://cdn.shopifycdn.net/s/files/1/0084/2799/5187/files/5_dfd79ceb-354e-43a7-9b7f-7d93d5047e1d.jpg?v=1625121025&quot; border=&quot;0&quot; alt=&quot;&quot; width=&quot;800&quot; height=&quot;330&quot;&gt;&lt;/div&gt;\\n&lt;/div&gt;\\n&lt;div class=&quot;head tidied-202108319545-8&quot;&gt;&lt;strong class=&quot;tidied-202108318269-1&quot;&gt;&nbsp;●&lt;/strong&gt;Stock Transfer&lt;/div&gt;\\n&lt;div class=&quot;desc tidied-202108319545-9&quot;&gt;Set warehouse number for the goods deliver and enter in APP. ArmPi FPV will transfer the block intelligently.&lt;/div&gt;\\n&lt;br&gt;&lt;div class=&quot;desc tidied-202108319545-9&quot;&gt;&lt;img  src=&quot;https://cdn.shopifycdn.net/s/files/1/0084/2799/5187/files/6_61e65aff-07fd-4e3d-90c7-e8eca81f046c.jpg?v=1625121047&quot; border=&quot;0&quot; alt=&quot;&quot; width=&quot;800&quot; height=&quot;330&quot;&gt;&lt;/div&gt;\\n&lt;div class=&quot;desc tidied-202108319545-9&quot;&gt;\\n&lt;div class=&quot;head tidied-202108319545-10&quot;&gt;&lt;/div&gt;\\n&lt;div class=&quot;head tidied-202108319545-10&quot;&gt;ROS Robot Operating System&lt;/div&gt;\\n&lt;div class=&quot;desc tidied-202108319545-11&quot;&gt;ROS (Robot Operation System) is an open source robotics middleware suite. It provides services designed such as hardware abstraction, low-level device control, implementation of commonly used functionality, message-passing between processes, and package management. ROS contributes to robot research and development.&lt;/div&gt;\\n&lt;br&gt;&lt;div class=&quot;desc tidied-202108319545-11&quot;&gt;\\n&lt;div class=&quot;imageItem tidied-202108319545-16&quot;&gt;\\n&lt;div class=&quot;desc tidied-202108319545-7 tidied-202108317824-2&quot;&gt;&lt;/div&gt;\\n&lt;div class=&quot;desc tidied-202108319545-7 tidied-202108317824-2&quot;&gt;&lt;/div&gt;\\n&lt;img class=&quot;border tidied-202108319545-12&quot;  src=&quot;https://cdn.shopifycdn.net/s/files/1/0084/2799/5187/files/13_6de0e380-346e-465a-88ec-d7c89748f831.jpg?v=1625121178&quot; border=&quot;0&quot;&gt;&lt;div class=&quot;imageDescContainer tidied-202108319545-15&quot;&gt;\\n&lt;div class=&quot;desc tidied-202108319545-7 tidied-202108317824-2&quot;&gt;&lt;/div&gt;\\n&lt;div class=&quot;desc tidied-202108319545-7 tidied-202108317824-2&quot;&gt;&lt;/div&gt;\\n&lt;div class=&quot;head tidied-202108319545-13&quot;&gt;MoveIt! Kinematics&lt;/div&gt;\\n&lt;div class=&quot;desc tidied-202108319545-14&quot;&gt;ArmPi FPV robotic arm uses MoveIt! Provided by ROS system for motion planning&lt;/div&gt;\\n&lt;/div&gt;\\n&lt;/div&gt;\\n&lt;div class=&quot;imageItem tidied-202108319545-16&quot;&gt;&lt;img class=&quot;border tidied-202108319545-12&quot;  src=&quot;https://cdn.shopifycdn.net/s/files/1/0084/2799/5187/files/12_1c12ee10-1f8f-48c0-9082-f0fa8e6b8cca.jpg?v=1625121151&quot; border=&quot;0&quot;&gt;&lt;div class=&quot;imageDescContainer tidied-202108319545-15&quot;&gt;\\n&lt;div class=&quot;head tidied-202108319545-13&quot;&gt;Inverse Kinematics&lt;/div&gt;\\n&lt;div class=&quot;desc tidied-202108319545-14&quot;&gt;With inverse kinematics, ArmPi FPV is very precise and agile in objects tracking and gripping&lt;/div&gt;\\n&lt;div class=&quot;desc tidied-202108319545-7 tidied-202108317824-2&quot;&gt;&lt;/div&gt;\\n&lt;div class=&quot;desc tidied-202108319545-7 tidied-202108317824-2&quot;&gt;&lt;/div&gt;\\n&lt;div class=&quot;desc tidied-202108319545-14&quot;&gt;&lt;img  src=&quot;https://cdn.shopifycdn.net/s/files/1/0084/2799/5187/files/bae4541f7938cffbc1f270ea0f67069a.gif?v=1625122054&quot; border=&quot;0&quot; width=&quot;350&quot; height=&quot;197&quot;&gt;&lt;/div&gt;\\n&lt;div class=&quot;desc tidied-202108319545-14&quot;&gt;&lt;span class=&quot;tidied-202108319545-17&quot;&gt;APP Remote Control&lt;/span&gt;&lt;/div&gt;\\n&lt;div class=&quot;desc tidied-202108319545-14&quot;&gt;&lt;img  src=&quot;https://cdn.shopifycdn.net/s/files/1/0084/2799/5187/files/43f0861c85adb7d67d3cf2b1e23bd140.gif?v=1625128749&quot; border=&quot;0&quot; width=&quot;350&quot; height=&quot;197&quot;&gt;&lt;/div&gt;\\n&lt;div class=&quot;desc tidied-202108319545-14&quot;&gt;&lt;span class=&quot;tidied-202108319545-17&quot;&gt;PC Remote Control&lt;/span&gt;&lt;/div&gt;\\n&lt;div class=&quot;desc tidied-202108319545-14&quot;&gt;&lt;img  src=&quot;https://cdn.shopifycdn.net/s/files/1/0084/2799/5187/files/1_eeda89c6-e8f0-49d8-b707-925861b88cb2.gif?v=1625123815&quot; border=&quot;0&quot; width=&quot;350&quot; height=&quot;197&quot;&gt;&lt;/div&gt;\\n&lt;div class=&quot;desc tidied-202108319545-14&quot;&gt;&lt;span class=&quot;tidied-202108319545-17&quot;&gt;PC Software&lt;/span&gt;&lt;/div&gt;\\n&lt;div class=&quot;desc tidied-202108319545-14&quot;&gt;&lt;/div&gt;\\n&lt;div class=&quot;desc tidied-202108319545-14&quot;&gt;&lt;span class=&quot;tidied-202108319545-17&quot;&gt;&lt;img  src=&quot;https://cdn.shopifycdn.net/s/files/1/0084/2799/5187/files/8_fc5283d0-b46d-4c5b-b9db-cf2e719a92b8.jpg?v=1625121080&quot; border=&quot;0&quot; alt=&quot;&quot; width=&quot;800&quot; height=&quot;328&quot;&gt;&lt;/span&gt;&lt;/div&gt;\\n&lt;div class=&quot;desc tidied-202108319545-14&quot;&gt;&lt;/div&gt;\\n&lt;/div&gt;\\n&lt;/div&gt;\\n&lt;/div&gt;\\n&lt;div class=&quot;desc tidied-202108319545-11&quot;&gt;\\n&lt;div class=&quot;head tidied-202108319545-3&quot;&gt;Intelligent Bus Servo &nbsp;Powerful Core&lt;/div&gt;\\n&lt;div class=&quot;desc&quot;&gt;Robot arm uses intelligent serial bus servo with high precision, feedback function and convenient wiring which reduces the friction between wire and brackets. The servo at the base is upgraded to a 25KG torque servo so that ArmPi FPV can grab more than 250g and the movement is more steady.&lt;/div&gt;\\n&lt;div class=&quot;desc&quot;&gt;&lt;/div&gt;\\n&lt;div class=&quot;desc&quot;&gt;&lt;img  src=&quot;https://cdn.shopifycdn.net/s/files/1/0084/2799/5187/files/9_e428cb46-59b0-499b-9a35-e4229d1d1b1d.jpg?v=1625121097&quot; border=&quot;0&quot; alt=&quot;&quot; width=&quot;800&quot; height=&quot;328&quot;&gt;&lt;/div&gt;\\n&lt;div class=&quot;desc&quot;&gt;\\n&lt;div class=&quot;head tidied-202108319545-3&quot;&gt;Powerful Control System&lt;/div&gt;\\n&lt;ul class=&quot;ulDesc tidied-202108319545-18&quot;&gt;&lt;li&gt;The associated MCU shunts Raspberry Pi workload and reduced resource usage&lt;/li&gt;\\n&lt;li&gt;Built-in RGB, buzzer, LED and other response devices&lt;/li&gt;\\n&lt;li&gt;Three IIC ports for extension&lt;/li&gt;\\n&lt;li&gt;Lead out GPIO pints to your development&lt;/li&gt;\\n&lt;li&gt;4PIN ports are compatible with Hiwonder sensors&lt;/li&gt;\\n&lt;/ul&gt;&lt;p&gt;&lt;img  src=&quot;https://cdn.shopifycdn.net/s/files/1/0084/2799/5187/files/10_706c6283-5192-4fbb-babe-db25becebd82.jpg?v=1625121116&quot; border=&quot;0&quot; alt=&quot;&quot; width=&quot;800&quot; height=&quot;316&quot;&gt;&lt;/p&gt;\\n&lt;p&gt;&lt;img  src=&quot;https://shop.mirotek.com.tw/wp-content/uploads/2021/08/100041-10.jpg&quot; border=&quot;0&quot; alt=&quot;&quot; width=&quot;750&quot; height=&quot;864&quot;&gt;&lt;/p&gt;\\n&lt;/div&gt;\\n&lt;/div&gt;\\n&lt;/div&gt;\\n&lt;div class=&quot;desc tidied-202108319545-9&quot;&gt;&lt;/div&gt;\\n&lt;/div&gt;\\n\"},\n",
              "  {'id': '22238403273488',\n",
              "   'class': '001100070013',\n",
              "   'name': 'KINGHOPE KH-82膽機組合音響發燒hifi藍牙書架音箱功放CD/DVD套裝',\n",
              "   'num': 20,\n",
              "   'images': {'filename': '22238403273488_660.jpg,22238403273488_425.jpg,22238403273488_344.jpg,22238403273488_861.jpg,22238403273488_644.jpg,22238403273488_801.jpg',\n",
              "    'url': ['https://a.rimg.com.tw/s6/eac/1db/yjt591117/7/10/22238403273488_660.jpg',\n",
              "     'https://a.rimg.com.tw/s6/eac/1db/yjt591117/7/10/22238403273488_425.jpg',\n",
              "     'https://a.rimg.com.tw/s6/eac/1db/yjt591117/7/10/22238403273488_344.jpg',\n",
              "     'https://a.rimg.com.tw/s6/eac/1db/yjt591117/7/10/22238403273488_861.jpg',\n",
              "     'https://a.rimg.com.tw/s6/eac/1db/yjt591117/7/10/22238403273488_644.jpg',\n",
              "     'https://a.rimg.com.tw/s6/eac/1db/yjt591117/7/10/22238403273488_801.jpg'],\n",
              "    'm_url': ['https://a.rimg.com.tw/s6/eac/1db/yjt591117/7/10/22238403273488_660_m.jpg',\n",
              "     'https://a.rimg.com.tw/s6/eac/1db/yjt591117/7/10/22238403273488_425_m.jpg',\n",
              "     'https://a.rimg.com.tw/s6/eac/1db/yjt591117/7/10/22238403273488_344_m.jpg',\n",
              "     'https://a.rimg.com.tw/s6/eac/1db/yjt591117/7/10/22238403273488_861_m.jpg',\n",
              "     'https://a.rimg.com.tw/s6/eac/1db/yjt591117/7/10/22238403273488_644_m.jpg',\n",
              "     'https://a.rimg.com.tw/s6/eac/1db/yjt591117/7/10/22238403273488_801_m.jpg']},\n",
              "   'currency': 'TWD',\n",
              "   'goods_price': 38280,\n",
              "   'goods_ori_price': 38280,\n",
              "   'goods_price_range': {'min': 38280,\n",
              "    'max': 38280,\n",
              "    'ori_min': 38280,\n",
              "    'ori_max': 38280},\n",
              "   'watch_num': 0,\n",
              "   'sold_num': 0,\n",
              "   'buyer_limit_num': 0,\n",
              "   'stock_status': 1,\n",
              "   'pre_order_ship_date': None,\n",
              "   'fast_ship': 0,\n",
              "   'free_shipping': 0,\n",
              "   'youtube_link': '',\n",
              "   'video_link': '',\n",
              "   'ncc_check_code': '',\n",
              "   'bsmi_code': '',\n",
              "   'goods_no': '',\n",
              "   'available': True,\n",
              "   'post_time': '1664008643',\n",
              "   'spec_type': 'R',\n",
              "   'deliver_way': {'SEVEN_COD': 60,\n",
              "    'SEVEN': 60,\n",
              "    'FAMI_COD': 60,\n",
              "    'FAMI': 60,\n",
              "    'HOUSE': 60,\n",
              "    'COD': 60},\n",
              "   'mode': 'B',\n",
              "   'ship': 'A',\n",
              "   'platform': 'RUTEN',\n",
              "   'ctrl_rowid': '19271782',\n",
              "   'user': 'yjt591117',\n",
              "   'user_credit': 28,\n",
              "   'pay_way': ['PP_PI',\n",
              "    'PP_CRD',\n",
              "    'PP_CRD_ZERO',\n",
              "    'PP_CRD_N3',\n",
              "    'PAYLINK',\n",
              "    'SEVEN_COD',\n",
              "    'FAMI_COD',\n",
              "    'COD'],\n",
              "   'title_style': '0',\n",
              "   'selling_g_now_price': 38280,\n",
              "   'item_remaining_time': 467979073,\n",
              "   'translation_type': None,\n",
              "   'translated_name': None,\n",
              "   'min_estimated_delivery_date': None,\n",
              "   'max_estimated_delivery_date': None,\n",
              "   'update_time': '2022-12-28',\n",
              "   'is_brand_seller': False,\n",
              "   'is_goods_from_oversea': False,\n",
              "   'location': '苗栗縣',\n",
              "   'condition': 'B',\n",
              "   'codition': 'B',\n",
              "   'accept_shiprule': True,\n",
              "   'user_class': '6012549',\n",
              "   'close_no': None,\n",
              "   'description_url': 'https://www.ruten.com.tw/item/goods_comments.php?id=22238403273488&k=cecfb4e7&o=1664008710',\n",
              "   'spec_info': {'level': 1,\n",
              "    'structure': {'223896659929000': []},\n",
              "    'specs': {'223896659929000': {'spec_id': '223896659929000',\n",
              "      'parent_id': '0',\n",
              "      'spec_name': 'KH82+109膽機+109DVD',\n",
              "      'spec_num': 20,\n",
              "      'spec_price': 38280,\n",
              "      'spec_status': 'Y',\n",
              "      'spec_ext': [],\n",
              "      'childs': [],\n",
              "      'spec_ori_price': 38280}},\n",
              "    'map': {'spec': {'KH82+109膽機+109DVD': ['223896659929000']}}},\n",
              "   'text2': '\\n&lt;div&gt;\\n&lt;p&gt;&lt;img  src=&quot;https://img.pddpic.com/mms-material-img/2022-05-10/d004fd88-6ecf-490c-8021-efda7c9e9f60.png&quot;&gt;&lt;br&gt;&lt;img  src=&quot;https://img.pddpic.com/open-gw/2022-05-10/b910b4c9-aeaf-4a16-a556-5410b23e94dd.jpeg&quot;&gt;&lt;br&gt;&lt;img  src=&quot;https://img.pddpic.com/open-gw/2022-05-10/482e8a81-24f7-4d4e-b41a-a2eb5631ba40.jpeg&quot;&gt;&lt;br&gt;&lt;img  src=&quot;https://img.pddpic.com/open-gw/2022-05-10/29d0704a-dda0-4df7-868b-d16820c01cbb.jpeg&quot;&gt;&lt;br&gt;&lt;img  src=&quot;https://img.pddpic.com/open-gw/2022-05-10/4bb33ce0-b603-48fd-8cb9-d74db1b38f8f.jpeg&quot;&gt;&lt;br&gt;&lt;img  src=&quot;https://img.pddpic.com/open-gw/2022-05-10/d6e88091-21e3-4089-8992-74f32c2950ba.jpeg&quot;&gt;&lt;br&gt;&lt;img  src=&quot;https://img.pddpic.com/open-gw/2022-05-10/cbca6dea-b9b3-470b-a3c5-9dee5039f1f8.jpeg&quot;&gt;&lt;br&gt;&lt;img  src=&quot;https://img.pddpic.com/open-gw/2022-05-10/3f16a957-c4af-4c93-9458-ee4e311225e9.jpeg&quot;&gt;&lt;br&gt;&lt;img  src=&quot;https://img.pddpic.com/open-gw/2022-05-10/cb04a0bf-5e38-45f4-b453-106731bcecdc.jpeg&quot;&gt;&lt;br&gt;&lt;img  src=&quot;https://img.pddpic.com/open-gw/2022-05-10/f8b7e735-afdd-42c2-a70b-39f3f8706b76.jpeg&quot;&gt;&lt;br&gt;&lt;img  src=&quot;https://img.pddpic.com/open-gw/2022-05-10/e6d3ccf4-bfab-4ec7-86de-b4c2a7b6c75c.jpeg&quot;&gt;&lt;br&gt;&lt;img  src=&quot;https://img.pddpic.com/open-gw/2022-05-10/0b123bff-56f6-4ab6-bfa6-5e19190e96a2.jpeg&quot;&gt;&lt;br&gt;&lt;img  src=&quot;https://img.pddpic.com/open-gw/2022-05-10/6cb4e92e-88cc-40e0-8820-771fc50bd75c.jpeg&quot;&gt;&lt;br&gt;&lt;img  src=&quot;https://img.pddpic.com/open-gw/2022-05-10/71610a3e-1046-4ec7-ba38-d630125dd082.jpeg&quot;&gt;&lt;br&gt;&lt;img  src=&quot;https://img.pddpic.com/open-gw/2022-05-10/ad83dca2-1489-4288-aae2-85d637ee46da.jpeg&quot;&gt;&lt;br&gt;&lt;img  src=&quot;https://img.pddpic.com/open-gw/2022-05-10/e4f3e9f8-d64b-4662-b101-b19f6973b8d9.jpeg&quot;&gt;&lt;br&gt;&lt;img  src=&quot;https://img.pddpic.com/open-gw/2022-05-10/f8e5489c-d416-4ab8-89fe-1fbcd9b4bca2.jpeg&quot;&gt;&lt;br&gt;&lt;img  src=&quot;https://img.pddpic.com/open-gw/2022-05-10/6044ba22-4548-4b18-8fa9-458972d47487.jpeg&quot;&gt;&lt;br&gt;&lt;img  src=&quot;https://img.pddpic.com/mms-material-img/2022-05-11/8f39314e-2634-42b1-b7a4-80c196f2613f.jpeg.a.jpeg&quot;&gt;&lt;br&gt;&lt;img  src=&quot;https://img.pddpic.com/mms-material-img/2022-05-11/9e819a9e-f45c-4987-8abe-ac67e5891ab6.jpeg.a.jpeg&quot;&gt;&lt;br&gt;&lt;img  src=&quot;https://img.pddpic.com/mms-material-img/2022-05-11/c6a3ee1f-dcbb-4471-8850-35f78c12a2de.jpeg.a.jpeg&quot;&gt;&lt;br&gt;&lt;img  src=&quot;https://img.pddpic.com/mms-material-img/2022-05-11/07fea482-0202-4036-988b-aaf6169e3357.jpeg.a.jpeg&quot;&gt;&lt;br&gt;&lt;img  src=&quot;https://img.pddpic.com/mms-material-img/2022-05-11/b021fe54-7779-4307-8aea-4691c7b3999e.jpeg.a.jpeg&quot;&gt;&lt;br&gt;&lt;img  src=&quot;https://img.pddpic.com/mms-material-img/2022-05-11/663f2adf-7d20-47f1-9be8-606d5ff3a2ee.jpeg.a.jpeg&quot;&gt;&lt;br&gt;&lt;img  src=&quot;https://img.pddpic.com/mms-material-img/2022-05-11/f0e589bb-4d31-44d5-a28f-a56ef568b64a.jpeg.a.jpeg&quot;&gt;&lt;br&gt;&lt;img  src=&quot;https://img.pddpic.com/mms-material-img/2022-05-11/1186955b-de92-4c9b-b13e-055bcd37c01d.jpeg.a.jpeg&quot;&gt;&lt;br&gt;&lt;img  src=&quot;https://img.pddpic.com/mms-material-img/2022-05-11/9f0cb2a7-2f07-4367-b4a7-6ebf04680898.jpeg.a.jpeg&quot;&gt;&lt;br&gt;&lt;img  src=&quot;https://img.pddpic.com/mms-material-img/2022-05-11/affd292a-f541-4d86-a6c9-9d9ff711a895.jpeg.a.jpeg&quot;&gt;&lt;br&gt;&lt;img  src=&quot;https://img.pddpic.com/mms-material-img/2022-05-11/bbc3a1c8-b175-4752-99e9-53798edab6ff.jpeg.a.jpeg&quot;&gt;&lt;br&gt;&lt;/p&gt;\\n&lt;/div&gt;\\n'},\n",
              "  {'id': '21945822081428',\n",
              "   'class': '00110003001300010005',\n",
              "   'name': '【24H出貨】(公司貨) iMICE X7 電競滑鼠 2400DPI 呼吸燈 電腦滑鼠 光學滑鼠 有線滑鼠 競技滑鼠',\n",
              "   'num': 767,\n",
              "   'images': {'filename': '21945822081428_650.jpg,21945822081428_633.jpg,21945822081428_984.jpg,21945822081428_316.jpg,21945822081428_955.jpg,21945822081428_489.jpg,21945822081428_925.jpg,21945822081428_220.jpg',\n",
              "    'url': ['https://image.ruten.com.tw/g2/5/e9/94/21945822081428_650.jpg',\n",
              "     'https://image.ruten.com.tw/g2/5/e9/94/21945822081428_633.jpg',\n",
              "     'https://image.ruten.com.tw/g2/5/e9/94/21945822081428_984.jpg',\n",
              "     'https://image.ruten.com.tw/g2/5/e9/94/21945822081428_316.jpg',\n",
              "     'https://image.ruten.com.tw/g2/5/e9/94/21945822081428_955.jpg',\n",
              "     'https://image.ruten.com.tw/g2/5/e9/94/21945822081428_489.jpg',\n",
              "     'https://image.ruten.com.tw/g2/5/e9/94/21945822081428_925.jpg',\n",
              "     'https://image.ruten.com.tw/g2/5/e9/94/21945822081428_220.jpg'],\n",
              "    'm_url': ['https://image.ruten.com.tw/g2/5/e9/94/21945822081428_650_m.jpg',\n",
              "     'https://image.ruten.com.tw/g2/5/e9/94/21945822081428_633_m.jpg',\n",
              "     'https://image.ruten.com.tw/g2/5/e9/94/21945822081428_984_m.jpg',\n",
              "     'https://image.ruten.com.tw/g2/5/e9/94/21945822081428_316_m.jpg',\n",
              "     'https://image.ruten.com.tw/g2/5/e9/94/21945822081428_955_m.jpg',\n",
              "     'https://image.ruten.com.tw/g2/5/e9/94/21945822081428_489_m.jpg',\n",
              "     'https://image.ruten.com.tw/g2/5/e9/94/21945822081428_925_m.jpg',\n",
              "     'https://image.ruten.com.tw/g2/5/e9/94/21945822081428_220_m.jpg']},\n",
              "   'currency': 'TWD',\n",
              "   'goods_price': 155,\n",
              "   'goods_ori_price': 155,\n",
              "   'goods_price_range': {'min': 155,\n",
              "    'max': 155,\n",
              "    'ori_min': 155,\n",
              "    'ori_max': 155},\n",
              "   'watch_num': 121,\n",
              "   'sold_num': 518,\n",
              "   'buyer_limit_num': 0,\n",
              "   'stock_status': 1,\n",
              "   'pre_order_ship_date': None,\n",
              "   'fast_ship': 1,\n",
              "   'free_shipping': 0,\n",
              "   'youtube_link': '',\n",
              "   'video_link': '',\n",
              "   'ncc_check_code': '',\n",
              "   'bsmi_code': '',\n",
              "   'goods_no': '',\n",
              "   'available': True,\n",
              "   'post_time': '1573105382',\n",
              "   'spec_type': 'R',\n",
              "   'deliver_way': {'SEVEN_COD': 60,\n",
              "    'SEVEN': 60,\n",
              "    'HILIFE_COD': 45,\n",
              "    'HILIFE': 45,\n",
              "    'HOUSE': 85,\n",
              "    'ISLAND': 100,\n",
              "    'COD': 150},\n",
              "   'mode': 'B',\n",
              "   'ship': 'A',\n",
              "   'platform': 'RUTEN',\n",
              "   'ctrl_rowid': '2138343',\n",
              "   'user': 'pop99883',\n",
              "   'user_credit': 42839,\n",
              "   'pay_way': ['PP_PI',\n",
              "    'PP_CRD',\n",
              "    'PP_CRD_ZERO',\n",
              "    'PP_CRD_N3',\n",
              "    'PAYLINK',\n",
              "    'SEVEN_COD',\n",
              "    'HILIFE_COD',\n",
              "    'COD'],\n",
              "   'title_style': '0',\n",
              "   'selling_g_now_price': 155,\n",
              "   'item_remaining_time': 467979072,\n",
              "   'translation_type': None,\n",
              "   'translated_name': None,\n",
              "   'min_estimated_delivery_date': None,\n",
              "   'max_estimated_delivery_date': None,\n",
              "   'update_time': '2023-03-04',\n",
              "   'is_brand_seller': False,\n",
              "   'is_goods_from_oversea': False,\n",
              "   'location': '基隆市',\n",
              "   'condition': 'B',\n",
              "   'codition': 'B',\n",
              "   'accept_shiprule': True,\n",
              "   'user_class': '5363602',\n",
              "   'close_no': None,\n",
              "   'description_url': 'https://www.ruten.com.tw/item/goods_comments.php?id=21945822081428&k=e791ca17&o=1676276385',\n",
              "   'spec_info': {'level': 1,\n",
              "    'structure': {'194545871226701': []},\n",
              "    'specs': {'194545871226701': {'spec_id': '194545871226701',\n",
              "      'parent_id': '0',\n",
              "      'spec_name': '豪華版-X7競技滑鼠',\n",
              "      'spec_num': 767,\n",
              "      'spec_price': 155,\n",
              "      'spec_status': 'Y',\n",
              "      'spec_ext': [],\n",
              "      'childs': [],\n",
              "      'spec_ori_price': 155}},\n",
              "    'map': {'spec': {'豪華版-X7競技滑鼠': ['194545871226701']}}},\n",
              "   'text2': '\\n&lt;div&gt;\\n&lt;p&gt;【SUPER家居】生活旗艦館&lt;/p&gt;\\n&lt;p&gt;.&lt;/p&gt;\\n&lt;p&gt;高靈敏度，4段DPI調整(最高2400DPI)&lt;/p&gt;\\n&lt;p&gt;抗拉防爆USB編織鋼線，搭配炫彩RGB呼吸燈&lt;/p&gt;\\n&lt;p&gt;雙向防滑滾輪，遊戲級芯片&lt;/p&gt;\\n&lt;p&gt;.&lt;/p&gt;\\n&lt;p&gt;品名: 電競滑鼠&lt;/p&gt;\\n&lt;p&gt;品牌: iMICE&lt;/p&gt;\\n&lt;p&gt;型號: X7&lt;/p&gt;\\n&lt;p&gt;貨源: 公司貨&lt;/p&gt;\\n&lt;p&gt;尺寸: 130*86*39 (mm)&lt;/p&gt;\\n&lt;p&gt;材質: ABS&lt;/p&gt;\\n&lt;p&gt;人體工學 : 是&lt;/p&gt;\\n&lt;p&gt;傳輸方式: 有線USB&lt;/p&gt;\\n&lt;p&gt;光學分辨率: 800/1200/1600/2400 DPI&lt;/p&gt;\\n&lt;p&gt;線材: 1.8米防爆尼龍線&lt;/p&gt;\\n&lt;p&gt;呼吸燈: LED炫彩自動呼吸燈&lt;/p&gt;\\n&lt;p&gt;產地: 中國&lt;/p&gt;\\n&lt;p&gt;保固：自購買日起一個月，人為因素不再此限&lt;/p&gt;\\n&lt;p&gt;保存方法: 放置於乾燥陰涼處&lt;/p&gt;\\n&lt;p&gt;保存期限: 一年&lt;/p&gt;\\n&lt;p&gt;是否需要組裝: 不需要&lt;/p&gt;\\n&lt;p&gt;NCC字號: CCAL19LP1280T4&lt;/p&gt;\\n&lt;p&gt;.&lt;/p&gt;\\n&lt;p&gt;注意事項&lt;/p&gt;\\n&lt;p&gt;．離島配送請選擇【中華郵政】&lt;/p&gt;\\n&lt;p&gt;．請勿讓兒童單獨使用&lt;/p&gt;\\n&lt;p&gt;.&lt;/p&gt;\\n&lt;p&gt;※本產品鑑賞期非試用期。&lt;/p&gt;\\n&lt;p&gt;※隨機出貨款，若收到產品中有重複款式者，恕不做為替換貨理由，請見諒!&lt;/p&gt;\\n&lt;p&gt;.&lt;/p&gt;\\n&lt;p&gt;#電競滑鼠 #2400DPI #呼吸燈光 #電腦滑鼠 #光學滑鼠 #有線滑鼠 #競技滑鼠&lt;/p&gt;\\n&lt;/div&gt;\\n'},\n",
              "  {'id': '22115680698839',\n",
              "   'class': '001100050012',\n",
              "   'name': 'Renova Zero Pod 煙彈 空煙彈 空倉 空夾 空彈',\n",
              "   'num': 801,\n",
              "   'images': {'filename': '22115680698839_102.jpg',\n",
              "    'url': ['https://a.rimg.com.tw/s5/6aa/c96/tcwd110/8/95/d7/22115680698839_102.jpg'],\n",
              "    'm_url': ['https://a.rimg.com.tw/s5/6aa/c96/tcwd110/8/95/d7/22115680698839_102_m.jpg']},\n",
              "   'currency': 'TWD',\n",
              "   'goods_price': 199,\n",
              "   'goods_ori_price': 199,\n",
              "   'goods_price_range': {'min': 199,\n",
              "    'max': 230,\n",
              "    'ori_min': 199,\n",
              "    'ori_max': 230},\n",
              "   'watch_num': 20,\n",
              "   'sold_num': 440,\n",
              "   'buyer_limit_num': 0,\n",
              "   'stock_status': 0,\n",
              "   'pre_order_ship_date': None,\n",
              "   'fast_ship': 0,\n",
              "   'free_shipping': 0,\n",
              "   'youtube_link': '',\n",
              "   'video_link': '',\n",
              "   'ncc_check_code': '',\n",
              "   'bsmi_code': '',\n",
              "   'goods_no': '',\n",
              "   'available': True,\n",
              "   'post_time': '1618162680',\n",
              "   'spec_type': 'R',\n",
              "   'deliver_way': {'SEVEN_COD': 60, 'SEVEN': 60},\n",
              "   'mode': 'B',\n",
              "   'ship': 'A',\n",
              "   'platform': 'RUTEN',\n",
              "   'ctrl_rowid': '18094602',\n",
              "   'user': 'tcwd110',\n",
              "   'user_credit': 45,\n",
              "   'pay_way': ['PAYLINK', 'SEVEN_COD'],\n",
              "   'title_style': '0',\n",
              "   'selling_g_now_price': 199,\n",
              "   'item_remaining_time': 467979072,\n",
              "   'translation_type': None,\n",
              "   'translated_name': None,\n",
              "   'min_estimated_delivery_date': None,\n",
              "   'max_estimated_delivery_date': None,\n",
              "   'update_time': '2023-03-04',\n",
              "   'is_brand_seller': False,\n",
              "   'is_goods_from_oversea': False,\n",
              "   'location': '苗栗縣',\n",
              "   'condition': 'B',\n",
              "   'codition': 'B',\n",
              "   'accept_shiprule': True,\n",
              "   'user_class': '0',\n",
              "   'close_no': None,\n",
              "   'description_url': 'https://www.ruten.com.tw/item/goods_comments.php?id=22115680698839&k=b36f93b8&o=1673856110',\n",
              "   'spec_info': {'level': 1,\n",
              "    'structure': {'211586434881821': [],\n",
              "     '211586434881832': [],\n",
              "     '211586434881843': [],\n",
              "     '211586434881854': [],\n",
              "     '211586434881865': [],\n",
              "     '211586434881876': [],\n",
              "     '211586434881887': [],\n",
              "     '222882507009038': [],\n",
              "     '222882507009049': [],\n",
              "     '222882507009050': [],\n",
              "     '222882507009061': []},\n",
              "    'specs': {'211586434881821': {'spec_id': '211586434881821',\n",
              "      'parent_id': '0',\n",
              "      'spec_name': '新版黑色套裝',\n",
              "      'spec_num': 11,\n",
              "      'spec_price': 649,\n",
              "      'spec_status': 'N',\n",
              "      'spec_ext': [],\n",
              "      'childs': [],\n",
              "      'spec_ori_price': 649},\n",
              "     '211586434881832': {'spec_id': '211586434881832',\n",
              "      'parent_id': '0',\n",
              "      'spec_name': '新版彩鈦色套裝',\n",
              "      'spec_num': 11,\n",
              "      'spec_price': 649,\n",
              "      'spec_status': 'N',\n",
              "      'spec_ext': [],\n",
              "      'childs': [],\n",
              "      'spec_ori_price': 649},\n",
              "     '211586434881843': {'spec_id': '211586434881843',\n",
              "      'parent_id': '0',\n",
              "      'spec_name': '新版漸層紫色套裝',\n",
              "      'spec_num': 11,\n",
              "      'spec_price': 649,\n",
              "      'spec_status': 'N',\n",
              "      'spec_ext': [],\n",
              "      'childs': [],\n",
              "      'spec_ori_price': 649},\n",
              "     '211586434881854': {'spec_id': '211586434881854',\n",
              "      'parent_id': '0',\n",
              "      'spec_name': '新版漸層紅色套裝',\n",
              "      'spec_num': 12,\n",
              "      'spec_price': 649,\n",
              "      'spec_status': 'N',\n",
              "      'spec_ext': [],\n",
              "      'childs': [],\n",
              "      'spec_ori_price': 649},\n",
              "     '211586434881865': {'spec_id': '211586434881865',\n",
              "      'parent_id': '0',\n",
              "      'spec_name': '新版漸層綠套裝',\n",
              "      'spec_num': 2,\n",
              "      'spec_price': 649,\n",
              "      'spec_status': 'N',\n",
              "      'spec_ext': [],\n",
              "      'childs': [],\n",
              "      'spec_ori_price': 649},\n",
              "     '211586434881876': {'spec_id': '211586434881876',\n",
              "      'parent_id': '0',\n",
              "      'spec_name': '新版漸層藍套裝',\n",
              "      'spec_num': 1,\n",
              "      'spec_price': 649,\n",
              "      'spec_status': 'N',\n",
              "      'spec_ext': [],\n",
              "      'childs': [],\n",
              "      'spec_ori_price': 649},\n",
              "     '211586434881887': {'spec_id': '211586434881887',\n",
              "      'parent_id': '0',\n",
              "      'spec_name': '新版銀色套裝',\n",
              "      'spec_num': 0,\n",
              "      'spec_price': 649,\n",
              "      'spec_status': 'N',\n",
              "      'spec_ext': [],\n",
              "      'childs': [],\n",
              "      'spec_ori_price': 649},\n",
              "     '222882507009038': {'spec_id': '222882507009038',\n",
              "      'parent_id': '0',\n",
              "      'spec_name': '一代陶瓷芯(通用一二代主機)',\n",
              "      'spec_num': 0,\n",
              "      'spec_price': 199,\n",
              "      'spec_status': 'Y',\n",
              "      'spec_ext': [],\n",
              "      'childs': [],\n",
              "      'spec_ori_price': 199},\n",
              "     '222882507009049': {'spec_id': '222882507009049',\n",
              "      'parent_id': '0',\n",
              "      'spec_name': '一代鋼網芯(通用一二代主機)',\n",
              "      'spec_num': 336,\n",
              "      'spec_price': 199,\n",
              "      'spec_status': 'Y',\n",
              "      'spec_ext': [],\n",
              "      'childs': [],\n",
              "      'spec_ori_price': 199},\n",
              "     '222882507009050': {'spec_id': '222882507009050',\n",
              "      'parent_id': '0',\n",
              "      'spec_name': '二代陶瓷芯(通用一二代主機)',\n",
              "      'spec_num': 465,\n",
              "      'spec_price': 230,\n",
              "      'spec_status': 'Y',\n",
              "      'spec_ext': [],\n",
              "      'childs': [],\n",
              "      'spec_ori_price': 230},\n",
              "     '222882507009061': {'spec_id': '222882507009061',\n",
              "      'parent_id': '0',\n",
              "      'spec_name': '二代鋼網芯(通用一二代主機)',\n",
              "      'spec_num': 0,\n",
              "      'spec_price': 230,\n",
              "      'spec_status': 'Y',\n",
              "      'spec_ext': [],\n",
              "      'childs': [],\n",
              "      'spec_ori_price': 230}},\n",
              "    'map': {'spec': {'新版黑色套裝': ['211586434881821'],\n",
              "      '新版彩鈦色套裝': ['211586434881832'],\n",
              "      '新版漸層紫色套裝': ['211586434881843'],\n",
              "      '新版漸層紅色套裝': ['211586434881854'],\n",
              "      '新版漸層綠套裝': ['211586434881865'],\n",
              "      '新版漸層藍套裝': ['211586434881876'],\n",
              "      '新版銀色套裝': ['211586434881887'],\n",
              "      '一代陶瓷芯(通用一二代主機)': ['222882507009038'],\n",
              "      '一代鋼網芯(通用一二代主機)': ['222882507009049'],\n",
              "      '二代陶瓷芯(通用一二代主機)': ['222882507009050'],\n",
              "      '二代鋼網芯(通用一二代主機)': ['222882507009061']}}},\n",
              "   'text2': '\\n&lt;div&gt;\\n&lt;p&gt;煙彈一盒兩顆&lt;/p&gt;\\n&lt;/div&gt;\\n'}]}"
            ]
          },
          "metadata": {},
          "execution_count": 87
        }
      ]
    },
    {
      "cell_type": "code",
      "source": [
        "type(data)"
      ],
      "metadata": {
        "colab": {
          "base_uri": "https://localhost:8080/"
        },
        "id": "z0nw0_GDKoNg",
        "outputId": "4486168a-12c9-4b83-a28d-d47145576c04"
      },
      "execution_count": null,
      "outputs": [
        {
          "output_type": "execute_result",
          "data": {
            "text/plain": [
              "dict"
            ]
          },
          "metadata": {},
          "execution_count": 88
        }
      ]
    },
    {
      "cell_type": "code",
      "source": [
        "data.keys()"
      ],
      "metadata": {
        "colab": {
          "base_uri": "https://localhost:8080/"
        },
        "id": "Fx7qPkFeK6Ke",
        "outputId": "7c6a48d6-99fa-4304-b57f-6a4095daf8cb"
      },
      "execution_count": null,
      "outputs": [
        {
          "output_type": "execute_result",
          "data": {
            "text/plain": [
              "dict_keys(['status', 'data'])"
            ]
          },
          "metadata": {},
          "execution_count": 89
        }
      ]
    },
    {
      "cell_type": "code",
      "source": [
        "type(data['data'])"
      ],
      "metadata": {
        "colab": {
          "base_uri": "https://localhost:8080/"
        },
        "id": "GM_4YHF_K765",
        "outputId": "74ef7f40-0328-48f7-895b-2dfdd384f3af"
      },
      "execution_count": null,
      "outputs": [
        {
          "output_type": "execute_result",
          "data": {
            "text/plain": [
              "list"
            ]
          },
          "metadata": {},
          "execution_count": 90
        }
      ]
    },
    {
      "cell_type": "code",
      "source": [
        "data['data'][0].keys()"
      ],
      "metadata": {
        "colab": {
          "base_uri": "https://localhost:8080/"
        },
        "id": "LAFHlbjHK_Fi",
        "outputId": "0b875f90-a9f3-41e0-e85c-8718560e717d"
      },
      "execution_count": null,
      "outputs": [
        {
          "output_type": "execute_result",
          "data": {
            "text/plain": [
              "dict_keys(['id', 'class', 'name', 'num', 'images', 'currency', 'goods_price', 'goods_ori_price', 'goods_price_range', 'watch_num', 'sold_num', 'buyer_limit_num', 'stock_status', 'pre_order_ship_date', 'fast_ship', 'free_shipping', 'youtube_link', 'video_link', 'ncc_check_code', 'bsmi_code', 'goods_no', 'available', 'post_time', 'spec_type', 'deliver_way', 'mode', 'ship', 'platform', 'ctrl_rowid', 'user', 'user_credit', 'pay_way', 'title_style', 'selling_g_now_price', 'item_remaining_time', 'translation_type', 'translated_name', 'min_estimated_delivery_date', 'max_estimated_delivery_date', 'update_time', 'is_brand_seller', 'is_goods_from_oversea', 'location', 'condition', 'codition', 'accept_shiprule', 'user_class', 'close_no', 'description_url', 'spec_info', 'text2'])"
            ]
          },
          "metadata": {},
          "execution_count": 91
        }
      ]
    },
    {
      "cell_type": "code",
      "source": [
        "len(data['data'])"
      ],
      "metadata": {
        "colab": {
          "base_uri": "https://localhost:8080/"
        },
        "id": "iyhqJVYXLGm8",
        "outputId": "d73eee27-1ad9-4686-be60-3ab30dc34c7e"
      },
      "execution_count": null,
      "outputs": [
        {
          "output_type": "execute_result",
          "data": {
            "text/plain": [
              "11"
            ]
          },
          "metadata": {},
          "execution_count": 92
        }
      ]
    },
    {
      "cell_type": "code",
      "source": [
        "for i in data['data']:\n",
        "  print(f\"{i['name']} ==> {i['goods_price_range']}\")"
      ],
      "metadata": {
        "colab": {
          "base_uri": "https://localhost:8080/"
        },
        "id": "MFUfCNjXLj8Y",
        "outputId": "74ac0a4e-023a-4aa0-e37b-b4bee6a81b44"
      },
      "execution_count": null,
      "outputs": [
        {
          "output_type": "stream",
          "name": "stdout",
          "text": [
            "凸頭 18650電池 可開發票 尖頭 鋰電池 充電電池 3000mAh 3.7v 高容量 手電筒 電風扇 Li-ion ==> {'min': 8, 'max': 24, 'ori_min': 8, 'ori_max': 24}\n",
            "18650充電電池 高容量 4000mAh 電池 鋰電池 充電電池 3.7V Li-ion 尖頭 凸頭 充電器 USB ==> {'min': 39, 'max': 119, 'ori_min': 39, 'ori_max': 119}\n",
            "三菱電機HC-BH023-S12   99新 ==> {'min': 39000, 'max': 40950, 'ori_min': 39000, 'ori_max': 40950}\n",
            "【秀秀】三菱PLC模塊 QJ72LP25-25 全新 ==> {'min': 33000, 'max': 33000, 'ori_min': 33000, 'ori_max': 33000}\n",
            "(辦公首選華碩I7商務桌機 獨家送微軟OFFICE)I7-11700時脈4.9G/16核心/16G/256G+1TB電腦 ==> {'min': 25900, 'max': 29900, 'ori_min': 25900, 'ori_max': 29900}\n",
            "WD西部數據NAS硬盤12T服務器硬盤12t網絡硬盤紅盤Pro WD121KFBX ==> {'min': 50760, 'max': 50760, 'ori_min': 50760, 'ori_max': 50760}\n",
            "全新零刻 SEi8 i5-8279U 酷睿i5辦公電腦微型主機 Intel 辦公電腦 迷你電腦 小電腦 微電腦 ==> {'min': 23692, 'max': 23692, 'ori_min': 23692, 'ori_max': 23692}\n",
            "【樂意創客官方店】《附發票》AI機械手臂 樹莓派 4B Raspberry 視覺識別 ArmPi-FPV (豪華版本) ==> {'min': 22800, 'max': 22800, 'ori_min': 22800, 'ori_max': 22800}\n",
            "KINGHOPE KH-82膽機組合音響發燒hifi藍牙書架音箱功放CD/DVD套裝 ==> {'min': 38280, 'max': 38280, 'ori_min': 38280, 'ori_max': 38280}\n",
            "【24H出貨】(公司貨) iMICE X7 電競滑鼠 2400DPI 呼吸燈 電腦滑鼠 光學滑鼠 有線滑鼠 競技滑鼠 ==> {'min': 155, 'max': 155, 'ori_min': 155, 'ori_max': 155}\n",
            "Renova Zero Pod 煙彈 空煙彈 空倉 空夾 空彈 ==> {'min': 199, 'max': 230, 'ori_min': 199, 'ori_max': 230}\n"
          ]
        }
      ]
    },
    {
      "cell_type": "markdown",
      "source": [
        "## 抓取政府電子採購網資料"
      ],
      "metadata": {
        "id": "BK6Ikvt4OEfA"
      }
    },
    {
      "cell_type": "code",
      "source": [
        "url = \"https://web.pcc.gov.tw/prkms/tender/common/bulletion/readBulletion?querySentence=%E9%9B%BB%E8%85%A6&tenderStatusType=%E6%8B%9B%E6%A8%99&sortCol=TENDER_NOTICE_DATE&timeRange=112&pageSize=10\""
      ],
      "metadata": {
        "id": "4dkE5k5BLl23"
      },
      "execution_count": null,
      "outputs": []
    },
    {
      "cell_type": "code",
      "source": [
        "dfs = pd.read_html(url, encoding='utf-8')"
      ],
      "metadata": {
        "id": "0wxTYKjgONJN"
      },
      "execution_count": null,
      "outputs": []
    },
    {
      "cell_type": "code",
      "source": [
        "dfs[4]"
      ],
      "metadata": {
        "colab": {
          "base_uri": "https://localhost:8080/",
          "height": 597
        },
        "id": "Ap5wdmbBO3rN",
        "outputId": "8949210d-7c6d-48b3-f421-d17c8c40e718"
      },
      "execution_count": null,
      "outputs": [
        {
          "output_type": "execute_result",
          "data": {
            "text/plain": [
              "   項次    種類             機關名稱  \\\n",
              "0   1  招標公告    臺北市政府工務局新建工程處   \n",
              "1   2  招標公告  交通部公路總局第五區養護工程處   \n",
              "2   3  招標公告         高雄市立民生醫院   \n",
              "3   4  招標公告    國立臺灣大學醫學院附設醫院   \n",
              "4   5  招標公告       台灣電力股份有限公司   \n",
              "5   6  招標公告         臺北市政府工務局   \n",
              "6   7  招標公告  交通部公路總局第二區養護工程處   \n",
              "7   8  招標公告     臺中市大里區立新國民小學   \n",
              "8   9  招標公告         桃園市平鎮區公所   \n",
              "9  10  招標公告     臺北大眾捷運股份有限公司   \n",
              "\n",
              "                                            標案案號標案名稱     招標公告日期  決標或無法決標公告  \\\n",
              "0  11211  var hw = Geps3.CNS.pageCode2Img(\"容積代金基金...  112/03/03        NaN   \n",
              "1  112010008  var hw = Geps3.CNS.pageCode2Img(\"11...  112/03/03        NaN   \n",
              "2  KMSH11023  var hw = Geps3.CNS.pageCode2Img(\"電腦...  112/03/03        NaN   \n",
              "3  PA2200704  var hw = Geps3.CNS.pageCode2Img(\"高劑...  112/03/03        NaN   \n",
              "4  0061100014  var hw = Geps3.CNS.pageCode2Img(\"電...  112/03/03        NaN   \n",
              "5  1120210S0036  var hw = Geps3.CNS.pageCode2Img(...  112/03/03        NaN   \n",
              "6  112-08007  var hw = Geps3.CNS.pageCode2Img(\"第二...  112/03/03        NaN   \n",
              "7  1120302  var hw = Geps3.CNS.pageCode2Img(\"112年...  112/03/03        NaN   \n",
              "8  1120109001  var hw = Geps3.CNS.pageCode2Img(\"1...  112/03/03        NaN   \n",
              "9  C12B00276  var hw = Geps3.CNS.pageCode2Img(\"錢幣...  112/03/03        NaN   \n",
              "\n",
              "      截止投標日期  公開閱覽/徵求日期  預告公告日期 功能選項  \n",
              "0  112/03/13        NaN     NaN   檢視  \n",
              "1  112/03/21        NaN     NaN   檢視  \n",
              "2  112/03/08        NaN     NaN   檢視  \n",
              "3  112/03/10        NaN     NaN   檢視  \n",
              "4  112/03/20        NaN     NaN   檢視  \n",
              "5  112/03/28        NaN     NaN   檢視  \n",
              "6  112/03/21        NaN     NaN   檢視  \n",
              "7  112/03/07        NaN     NaN   檢視  \n",
              "8  112/03/09        NaN     NaN   檢視  \n",
              "9  112/03/16        NaN     NaN   檢視  "
            ],
            "text/html": [
              "\n",
              "  <div id=\"df-a813fbfc-92d3-4348-b9fa-780a48aceb8d\">\n",
              "    <div class=\"colab-df-container\">\n",
              "      <div>\n",
              "<style scoped>\n",
              "    .dataframe tbody tr th:only-of-type {\n",
              "        vertical-align: middle;\n",
              "    }\n",
              "\n",
              "    .dataframe tbody tr th {\n",
              "        vertical-align: top;\n",
              "    }\n",
              "\n",
              "    .dataframe thead th {\n",
              "        text-align: right;\n",
              "    }\n",
              "</style>\n",
              "<table border=\"1\" class=\"dataframe\">\n",
              "  <thead>\n",
              "    <tr style=\"text-align: right;\">\n",
              "      <th></th>\n",
              "      <th>項次</th>\n",
              "      <th>種類</th>\n",
              "      <th>機關名稱</th>\n",
              "      <th>標案案號標案名稱</th>\n",
              "      <th>招標公告日期</th>\n",
              "      <th>決標或無法決標公告</th>\n",
              "      <th>截止投標日期</th>\n",
              "      <th>公開閱覽/徵求日期</th>\n",
              "      <th>預告公告日期</th>\n",
              "      <th>功能選項</th>\n",
              "    </tr>\n",
              "  </thead>\n",
              "  <tbody>\n",
              "    <tr>\n",
              "      <th>0</th>\n",
              "      <td>1</td>\n",
              "      <td>招標公告</td>\n",
              "      <td>臺北市政府工務局新建工程處</td>\n",
              "      <td>11211  var hw = Geps3.CNS.pageCode2Img(\"容積代金基金...</td>\n",
              "      <td>112/03/03</td>\n",
              "      <td>NaN</td>\n",
              "      <td>112/03/13</td>\n",
              "      <td>NaN</td>\n",
              "      <td>NaN</td>\n",
              "      <td>檢視</td>\n",
              "    </tr>\n",
              "    <tr>\n",
              "      <th>1</th>\n",
              "      <td>2</td>\n",
              "      <td>招標公告</td>\n",
              "      <td>交通部公路總局第五區養護工程處</td>\n",
              "      <td>112010008  var hw = Geps3.CNS.pageCode2Img(\"11...</td>\n",
              "      <td>112/03/03</td>\n",
              "      <td>NaN</td>\n",
              "      <td>112/03/21</td>\n",
              "      <td>NaN</td>\n",
              "      <td>NaN</td>\n",
              "      <td>檢視</td>\n",
              "    </tr>\n",
              "    <tr>\n",
              "      <th>2</th>\n",
              "      <td>3</td>\n",
              "      <td>招標公告</td>\n",
              "      <td>高雄市立民生醫院</td>\n",
              "      <td>KMSH11023  var hw = Geps3.CNS.pageCode2Img(\"電腦...</td>\n",
              "      <td>112/03/03</td>\n",
              "      <td>NaN</td>\n",
              "      <td>112/03/08</td>\n",
              "      <td>NaN</td>\n",
              "      <td>NaN</td>\n",
              "      <td>檢視</td>\n",
              "    </tr>\n",
              "    <tr>\n",
              "      <th>3</th>\n",
              "      <td>4</td>\n",
              "      <td>招標公告</td>\n",
              "      <td>國立臺灣大學醫學院附設醫院</td>\n",
              "      <td>PA2200704  var hw = Geps3.CNS.pageCode2Img(\"高劑...</td>\n",
              "      <td>112/03/03</td>\n",
              "      <td>NaN</td>\n",
              "      <td>112/03/10</td>\n",
              "      <td>NaN</td>\n",
              "      <td>NaN</td>\n",
              "      <td>檢視</td>\n",
              "    </tr>\n",
              "    <tr>\n",
              "      <th>4</th>\n",
              "      <td>5</td>\n",
              "      <td>招標公告</td>\n",
              "      <td>台灣電力股份有限公司</td>\n",
              "      <td>0061100014  var hw = Geps3.CNS.pageCode2Img(\"電...</td>\n",
              "      <td>112/03/03</td>\n",
              "      <td>NaN</td>\n",
              "      <td>112/03/20</td>\n",
              "      <td>NaN</td>\n",
              "      <td>NaN</td>\n",
              "      <td>檢視</td>\n",
              "    </tr>\n",
              "    <tr>\n",
              "      <th>5</th>\n",
              "      <td>6</td>\n",
              "      <td>招標公告</td>\n",
              "      <td>臺北市政府工務局</td>\n",
              "      <td>1120210S0036  var hw = Geps3.CNS.pageCode2Img(...</td>\n",
              "      <td>112/03/03</td>\n",
              "      <td>NaN</td>\n",
              "      <td>112/03/28</td>\n",
              "      <td>NaN</td>\n",
              "      <td>NaN</td>\n",
              "      <td>檢視</td>\n",
              "    </tr>\n",
              "    <tr>\n",
              "      <th>6</th>\n",
              "      <td>7</td>\n",
              "      <td>招標公告</td>\n",
              "      <td>交通部公路總局第二區養護工程處</td>\n",
              "      <td>112-08007  var hw = Geps3.CNS.pageCode2Img(\"第二...</td>\n",
              "      <td>112/03/03</td>\n",
              "      <td>NaN</td>\n",
              "      <td>112/03/21</td>\n",
              "      <td>NaN</td>\n",
              "      <td>NaN</td>\n",
              "      <td>檢視</td>\n",
              "    </tr>\n",
              "    <tr>\n",
              "      <th>7</th>\n",
              "      <td>8</td>\n",
              "      <td>招標公告</td>\n",
              "      <td>臺中市大里區立新國民小學</td>\n",
              "      <td>1120302  var hw = Geps3.CNS.pageCode2Img(\"112年...</td>\n",
              "      <td>112/03/03</td>\n",
              "      <td>NaN</td>\n",
              "      <td>112/03/07</td>\n",
              "      <td>NaN</td>\n",
              "      <td>NaN</td>\n",
              "      <td>檢視</td>\n",
              "    </tr>\n",
              "    <tr>\n",
              "      <th>8</th>\n",
              "      <td>9</td>\n",
              "      <td>招標公告</td>\n",
              "      <td>桃園市平鎮區公所</td>\n",
              "      <td>1120109001  var hw = Geps3.CNS.pageCode2Img(\"1...</td>\n",
              "      <td>112/03/03</td>\n",
              "      <td>NaN</td>\n",
              "      <td>112/03/09</td>\n",
              "      <td>NaN</td>\n",
              "      <td>NaN</td>\n",
              "      <td>檢視</td>\n",
              "    </tr>\n",
              "    <tr>\n",
              "      <th>9</th>\n",
              "      <td>10</td>\n",
              "      <td>招標公告</td>\n",
              "      <td>臺北大眾捷運股份有限公司</td>\n",
              "      <td>C12B00276  var hw = Geps3.CNS.pageCode2Img(\"錢幣...</td>\n",
              "      <td>112/03/03</td>\n",
              "      <td>NaN</td>\n",
              "      <td>112/03/16</td>\n",
              "      <td>NaN</td>\n",
              "      <td>NaN</td>\n",
              "      <td>檢視</td>\n",
              "    </tr>\n",
              "  </tbody>\n",
              "</table>\n",
              "</div>\n",
              "      <button class=\"colab-df-convert\" onclick=\"convertToInteractive('df-a813fbfc-92d3-4348-b9fa-780a48aceb8d')\"\n",
              "              title=\"Convert this dataframe to an interactive table.\"\n",
              "              style=\"display:none;\">\n",
              "        \n",
              "  <svg xmlns=\"http://www.w3.org/2000/svg\" height=\"24px\"viewBox=\"0 0 24 24\"\n",
              "       width=\"24px\">\n",
              "    <path d=\"M0 0h24v24H0V0z\" fill=\"none\"/>\n",
              "    <path d=\"M18.56 5.44l.94 2.06.94-2.06 2.06-.94-2.06-.94-.94-2.06-.94 2.06-2.06.94zm-11 1L8.5 8.5l.94-2.06 2.06-.94-2.06-.94L8.5 2.5l-.94 2.06-2.06.94zm10 10l.94 2.06.94-2.06 2.06-.94-2.06-.94-.94-2.06-.94 2.06-2.06.94z\"/><path d=\"M17.41 7.96l-1.37-1.37c-.4-.4-.92-.59-1.43-.59-.52 0-1.04.2-1.43.59L10.3 9.45l-7.72 7.72c-.78.78-.78 2.05 0 2.83L4 21.41c.39.39.9.59 1.41.59.51 0 1.02-.2 1.41-.59l7.78-7.78 2.81-2.81c.8-.78.8-2.07 0-2.86zM5.41 20L4 18.59l7.72-7.72 1.47 1.35L5.41 20z\"/>\n",
              "  </svg>\n",
              "      </button>\n",
              "      \n",
              "  <style>\n",
              "    .colab-df-container {\n",
              "      display:flex;\n",
              "      flex-wrap:wrap;\n",
              "      gap: 12px;\n",
              "    }\n",
              "\n",
              "    .colab-df-convert {\n",
              "      background-color: #E8F0FE;\n",
              "      border: none;\n",
              "      border-radius: 50%;\n",
              "      cursor: pointer;\n",
              "      display: none;\n",
              "      fill: #1967D2;\n",
              "      height: 32px;\n",
              "      padding: 0 0 0 0;\n",
              "      width: 32px;\n",
              "    }\n",
              "\n",
              "    .colab-df-convert:hover {\n",
              "      background-color: #E2EBFA;\n",
              "      box-shadow: 0px 1px 2px rgba(60, 64, 67, 0.3), 0px 1px 3px 1px rgba(60, 64, 67, 0.15);\n",
              "      fill: #174EA6;\n",
              "    }\n",
              "\n",
              "    [theme=dark] .colab-df-convert {\n",
              "      background-color: #3B4455;\n",
              "      fill: #D2E3FC;\n",
              "    }\n",
              "\n",
              "    [theme=dark] .colab-df-convert:hover {\n",
              "      background-color: #434B5C;\n",
              "      box-shadow: 0px 1px 3px 1px rgba(0, 0, 0, 0.15);\n",
              "      filter: drop-shadow(0px 1px 2px rgba(0, 0, 0, 0.3));\n",
              "      fill: #FFFFFF;\n",
              "    }\n",
              "  </style>\n",
              "\n",
              "      <script>\n",
              "        const buttonEl =\n",
              "          document.querySelector('#df-a813fbfc-92d3-4348-b9fa-780a48aceb8d button.colab-df-convert');\n",
              "        buttonEl.style.display =\n",
              "          google.colab.kernel.accessAllowed ? 'block' : 'none';\n",
              "\n",
              "        async function convertToInteractive(key) {\n",
              "          const element = document.querySelector('#df-a813fbfc-92d3-4348-b9fa-780a48aceb8d');\n",
              "          const dataTable =\n",
              "            await google.colab.kernel.invokeFunction('convertToInteractive',\n",
              "                                                     [key], {});\n",
              "          if (!dataTable) return;\n",
              "\n",
              "          const docLinkHtml = 'Like what you see? Visit the ' +\n",
              "            '<a target=\"_blank\" href=https://colab.research.google.com/notebooks/data_table.ipynb>data table notebook</a>'\n",
              "            + ' to learn more about interactive tables.';\n",
              "          element.innerHTML = '';\n",
              "          dataTable['output_type'] = 'display_data';\n",
              "          await google.colab.output.renderOutput(dataTable, element);\n",
              "          const docLink = document.createElement('div');\n",
              "          docLink.innerHTML = docLinkHtml;\n",
              "          element.appendChild(docLink);\n",
              "        }\n",
              "      </script>\n",
              "    </div>\n",
              "  </div>\n",
              "  "
            ]
          },
          "metadata": {},
          "execution_count": 97
        }
      ]
    },
    {
      "cell_type": "code",
      "source": [
        "dfs[4]['標案案號標案名稱'][0]"
      ],
      "metadata": {
        "colab": {
          "base_uri": "https://localhost:8080/",
          "height": 35
        },
        "id": "K2Xp8K-yO-mk",
        "outputId": "3bce28ce-8b23-47b6-c87b-b868441976cb"
      },
      "execution_count": null,
      "outputs": [
        {
          "output_type": "execute_result",
          "data": {
            "text/plain": [
              "'11211  var hw = Geps3.CNS.pageCode2Img(\"容積代金基金採購私有公共設施保留地線上投標系統案\");$(\"#1\").html(hw);'"
            ],
            "application/vnd.google.colaboratory.intrinsic+json": {
              "type": "string"
            }
          },
          "metadata": {},
          "execution_count": 98
        }
      ]
    },
    {
      "cell_type": "markdown",
      "source": [
        "## 讀取政府資料開放平台實價登錄資料\n",
        "https://data.kcg.gov.tw/dataset/d7bfc353-1617-42d8-a0e3-3cd2d99edb10/resource/20387f3d-6970-40a4-86f0-a5c33546e75d/download/111q2.csv"
      ],
      "metadata": {
        "id": "Y6JM55G3Udud"
      }
    },
    {
      "cell_type": "code",
      "source": [
        "url = \"https://data.kcg.gov.tw/dataset/d7bfc353-1617-42d8-a0e3-3cd2d99edb10/resource/20387f3d-6970-40a4-86f0-a5c33546e75d/download/111q2.csv\""
      ],
      "metadata": {
        "id": "zfmuvbfbU12g"
      },
      "execution_count": 122,
      "outputs": []
    },
    {
      "cell_type": "code",
      "source": [
        "df = pd.read_csv(url)"
      ],
      "metadata": {
        "colab": {
          "base_uri": "https://localhost:8080/",
          "height": 521
        },
        "id": "QvVKLecLPIIn",
        "outputId": "16470a60-b63f-46fa-d13f-696a96b38e9c"
      },
      "execution_count": 124,
      "outputs": [
        {
          "output_type": "error",
          "ename": "URLError",
          "evalue": "ignored",
          "traceback": [
            "\u001b[0;31m---------------------------------------------------------------------------\u001b[0m",
            "\u001b[0;31mTimeoutError\u001b[0m                              Traceback (most recent call last)",
            "\u001b[0;32m/usr/lib/python3.8/urllib/request.py\u001b[0m in \u001b[0;36mdo_open\u001b[0;34m(self, http_class, req, **http_conn_args)\u001b[0m\n\u001b[1;32m   1353\u001b[0m             \u001b[0;32mtry\u001b[0m\u001b[0;34m:\u001b[0m\u001b[0;34m\u001b[0m\u001b[0;34m\u001b[0m\u001b[0m\n\u001b[0;32m-> 1354\u001b[0;31m                 h.request(req.get_method(), req.selector, req.data, headers,\n\u001b[0m\u001b[1;32m   1355\u001b[0m                           encode_chunked=req.has_header('Transfer-encoding'))\n",
            "\u001b[0;32m/usr/lib/python3.8/http/client.py\u001b[0m in \u001b[0;36mrequest\u001b[0;34m(self, method, url, body, headers, encode_chunked)\u001b[0m\n\u001b[1;32m   1255\u001b[0m         \u001b[0;34m\"\"\"Send a complete request to the server.\"\"\"\u001b[0m\u001b[0;34m\u001b[0m\u001b[0;34m\u001b[0m\u001b[0m\n\u001b[0;32m-> 1256\u001b[0;31m         \u001b[0mself\u001b[0m\u001b[0;34m.\u001b[0m\u001b[0m_send_request\u001b[0m\u001b[0;34m(\u001b[0m\u001b[0mmethod\u001b[0m\u001b[0;34m,\u001b[0m \u001b[0murl\u001b[0m\u001b[0;34m,\u001b[0m \u001b[0mbody\u001b[0m\u001b[0;34m,\u001b[0m \u001b[0mheaders\u001b[0m\u001b[0;34m,\u001b[0m \u001b[0mencode_chunked\u001b[0m\u001b[0;34m)\u001b[0m\u001b[0;34m\u001b[0m\u001b[0;34m\u001b[0m\u001b[0m\n\u001b[0m\u001b[1;32m   1257\u001b[0m \u001b[0;34m\u001b[0m\u001b[0m\n",
            "\u001b[0;32m/usr/lib/python3.8/http/client.py\u001b[0m in \u001b[0;36m_send_request\u001b[0;34m(self, method, url, body, headers, encode_chunked)\u001b[0m\n\u001b[1;32m   1301\u001b[0m             \u001b[0mbody\u001b[0m \u001b[0;34m=\u001b[0m \u001b[0m_encode\u001b[0m\u001b[0;34m(\u001b[0m\u001b[0mbody\u001b[0m\u001b[0;34m,\u001b[0m \u001b[0;34m'body'\u001b[0m\u001b[0;34m)\u001b[0m\u001b[0;34m\u001b[0m\u001b[0;34m\u001b[0m\u001b[0m\n\u001b[0;32m-> 1302\u001b[0;31m         \u001b[0mself\u001b[0m\u001b[0;34m.\u001b[0m\u001b[0mendheaders\u001b[0m\u001b[0;34m(\u001b[0m\u001b[0mbody\u001b[0m\u001b[0;34m,\u001b[0m \u001b[0mencode_chunked\u001b[0m\u001b[0;34m=\u001b[0m\u001b[0mencode_chunked\u001b[0m\u001b[0;34m)\u001b[0m\u001b[0;34m\u001b[0m\u001b[0;34m\u001b[0m\u001b[0m\n\u001b[0m\u001b[1;32m   1303\u001b[0m \u001b[0;34m\u001b[0m\u001b[0m\n",
            "\u001b[0;32m/usr/lib/python3.8/http/client.py\u001b[0m in \u001b[0;36mendheaders\u001b[0;34m(self, message_body, encode_chunked)\u001b[0m\n\u001b[1;32m   1250\u001b[0m             \u001b[0;32mraise\u001b[0m \u001b[0mCannotSendHeader\u001b[0m\u001b[0;34m(\u001b[0m\u001b[0;34m)\u001b[0m\u001b[0;34m\u001b[0m\u001b[0;34m\u001b[0m\u001b[0m\n\u001b[0;32m-> 1251\u001b[0;31m         \u001b[0mself\u001b[0m\u001b[0;34m.\u001b[0m\u001b[0m_send_output\u001b[0m\u001b[0;34m(\u001b[0m\u001b[0mmessage_body\u001b[0m\u001b[0;34m,\u001b[0m \u001b[0mencode_chunked\u001b[0m\u001b[0;34m=\u001b[0m\u001b[0mencode_chunked\u001b[0m\u001b[0;34m)\u001b[0m\u001b[0;34m\u001b[0m\u001b[0;34m\u001b[0m\u001b[0m\n\u001b[0m\u001b[1;32m   1252\u001b[0m \u001b[0;34m\u001b[0m\u001b[0m\n",
            "\u001b[0;32m/usr/lib/python3.8/http/client.py\u001b[0m in \u001b[0;36m_send_output\u001b[0;34m(self, message_body, encode_chunked)\u001b[0m\n\u001b[1;32m   1010\u001b[0m         \u001b[0;32mdel\u001b[0m \u001b[0mself\u001b[0m\u001b[0;34m.\u001b[0m\u001b[0m_buffer\u001b[0m\u001b[0;34m[\u001b[0m\u001b[0;34m:\u001b[0m\u001b[0;34m]\u001b[0m\u001b[0;34m\u001b[0m\u001b[0;34m\u001b[0m\u001b[0m\n\u001b[0;32m-> 1011\u001b[0;31m         \u001b[0mself\u001b[0m\u001b[0;34m.\u001b[0m\u001b[0msend\u001b[0m\u001b[0;34m(\u001b[0m\u001b[0mmsg\u001b[0m\u001b[0;34m)\u001b[0m\u001b[0;34m\u001b[0m\u001b[0;34m\u001b[0m\u001b[0m\n\u001b[0m\u001b[1;32m   1012\u001b[0m \u001b[0;34m\u001b[0m\u001b[0m\n",
            "\u001b[0;32m/usr/lib/python3.8/http/client.py\u001b[0m in \u001b[0;36msend\u001b[0;34m(self, data)\u001b[0m\n\u001b[1;32m    950\u001b[0m             \u001b[0;32mif\u001b[0m \u001b[0mself\u001b[0m\u001b[0;34m.\u001b[0m\u001b[0mauto_open\u001b[0m\u001b[0;34m:\u001b[0m\u001b[0;34m\u001b[0m\u001b[0;34m\u001b[0m\u001b[0m\n\u001b[0;32m--> 951\u001b[0;31m                 \u001b[0mself\u001b[0m\u001b[0;34m.\u001b[0m\u001b[0mconnect\u001b[0m\u001b[0;34m(\u001b[0m\u001b[0;34m)\u001b[0m\u001b[0;34m\u001b[0m\u001b[0;34m\u001b[0m\u001b[0m\n\u001b[0m\u001b[1;32m    952\u001b[0m             \u001b[0;32melse\u001b[0m\u001b[0;34m:\u001b[0m\u001b[0;34m\u001b[0m\u001b[0;34m\u001b[0m\u001b[0m\n",
            "\u001b[0;32m/usr/lib/python3.8/http/client.py\u001b[0m in \u001b[0;36mconnect\u001b[0;34m(self)\u001b[0m\n\u001b[1;32m   1417\u001b[0m \u001b[0;34m\u001b[0m\u001b[0m\n\u001b[0;32m-> 1418\u001b[0;31m             \u001b[0msuper\u001b[0m\u001b[0;34m(\u001b[0m\u001b[0;34m)\u001b[0m\u001b[0;34m.\u001b[0m\u001b[0mconnect\u001b[0m\u001b[0;34m(\u001b[0m\u001b[0;34m)\u001b[0m\u001b[0;34m\u001b[0m\u001b[0;34m\u001b[0m\u001b[0m\n\u001b[0m\u001b[1;32m   1419\u001b[0m \u001b[0;34m\u001b[0m\u001b[0m\n",
            "\u001b[0;32m/usr/lib/python3.8/http/client.py\u001b[0m in \u001b[0;36mconnect\u001b[0;34m(self)\u001b[0m\n\u001b[1;32m    921\u001b[0m         \u001b[0;34m\"\"\"Connect to the host and port specified in __init__.\"\"\"\u001b[0m\u001b[0;34m\u001b[0m\u001b[0;34m\u001b[0m\u001b[0m\n\u001b[0;32m--> 922\u001b[0;31m         self.sock = self._create_connection(\n\u001b[0m\u001b[1;32m    923\u001b[0m             (self.host,self.port), self.timeout, self.source_address)\n",
            "\u001b[0;32m/usr/lib/python3.8/socket.py\u001b[0m in \u001b[0;36mcreate_connection\u001b[0;34m(address, timeout, source_address)\u001b[0m\n\u001b[1;32m    807\u001b[0m         \u001b[0;32mtry\u001b[0m\u001b[0;34m:\u001b[0m\u001b[0;34m\u001b[0m\u001b[0;34m\u001b[0m\u001b[0m\n\u001b[0;32m--> 808\u001b[0;31m             \u001b[0;32mraise\u001b[0m \u001b[0merr\u001b[0m\u001b[0;34m\u001b[0m\u001b[0;34m\u001b[0m\u001b[0m\n\u001b[0m\u001b[1;32m    809\u001b[0m         \u001b[0;32mfinally\u001b[0m\u001b[0;34m:\u001b[0m\u001b[0;34m\u001b[0m\u001b[0;34m\u001b[0m\u001b[0m\n",
            "\u001b[0;32m/usr/lib/python3.8/socket.py\u001b[0m in \u001b[0;36mcreate_connection\u001b[0;34m(address, timeout, source_address)\u001b[0m\n\u001b[1;32m    795\u001b[0m                 \u001b[0msock\u001b[0m\u001b[0;34m.\u001b[0m\u001b[0mbind\u001b[0m\u001b[0;34m(\u001b[0m\u001b[0msource_address\u001b[0m\u001b[0;34m)\u001b[0m\u001b[0;34m\u001b[0m\u001b[0;34m\u001b[0m\u001b[0m\n\u001b[0;32m--> 796\u001b[0;31m             \u001b[0msock\u001b[0m\u001b[0;34m.\u001b[0m\u001b[0mconnect\u001b[0m\u001b[0;34m(\u001b[0m\u001b[0msa\u001b[0m\u001b[0;34m)\u001b[0m\u001b[0;34m\u001b[0m\u001b[0;34m\u001b[0m\u001b[0m\n\u001b[0m\u001b[1;32m    797\u001b[0m             \u001b[0;31m# Break explicitly a reference cycle\u001b[0m\u001b[0;34m\u001b[0m\u001b[0;34m\u001b[0m\u001b[0;34m\u001b[0m\u001b[0m\n",
            "\u001b[0;31mTimeoutError\u001b[0m: [Errno 110] Connection timed out",
            "\nDuring handling of the above exception, another exception occurred:\n",
            "\u001b[0;31mURLError\u001b[0m                                  Traceback (most recent call last)",
            "\u001b[0;32m<ipython-input-124-7832ba498456>\u001b[0m in \u001b[0;36m<module>\u001b[0;34m\u001b[0m\n\u001b[0;32m----> 1\u001b[0;31m \u001b[0mdf\u001b[0m \u001b[0;34m=\u001b[0m \u001b[0mpd\u001b[0m\u001b[0;34m.\u001b[0m\u001b[0mread_csv\u001b[0m\u001b[0;34m(\u001b[0m\u001b[0murl\u001b[0m\u001b[0;34m)\u001b[0m\u001b[0;34m\u001b[0m\u001b[0;34m\u001b[0m\u001b[0m\n\u001b[0m",
            "\u001b[0;32m/usr/local/lib/python3.8/dist-packages/pandas/util/_decorators.py\u001b[0m in \u001b[0;36mwrapper\u001b[0;34m(*args, **kwargs)\u001b[0m\n\u001b[1;32m    309\u001b[0m                     \u001b[0mstacklevel\u001b[0m\u001b[0;34m=\u001b[0m\u001b[0mstacklevel\u001b[0m\u001b[0;34m,\u001b[0m\u001b[0;34m\u001b[0m\u001b[0;34m\u001b[0m\u001b[0m\n\u001b[1;32m    310\u001b[0m                 )\n\u001b[0;32m--> 311\u001b[0;31m             \u001b[0;32mreturn\u001b[0m \u001b[0mfunc\u001b[0m\u001b[0;34m(\u001b[0m\u001b[0;34m*\u001b[0m\u001b[0margs\u001b[0m\u001b[0;34m,\u001b[0m \u001b[0;34m**\u001b[0m\u001b[0mkwargs\u001b[0m\u001b[0;34m)\u001b[0m\u001b[0;34m\u001b[0m\u001b[0;34m\u001b[0m\u001b[0m\n\u001b[0m\u001b[1;32m    312\u001b[0m \u001b[0;34m\u001b[0m\u001b[0m\n\u001b[1;32m    313\u001b[0m         \u001b[0;32mreturn\u001b[0m \u001b[0mwrapper\u001b[0m\u001b[0;34m\u001b[0m\u001b[0;34m\u001b[0m\u001b[0m\n",
            "\u001b[0;32m/usr/local/lib/python3.8/dist-packages/pandas/io/parsers/readers.py\u001b[0m in \u001b[0;36mread_csv\u001b[0;34m(filepath_or_buffer, sep, delimiter, header, names, index_col, usecols, squeeze, prefix, mangle_dupe_cols, dtype, engine, converters, true_values, false_values, skipinitialspace, skiprows, skipfooter, nrows, na_values, keep_default_na, na_filter, verbose, skip_blank_lines, parse_dates, infer_datetime_format, keep_date_col, date_parser, dayfirst, cache_dates, iterator, chunksize, compression, thousands, decimal, lineterminator, quotechar, quoting, doublequote, escapechar, comment, encoding, encoding_errors, dialect, error_bad_lines, warn_bad_lines, on_bad_lines, delim_whitespace, low_memory, memory_map, float_precision, storage_options)\u001b[0m\n\u001b[1;32m    584\u001b[0m     \u001b[0mkwds\u001b[0m\u001b[0;34m.\u001b[0m\u001b[0mupdate\u001b[0m\u001b[0;34m(\u001b[0m\u001b[0mkwds_defaults\u001b[0m\u001b[0;34m)\u001b[0m\u001b[0;34m\u001b[0m\u001b[0;34m\u001b[0m\u001b[0m\n\u001b[1;32m    585\u001b[0m \u001b[0;34m\u001b[0m\u001b[0m\n\u001b[0;32m--> 586\u001b[0;31m     \u001b[0;32mreturn\u001b[0m \u001b[0m_read\u001b[0m\u001b[0;34m(\u001b[0m\u001b[0mfilepath_or_buffer\u001b[0m\u001b[0;34m,\u001b[0m \u001b[0mkwds\u001b[0m\u001b[0;34m)\u001b[0m\u001b[0;34m\u001b[0m\u001b[0;34m\u001b[0m\u001b[0m\n\u001b[0m\u001b[1;32m    587\u001b[0m \u001b[0;34m\u001b[0m\u001b[0m\n\u001b[1;32m    588\u001b[0m \u001b[0;34m\u001b[0m\u001b[0m\n",
            "\u001b[0;32m/usr/local/lib/python3.8/dist-packages/pandas/io/parsers/readers.py\u001b[0m in \u001b[0;36m_read\u001b[0;34m(filepath_or_buffer, kwds)\u001b[0m\n\u001b[1;32m    480\u001b[0m \u001b[0;34m\u001b[0m\u001b[0m\n\u001b[1;32m    481\u001b[0m     \u001b[0;31m# Create the parser.\u001b[0m\u001b[0;34m\u001b[0m\u001b[0;34m\u001b[0m\u001b[0;34m\u001b[0m\u001b[0m\n\u001b[0;32m--> 482\u001b[0;31m     \u001b[0mparser\u001b[0m \u001b[0;34m=\u001b[0m \u001b[0mTextFileReader\u001b[0m\u001b[0;34m(\u001b[0m\u001b[0mfilepath_or_buffer\u001b[0m\u001b[0;34m,\u001b[0m \u001b[0;34m**\u001b[0m\u001b[0mkwds\u001b[0m\u001b[0;34m)\u001b[0m\u001b[0;34m\u001b[0m\u001b[0;34m\u001b[0m\u001b[0m\n\u001b[0m\u001b[1;32m    483\u001b[0m \u001b[0;34m\u001b[0m\u001b[0m\n\u001b[1;32m    484\u001b[0m     \u001b[0;32mif\u001b[0m \u001b[0mchunksize\u001b[0m \u001b[0;32mor\u001b[0m \u001b[0miterator\u001b[0m\u001b[0;34m:\u001b[0m\u001b[0;34m\u001b[0m\u001b[0;34m\u001b[0m\u001b[0m\n",
            "\u001b[0;32m/usr/local/lib/python3.8/dist-packages/pandas/io/parsers/readers.py\u001b[0m in \u001b[0;36m__init__\u001b[0;34m(self, f, engine, **kwds)\u001b[0m\n\u001b[1;32m    809\u001b[0m             \u001b[0mself\u001b[0m\u001b[0;34m.\u001b[0m\u001b[0moptions\u001b[0m\u001b[0;34m[\u001b[0m\u001b[0;34m\"has_index_names\"\u001b[0m\u001b[0;34m]\u001b[0m \u001b[0;34m=\u001b[0m \u001b[0mkwds\u001b[0m\u001b[0;34m[\u001b[0m\u001b[0;34m\"has_index_names\"\u001b[0m\u001b[0;34m]\u001b[0m\u001b[0;34m\u001b[0m\u001b[0;34m\u001b[0m\u001b[0m\n\u001b[1;32m    810\u001b[0m \u001b[0;34m\u001b[0m\u001b[0m\n\u001b[0;32m--> 811\u001b[0;31m         \u001b[0mself\u001b[0m\u001b[0;34m.\u001b[0m\u001b[0m_engine\u001b[0m \u001b[0;34m=\u001b[0m \u001b[0mself\u001b[0m\u001b[0;34m.\u001b[0m\u001b[0m_make_engine\u001b[0m\u001b[0;34m(\u001b[0m\u001b[0mself\u001b[0m\u001b[0;34m.\u001b[0m\u001b[0mengine\u001b[0m\u001b[0;34m)\u001b[0m\u001b[0;34m\u001b[0m\u001b[0;34m\u001b[0m\u001b[0m\n\u001b[0m\u001b[1;32m    812\u001b[0m \u001b[0;34m\u001b[0m\u001b[0m\n\u001b[1;32m    813\u001b[0m     \u001b[0;32mdef\u001b[0m \u001b[0mclose\u001b[0m\u001b[0;34m(\u001b[0m\u001b[0mself\u001b[0m\u001b[0;34m)\u001b[0m\u001b[0;34m:\u001b[0m\u001b[0;34m\u001b[0m\u001b[0;34m\u001b[0m\u001b[0m\n",
            "\u001b[0;32m/usr/local/lib/python3.8/dist-packages/pandas/io/parsers/readers.py\u001b[0m in \u001b[0;36m_make_engine\u001b[0;34m(self, engine)\u001b[0m\n\u001b[1;32m   1038\u001b[0m             )\n\u001b[1;32m   1039\u001b[0m         \u001b[0;31m# error: Too many arguments for \"ParserBase\"\u001b[0m\u001b[0;34m\u001b[0m\u001b[0;34m\u001b[0m\u001b[0;34m\u001b[0m\u001b[0m\n\u001b[0;32m-> 1040\u001b[0;31m         \u001b[0;32mreturn\u001b[0m \u001b[0mmapping\u001b[0m\u001b[0;34m[\u001b[0m\u001b[0mengine\u001b[0m\u001b[0;34m]\u001b[0m\u001b[0;34m(\u001b[0m\u001b[0mself\u001b[0m\u001b[0;34m.\u001b[0m\u001b[0mf\u001b[0m\u001b[0;34m,\u001b[0m \u001b[0;34m**\u001b[0m\u001b[0mself\u001b[0m\u001b[0;34m.\u001b[0m\u001b[0moptions\u001b[0m\u001b[0;34m)\u001b[0m  \u001b[0;31m# type: ignore[call-arg]\u001b[0m\u001b[0;34m\u001b[0m\u001b[0;34m\u001b[0m\u001b[0m\n\u001b[0m\u001b[1;32m   1041\u001b[0m \u001b[0;34m\u001b[0m\u001b[0m\n\u001b[1;32m   1042\u001b[0m     \u001b[0;32mdef\u001b[0m \u001b[0m_failover_to_python\u001b[0m\u001b[0;34m(\u001b[0m\u001b[0mself\u001b[0m\u001b[0;34m)\u001b[0m\u001b[0;34m:\u001b[0m\u001b[0;34m\u001b[0m\u001b[0;34m\u001b[0m\u001b[0m\n",
            "\u001b[0;32m/usr/local/lib/python3.8/dist-packages/pandas/io/parsers/c_parser_wrapper.py\u001b[0m in \u001b[0;36m__init__\u001b[0;34m(self, src, **kwds)\u001b[0m\n\u001b[1;32m     49\u001b[0m \u001b[0;34m\u001b[0m\u001b[0m\n\u001b[1;32m     50\u001b[0m         \u001b[0;31m# open handles\u001b[0m\u001b[0;34m\u001b[0m\u001b[0;34m\u001b[0m\u001b[0;34m\u001b[0m\u001b[0m\n\u001b[0;32m---> 51\u001b[0;31m         \u001b[0mself\u001b[0m\u001b[0;34m.\u001b[0m\u001b[0m_open_handles\u001b[0m\u001b[0;34m(\u001b[0m\u001b[0msrc\u001b[0m\u001b[0;34m,\u001b[0m \u001b[0mkwds\u001b[0m\u001b[0;34m)\u001b[0m\u001b[0;34m\u001b[0m\u001b[0;34m\u001b[0m\u001b[0m\n\u001b[0m\u001b[1;32m     52\u001b[0m         \u001b[0;32massert\u001b[0m \u001b[0mself\u001b[0m\u001b[0;34m.\u001b[0m\u001b[0mhandles\u001b[0m \u001b[0;32mis\u001b[0m \u001b[0;32mnot\u001b[0m \u001b[0;32mNone\u001b[0m\u001b[0;34m\u001b[0m\u001b[0;34m\u001b[0m\u001b[0m\n\u001b[1;32m     53\u001b[0m \u001b[0;34m\u001b[0m\u001b[0m\n",
            "\u001b[0;32m/usr/local/lib/python3.8/dist-packages/pandas/io/parsers/base_parser.py\u001b[0m in \u001b[0;36m_open_handles\u001b[0;34m(self, src, kwds)\u001b[0m\n\u001b[1;32m    220\u001b[0m         \u001b[0mLet\u001b[0m \u001b[0mthe\u001b[0m \u001b[0mreaders\u001b[0m \u001b[0mopen\u001b[0m \u001b[0mIOHandles\u001b[0m \u001b[0mafter\u001b[0m \u001b[0mthey\u001b[0m \u001b[0mare\u001b[0m \u001b[0mdone\u001b[0m \u001b[0;32mwith\u001b[0m \u001b[0mtheir\u001b[0m \u001b[0mpotential\u001b[0m \u001b[0mraises\u001b[0m\u001b[0;34m.\u001b[0m\u001b[0;34m\u001b[0m\u001b[0;34m\u001b[0m\u001b[0m\n\u001b[1;32m    221\u001b[0m         \"\"\"\n\u001b[0;32m--> 222\u001b[0;31m         self.handles = get_handle(\n\u001b[0m\u001b[1;32m    223\u001b[0m             \u001b[0msrc\u001b[0m\u001b[0;34m,\u001b[0m\u001b[0;34m\u001b[0m\u001b[0;34m\u001b[0m\u001b[0m\n\u001b[1;32m    224\u001b[0m             \u001b[0;34m\"r\"\u001b[0m\u001b[0;34m,\u001b[0m\u001b[0;34m\u001b[0m\u001b[0;34m\u001b[0m\u001b[0m\n",
            "\u001b[0;32m/usr/local/lib/python3.8/dist-packages/pandas/io/common.py\u001b[0m in \u001b[0;36mget_handle\u001b[0;34m(path_or_buf, mode, encoding, compression, memory_map, is_text, errors, storage_options)\u001b[0m\n\u001b[1;32m    607\u001b[0m \u001b[0;34m\u001b[0m\u001b[0m\n\u001b[1;32m    608\u001b[0m     \u001b[0;31m# open URLs\u001b[0m\u001b[0;34m\u001b[0m\u001b[0;34m\u001b[0m\u001b[0;34m\u001b[0m\u001b[0m\n\u001b[0;32m--> 609\u001b[0;31m     ioargs = _get_filepath_or_buffer(\n\u001b[0m\u001b[1;32m    610\u001b[0m         \u001b[0mpath_or_buf\u001b[0m\u001b[0;34m,\u001b[0m\u001b[0;34m\u001b[0m\u001b[0;34m\u001b[0m\u001b[0m\n\u001b[1;32m    611\u001b[0m         \u001b[0mencoding\u001b[0m\u001b[0;34m=\u001b[0m\u001b[0mencoding\u001b[0m\u001b[0;34m,\u001b[0m\u001b[0;34m\u001b[0m\u001b[0;34m\u001b[0m\u001b[0m\n",
            "\u001b[0;32m/usr/local/lib/python3.8/dist-packages/pandas/io/common.py\u001b[0m in \u001b[0;36m_get_filepath_or_buffer\u001b[0;34m(filepath_or_buffer, encoding, compression, mode, storage_options)\u001b[0m\n\u001b[1;32m    310\u001b[0m         \u001b[0;31m# assuming storage_options is to be interpreted as headers\u001b[0m\u001b[0;34m\u001b[0m\u001b[0;34m\u001b[0m\u001b[0;34m\u001b[0m\u001b[0m\n\u001b[1;32m    311\u001b[0m         \u001b[0mreq_info\u001b[0m \u001b[0;34m=\u001b[0m \u001b[0murllib\u001b[0m\u001b[0;34m.\u001b[0m\u001b[0mrequest\u001b[0m\u001b[0;34m.\u001b[0m\u001b[0mRequest\u001b[0m\u001b[0;34m(\u001b[0m\u001b[0mfilepath_or_buffer\u001b[0m\u001b[0;34m,\u001b[0m \u001b[0mheaders\u001b[0m\u001b[0;34m=\u001b[0m\u001b[0mstorage_options\u001b[0m\u001b[0;34m)\u001b[0m\u001b[0;34m\u001b[0m\u001b[0;34m\u001b[0m\u001b[0m\n\u001b[0;32m--> 312\u001b[0;31m         \u001b[0;32mwith\u001b[0m \u001b[0murlopen\u001b[0m\u001b[0;34m(\u001b[0m\u001b[0mreq_info\u001b[0m\u001b[0;34m)\u001b[0m \u001b[0;32mas\u001b[0m \u001b[0mreq\u001b[0m\u001b[0;34m:\u001b[0m\u001b[0;34m\u001b[0m\u001b[0;34m\u001b[0m\u001b[0m\n\u001b[0m\u001b[1;32m    313\u001b[0m             \u001b[0mcontent_encoding\u001b[0m \u001b[0;34m=\u001b[0m \u001b[0mreq\u001b[0m\u001b[0;34m.\u001b[0m\u001b[0mheaders\u001b[0m\u001b[0;34m.\u001b[0m\u001b[0mget\u001b[0m\u001b[0;34m(\u001b[0m\u001b[0;34m\"Content-Encoding\"\u001b[0m\u001b[0;34m,\u001b[0m \u001b[0;32mNone\u001b[0m\u001b[0;34m)\u001b[0m\u001b[0;34m\u001b[0m\u001b[0;34m\u001b[0m\u001b[0m\n\u001b[1;32m    314\u001b[0m             \u001b[0;32mif\u001b[0m \u001b[0mcontent_encoding\u001b[0m \u001b[0;34m==\u001b[0m \u001b[0;34m\"gzip\"\u001b[0m\u001b[0;34m:\u001b[0m\u001b[0;34m\u001b[0m\u001b[0;34m\u001b[0m\u001b[0m\n",
            "\u001b[0;32m/usr/local/lib/python3.8/dist-packages/pandas/io/common.py\u001b[0m in \u001b[0;36murlopen\u001b[0;34m(*args, **kwargs)\u001b[0m\n\u001b[1;32m    210\u001b[0m     \u001b[0;32mimport\u001b[0m \u001b[0murllib\u001b[0m\u001b[0;34m.\u001b[0m\u001b[0mrequest\u001b[0m\u001b[0;34m\u001b[0m\u001b[0;34m\u001b[0m\u001b[0m\n\u001b[1;32m    211\u001b[0m \u001b[0;34m\u001b[0m\u001b[0m\n\u001b[0;32m--> 212\u001b[0;31m     \u001b[0;32mreturn\u001b[0m \u001b[0murllib\u001b[0m\u001b[0;34m.\u001b[0m\u001b[0mrequest\u001b[0m\u001b[0;34m.\u001b[0m\u001b[0murlopen\u001b[0m\u001b[0;34m(\u001b[0m\u001b[0;34m*\u001b[0m\u001b[0margs\u001b[0m\u001b[0;34m,\u001b[0m \u001b[0;34m**\u001b[0m\u001b[0mkwargs\u001b[0m\u001b[0;34m)\u001b[0m\u001b[0;34m\u001b[0m\u001b[0;34m\u001b[0m\u001b[0m\n\u001b[0m\u001b[1;32m    213\u001b[0m \u001b[0;34m\u001b[0m\u001b[0m\n\u001b[1;32m    214\u001b[0m \u001b[0;34m\u001b[0m\u001b[0m\n",
            "\u001b[0;32m/usr/lib/python3.8/urllib/request.py\u001b[0m in \u001b[0;36murlopen\u001b[0;34m(url, data, timeout, cafile, capath, cadefault, context)\u001b[0m\n\u001b[1;32m    220\u001b[0m     \u001b[0;32melse\u001b[0m\u001b[0;34m:\u001b[0m\u001b[0;34m\u001b[0m\u001b[0;34m\u001b[0m\u001b[0m\n\u001b[1;32m    221\u001b[0m         \u001b[0mopener\u001b[0m \u001b[0;34m=\u001b[0m \u001b[0m_opener\u001b[0m\u001b[0;34m\u001b[0m\u001b[0;34m\u001b[0m\u001b[0m\n\u001b[0;32m--> 222\u001b[0;31m     \u001b[0;32mreturn\u001b[0m \u001b[0mopener\u001b[0m\u001b[0;34m.\u001b[0m\u001b[0mopen\u001b[0m\u001b[0;34m(\u001b[0m\u001b[0murl\u001b[0m\u001b[0;34m,\u001b[0m \u001b[0mdata\u001b[0m\u001b[0;34m,\u001b[0m \u001b[0mtimeout\u001b[0m\u001b[0;34m)\u001b[0m\u001b[0;34m\u001b[0m\u001b[0;34m\u001b[0m\u001b[0m\n\u001b[0m\u001b[1;32m    223\u001b[0m \u001b[0;34m\u001b[0m\u001b[0m\n\u001b[1;32m    224\u001b[0m \u001b[0;32mdef\u001b[0m \u001b[0minstall_opener\u001b[0m\u001b[0;34m(\u001b[0m\u001b[0mopener\u001b[0m\u001b[0;34m)\u001b[0m\u001b[0;34m:\u001b[0m\u001b[0;34m\u001b[0m\u001b[0;34m\u001b[0m\u001b[0m\n",
            "\u001b[0;32m/usr/lib/python3.8/urllib/request.py\u001b[0m in \u001b[0;36mopen\u001b[0;34m(self, fullurl, data, timeout)\u001b[0m\n\u001b[1;32m    523\u001b[0m \u001b[0;34m\u001b[0m\u001b[0m\n\u001b[1;32m    524\u001b[0m         \u001b[0msys\u001b[0m\u001b[0;34m.\u001b[0m\u001b[0maudit\u001b[0m\u001b[0;34m(\u001b[0m\u001b[0;34m'urllib.Request'\u001b[0m\u001b[0;34m,\u001b[0m \u001b[0mreq\u001b[0m\u001b[0;34m.\u001b[0m\u001b[0mfull_url\u001b[0m\u001b[0;34m,\u001b[0m \u001b[0mreq\u001b[0m\u001b[0;34m.\u001b[0m\u001b[0mdata\u001b[0m\u001b[0;34m,\u001b[0m \u001b[0mreq\u001b[0m\u001b[0;34m.\u001b[0m\u001b[0mheaders\u001b[0m\u001b[0;34m,\u001b[0m \u001b[0mreq\u001b[0m\u001b[0;34m.\u001b[0m\u001b[0mget_method\u001b[0m\u001b[0;34m(\u001b[0m\u001b[0;34m)\u001b[0m\u001b[0;34m)\u001b[0m\u001b[0;34m\u001b[0m\u001b[0;34m\u001b[0m\u001b[0m\n\u001b[0;32m--> 525\u001b[0;31m         \u001b[0mresponse\u001b[0m \u001b[0;34m=\u001b[0m \u001b[0mself\u001b[0m\u001b[0;34m.\u001b[0m\u001b[0m_open\u001b[0m\u001b[0;34m(\u001b[0m\u001b[0mreq\u001b[0m\u001b[0;34m,\u001b[0m \u001b[0mdata\u001b[0m\u001b[0;34m)\u001b[0m\u001b[0;34m\u001b[0m\u001b[0;34m\u001b[0m\u001b[0m\n\u001b[0m\u001b[1;32m    526\u001b[0m \u001b[0;34m\u001b[0m\u001b[0m\n\u001b[1;32m    527\u001b[0m         \u001b[0;31m# post-process response\u001b[0m\u001b[0;34m\u001b[0m\u001b[0;34m\u001b[0m\u001b[0;34m\u001b[0m\u001b[0m\n",
            "\u001b[0;32m/usr/lib/python3.8/urllib/request.py\u001b[0m in \u001b[0;36m_open\u001b[0;34m(self, req, data)\u001b[0m\n\u001b[1;32m    540\u001b[0m \u001b[0;34m\u001b[0m\u001b[0m\n\u001b[1;32m    541\u001b[0m         \u001b[0mprotocol\u001b[0m \u001b[0;34m=\u001b[0m \u001b[0mreq\u001b[0m\u001b[0;34m.\u001b[0m\u001b[0mtype\u001b[0m\u001b[0;34m\u001b[0m\u001b[0;34m\u001b[0m\u001b[0m\n\u001b[0;32m--> 542\u001b[0;31m         result = self._call_chain(self.handle_open, protocol, protocol +\n\u001b[0m\u001b[1;32m    543\u001b[0m                                   '_open', req)\n\u001b[1;32m    544\u001b[0m         \u001b[0;32mif\u001b[0m \u001b[0mresult\u001b[0m\u001b[0;34m:\u001b[0m\u001b[0;34m\u001b[0m\u001b[0;34m\u001b[0m\u001b[0m\n",
            "\u001b[0;32m/usr/lib/python3.8/urllib/request.py\u001b[0m in \u001b[0;36m_call_chain\u001b[0;34m(self, chain, kind, meth_name, *args)\u001b[0m\n\u001b[1;32m    500\u001b[0m         \u001b[0;32mfor\u001b[0m \u001b[0mhandler\u001b[0m \u001b[0;32min\u001b[0m \u001b[0mhandlers\u001b[0m\u001b[0;34m:\u001b[0m\u001b[0;34m\u001b[0m\u001b[0;34m\u001b[0m\u001b[0m\n\u001b[1;32m    501\u001b[0m             \u001b[0mfunc\u001b[0m \u001b[0;34m=\u001b[0m \u001b[0mgetattr\u001b[0m\u001b[0;34m(\u001b[0m\u001b[0mhandler\u001b[0m\u001b[0;34m,\u001b[0m \u001b[0mmeth_name\u001b[0m\u001b[0;34m)\u001b[0m\u001b[0;34m\u001b[0m\u001b[0;34m\u001b[0m\u001b[0m\n\u001b[0;32m--> 502\u001b[0;31m             \u001b[0mresult\u001b[0m \u001b[0;34m=\u001b[0m \u001b[0mfunc\u001b[0m\u001b[0;34m(\u001b[0m\u001b[0;34m*\u001b[0m\u001b[0margs\u001b[0m\u001b[0;34m)\u001b[0m\u001b[0;34m\u001b[0m\u001b[0;34m\u001b[0m\u001b[0m\n\u001b[0m\u001b[1;32m    503\u001b[0m             \u001b[0;32mif\u001b[0m \u001b[0mresult\u001b[0m \u001b[0;32mis\u001b[0m \u001b[0;32mnot\u001b[0m \u001b[0;32mNone\u001b[0m\u001b[0;34m:\u001b[0m\u001b[0;34m\u001b[0m\u001b[0;34m\u001b[0m\u001b[0m\n\u001b[1;32m    504\u001b[0m                 \u001b[0;32mreturn\u001b[0m \u001b[0mresult\u001b[0m\u001b[0;34m\u001b[0m\u001b[0;34m\u001b[0m\u001b[0m\n",
            "\u001b[0;32m/usr/lib/python3.8/urllib/request.py\u001b[0m in \u001b[0;36mhttps_open\u001b[0;34m(self, req)\u001b[0m\n\u001b[1;32m   1395\u001b[0m \u001b[0;34m\u001b[0m\u001b[0m\n\u001b[1;32m   1396\u001b[0m         \u001b[0;32mdef\u001b[0m \u001b[0mhttps_open\u001b[0m\u001b[0;34m(\u001b[0m\u001b[0mself\u001b[0m\u001b[0;34m,\u001b[0m \u001b[0mreq\u001b[0m\u001b[0;34m)\u001b[0m\u001b[0;34m:\u001b[0m\u001b[0;34m\u001b[0m\u001b[0;34m\u001b[0m\u001b[0m\n\u001b[0;32m-> 1397\u001b[0;31m             return self.do_open(http.client.HTTPSConnection, req,\n\u001b[0m\u001b[1;32m   1398\u001b[0m                 context=self._context, check_hostname=self._check_hostname)\n\u001b[1;32m   1399\u001b[0m \u001b[0;34m\u001b[0m\u001b[0m\n",
            "\u001b[0;32m/usr/lib/python3.8/urllib/request.py\u001b[0m in \u001b[0;36mdo_open\u001b[0;34m(self, http_class, req, **http_conn_args)\u001b[0m\n\u001b[1;32m   1355\u001b[0m                           encode_chunked=req.has_header('Transfer-encoding'))\n\u001b[1;32m   1356\u001b[0m             \u001b[0;32mexcept\u001b[0m \u001b[0mOSError\u001b[0m \u001b[0;32mas\u001b[0m \u001b[0merr\u001b[0m\u001b[0;34m:\u001b[0m \u001b[0;31m# timeout error\u001b[0m\u001b[0;34m\u001b[0m\u001b[0;34m\u001b[0m\u001b[0m\n\u001b[0;32m-> 1357\u001b[0;31m                 \u001b[0;32mraise\u001b[0m \u001b[0mURLError\u001b[0m\u001b[0;34m(\u001b[0m\u001b[0merr\u001b[0m\u001b[0;34m)\u001b[0m\u001b[0;34m\u001b[0m\u001b[0;34m\u001b[0m\u001b[0m\n\u001b[0m\u001b[1;32m   1358\u001b[0m             \u001b[0mr\u001b[0m \u001b[0;34m=\u001b[0m \u001b[0mh\u001b[0m\u001b[0;34m.\u001b[0m\u001b[0mgetresponse\u001b[0m\u001b[0;34m(\u001b[0m\u001b[0;34m)\u001b[0m\u001b[0;34m\u001b[0m\u001b[0;34m\u001b[0m\u001b[0m\n\u001b[1;32m   1359\u001b[0m         \u001b[0;32mexcept\u001b[0m\u001b[0;34m:\u001b[0m\u001b[0;34m\u001b[0m\u001b[0;34m\u001b[0m\u001b[0m\n",
            "\u001b[0;31mURLError\u001b[0m: <urlopen error [Errno 110] Connection timed out>"
          ]
        }
      ]
    },
    {
      "cell_type": "code",
      "source": [
        "df.head()"
      ],
      "metadata": {
        "id": "yrAYFSBkUxxh"
      },
      "execution_count": null,
      "outputs": []
    },
    {
      "cell_type": "markdown",
      "source": [
        "### 將 DataFrame 轉存成不同格式"
      ],
      "metadata": {
        "id": "6-7XVnW3Weyy"
      }
    },
    {
      "cell_type": "code",
      "source": [
        "df.to_excel('實價登錄資料.xlsx')"
      ],
      "metadata": {
        "id": "tXAa5SQjVeVy"
      },
      "execution_count": null,
      "outputs": []
    },
    {
      "cell_type": "code",
      "source": [
        "df.head(100).to_html('實價登錄前一百筆資料.html')"
      ],
      "metadata": {
        "id": "5URRUnWyWhuT"
      },
      "execution_count": null,
      "outputs": []
    },
    {
      "cell_type": "markdown",
      "source": [
        "## 檔案的IO"
      ],
      "metadata": {
        "id": "b1czIQppYxNg"
      }
    },
    {
      "cell_type": "markdown",
      "source": [
        "### 文字檔\n"
      ],
      "metadata": {
        "id": "hTChcW3KY-S_"
      }
    },
    {
      "cell_type": "markdown",
      "source": [
        "一般作法：\n",
        "\n",
        "```python\n",
        "f = open('test.txt', 'w')\n",
        "f.write(data)\n",
        "f.close()\n",
        "```"
      ],
      "metadata": {
        "id": "Sl0-AjdlZggv"
      }
    },
    {
      "cell_type": "markdown",
      "source": [
        "替代性作法：\n",
        "```python\n",
        "with open('test.txt', 'w') as f:\n",
        "  f.write(data)\n",
        "```"
      ],
      "metadata": {
        "id": "K7Mopgr1ZU1U"
      }
    },
    {
      "cell_type": "markdown",
      "source": [
        "### 二進位檔 (Binary Files)\n",
        "\n",
        "譬如：圖片, excel檔等"
      ],
      "metadata": {
        "id": "To9cGHCZZAze"
      }
    },
    {
      "cell_type": "markdown",
      "source": [
        "一般作法：\n",
        "\n",
        "```python\n",
        "f = open('test.jpg', 'wb')\n",
        "f.write(data)\n",
        "f.close()\n",
        "```"
      ],
      "metadata": {
        "id": "m_cGCKPLaWVI"
      }
    },
    {
      "cell_type": "markdown",
      "source": [
        "替代性作法：\n",
        "```python\n",
        "with open('test.jpg', 'wb') as f:\n",
        "  f.write(data)\n",
        "```"
      ],
      "metadata": {
        "id": "r4-9AjP3agSg"
      }
    },
    {
      "cell_type": "markdown",
      "source": [
        "### 抓取網頁原始碼並存成文字檔"
      ],
      "metadata": {
        "id": "kCC15gDWakiA"
      }
    },
    {
      "cell_type": "code",
      "source": [
        "url = \"https://victorgau.github.io/khpy_web_intro/html_only.html\""
      ],
      "metadata": {
        "id": "96i02G1FY7kT"
      },
      "execution_count": 112,
      "outputs": []
    },
    {
      "cell_type": "code",
      "source": [
        "r = requests.get(url)"
      ],
      "metadata": {
        "id": "fWEFksFJa6tq"
      },
      "execution_count": 113,
      "outputs": []
    },
    {
      "cell_type": "code",
      "source": [
        "with open('index.html', 'w') as f:\n",
        "  f.write(r.text)"
      ],
      "metadata": {
        "id": "tYTvYGhba9xQ"
      },
      "execution_count": 115,
      "outputs": []
    },
    {
      "cell_type": "markdown",
      "source": [
        "### 抓取圖片並存成圖片檔"
      ],
      "metadata": {
        "id": "9yny3nITbZYy"
      }
    },
    {
      "cell_type": "code",
      "source": [
        "url = \"https://victorgau.github.io/khpy_web_intro/ninja.jpg\""
      ],
      "metadata": {
        "id": "z20ImorUa_zA"
      },
      "execution_count": 116,
      "outputs": []
    },
    {
      "cell_type": "code",
      "source": [
        "r = requests.get(url)"
      ],
      "metadata": {
        "id": "cfraOg_DbaOz"
      },
      "execution_count": 119,
      "outputs": []
    },
    {
      "cell_type": "code",
      "source": [
        "with open('ninja.jpg', 'wb') as f:\n",
        "  f.write(r.content)"
      ],
      "metadata": {
        "id": "J8p8Ak33bfJw"
      },
      "execution_count": 120,
      "outputs": []
    },
    {
      "cell_type": "markdown",
      "source": [
        "## 練習 Pandas 的使用"
      ],
      "metadata": {
        "id": "C8l70KFZiK5m"
      }
    },
    {
      "cell_type": "code",
      "source": [
        "import numpy as np\n",
        "import pandas as pd"
      ],
      "metadata": {
        "id": "xhAshm4Wbg98"
      },
      "execution_count": 125,
      "outputs": []
    },
    {
      "cell_type": "code",
      "source": [
        "# 大於30分 小於等於101 4組資料10位\n",
        "grades = np.random.randint(30, 101, (10, 4))"
      ],
      "metadata": {
        "id": "xH6USBoIifna"
      },
      "execution_count": 128,
      "outputs": []
    },
    {
      "cell_type": "code",
      "source": [
        "grades"
      ],
      "metadata": {
        "colab": {
          "base_uri": "https://localhost:8080/"
        },
        "id": "h72lFCNEiw6o",
        "outputId": "90276e1a-aabb-4817-f701-6357a44b1eb9"
      },
      "execution_count": 129,
      "outputs": [
        {
          "output_type": "execute_result",
          "data": {
            "text/plain": [
              "array([[68, 66, 35, 56],\n",
              "       [95, 54, 65, 43],\n",
              "       [40, 55, 72, 87],\n",
              "       [35, 64, 73, 64],\n",
              "       [98, 81, 84, 37],\n",
              "       [97, 65, 96, 86],\n",
              "       [48, 74, 78, 99],\n",
              "       [30, 43, 54, 58],\n",
              "       [46, 61, 54, 44],\n",
              "       [39, 62, 63, 87]])"
            ]
          },
          "metadata": {},
          "execution_count": 129
        }
      ]
    },
    {
      "cell_type": "code",
      "source": [
        "df = pd.DataFrame(grades)"
      ],
      "metadata": {
        "id": "1DXCKMKXjDxh"
      },
      "execution_count": 130,
      "outputs": []
    },
    {
      "cell_type": "code",
      "source": [
        "df"
      ],
      "metadata": {
        "colab": {
          "base_uri": "https://localhost:8080/",
          "height": 363
        },
        "id": "3qn-Z7eujIKJ",
        "outputId": "e3dad9da-02fc-437a-b561-354b27362c80"
      },
      "execution_count": 131,
      "outputs": [
        {
          "output_type": "execute_result",
          "data": {
            "text/plain": [
              "    0   1   2   3\n",
              "0  68  66  35  56\n",
              "1  95  54  65  43\n",
              "2  40  55  72  87\n",
              "3  35  64  73  64\n",
              "4  98  81  84  37\n",
              "5  97  65  96  86\n",
              "6  48  74  78  99\n",
              "7  30  43  54  58\n",
              "8  46  61  54  44\n",
              "9  39  62  63  87"
            ],
            "text/html": [
              "\n",
              "  <div id=\"df-44af67db-bf4d-4ff0-b512-86b406244285\">\n",
              "    <div class=\"colab-df-container\">\n",
              "      <div>\n",
              "<style scoped>\n",
              "    .dataframe tbody tr th:only-of-type {\n",
              "        vertical-align: middle;\n",
              "    }\n",
              "\n",
              "    .dataframe tbody tr th {\n",
              "        vertical-align: top;\n",
              "    }\n",
              "\n",
              "    .dataframe thead th {\n",
              "        text-align: right;\n",
              "    }\n",
              "</style>\n",
              "<table border=\"1\" class=\"dataframe\">\n",
              "  <thead>\n",
              "    <tr style=\"text-align: right;\">\n",
              "      <th></th>\n",
              "      <th>0</th>\n",
              "      <th>1</th>\n",
              "      <th>2</th>\n",
              "      <th>3</th>\n",
              "    </tr>\n",
              "  </thead>\n",
              "  <tbody>\n",
              "    <tr>\n",
              "      <th>0</th>\n",
              "      <td>68</td>\n",
              "      <td>66</td>\n",
              "      <td>35</td>\n",
              "      <td>56</td>\n",
              "    </tr>\n",
              "    <tr>\n",
              "      <th>1</th>\n",
              "      <td>95</td>\n",
              "      <td>54</td>\n",
              "      <td>65</td>\n",
              "      <td>43</td>\n",
              "    </tr>\n",
              "    <tr>\n",
              "      <th>2</th>\n",
              "      <td>40</td>\n",
              "      <td>55</td>\n",
              "      <td>72</td>\n",
              "      <td>87</td>\n",
              "    </tr>\n",
              "    <tr>\n",
              "      <th>3</th>\n",
              "      <td>35</td>\n",
              "      <td>64</td>\n",
              "      <td>73</td>\n",
              "      <td>64</td>\n",
              "    </tr>\n",
              "    <tr>\n",
              "      <th>4</th>\n",
              "      <td>98</td>\n",
              "      <td>81</td>\n",
              "      <td>84</td>\n",
              "      <td>37</td>\n",
              "    </tr>\n",
              "    <tr>\n",
              "      <th>5</th>\n",
              "      <td>97</td>\n",
              "      <td>65</td>\n",
              "      <td>96</td>\n",
              "      <td>86</td>\n",
              "    </tr>\n",
              "    <tr>\n",
              "      <th>6</th>\n",
              "      <td>48</td>\n",
              "      <td>74</td>\n",
              "      <td>78</td>\n",
              "      <td>99</td>\n",
              "    </tr>\n",
              "    <tr>\n",
              "      <th>7</th>\n",
              "      <td>30</td>\n",
              "      <td>43</td>\n",
              "      <td>54</td>\n",
              "      <td>58</td>\n",
              "    </tr>\n",
              "    <tr>\n",
              "      <th>8</th>\n",
              "      <td>46</td>\n",
              "      <td>61</td>\n",
              "      <td>54</td>\n",
              "      <td>44</td>\n",
              "    </tr>\n",
              "    <tr>\n",
              "      <th>9</th>\n",
              "      <td>39</td>\n",
              "      <td>62</td>\n",
              "      <td>63</td>\n",
              "      <td>87</td>\n",
              "    </tr>\n",
              "  </tbody>\n",
              "</table>\n",
              "</div>\n",
              "      <button class=\"colab-df-convert\" onclick=\"convertToInteractive('df-44af67db-bf4d-4ff0-b512-86b406244285')\"\n",
              "              title=\"Convert this dataframe to an interactive table.\"\n",
              "              style=\"display:none;\">\n",
              "        \n",
              "  <svg xmlns=\"http://www.w3.org/2000/svg\" height=\"24px\"viewBox=\"0 0 24 24\"\n",
              "       width=\"24px\">\n",
              "    <path d=\"M0 0h24v24H0V0z\" fill=\"none\"/>\n",
              "    <path d=\"M18.56 5.44l.94 2.06.94-2.06 2.06-.94-2.06-.94-.94-2.06-.94 2.06-2.06.94zm-11 1L8.5 8.5l.94-2.06 2.06-.94-2.06-.94L8.5 2.5l-.94 2.06-2.06.94zm10 10l.94 2.06.94-2.06 2.06-.94-2.06-.94-.94-2.06-.94 2.06-2.06.94z\"/><path d=\"M17.41 7.96l-1.37-1.37c-.4-.4-.92-.59-1.43-.59-.52 0-1.04.2-1.43.59L10.3 9.45l-7.72 7.72c-.78.78-.78 2.05 0 2.83L4 21.41c.39.39.9.59 1.41.59.51 0 1.02-.2 1.41-.59l7.78-7.78 2.81-2.81c.8-.78.8-2.07 0-2.86zM5.41 20L4 18.59l7.72-7.72 1.47 1.35L5.41 20z\"/>\n",
              "  </svg>\n",
              "      </button>\n",
              "      \n",
              "  <style>\n",
              "    .colab-df-container {\n",
              "      display:flex;\n",
              "      flex-wrap:wrap;\n",
              "      gap: 12px;\n",
              "    }\n",
              "\n",
              "    .colab-df-convert {\n",
              "      background-color: #E8F0FE;\n",
              "      border: none;\n",
              "      border-radius: 50%;\n",
              "      cursor: pointer;\n",
              "      display: none;\n",
              "      fill: #1967D2;\n",
              "      height: 32px;\n",
              "      padding: 0 0 0 0;\n",
              "      width: 32px;\n",
              "    }\n",
              "\n",
              "    .colab-df-convert:hover {\n",
              "      background-color: #E2EBFA;\n",
              "      box-shadow: 0px 1px 2px rgba(60, 64, 67, 0.3), 0px 1px 3px 1px rgba(60, 64, 67, 0.15);\n",
              "      fill: #174EA6;\n",
              "    }\n",
              "\n",
              "    [theme=dark] .colab-df-convert {\n",
              "      background-color: #3B4455;\n",
              "      fill: #D2E3FC;\n",
              "    }\n",
              "\n",
              "    [theme=dark] .colab-df-convert:hover {\n",
              "      background-color: #434B5C;\n",
              "      box-shadow: 0px 1px 3px 1px rgba(0, 0, 0, 0.15);\n",
              "      filter: drop-shadow(0px 1px 2px rgba(0, 0, 0, 0.3));\n",
              "      fill: #FFFFFF;\n",
              "    }\n",
              "  </style>\n",
              "\n",
              "      <script>\n",
              "        const buttonEl =\n",
              "          document.querySelector('#df-44af67db-bf4d-4ff0-b512-86b406244285 button.colab-df-convert');\n",
              "        buttonEl.style.display =\n",
              "          google.colab.kernel.accessAllowed ? 'block' : 'none';\n",
              "\n",
              "        async function convertToInteractive(key) {\n",
              "          const element = document.querySelector('#df-44af67db-bf4d-4ff0-b512-86b406244285');\n",
              "          const dataTable =\n",
              "            await google.colab.kernel.invokeFunction('convertToInteractive',\n",
              "                                                     [key], {});\n",
              "          if (!dataTable) return;\n",
              "\n",
              "          const docLinkHtml = 'Like what you see? Visit the ' +\n",
              "            '<a target=\"_blank\" href=https://colab.research.google.com/notebooks/data_table.ipynb>data table notebook</a>'\n",
              "            + ' to learn more about interactive tables.';\n",
              "          element.innerHTML = '';\n",
              "          dataTable['output_type'] = 'display_data';\n",
              "          await google.colab.output.renderOutput(dataTable, element);\n",
              "          const docLink = document.createElement('div');\n",
              "          docLink.innerHTML = docLinkHtml;\n",
              "          element.appendChild(docLink);\n",
              "        }\n",
              "      </script>\n",
              "    </div>\n",
              "  </div>\n",
              "  "
            ]
          },
          "metadata": {},
          "execution_count": 131
        }
      ]
    },
    {
      "cell_type": "code",
      "source": [
        "df.columns = ['國文','英文','數學','理化']"
      ],
      "metadata": {
        "id": "IrDqJEfHjMPX"
      },
      "execution_count": 132,
      "outputs": []
    },
    {
      "cell_type": "code",
      "source": [
        "df"
      ],
      "metadata": {
        "colab": {
          "base_uri": "https://localhost:8080/",
          "height": 363
        },
        "id": "tn9YQDvajWxT",
        "outputId": "16979cf5-35ea-4adb-c119-002b9f8fb616"
      },
      "execution_count": 133,
      "outputs": [
        {
          "output_type": "execute_result",
          "data": {
            "text/plain": [
              "   國文  英文  數學  理化\n",
              "0  68  66  35  56\n",
              "1  95  54  65  43\n",
              "2  40  55  72  87\n",
              "3  35  64  73  64\n",
              "4  98  81  84  37\n",
              "5  97  65  96  86\n",
              "6  48  74  78  99\n",
              "7  30  43  54  58\n",
              "8  46  61  54  44\n",
              "9  39  62  63  87"
            ],
            "text/html": [
              "\n",
              "  <div id=\"df-87ef6aa5-d4e4-4b27-919a-c02de20abcc6\">\n",
              "    <div class=\"colab-df-container\">\n",
              "      <div>\n",
              "<style scoped>\n",
              "    .dataframe tbody tr th:only-of-type {\n",
              "        vertical-align: middle;\n",
              "    }\n",
              "\n",
              "    .dataframe tbody tr th {\n",
              "        vertical-align: top;\n",
              "    }\n",
              "\n",
              "    .dataframe thead th {\n",
              "        text-align: right;\n",
              "    }\n",
              "</style>\n",
              "<table border=\"1\" class=\"dataframe\">\n",
              "  <thead>\n",
              "    <tr style=\"text-align: right;\">\n",
              "      <th></th>\n",
              "      <th>國文</th>\n",
              "      <th>英文</th>\n",
              "      <th>數學</th>\n",
              "      <th>理化</th>\n",
              "    </tr>\n",
              "  </thead>\n",
              "  <tbody>\n",
              "    <tr>\n",
              "      <th>0</th>\n",
              "      <td>68</td>\n",
              "      <td>66</td>\n",
              "      <td>35</td>\n",
              "      <td>56</td>\n",
              "    </tr>\n",
              "    <tr>\n",
              "      <th>1</th>\n",
              "      <td>95</td>\n",
              "      <td>54</td>\n",
              "      <td>65</td>\n",
              "      <td>43</td>\n",
              "    </tr>\n",
              "    <tr>\n",
              "      <th>2</th>\n",
              "      <td>40</td>\n",
              "      <td>55</td>\n",
              "      <td>72</td>\n",
              "      <td>87</td>\n",
              "    </tr>\n",
              "    <tr>\n",
              "      <th>3</th>\n",
              "      <td>35</td>\n",
              "      <td>64</td>\n",
              "      <td>73</td>\n",
              "      <td>64</td>\n",
              "    </tr>\n",
              "    <tr>\n",
              "      <th>4</th>\n",
              "      <td>98</td>\n",
              "      <td>81</td>\n",
              "      <td>84</td>\n",
              "      <td>37</td>\n",
              "    </tr>\n",
              "    <tr>\n",
              "      <th>5</th>\n",
              "      <td>97</td>\n",
              "      <td>65</td>\n",
              "      <td>96</td>\n",
              "      <td>86</td>\n",
              "    </tr>\n",
              "    <tr>\n",
              "      <th>6</th>\n",
              "      <td>48</td>\n",
              "      <td>74</td>\n",
              "      <td>78</td>\n",
              "      <td>99</td>\n",
              "    </tr>\n",
              "    <tr>\n",
              "      <th>7</th>\n",
              "      <td>30</td>\n",
              "      <td>43</td>\n",
              "      <td>54</td>\n",
              "      <td>58</td>\n",
              "    </tr>\n",
              "    <tr>\n",
              "      <th>8</th>\n",
              "      <td>46</td>\n",
              "      <td>61</td>\n",
              "      <td>54</td>\n",
              "      <td>44</td>\n",
              "    </tr>\n",
              "    <tr>\n",
              "      <th>9</th>\n",
              "      <td>39</td>\n",
              "      <td>62</td>\n",
              "      <td>63</td>\n",
              "      <td>87</td>\n",
              "    </tr>\n",
              "  </tbody>\n",
              "</table>\n",
              "</div>\n",
              "      <button class=\"colab-df-convert\" onclick=\"convertToInteractive('df-87ef6aa5-d4e4-4b27-919a-c02de20abcc6')\"\n",
              "              title=\"Convert this dataframe to an interactive table.\"\n",
              "              style=\"display:none;\">\n",
              "        \n",
              "  <svg xmlns=\"http://www.w3.org/2000/svg\" height=\"24px\"viewBox=\"0 0 24 24\"\n",
              "       width=\"24px\">\n",
              "    <path d=\"M0 0h24v24H0V0z\" fill=\"none\"/>\n",
              "    <path d=\"M18.56 5.44l.94 2.06.94-2.06 2.06-.94-2.06-.94-.94-2.06-.94 2.06-2.06.94zm-11 1L8.5 8.5l.94-2.06 2.06-.94-2.06-.94L8.5 2.5l-.94 2.06-2.06.94zm10 10l.94 2.06.94-2.06 2.06-.94-2.06-.94-.94-2.06-.94 2.06-2.06.94z\"/><path d=\"M17.41 7.96l-1.37-1.37c-.4-.4-.92-.59-1.43-.59-.52 0-1.04.2-1.43.59L10.3 9.45l-7.72 7.72c-.78.78-.78 2.05 0 2.83L4 21.41c.39.39.9.59 1.41.59.51 0 1.02-.2 1.41-.59l7.78-7.78 2.81-2.81c.8-.78.8-2.07 0-2.86zM5.41 20L4 18.59l7.72-7.72 1.47 1.35L5.41 20z\"/>\n",
              "  </svg>\n",
              "      </button>\n",
              "      \n",
              "  <style>\n",
              "    .colab-df-container {\n",
              "      display:flex;\n",
              "      flex-wrap:wrap;\n",
              "      gap: 12px;\n",
              "    }\n",
              "\n",
              "    .colab-df-convert {\n",
              "      background-color: #E8F0FE;\n",
              "      border: none;\n",
              "      border-radius: 50%;\n",
              "      cursor: pointer;\n",
              "      display: none;\n",
              "      fill: #1967D2;\n",
              "      height: 32px;\n",
              "      padding: 0 0 0 0;\n",
              "      width: 32px;\n",
              "    }\n",
              "\n",
              "    .colab-df-convert:hover {\n",
              "      background-color: #E2EBFA;\n",
              "      box-shadow: 0px 1px 2px rgba(60, 64, 67, 0.3), 0px 1px 3px 1px rgba(60, 64, 67, 0.15);\n",
              "      fill: #174EA6;\n",
              "    }\n",
              "\n",
              "    [theme=dark] .colab-df-convert {\n",
              "      background-color: #3B4455;\n",
              "      fill: #D2E3FC;\n",
              "    }\n",
              "\n",
              "    [theme=dark] .colab-df-convert:hover {\n",
              "      background-color: #434B5C;\n",
              "      box-shadow: 0px 1px 3px 1px rgba(0, 0, 0, 0.15);\n",
              "      filter: drop-shadow(0px 1px 2px rgba(0, 0, 0, 0.3));\n",
              "      fill: #FFFFFF;\n",
              "    }\n",
              "  </style>\n",
              "\n",
              "      <script>\n",
              "        const buttonEl =\n",
              "          document.querySelector('#df-87ef6aa5-d4e4-4b27-919a-c02de20abcc6 button.colab-df-convert');\n",
              "        buttonEl.style.display =\n",
              "          google.colab.kernel.accessAllowed ? 'block' : 'none';\n",
              "\n",
              "        async function convertToInteractive(key) {\n",
              "          const element = document.querySelector('#df-87ef6aa5-d4e4-4b27-919a-c02de20abcc6');\n",
              "          const dataTable =\n",
              "            await google.colab.kernel.invokeFunction('convertToInteractive',\n",
              "                                                     [key], {});\n",
              "          if (!dataTable) return;\n",
              "\n",
              "          const docLinkHtml = 'Like what you see? Visit the ' +\n",
              "            '<a target=\"_blank\" href=https://colab.research.google.com/notebooks/data_table.ipynb>data table notebook</a>'\n",
              "            + ' to learn more about interactive tables.';\n",
              "          element.innerHTML = '';\n",
              "          dataTable['output_type'] = 'display_data';\n",
              "          await google.colab.output.renderOutput(dataTable, element);\n",
              "          const docLink = document.createElement('div');\n",
              "          docLink.innerHTML = docLinkHtml;\n",
              "          element.appendChild(docLink);\n",
              "        }\n",
              "      </script>\n",
              "    </div>\n",
              "  </div>\n",
              "  "
            ]
          },
          "metadata": {},
          "execution_count": 133
        }
      ]
    },
    {
      "cell_type": "code",
      "source": [
        "df.index = [\"郭雅惠\",\"陳欣虹\",\"王孟修\",\"李政勇\",\n",
        "            \"陳仲燦\",\"王寧東\",\"楊雅名\",\"藍冰啟\",\"林玉亨\",\"崔承睿\"]"
      ],
      "metadata": {
        "id": "-6dqxLpEjYO0"
      },
      "execution_count": 134,
      "outputs": []
    },
    {
      "cell_type": "code",
      "source": [
        "df"
      ],
      "metadata": {
        "colab": {
          "base_uri": "https://localhost:8080/",
          "height": 363
        },
        "id": "BgL8hx5Jj1iB",
        "outputId": "d3a3a4a1-c5f5-4dc3-ec3d-bf6e4c80963f"
      },
      "execution_count": 135,
      "outputs": [
        {
          "output_type": "execute_result",
          "data": {
            "text/plain": [
              "     國文  英文  數學  理化\n",
              "郭雅惠  68  66  35  56\n",
              "陳欣虹  95  54  65  43\n",
              "王孟修  40  55  72  87\n",
              "李政勇  35  64  73  64\n",
              "陳仲燦  98  81  84  37\n",
              "王寧東  97  65  96  86\n",
              "楊雅名  48  74  78  99\n",
              "藍冰啟  30  43  54  58\n",
              "林玉亨  46  61  54  44\n",
              "崔承睿  39  62  63  87"
            ],
            "text/html": [
              "\n",
              "  <div id=\"df-37614143-faa1-4644-a41e-033ffc83fc9e\">\n",
              "    <div class=\"colab-df-container\">\n",
              "      <div>\n",
              "<style scoped>\n",
              "    .dataframe tbody tr th:only-of-type {\n",
              "        vertical-align: middle;\n",
              "    }\n",
              "\n",
              "    .dataframe tbody tr th {\n",
              "        vertical-align: top;\n",
              "    }\n",
              "\n",
              "    .dataframe thead th {\n",
              "        text-align: right;\n",
              "    }\n",
              "</style>\n",
              "<table border=\"1\" class=\"dataframe\">\n",
              "  <thead>\n",
              "    <tr style=\"text-align: right;\">\n",
              "      <th></th>\n",
              "      <th>國文</th>\n",
              "      <th>英文</th>\n",
              "      <th>數學</th>\n",
              "      <th>理化</th>\n",
              "    </tr>\n",
              "  </thead>\n",
              "  <tbody>\n",
              "    <tr>\n",
              "      <th>郭雅惠</th>\n",
              "      <td>68</td>\n",
              "      <td>66</td>\n",
              "      <td>35</td>\n",
              "      <td>56</td>\n",
              "    </tr>\n",
              "    <tr>\n",
              "      <th>陳欣虹</th>\n",
              "      <td>95</td>\n",
              "      <td>54</td>\n",
              "      <td>65</td>\n",
              "      <td>43</td>\n",
              "    </tr>\n",
              "    <tr>\n",
              "      <th>王孟修</th>\n",
              "      <td>40</td>\n",
              "      <td>55</td>\n",
              "      <td>72</td>\n",
              "      <td>87</td>\n",
              "    </tr>\n",
              "    <tr>\n",
              "      <th>李政勇</th>\n",
              "      <td>35</td>\n",
              "      <td>64</td>\n",
              "      <td>73</td>\n",
              "      <td>64</td>\n",
              "    </tr>\n",
              "    <tr>\n",
              "      <th>陳仲燦</th>\n",
              "      <td>98</td>\n",
              "      <td>81</td>\n",
              "      <td>84</td>\n",
              "      <td>37</td>\n",
              "    </tr>\n",
              "    <tr>\n",
              "      <th>王寧東</th>\n",
              "      <td>97</td>\n",
              "      <td>65</td>\n",
              "      <td>96</td>\n",
              "      <td>86</td>\n",
              "    </tr>\n",
              "    <tr>\n",
              "      <th>楊雅名</th>\n",
              "      <td>48</td>\n",
              "      <td>74</td>\n",
              "      <td>78</td>\n",
              "      <td>99</td>\n",
              "    </tr>\n",
              "    <tr>\n",
              "      <th>藍冰啟</th>\n",
              "      <td>30</td>\n",
              "      <td>43</td>\n",
              "      <td>54</td>\n",
              "      <td>58</td>\n",
              "    </tr>\n",
              "    <tr>\n",
              "      <th>林玉亨</th>\n",
              "      <td>46</td>\n",
              "      <td>61</td>\n",
              "      <td>54</td>\n",
              "      <td>44</td>\n",
              "    </tr>\n",
              "    <tr>\n",
              "      <th>崔承睿</th>\n",
              "      <td>39</td>\n",
              "      <td>62</td>\n",
              "      <td>63</td>\n",
              "      <td>87</td>\n",
              "    </tr>\n",
              "  </tbody>\n",
              "</table>\n",
              "</div>\n",
              "      <button class=\"colab-df-convert\" onclick=\"convertToInteractive('df-37614143-faa1-4644-a41e-033ffc83fc9e')\"\n",
              "              title=\"Convert this dataframe to an interactive table.\"\n",
              "              style=\"display:none;\">\n",
              "        \n",
              "  <svg xmlns=\"http://www.w3.org/2000/svg\" height=\"24px\"viewBox=\"0 0 24 24\"\n",
              "       width=\"24px\">\n",
              "    <path d=\"M0 0h24v24H0V0z\" fill=\"none\"/>\n",
              "    <path d=\"M18.56 5.44l.94 2.06.94-2.06 2.06-.94-2.06-.94-.94-2.06-.94 2.06-2.06.94zm-11 1L8.5 8.5l.94-2.06 2.06-.94-2.06-.94L8.5 2.5l-.94 2.06-2.06.94zm10 10l.94 2.06.94-2.06 2.06-.94-2.06-.94-.94-2.06-.94 2.06-2.06.94z\"/><path d=\"M17.41 7.96l-1.37-1.37c-.4-.4-.92-.59-1.43-.59-.52 0-1.04.2-1.43.59L10.3 9.45l-7.72 7.72c-.78.78-.78 2.05 0 2.83L4 21.41c.39.39.9.59 1.41.59.51 0 1.02-.2 1.41-.59l7.78-7.78 2.81-2.81c.8-.78.8-2.07 0-2.86zM5.41 20L4 18.59l7.72-7.72 1.47 1.35L5.41 20z\"/>\n",
              "  </svg>\n",
              "      </button>\n",
              "      \n",
              "  <style>\n",
              "    .colab-df-container {\n",
              "      display:flex;\n",
              "      flex-wrap:wrap;\n",
              "      gap: 12px;\n",
              "    }\n",
              "\n",
              "    .colab-df-convert {\n",
              "      background-color: #E8F0FE;\n",
              "      border: none;\n",
              "      border-radius: 50%;\n",
              "      cursor: pointer;\n",
              "      display: none;\n",
              "      fill: #1967D2;\n",
              "      height: 32px;\n",
              "      padding: 0 0 0 0;\n",
              "      width: 32px;\n",
              "    }\n",
              "\n",
              "    .colab-df-convert:hover {\n",
              "      background-color: #E2EBFA;\n",
              "      box-shadow: 0px 1px 2px rgba(60, 64, 67, 0.3), 0px 1px 3px 1px rgba(60, 64, 67, 0.15);\n",
              "      fill: #174EA6;\n",
              "    }\n",
              "\n",
              "    [theme=dark] .colab-df-convert {\n",
              "      background-color: #3B4455;\n",
              "      fill: #D2E3FC;\n",
              "    }\n",
              "\n",
              "    [theme=dark] .colab-df-convert:hover {\n",
              "      background-color: #434B5C;\n",
              "      box-shadow: 0px 1px 3px 1px rgba(0, 0, 0, 0.15);\n",
              "      filter: drop-shadow(0px 1px 2px rgba(0, 0, 0, 0.3));\n",
              "      fill: #FFFFFF;\n",
              "    }\n",
              "  </style>\n",
              "\n",
              "      <script>\n",
              "        const buttonEl =\n",
              "          document.querySelector('#df-37614143-faa1-4644-a41e-033ffc83fc9e button.colab-df-convert');\n",
              "        buttonEl.style.display =\n",
              "          google.colab.kernel.accessAllowed ? 'block' : 'none';\n",
              "\n",
              "        async function convertToInteractive(key) {\n",
              "          const element = document.querySelector('#df-37614143-faa1-4644-a41e-033ffc83fc9e');\n",
              "          const dataTable =\n",
              "            await google.colab.kernel.invokeFunction('convertToInteractive',\n",
              "                                                     [key], {});\n",
              "          if (!dataTable) return;\n",
              "\n",
              "          const docLinkHtml = 'Like what you see? Visit the ' +\n",
              "            '<a target=\"_blank\" href=https://colab.research.google.com/notebooks/data_table.ipynb>data table notebook</a>'\n",
              "            + ' to learn more about interactive tables.';\n",
              "          element.innerHTML = '';\n",
              "          dataTable['output_type'] = 'display_data';\n",
              "          await google.colab.output.renderOutput(dataTable, element);\n",
              "          const docLink = document.createElement('div');\n",
              "          docLink.innerHTML = docLinkHtml;\n",
              "          element.appendChild(docLink);\n",
              "        }\n",
              "      </script>\n",
              "    </div>\n",
              "  </div>\n",
              "  "
            ]
          },
          "metadata": {},
          "execution_count": 135
        }
      ]
    },
    {
      "cell_type": "markdown",
      "source": [
        "## 列出國文不及格的同學"
      ],
      "metadata": {
        "id": "QvsdX-xRj_R9"
      }
    },
    {
      "cell_type": "code",
      "source": [
        "# 取出國文成績\n",
        "df[\"國文\"]"
      ],
      "metadata": {
        "colab": {
          "base_uri": "https://localhost:8080/"
        },
        "id": "ZM1nsIL9j2kd",
        "outputId": "26476000-81ab-4e2f-fc91-a646cf50c3d5"
      },
      "execution_count": 136,
      "outputs": [
        {
          "output_type": "execute_result",
          "data": {
            "text/plain": [
              "郭雅惠    68\n",
              "陳欣虹    95\n",
              "王孟修    40\n",
              "李政勇    35\n",
              "陳仲燦    98\n",
              "王寧東    97\n",
              "楊雅名    48\n",
              "藍冰啟    30\n",
              "林玉亨    46\n",
              "崔承睿    39\n",
              "Name: 國文, dtype: int64"
            ]
          },
          "metadata": {},
          "execution_count": 136
        }
      ]
    },
    {
      "cell_type": "code",
      "source": [
        "# 判斷成績是否及格：True:不及格, False:及格\n",
        "df[\"國文\"] < 60"
      ],
      "metadata": {
        "colab": {
          "base_uri": "https://localhost:8080/"
        },
        "id": "N3g5yXqJkIpI",
        "outputId": "78ec3f03-cefa-489a-a6cc-afd035c58286"
      },
      "execution_count": 140,
      "outputs": [
        {
          "output_type": "execute_result",
          "data": {
            "text/plain": [
              "郭雅惠    False\n",
              "陳欣虹    False\n",
              "王孟修     True\n",
              "李政勇     True\n",
              "陳仲燦    False\n",
              "王寧東    False\n",
              "楊雅名     True\n",
              "藍冰啟     True\n",
              "林玉亨     True\n",
              "崔承睿     True\n",
              "Name: 國文, dtype: bool"
            ]
          },
          "metadata": {},
          "execution_count": 140
        }
      ]
    },
    {
      "cell_type": "code",
      "source": [
        "# Filtering\n",
        "df[df['國文'] < 60]"
      ],
      "metadata": {
        "colab": {
          "base_uri": "https://localhost:8080/",
          "height": 237
        },
        "id": "cBD_MEB6kMEk",
        "outputId": "06eeadf2-736b-4542-a0e1-830b41ab6ed7"
      },
      "execution_count": 141,
      "outputs": [
        {
          "output_type": "execute_result",
          "data": {
            "text/plain": [
              "     國文  英文  數學  理化\n",
              "王孟修  40  55  72  87\n",
              "李政勇  35  64  73  64\n",
              "楊雅名  48  74  78  99\n",
              "藍冰啟  30  43  54  58\n",
              "林玉亨  46  61  54  44\n",
              "崔承睿  39  62  63  87"
            ],
            "text/html": [
              "\n",
              "  <div id=\"df-e5782e04-ba8b-4b83-ba11-44208ea50e50\">\n",
              "    <div class=\"colab-df-container\">\n",
              "      <div>\n",
              "<style scoped>\n",
              "    .dataframe tbody tr th:only-of-type {\n",
              "        vertical-align: middle;\n",
              "    }\n",
              "\n",
              "    .dataframe tbody tr th {\n",
              "        vertical-align: top;\n",
              "    }\n",
              "\n",
              "    .dataframe thead th {\n",
              "        text-align: right;\n",
              "    }\n",
              "</style>\n",
              "<table border=\"1\" class=\"dataframe\">\n",
              "  <thead>\n",
              "    <tr style=\"text-align: right;\">\n",
              "      <th></th>\n",
              "      <th>國文</th>\n",
              "      <th>英文</th>\n",
              "      <th>數學</th>\n",
              "      <th>理化</th>\n",
              "    </tr>\n",
              "  </thead>\n",
              "  <tbody>\n",
              "    <tr>\n",
              "      <th>王孟修</th>\n",
              "      <td>40</td>\n",
              "      <td>55</td>\n",
              "      <td>72</td>\n",
              "      <td>87</td>\n",
              "    </tr>\n",
              "    <tr>\n",
              "      <th>李政勇</th>\n",
              "      <td>35</td>\n",
              "      <td>64</td>\n",
              "      <td>73</td>\n",
              "      <td>64</td>\n",
              "    </tr>\n",
              "    <tr>\n",
              "      <th>楊雅名</th>\n",
              "      <td>48</td>\n",
              "      <td>74</td>\n",
              "      <td>78</td>\n",
              "      <td>99</td>\n",
              "    </tr>\n",
              "    <tr>\n",
              "      <th>藍冰啟</th>\n",
              "      <td>30</td>\n",
              "      <td>43</td>\n",
              "      <td>54</td>\n",
              "      <td>58</td>\n",
              "    </tr>\n",
              "    <tr>\n",
              "      <th>林玉亨</th>\n",
              "      <td>46</td>\n",
              "      <td>61</td>\n",
              "      <td>54</td>\n",
              "      <td>44</td>\n",
              "    </tr>\n",
              "    <tr>\n",
              "      <th>崔承睿</th>\n",
              "      <td>39</td>\n",
              "      <td>62</td>\n",
              "      <td>63</td>\n",
              "      <td>87</td>\n",
              "    </tr>\n",
              "  </tbody>\n",
              "</table>\n",
              "</div>\n",
              "      <button class=\"colab-df-convert\" onclick=\"convertToInteractive('df-e5782e04-ba8b-4b83-ba11-44208ea50e50')\"\n",
              "              title=\"Convert this dataframe to an interactive table.\"\n",
              "              style=\"display:none;\">\n",
              "        \n",
              "  <svg xmlns=\"http://www.w3.org/2000/svg\" height=\"24px\"viewBox=\"0 0 24 24\"\n",
              "       width=\"24px\">\n",
              "    <path d=\"M0 0h24v24H0V0z\" fill=\"none\"/>\n",
              "    <path d=\"M18.56 5.44l.94 2.06.94-2.06 2.06-.94-2.06-.94-.94-2.06-.94 2.06-2.06.94zm-11 1L8.5 8.5l.94-2.06 2.06-.94-2.06-.94L8.5 2.5l-.94 2.06-2.06.94zm10 10l.94 2.06.94-2.06 2.06-.94-2.06-.94-.94-2.06-.94 2.06-2.06.94z\"/><path d=\"M17.41 7.96l-1.37-1.37c-.4-.4-.92-.59-1.43-.59-.52 0-1.04.2-1.43.59L10.3 9.45l-7.72 7.72c-.78.78-.78 2.05 0 2.83L4 21.41c.39.39.9.59 1.41.59.51 0 1.02-.2 1.41-.59l7.78-7.78 2.81-2.81c.8-.78.8-2.07 0-2.86zM5.41 20L4 18.59l7.72-7.72 1.47 1.35L5.41 20z\"/>\n",
              "  </svg>\n",
              "      </button>\n",
              "      \n",
              "  <style>\n",
              "    .colab-df-container {\n",
              "      display:flex;\n",
              "      flex-wrap:wrap;\n",
              "      gap: 12px;\n",
              "    }\n",
              "\n",
              "    .colab-df-convert {\n",
              "      background-color: #E8F0FE;\n",
              "      border: none;\n",
              "      border-radius: 50%;\n",
              "      cursor: pointer;\n",
              "      display: none;\n",
              "      fill: #1967D2;\n",
              "      height: 32px;\n",
              "      padding: 0 0 0 0;\n",
              "      width: 32px;\n",
              "    }\n",
              "\n",
              "    .colab-df-convert:hover {\n",
              "      background-color: #E2EBFA;\n",
              "      box-shadow: 0px 1px 2px rgba(60, 64, 67, 0.3), 0px 1px 3px 1px rgba(60, 64, 67, 0.15);\n",
              "      fill: #174EA6;\n",
              "    }\n",
              "\n",
              "    [theme=dark] .colab-df-convert {\n",
              "      background-color: #3B4455;\n",
              "      fill: #D2E3FC;\n",
              "    }\n",
              "\n",
              "    [theme=dark] .colab-df-convert:hover {\n",
              "      background-color: #434B5C;\n",
              "      box-shadow: 0px 1px 3px 1px rgba(0, 0, 0, 0.15);\n",
              "      filter: drop-shadow(0px 1px 2px rgba(0, 0, 0, 0.3));\n",
              "      fill: #FFFFFF;\n",
              "    }\n",
              "  </style>\n",
              "\n",
              "      <script>\n",
              "        const buttonEl =\n",
              "          document.querySelector('#df-e5782e04-ba8b-4b83-ba11-44208ea50e50 button.colab-df-convert');\n",
              "        buttonEl.style.display =\n",
              "          google.colab.kernel.accessAllowed ? 'block' : 'none';\n",
              "\n",
              "        async function convertToInteractive(key) {\n",
              "          const element = document.querySelector('#df-e5782e04-ba8b-4b83-ba11-44208ea50e50');\n",
              "          const dataTable =\n",
              "            await google.colab.kernel.invokeFunction('convertToInteractive',\n",
              "                                                     [key], {});\n",
              "          if (!dataTable) return;\n",
              "\n",
              "          const docLinkHtml = 'Like what you see? Visit the ' +\n",
              "            '<a target=\"_blank\" href=https://colab.research.google.com/notebooks/data_table.ipynb>data table notebook</a>'\n",
              "            + ' to learn more about interactive tables.';\n",
              "          element.innerHTML = '';\n",
              "          dataTable['output_type'] = 'display_data';\n",
              "          await google.colab.output.renderOutput(dataTable, element);\n",
              "          const docLink = document.createElement('div');\n",
              "          docLink.innerHTML = docLinkHtml;\n",
              "          element.appendChild(docLink);\n",
              "        }\n",
              "      </script>\n",
              "    </div>\n",
              "  </div>\n",
              "  "
            ]
          },
          "metadata": {},
          "execution_count": 141
        }
      ]
    },
    {
      "cell_type": "markdown",
      "source": [
        "## 列出國文英文不及格的同學"
      ],
      "metadata": {
        "id": "G9pO_2Rzk5hQ"
      }
    },
    {
      "cell_type": "code",
      "source": [
        "df[\"英文\"] < 60"
      ],
      "metadata": {
        "colab": {
          "base_uri": "https://localhost:8080/"
        },
        "id": "UZ-3XGnEknfs",
        "outputId": "383df3ee-f540-494d-88ca-8a2628f06147"
      },
      "execution_count": 142,
      "outputs": [
        {
          "output_type": "execute_result",
          "data": {
            "text/plain": [
              "郭雅惠    False\n",
              "陳欣虹     True\n",
              "王孟修     True\n",
              "李政勇    False\n",
              "陳仲燦    False\n",
              "王寧東    False\n",
              "楊雅名    False\n",
              "藍冰啟     True\n",
              "林玉亨    False\n",
              "崔承睿    False\n",
              "Name: 英文, dtype: bool"
            ]
          },
          "metadata": {},
          "execution_count": 142
        }
      ]
    },
    {
      "cell_type": "code",
      "source": [
        "# 使用 & (and) 連接兩個條件 (註: | (or))\n",
        "df[(df['國文'] < 60) & (df[\"英文\"] < 60)]"
      ],
      "metadata": {
        "colab": {
          "base_uri": "https://localhost:8080/",
          "height": 112
        },
        "id": "grW6C9Q4lBhy",
        "outputId": "84fec92d-4bfd-470d-9d0b-e212f014da7c"
      },
      "execution_count": 145,
      "outputs": [
        {
          "output_type": "execute_result",
          "data": {
            "text/plain": [
              "     國文  英文  數學  理化\n",
              "王孟修  40  55  72  87\n",
              "藍冰啟  30  43  54  58"
            ],
            "text/html": [
              "\n",
              "  <div id=\"df-0dce5f2b-fa1b-4746-998b-52ba8e409bc1\">\n",
              "    <div class=\"colab-df-container\">\n",
              "      <div>\n",
              "<style scoped>\n",
              "    .dataframe tbody tr th:only-of-type {\n",
              "        vertical-align: middle;\n",
              "    }\n",
              "\n",
              "    .dataframe tbody tr th {\n",
              "        vertical-align: top;\n",
              "    }\n",
              "\n",
              "    .dataframe thead th {\n",
              "        text-align: right;\n",
              "    }\n",
              "</style>\n",
              "<table border=\"1\" class=\"dataframe\">\n",
              "  <thead>\n",
              "    <tr style=\"text-align: right;\">\n",
              "      <th></th>\n",
              "      <th>國文</th>\n",
              "      <th>英文</th>\n",
              "      <th>數學</th>\n",
              "      <th>理化</th>\n",
              "    </tr>\n",
              "  </thead>\n",
              "  <tbody>\n",
              "    <tr>\n",
              "      <th>王孟修</th>\n",
              "      <td>40</td>\n",
              "      <td>55</td>\n",
              "      <td>72</td>\n",
              "      <td>87</td>\n",
              "    </tr>\n",
              "    <tr>\n",
              "      <th>藍冰啟</th>\n",
              "      <td>30</td>\n",
              "      <td>43</td>\n",
              "      <td>54</td>\n",
              "      <td>58</td>\n",
              "    </tr>\n",
              "  </tbody>\n",
              "</table>\n",
              "</div>\n",
              "      <button class=\"colab-df-convert\" onclick=\"convertToInteractive('df-0dce5f2b-fa1b-4746-998b-52ba8e409bc1')\"\n",
              "              title=\"Convert this dataframe to an interactive table.\"\n",
              "              style=\"display:none;\">\n",
              "        \n",
              "  <svg xmlns=\"http://www.w3.org/2000/svg\" height=\"24px\"viewBox=\"0 0 24 24\"\n",
              "       width=\"24px\">\n",
              "    <path d=\"M0 0h24v24H0V0z\" fill=\"none\"/>\n",
              "    <path d=\"M18.56 5.44l.94 2.06.94-2.06 2.06-.94-2.06-.94-.94-2.06-.94 2.06-2.06.94zm-11 1L8.5 8.5l.94-2.06 2.06-.94-2.06-.94L8.5 2.5l-.94 2.06-2.06.94zm10 10l.94 2.06.94-2.06 2.06-.94-2.06-.94-.94-2.06-.94 2.06-2.06.94z\"/><path d=\"M17.41 7.96l-1.37-1.37c-.4-.4-.92-.59-1.43-.59-.52 0-1.04.2-1.43.59L10.3 9.45l-7.72 7.72c-.78.78-.78 2.05 0 2.83L4 21.41c.39.39.9.59 1.41.59.51 0 1.02-.2 1.41-.59l7.78-7.78 2.81-2.81c.8-.78.8-2.07 0-2.86zM5.41 20L4 18.59l7.72-7.72 1.47 1.35L5.41 20z\"/>\n",
              "  </svg>\n",
              "      </button>\n",
              "      \n",
              "  <style>\n",
              "    .colab-df-container {\n",
              "      display:flex;\n",
              "      flex-wrap:wrap;\n",
              "      gap: 12px;\n",
              "    }\n",
              "\n",
              "    .colab-df-convert {\n",
              "      background-color: #E8F0FE;\n",
              "      border: none;\n",
              "      border-radius: 50%;\n",
              "      cursor: pointer;\n",
              "      display: none;\n",
              "      fill: #1967D2;\n",
              "      height: 32px;\n",
              "      padding: 0 0 0 0;\n",
              "      width: 32px;\n",
              "    }\n",
              "\n",
              "    .colab-df-convert:hover {\n",
              "      background-color: #E2EBFA;\n",
              "      box-shadow: 0px 1px 2px rgba(60, 64, 67, 0.3), 0px 1px 3px 1px rgba(60, 64, 67, 0.15);\n",
              "      fill: #174EA6;\n",
              "    }\n",
              "\n",
              "    [theme=dark] .colab-df-convert {\n",
              "      background-color: #3B4455;\n",
              "      fill: #D2E3FC;\n",
              "    }\n",
              "\n",
              "    [theme=dark] .colab-df-convert:hover {\n",
              "      background-color: #434B5C;\n",
              "      box-shadow: 0px 1px 3px 1px rgba(0, 0, 0, 0.15);\n",
              "      filter: drop-shadow(0px 1px 2px rgba(0, 0, 0, 0.3));\n",
              "      fill: #FFFFFF;\n",
              "    }\n",
              "  </style>\n",
              "\n",
              "      <script>\n",
              "        const buttonEl =\n",
              "          document.querySelector('#df-0dce5f2b-fa1b-4746-998b-52ba8e409bc1 button.colab-df-convert');\n",
              "        buttonEl.style.display =\n",
              "          google.colab.kernel.accessAllowed ? 'block' : 'none';\n",
              "\n",
              "        async function convertToInteractive(key) {\n",
              "          const element = document.querySelector('#df-0dce5f2b-fa1b-4746-998b-52ba8e409bc1');\n",
              "          const dataTable =\n",
              "            await google.colab.kernel.invokeFunction('convertToInteractive',\n",
              "                                                     [key], {});\n",
              "          if (!dataTable) return;\n",
              "\n",
              "          const docLinkHtml = 'Like what you see? Visit the ' +\n",
              "            '<a target=\"_blank\" href=https://colab.research.google.com/notebooks/data_table.ipynb>data table notebook</a>'\n",
              "            + ' to learn more about interactive tables.';\n",
              "          element.innerHTML = '';\n",
              "          dataTable['output_type'] = 'display_data';\n",
              "          await google.colab.output.renderOutput(dataTable, element);\n",
              "          const docLink = document.createElement('div');\n",
              "          docLink.innerHTML = docLinkHtml;\n",
              "          element.appendChild(docLink);\n",
              "        }\n",
              "      </script>\n",
              "    </div>\n",
              "  </div>\n",
              "  "
            ]
          },
          "metadata": {},
          "execution_count": 145
        }
      ]
    },
    {
      "cell_type": "markdown",
      "source": [
        "## 計算總分及平均"
      ],
      "metadata": {
        "id": "bRpKfU6pmDsU"
      }
    },
    {
      "cell_type": "code",
      "source": [
        "df"
      ],
      "metadata": {
        "colab": {
          "base_uri": "https://localhost:8080/",
          "height": 363
        },
        "id": "smdi5_SYlLE9",
        "outputId": "968b9131-ce24-4073-e44b-7552499d9aad"
      },
      "execution_count": 146,
      "outputs": [
        {
          "output_type": "execute_result",
          "data": {
            "text/plain": [
              "     國文  英文  數學  理化\n",
              "郭雅惠  68  66  35  56\n",
              "陳欣虹  95  54  65  43\n",
              "王孟修  40  55  72  87\n",
              "李政勇  35  64  73  64\n",
              "陳仲燦  98  81  84  37\n",
              "王寧東  97  65  96  86\n",
              "楊雅名  48  74  78  99\n",
              "藍冰啟  30  43  54  58\n",
              "林玉亨  46  61  54  44\n",
              "崔承睿  39  62  63  87"
            ],
            "text/html": [
              "\n",
              "  <div id=\"df-79e3ea59-9969-46ff-82f8-d5aedf69078d\">\n",
              "    <div class=\"colab-df-container\">\n",
              "      <div>\n",
              "<style scoped>\n",
              "    .dataframe tbody tr th:only-of-type {\n",
              "        vertical-align: middle;\n",
              "    }\n",
              "\n",
              "    .dataframe tbody tr th {\n",
              "        vertical-align: top;\n",
              "    }\n",
              "\n",
              "    .dataframe thead th {\n",
              "        text-align: right;\n",
              "    }\n",
              "</style>\n",
              "<table border=\"1\" class=\"dataframe\">\n",
              "  <thead>\n",
              "    <tr style=\"text-align: right;\">\n",
              "      <th></th>\n",
              "      <th>國文</th>\n",
              "      <th>英文</th>\n",
              "      <th>數學</th>\n",
              "      <th>理化</th>\n",
              "    </tr>\n",
              "  </thead>\n",
              "  <tbody>\n",
              "    <tr>\n",
              "      <th>郭雅惠</th>\n",
              "      <td>68</td>\n",
              "      <td>66</td>\n",
              "      <td>35</td>\n",
              "      <td>56</td>\n",
              "    </tr>\n",
              "    <tr>\n",
              "      <th>陳欣虹</th>\n",
              "      <td>95</td>\n",
              "      <td>54</td>\n",
              "      <td>65</td>\n",
              "      <td>43</td>\n",
              "    </tr>\n",
              "    <tr>\n",
              "      <th>王孟修</th>\n",
              "      <td>40</td>\n",
              "      <td>55</td>\n",
              "      <td>72</td>\n",
              "      <td>87</td>\n",
              "    </tr>\n",
              "    <tr>\n",
              "      <th>李政勇</th>\n",
              "      <td>35</td>\n",
              "      <td>64</td>\n",
              "      <td>73</td>\n",
              "      <td>64</td>\n",
              "    </tr>\n",
              "    <tr>\n",
              "      <th>陳仲燦</th>\n",
              "      <td>98</td>\n",
              "      <td>81</td>\n",
              "      <td>84</td>\n",
              "      <td>37</td>\n",
              "    </tr>\n",
              "    <tr>\n",
              "      <th>王寧東</th>\n",
              "      <td>97</td>\n",
              "      <td>65</td>\n",
              "      <td>96</td>\n",
              "      <td>86</td>\n",
              "    </tr>\n",
              "    <tr>\n",
              "      <th>楊雅名</th>\n",
              "      <td>48</td>\n",
              "      <td>74</td>\n",
              "      <td>78</td>\n",
              "      <td>99</td>\n",
              "    </tr>\n",
              "    <tr>\n",
              "      <th>藍冰啟</th>\n",
              "      <td>30</td>\n",
              "      <td>43</td>\n",
              "      <td>54</td>\n",
              "      <td>58</td>\n",
              "    </tr>\n",
              "    <tr>\n",
              "      <th>林玉亨</th>\n",
              "      <td>46</td>\n",
              "      <td>61</td>\n",
              "      <td>54</td>\n",
              "      <td>44</td>\n",
              "    </tr>\n",
              "    <tr>\n",
              "      <th>崔承睿</th>\n",
              "      <td>39</td>\n",
              "      <td>62</td>\n",
              "      <td>63</td>\n",
              "      <td>87</td>\n",
              "    </tr>\n",
              "  </tbody>\n",
              "</table>\n",
              "</div>\n",
              "      <button class=\"colab-df-convert\" onclick=\"convertToInteractive('df-79e3ea59-9969-46ff-82f8-d5aedf69078d')\"\n",
              "              title=\"Convert this dataframe to an interactive table.\"\n",
              "              style=\"display:none;\">\n",
              "        \n",
              "  <svg xmlns=\"http://www.w3.org/2000/svg\" height=\"24px\"viewBox=\"0 0 24 24\"\n",
              "       width=\"24px\">\n",
              "    <path d=\"M0 0h24v24H0V0z\" fill=\"none\"/>\n",
              "    <path d=\"M18.56 5.44l.94 2.06.94-2.06 2.06-.94-2.06-.94-.94-2.06-.94 2.06-2.06.94zm-11 1L8.5 8.5l.94-2.06 2.06-.94-2.06-.94L8.5 2.5l-.94 2.06-2.06.94zm10 10l.94 2.06.94-2.06 2.06-.94-2.06-.94-.94-2.06-.94 2.06-2.06.94z\"/><path d=\"M17.41 7.96l-1.37-1.37c-.4-.4-.92-.59-1.43-.59-.52 0-1.04.2-1.43.59L10.3 9.45l-7.72 7.72c-.78.78-.78 2.05 0 2.83L4 21.41c.39.39.9.59 1.41.59.51 0 1.02-.2 1.41-.59l7.78-7.78 2.81-2.81c.8-.78.8-2.07 0-2.86zM5.41 20L4 18.59l7.72-7.72 1.47 1.35L5.41 20z\"/>\n",
              "  </svg>\n",
              "      </button>\n",
              "      \n",
              "  <style>\n",
              "    .colab-df-container {\n",
              "      display:flex;\n",
              "      flex-wrap:wrap;\n",
              "      gap: 12px;\n",
              "    }\n",
              "\n",
              "    .colab-df-convert {\n",
              "      background-color: #E8F0FE;\n",
              "      border: none;\n",
              "      border-radius: 50%;\n",
              "      cursor: pointer;\n",
              "      display: none;\n",
              "      fill: #1967D2;\n",
              "      height: 32px;\n",
              "      padding: 0 0 0 0;\n",
              "      width: 32px;\n",
              "    }\n",
              "\n",
              "    .colab-df-convert:hover {\n",
              "      background-color: #E2EBFA;\n",
              "      box-shadow: 0px 1px 2px rgba(60, 64, 67, 0.3), 0px 1px 3px 1px rgba(60, 64, 67, 0.15);\n",
              "      fill: #174EA6;\n",
              "    }\n",
              "\n",
              "    [theme=dark] .colab-df-convert {\n",
              "      background-color: #3B4455;\n",
              "      fill: #D2E3FC;\n",
              "    }\n",
              "\n",
              "    [theme=dark] .colab-df-convert:hover {\n",
              "      background-color: #434B5C;\n",
              "      box-shadow: 0px 1px 3px 1px rgba(0, 0, 0, 0.15);\n",
              "      filter: drop-shadow(0px 1px 2px rgba(0, 0, 0, 0.3));\n",
              "      fill: #FFFFFF;\n",
              "    }\n",
              "  </style>\n",
              "\n",
              "      <script>\n",
              "        const buttonEl =\n",
              "          document.querySelector('#df-79e3ea59-9969-46ff-82f8-d5aedf69078d button.colab-df-convert');\n",
              "        buttonEl.style.display =\n",
              "          google.colab.kernel.accessAllowed ? 'block' : 'none';\n",
              "\n",
              "        async function convertToInteractive(key) {\n",
              "          const element = document.querySelector('#df-79e3ea59-9969-46ff-82f8-d5aedf69078d');\n",
              "          const dataTable =\n",
              "            await google.colab.kernel.invokeFunction('convertToInteractive',\n",
              "                                                     [key], {});\n",
              "          if (!dataTable) return;\n",
              "\n",
              "          const docLinkHtml = 'Like what you see? Visit the ' +\n",
              "            '<a target=\"_blank\" href=https://colab.research.google.com/notebooks/data_table.ipynb>data table notebook</a>'\n",
              "            + ' to learn more about interactive tables.';\n",
              "          element.innerHTML = '';\n",
              "          dataTable['output_type'] = 'display_data';\n",
              "          await google.colab.output.renderOutput(dataTable, element);\n",
              "          const docLink = document.createElement('div');\n",
              "          docLink.innerHTML = docLinkHtml;\n",
              "          element.appendChild(docLink);\n",
              "        }\n",
              "      </script>\n",
              "    </div>\n",
              "  </div>\n",
              "  "
            ]
          },
          "metadata": {},
          "execution_count": 146
        }
      ]
    },
    {
      "cell_type": "code",
      "source": [
        "df.sum?"
      ],
      "metadata": {
        "id": "bAX60Ix0mMFk"
      },
      "execution_count": 147,
      "outputs": []
    },
    {
      "cell_type": "code",
      "source": [
        "df.sum(axis=1)"
      ],
      "metadata": {
        "colab": {
          "base_uri": "https://localhost:8080/"
        },
        "id": "P4zEtVCDmP0Y",
        "outputId": "69af4fe5-117d-4c3c-87a0-b37e25798520"
      },
      "execution_count": 149,
      "outputs": [
        {
          "output_type": "execute_result",
          "data": {
            "text/plain": [
              "郭雅惠    225\n",
              "陳欣虹    257\n",
              "王孟修    254\n",
              "李政勇    236\n",
              "陳仲燦    300\n",
              "王寧東    344\n",
              "楊雅名    299\n",
              "藍冰啟    185\n",
              "林玉亨    205\n",
              "崔承睿    251\n",
              "dtype: int64"
            ]
          },
          "metadata": {},
          "execution_count": 149
        }
      ]
    },
    {
      "cell_type": "code",
      "source": [
        "df['總分'] = df.sum(axis=1)"
      ],
      "metadata": {
        "id": "rpe_77Bjmcab"
      },
      "execution_count": 150,
      "outputs": []
    },
    {
      "cell_type": "code",
      "source": [
        "df"
      ],
      "metadata": {
        "colab": {
          "base_uri": "https://localhost:8080/",
          "height": 363
        },
        "id": "uvUFzmIbmotf",
        "outputId": "7582d4fa-52c4-4901-c0c7-464e7af74637"
      },
      "execution_count": 151,
      "outputs": [
        {
          "output_type": "execute_result",
          "data": {
            "text/plain": [
              "     國文  英文  數學  理化   總分\n",
              "郭雅惠  68  66  35  56  225\n",
              "陳欣虹  95  54  65  43  257\n",
              "王孟修  40  55  72  87  254\n",
              "李政勇  35  64  73  64  236\n",
              "陳仲燦  98  81  84  37  300\n",
              "王寧東  97  65  96  86  344\n",
              "楊雅名  48  74  78  99  299\n",
              "藍冰啟  30  43  54  58  185\n",
              "林玉亨  46  61  54  44  205\n",
              "崔承睿  39  62  63  87  251"
            ],
            "text/html": [
              "\n",
              "  <div id=\"df-560380f5-6996-4d0c-8459-a853f1f202ab\">\n",
              "    <div class=\"colab-df-container\">\n",
              "      <div>\n",
              "<style scoped>\n",
              "    .dataframe tbody tr th:only-of-type {\n",
              "        vertical-align: middle;\n",
              "    }\n",
              "\n",
              "    .dataframe tbody tr th {\n",
              "        vertical-align: top;\n",
              "    }\n",
              "\n",
              "    .dataframe thead th {\n",
              "        text-align: right;\n",
              "    }\n",
              "</style>\n",
              "<table border=\"1\" class=\"dataframe\">\n",
              "  <thead>\n",
              "    <tr style=\"text-align: right;\">\n",
              "      <th></th>\n",
              "      <th>國文</th>\n",
              "      <th>英文</th>\n",
              "      <th>數學</th>\n",
              "      <th>理化</th>\n",
              "      <th>總分</th>\n",
              "    </tr>\n",
              "  </thead>\n",
              "  <tbody>\n",
              "    <tr>\n",
              "      <th>郭雅惠</th>\n",
              "      <td>68</td>\n",
              "      <td>66</td>\n",
              "      <td>35</td>\n",
              "      <td>56</td>\n",
              "      <td>225</td>\n",
              "    </tr>\n",
              "    <tr>\n",
              "      <th>陳欣虹</th>\n",
              "      <td>95</td>\n",
              "      <td>54</td>\n",
              "      <td>65</td>\n",
              "      <td>43</td>\n",
              "      <td>257</td>\n",
              "    </tr>\n",
              "    <tr>\n",
              "      <th>王孟修</th>\n",
              "      <td>40</td>\n",
              "      <td>55</td>\n",
              "      <td>72</td>\n",
              "      <td>87</td>\n",
              "      <td>254</td>\n",
              "    </tr>\n",
              "    <tr>\n",
              "      <th>李政勇</th>\n",
              "      <td>35</td>\n",
              "      <td>64</td>\n",
              "      <td>73</td>\n",
              "      <td>64</td>\n",
              "      <td>236</td>\n",
              "    </tr>\n",
              "    <tr>\n",
              "      <th>陳仲燦</th>\n",
              "      <td>98</td>\n",
              "      <td>81</td>\n",
              "      <td>84</td>\n",
              "      <td>37</td>\n",
              "      <td>300</td>\n",
              "    </tr>\n",
              "    <tr>\n",
              "      <th>王寧東</th>\n",
              "      <td>97</td>\n",
              "      <td>65</td>\n",
              "      <td>96</td>\n",
              "      <td>86</td>\n",
              "      <td>344</td>\n",
              "    </tr>\n",
              "    <tr>\n",
              "      <th>楊雅名</th>\n",
              "      <td>48</td>\n",
              "      <td>74</td>\n",
              "      <td>78</td>\n",
              "      <td>99</td>\n",
              "      <td>299</td>\n",
              "    </tr>\n",
              "    <tr>\n",
              "      <th>藍冰啟</th>\n",
              "      <td>30</td>\n",
              "      <td>43</td>\n",
              "      <td>54</td>\n",
              "      <td>58</td>\n",
              "      <td>185</td>\n",
              "    </tr>\n",
              "    <tr>\n",
              "      <th>林玉亨</th>\n",
              "      <td>46</td>\n",
              "      <td>61</td>\n",
              "      <td>54</td>\n",
              "      <td>44</td>\n",
              "      <td>205</td>\n",
              "    </tr>\n",
              "    <tr>\n",
              "      <th>崔承睿</th>\n",
              "      <td>39</td>\n",
              "      <td>62</td>\n",
              "      <td>63</td>\n",
              "      <td>87</td>\n",
              "      <td>251</td>\n",
              "    </tr>\n",
              "  </tbody>\n",
              "</table>\n",
              "</div>\n",
              "      <button class=\"colab-df-convert\" onclick=\"convertToInteractive('df-560380f5-6996-4d0c-8459-a853f1f202ab')\"\n",
              "              title=\"Convert this dataframe to an interactive table.\"\n",
              "              style=\"display:none;\">\n",
              "        \n",
              "  <svg xmlns=\"http://www.w3.org/2000/svg\" height=\"24px\"viewBox=\"0 0 24 24\"\n",
              "       width=\"24px\">\n",
              "    <path d=\"M0 0h24v24H0V0z\" fill=\"none\"/>\n",
              "    <path d=\"M18.56 5.44l.94 2.06.94-2.06 2.06-.94-2.06-.94-.94-2.06-.94 2.06-2.06.94zm-11 1L8.5 8.5l.94-2.06 2.06-.94-2.06-.94L8.5 2.5l-.94 2.06-2.06.94zm10 10l.94 2.06.94-2.06 2.06-.94-2.06-.94-.94-2.06-.94 2.06-2.06.94z\"/><path d=\"M17.41 7.96l-1.37-1.37c-.4-.4-.92-.59-1.43-.59-.52 0-1.04.2-1.43.59L10.3 9.45l-7.72 7.72c-.78.78-.78 2.05 0 2.83L4 21.41c.39.39.9.59 1.41.59.51 0 1.02-.2 1.41-.59l7.78-7.78 2.81-2.81c.8-.78.8-2.07 0-2.86zM5.41 20L4 18.59l7.72-7.72 1.47 1.35L5.41 20z\"/>\n",
              "  </svg>\n",
              "      </button>\n",
              "      \n",
              "  <style>\n",
              "    .colab-df-container {\n",
              "      display:flex;\n",
              "      flex-wrap:wrap;\n",
              "      gap: 12px;\n",
              "    }\n",
              "\n",
              "    .colab-df-convert {\n",
              "      background-color: #E8F0FE;\n",
              "      border: none;\n",
              "      border-radius: 50%;\n",
              "      cursor: pointer;\n",
              "      display: none;\n",
              "      fill: #1967D2;\n",
              "      height: 32px;\n",
              "      padding: 0 0 0 0;\n",
              "      width: 32px;\n",
              "    }\n",
              "\n",
              "    .colab-df-convert:hover {\n",
              "      background-color: #E2EBFA;\n",
              "      box-shadow: 0px 1px 2px rgba(60, 64, 67, 0.3), 0px 1px 3px 1px rgba(60, 64, 67, 0.15);\n",
              "      fill: #174EA6;\n",
              "    }\n",
              "\n",
              "    [theme=dark] .colab-df-convert {\n",
              "      background-color: #3B4455;\n",
              "      fill: #D2E3FC;\n",
              "    }\n",
              "\n",
              "    [theme=dark] .colab-df-convert:hover {\n",
              "      background-color: #434B5C;\n",
              "      box-shadow: 0px 1px 3px 1px rgba(0, 0, 0, 0.15);\n",
              "      filter: drop-shadow(0px 1px 2px rgba(0, 0, 0, 0.3));\n",
              "      fill: #FFFFFF;\n",
              "    }\n",
              "  </style>\n",
              "\n",
              "      <script>\n",
              "        const buttonEl =\n",
              "          document.querySelector('#df-560380f5-6996-4d0c-8459-a853f1f202ab button.colab-df-convert');\n",
              "        buttonEl.style.display =\n",
              "          google.colab.kernel.accessAllowed ? 'block' : 'none';\n",
              "\n",
              "        async function convertToInteractive(key) {\n",
              "          const element = document.querySelector('#df-560380f5-6996-4d0c-8459-a853f1f202ab');\n",
              "          const dataTable =\n",
              "            await google.colab.kernel.invokeFunction('convertToInteractive',\n",
              "                                                     [key], {});\n",
              "          if (!dataTable) return;\n",
              "\n",
              "          const docLinkHtml = 'Like what you see? Visit the ' +\n",
              "            '<a target=\"_blank\" href=https://colab.research.google.com/notebooks/data_table.ipynb>data table notebook</a>'\n",
              "            + ' to learn more about interactive tables.';\n",
              "          element.innerHTML = '';\n",
              "          dataTable['output_type'] = 'display_data';\n",
              "          await google.colab.output.renderOutput(dataTable, element);\n",
              "          const docLink = document.createElement('div');\n",
              "          docLink.innerHTML = docLinkHtml;\n",
              "          element.appendChild(docLink);\n",
              "        }\n",
              "      </script>\n",
              "    </div>\n",
              "  </div>\n",
              "  "
            ]
          },
          "metadata": {},
          "execution_count": 151
        }
      ]
    },
    {
      "cell_type": "code",
      "source": [
        "df.mean(axis=1)"
      ],
      "metadata": {
        "colab": {
          "base_uri": "https://localhost:8080/"
        },
        "id": "JLI-SRI4mqKy",
        "outputId": "4e6379b9-208c-4280-b356-0dfe32b81093"
      },
      "execution_count": 152,
      "outputs": [
        {
          "output_type": "execute_result",
          "data": {
            "text/plain": [
              "郭雅惠     90.0\n",
              "陳欣虹    102.8\n",
              "王孟修    101.6\n",
              "李政勇     94.4\n",
              "陳仲燦    120.0\n",
              "王寧東    137.6\n",
              "楊雅名    119.6\n",
              "藍冰啟     74.0\n",
              "林玉亨     82.0\n",
              "崔承睿    100.4\n",
              "dtype: float64"
            ]
          },
          "metadata": {},
          "execution_count": 152
        }
      ]
    },
    {
      "cell_type": "code",
      "source": [
        "df[['國文','英文','數學','理化']].mean(axis=1)"
      ],
      "metadata": {
        "colab": {
          "base_uri": "https://localhost:8080/"
        },
        "id": "DYRilcMrnH_q",
        "outputId": "e92fdd08-8f38-44ab-fe97-b1c4ceb434a1"
      },
      "execution_count": 153,
      "outputs": [
        {
          "output_type": "execute_result",
          "data": {
            "text/plain": [
              "郭雅惠    56.25\n",
              "陳欣虹    64.25\n",
              "王孟修    63.50\n",
              "李政勇    59.00\n",
              "陳仲燦    75.00\n",
              "王寧東    86.00\n",
              "楊雅名    74.75\n",
              "藍冰啟    46.25\n",
              "林玉亨    51.25\n",
              "崔承睿    62.75\n",
              "dtype: float64"
            ]
          },
          "metadata": {},
          "execution_count": 153
        }
      ]
    },
    {
      "cell_type": "code",
      "source": [
        "df['平均'] = df[['國文','英文','數學','理化']].mean(axis=1)"
      ],
      "metadata": {
        "id": "VK8dQVN7nTxF"
      },
      "execution_count": 154,
      "outputs": []
    },
    {
      "cell_type": "code",
      "source": [
        "df"
      ],
      "metadata": {
        "colab": {
          "base_uri": "https://localhost:8080/",
          "height": 363
        },
        "id": "XM9fZcQVndkq",
        "outputId": "8c302e85-64be-47b3-f201-757a1f170d2f"
      },
      "execution_count": 155,
      "outputs": [
        {
          "output_type": "execute_result",
          "data": {
            "text/plain": [
              "     國文  英文  數學  理化   總分     平均\n",
              "郭雅惠  68  66  35  56  225  56.25\n",
              "陳欣虹  95  54  65  43  257  64.25\n",
              "王孟修  40  55  72  87  254  63.50\n",
              "李政勇  35  64  73  64  236  59.00\n",
              "陳仲燦  98  81  84  37  300  75.00\n",
              "王寧東  97  65  96  86  344  86.00\n",
              "楊雅名  48  74  78  99  299  74.75\n",
              "藍冰啟  30  43  54  58  185  46.25\n",
              "林玉亨  46  61  54  44  205  51.25\n",
              "崔承睿  39  62  63  87  251  62.75"
            ],
            "text/html": [
              "\n",
              "  <div id=\"df-f99e16d2-5735-407a-96aa-b4f3797f9437\">\n",
              "    <div class=\"colab-df-container\">\n",
              "      <div>\n",
              "<style scoped>\n",
              "    .dataframe tbody tr th:only-of-type {\n",
              "        vertical-align: middle;\n",
              "    }\n",
              "\n",
              "    .dataframe tbody tr th {\n",
              "        vertical-align: top;\n",
              "    }\n",
              "\n",
              "    .dataframe thead th {\n",
              "        text-align: right;\n",
              "    }\n",
              "</style>\n",
              "<table border=\"1\" class=\"dataframe\">\n",
              "  <thead>\n",
              "    <tr style=\"text-align: right;\">\n",
              "      <th></th>\n",
              "      <th>國文</th>\n",
              "      <th>英文</th>\n",
              "      <th>數學</th>\n",
              "      <th>理化</th>\n",
              "      <th>總分</th>\n",
              "      <th>平均</th>\n",
              "    </tr>\n",
              "  </thead>\n",
              "  <tbody>\n",
              "    <tr>\n",
              "      <th>郭雅惠</th>\n",
              "      <td>68</td>\n",
              "      <td>66</td>\n",
              "      <td>35</td>\n",
              "      <td>56</td>\n",
              "      <td>225</td>\n",
              "      <td>56.25</td>\n",
              "    </tr>\n",
              "    <tr>\n",
              "      <th>陳欣虹</th>\n",
              "      <td>95</td>\n",
              "      <td>54</td>\n",
              "      <td>65</td>\n",
              "      <td>43</td>\n",
              "      <td>257</td>\n",
              "      <td>64.25</td>\n",
              "    </tr>\n",
              "    <tr>\n",
              "      <th>王孟修</th>\n",
              "      <td>40</td>\n",
              "      <td>55</td>\n",
              "      <td>72</td>\n",
              "      <td>87</td>\n",
              "      <td>254</td>\n",
              "      <td>63.50</td>\n",
              "    </tr>\n",
              "    <tr>\n",
              "      <th>李政勇</th>\n",
              "      <td>35</td>\n",
              "      <td>64</td>\n",
              "      <td>73</td>\n",
              "      <td>64</td>\n",
              "      <td>236</td>\n",
              "      <td>59.00</td>\n",
              "    </tr>\n",
              "    <tr>\n",
              "      <th>陳仲燦</th>\n",
              "      <td>98</td>\n",
              "      <td>81</td>\n",
              "      <td>84</td>\n",
              "      <td>37</td>\n",
              "      <td>300</td>\n",
              "      <td>75.00</td>\n",
              "    </tr>\n",
              "    <tr>\n",
              "      <th>王寧東</th>\n",
              "      <td>97</td>\n",
              "      <td>65</td>\n",
              "      <td>96</td>\n",
              "      <td>86</td>\n",
              "      <td>344</td>\n",
              "      <td>86.00</td>\n",
              "    </tr>\n",
              "    <tr>\n",
              "      <th>楊雅名</th>\n",
              "      <td>48</td>\n",
              "      <td>74</td>\n",
              "      <td>78</td>\n",
              "      <td>99</td>\n",
              "      <td>299</td>\n",
              "      <td>74.75</td>\n",
              "    </tr>\n",
              "    <tr>\n",
              "      <th>藍冰啟</th>\n",
              "      <td>30</td>\n",
              "      <td>43</td>\n",
              "      <td>54</td>\n",
              "      <td>58</td>\n",
              "      <td>185</td>\n",
              "      <td>46.25</td>\n",
              "    </tr>\n",
              "    <tr>\n",
              "      <th>林玉亨</th>\n",
              "      <td>46</td>\n",
              "      <td>61</td>\n",
              "      <td>54</td>\n",
              "      <td>44</td>\n",
              "      <td>205</td>\n",
              "      <td>51.25</td>\n",
              "    </tr>\n",
              "    <tr>\n",
              "      <th>崔承睿</th>\n",
              "      <td>39</td>\n",
              "      <td>62</td>\n",
              "      <td>63</td>\n",
              "      <td>87</td>\n",
              "      <td>251</td>\n",
              "      <td>62.75</td>\n",
              "    </tr>\n",
              "  </tbody>\n",
              "</table>\n",
              "</div>\n",
              "      <button class=\"colab-df-convert\" onclick=\"convertToInteractive('df-f99e16d2-5735-407a-96aa-b4f3797f9437')\"\n",
              "              title=\"Convert this dataframe to an interactive table.\"\n",
              "              style=\"display:none;\">\n",
              "        \n",
              "  <svg xmlns=\"http://www.w3.org/2000/svg\" height=\"24px\"viewBox=\"0 0 24 24\"\n",
              "       width=\"24px\">\n",
              "    <path d=\"M0 0h24v24H0V0z\" fill=\"none\"/>\n",
              "    <path d=\"M18.56 5.44l.94 2.06.94-2.06 2.06-.94-2.06-.94-.94-2.06-.94 2.06-2.06.94zm-11 1L8.5 8.5l.94-2.06 2.06-.94-2.06-.94L8.5 2.5l-.94 2.06-2.06.94zm10 10l.94 2.06.94-2.06 2.06-.94-2.06-.94-.94-2.06-.94 2.06-2.06.94z\"/><path d=\"M17.41 7.96l-1.37-1.37c-.4-.4-.92-.59-1.43-.59-.52 0-1.04.2-1.43.59L10.3 9.45l-7.72 7.72c-.78.78-.78 2.05 0 2.83L4 21.41c.39.39.9.59 1.41.59.51 0 1.02-.2 1.41-.59l7.78-7.78 2.81-2.81c.8-.78.8-2.07 0-2.86zM5.41 20L4 18.59l7.72-7.72 1.47 1.35L5.41 20z\"/>\n",
              "  </svg>\n",
              "      </button>\n",
              "      \n",
              "  <style>\n",
              "    .colab-df-container {\n",
              "      display:flex;\n",
              "      flex-wrap:wrap;\n",
              "      gap: 12px;\n",
              "    }\n",
              "\n",
              "    .colab-df-convert {\n",
              "      background-color: #E8F0FE;\n",
              "      border: none;\n",
              "      border-radius: 50%;\n",
              "      cursor: pointer;\n",
              "      display: none;\n",
              "      fill: #1967D2;\n",
              "      height: 32px;\n",
              "      padding: 0 0 0 0;\n",
              "      width: 32px;\n",
              "    }\n",
              "\n",
              "    .colab-df-convert:hover {\n",
              "      background-color: #E2EBFA;\n",
              "      box-shadow: 0px 1px 2px rgba(60, 64, 67, 0.3), 0px 1px 3px 1px rgba(60, 64, 67, 0.15);\n",
              "      fill: #174EA6;\n",
              "    }\n",
              "\n",
              "    [theme=dark] .colab-df-convert {\n",
              "      background-color: #3B4455;\n",
              "      fill: #D2E3FC;\n",
              "    }\n",
              "\n",
              "    [theme=dark] .colab-df-convert:hover {\n",
              "      background-color: #434B5C;\n",
              "      box-shadow: 0px 1px 3px 1px rgba(0, 0, 0, 0.15);\n",
              "      filter: drop-shadow(0px 1px 2px rgba(0, 0, 0, 0.3));\n",
              "      fill: #FFFFFF;\n",
              "    }\n",
              "  </style>\n",
              "\n",
              "      <script>\n",
              "        const buttonEl =\n",
              "          document.querySelector('#df-f99e16d2-5735-407a-96aa-b4f3797f9437 button.colab-df-convert');\n",
              "        buttonEl.style.display =\n",
              "          google.colab.kernel.accessAllowed ? 'block' : 'none';\n",
              "\n",
              "        async function convertToInteractive(key) {\n",
              "          const element = document.querySelector('#df-f99e16d2-5735-407a-96aa-b4f3797f9437');\n",
              "          const dataTable =\n",
              "            await google.colab.kernel.invokeFunction('convertToInteractive',\n",
              "                                                     [key], {});\n",
              "          if (!dataTable) return;\n",
              "\n",
              "          const docLinkHtml = 'Like what you see? Visit the ' +\n",
              "            '<a target=\"_blank\" href=https://colab.research.google.com/notebooks/data_table.ipynb>data table notebook</a>'\n",
              "            + ' to learn more about interactive tables.';\n",
              "          element.innerHTML = '';\n",
              "          dataTable['output_type'] = 'display_data';\n",
              "          await google.colab.output.renderOutput(dataTable, element);\n",
              "          const docLink = document.createElement('div');\n",
              "          docLink.innerHTML = docLinkHtml;\n",
              "          element.appendChild(docLink);\n",
              "        }\n",
              "      </script>\n",
              "    </div>\n",
              "  </div>\n",
              "  "
            ]
          },
          "metadata": {},
          "execution_count": 155
        }
      ]
    },
    {
      "cell_type": "markdown",
      "source": [
        "## 輸出成 excel 檔"
      ],
      "metadata": {
        "id": "krNzCXC1nwyq"
      }
    },
    {
      "cell_type": "code",
      "source": [
        "df.to_excel('成績.xlsx')"
      ],
      "metadata": {
        "id": "t-0_30kani1Q"
      },
      "execution_count": 157,
      "outputs": []
    },
    {
      "cell_type": "markdown",
      "source": [
        "## 找出名次"
      ],
      "metadata": {
        "id": "kJh8v5eZoGFD"
      }
    },
    {
      "cell_type": "code",
      "source": [
        "df"
      ],
      "metadata": {
        "colab": {
          "base_uri": "https://localhost:8080/",
          "height": 363
        },
        "id": "XsvoDWp0nzH0",
        "outputId": "d287d59d-277c-471e-affd-06287b486da5"
      },
      "execution_count": 158,
      "outputs": [
        {
          "output_type": "execute_result",
          "data": {
            "text/plain": [
              "     國文  英文  數學  理化   總分     平均\n",
              "郭雅惠  68  66  35  56  225  56.25\n",
              "陳欣虹  95  54  65  43  257  64.25\n",
              "王孟修  40  55  72  87  254  63.50\n",
              "李政勇  35  64  73  64  236  59.00\n",
              "陳仲燦  98  81  84  37  300  75.00\n",
              "王寧東  97  65  96  86  344  86.00\n",
              "楊雅名  48  74  78  99  299  74.75\n",
              "藍冰啟  30  43  54  58  185  46.25\n",
              "林玉亨  46  61  54  44  205  51.25\n",
              "崔承睿  39  62  63  87  251  62.75"
            ],
            "text/html": [
              "\n",
              "  <div id=\"df-c0c4ab5b-f6c3-43fe-9a0e-2079aeb044a2\">\n",
              "    <div class=\"colab-df-container\">\n",
              "      <div>\n",
              "<style scoped>\n",
              "    .dataframe tbody tr th:only-of-type {\n",
              "        vertical-align: middle;\n",
              "    }\n",
              "\n",
              "    .dataframe tbody tr th {\n",
              "        vertical-align: top;\n",
              "    }\n",
              "\n",
              "    .dataframe thead th {\n",
              "        text-align: right;\n",
              "    }\n",
              "</style>\n",
              "<table border=\"1\" class=\"dataframe\">\n",
              "  <thead>\n",
              "    <tr style=\"text-align: right;\">\n",
              "      <th></th>\n",
              "      <th>國文</th>\n",
              "      <th>英文</th>\n",
              "      <th>數學</th>\n",
              "      <th>理化</th>\n",
              "      <th>總分</th>\n",
              "      <th>平均</th>\n",
              "    </tr>\n",
              "  </thead>\n",
              "  <tbody>\n",
              "    <tr>\n",
              "      <th>郭雅惠</th>\n",
              "      <td>68</td>\n",
              "      <td>66</td>\n",
              "      <td>35</td>\n",
              "      <td>56</td>\n",
              "      <td>225</td>\n",
              "      <td>56.25</td>\n",
              "    </tr>\n",
              "    <tr>\n",
              "      <th>陳欣虹</th>\n",
              "      <td>95</td>\n",
              "      <td>54</td>\n",
              "      <td>65</td>\n",
              "      <td>43</td>\n",
              "      <td>257</td>\n",
              "      <td>64.25</td>\n",
              "    </tr>\n",
              "    <tr>\n",
              "      <th>王孟修</th>\n",
              "      <td>40</td>\n",
              "      <td>55</td>\n",
              "      <td>72</td>\n",
              "      <td>87</td>\n",
              "      <td>254</td>\n",
              "      <td>63.50</td>\n",
              "    </tr>\n",
              "    <tr>\n",
              "      <th>李政勇</th>\n",
              "      <td>35</td>\n",
              "      <td>64</td>\n",
              "      <td>73</td>\n",
              "      <td>64</td>\n",
              "      <td>236</td>\n",
              "      <td>59.00</td>\n",
              "    </tr>\n",
              "    <tr>\n",
              "      <th>陳仲燦</th>\n",
              "      <td>98</td>\n",
              "      <td>81</td>\n",
              "      <td>84</td>\n",
              "      <td>37</td>\n",
              "      <td>300</td>\n",
              "      <td>75.00</td>\n",
              "    </tr>\n",
              "    <tr>\n",
              "      <th>王寧東</th>\n",
              "      <td>97</td>\n",
              "      <td>65</td>\n",
              "      <td>96</td>\n",
              "      <td>86</td>\n",
              "      <td>344</td>\n",
              "      <td>86.00</td>\n",
              "    </tr>\n",
              "    <tr>\n",
              "      <th>楊雅名</th>\n",
              "      <td>48</td>\n",
              "      <td>74</td>\n",
              "      <td>78</td>\n",
              "      <td>99</td>\n",
              "      <td>299</td>\n",
              "      <td>74.75</td>\n",
              "    </tr>\n",
              "    <tr>\n",
              "      <th>藍冰啟</th>\n",
              "      <td>30</td>\n",
              "      <td>43</td>\n",
              "      <td>54</td>\n",
              "      <td>58</td>\n",
              "      <td>185</td>\n",
              "      <td>46.25</td>\n",
              "    </tr>\n",
              "    <tr>\n",
              "      <th>林玉亨</th>\n",
              "      <td>46</td>\n",
              "      <td>61</td>\n",
              "      <td>54</td>\n",
              "      <td>44</td>\n",
              "      <td>205</td>\n",
              "      <td>51.25</td>\n",
              "    </tr>\n",
              "    <tr>\n",
              "      <th>崔承睿</th>\n",
              "      <td>39</td>\n",
              "      <td>62</td>\n",
              "      <td>63</td>\n",
              "      <td>87</td>\n",
              "      <td>251</td>\n",
              "      <td>62.75</td>\n",
              "    </tr>\n",
              "  </tbody>\n",
              "</table>\n",
              "</div>\n",
              "      <button class=\"colab-df-convert\" onclick=\"convertToInteractive('df-c0c4ab5b-f6c3-43fe-9a0e-2079aeb044a2')\"\n",
              "              title=\"Convert this dataframe to an interactive table.\"\n",
              "              style=\"display:none;\">\n",
              "        \n",
              "  <svg xmlns=\"http://www.w3.org/2000/svg\" height=\"24px\"viewBox=\"0 0 24 24\"\n",
              "       width=\"24px\">\n",
              "    <path d=\"M0 0h24v24H0V0z\" fill=\"none\"/>\n",
              "    <path d=\"M18.56 5.44l.94 2.06.94-2.06 2.06-.94-2.06-.94-.94-2.06-.94 2.06-2.06.94zm-11 1L8.5 8.5l.94-2.06 2.06-.94-2.06-.94L8.5 2.5l-.94 2.06-2.06.94zm10 10l.94 2.06.94-2.06 2.06-.94-2.06-.94-.94-2.06-.94 2.06-2.06.94z\"/><path d=\"M17.41 7.96l-1.37-1.37c-.4-.4-.92-.59-1.43-.59-.52 0-1.04.2-1.43.59L10.3 9.45l-7.72 7.72c-.78.78-.78 2.05 0 2.83L4 21.41c.39.39.9.59 1.41.59.51 0 1.02-.2 1.41-.59l7.78-7.78 2.81-2.81c.8-.78.8-2.07 0-2.86zM5.41 20L4 18.59l7.72-7.72 1.47 1.35L5.41 20z\"/>\n",
              "  </svg>\n",
              "      </button>\n",
              "      \n",
              "  <style>\n",
              "    .colab-df-container {\n",
              "      display:flex;\n",
              "      flex-wrap:wrap;\n",
              "      gap: 12px;\n",
              "    }\n",
              "\n",
              "    .colab-df-convert {\n",
              "      background-color: #E8F0FE;\n",
              "      border: none;\n",
              "      border-radius: 50%;\n",
              "      cursor: pointer;\n",
              "      display: none;\n",
              "      fill: #1967D2;\n",
              "      height: 32px;\n",
              "      padding: 0 0 0 0;\n",
              "      width: 32px;\n",
              "    }\n",
              "\n",
              "    .colab-df-convert:hover {\n",
              "      background-color: #E2EBFA;\n",
              "      box-shadow: 0px 1px 2px rgba(60, 64, 67, 0.3), 0px 1px 3px 1px rgba(60, 64, 67, 0.15);\n",
              "      fill: #174EA6;\n",
              "    }\n",
              "\n",
              "    [theme=dark] .colab-df-convert {\n",
              "      background-color: #3B4455;\n",
              "      fill: #D2E3FC;\n",
              "    }\n",
              "\n",
              "    [theme=dark] .colab-df-convert:hover {\n",
              "      background-color: #434B5C;\n",
              "      box-shadow: 0px 1px 3px 1px rgba(0, 0, 0, 0.15);\n",
              "      filter: drop-shadow(0px 1px 2px rgba(0, 0, 0, 0.3));\n",
              "      fill: #FFFFFF;\n",
              "    }\n",
              "  </style>\n",
              "\n",
              "      <script>\n",
              "        const buttonEl =\n",
              "          document.querySelector('#df-c0c4ab5b-f6c3-43fe-9a0e-2079aeb044a2 button.colab-df-convert');\n",
              "        buttonEl.style.display =\n",
              "          google.colab.kernel.accessAllowed ? 'block' : 'none';\n",
              "\n",
              "        async function convertToInteractive(key) {\n",
              "          const element = document.querySelector('#df-c0c4ab5b-f6c3-43fe-9a0e-2079aeb044a2');\n",
              "          const dataTable =\n",
              "            await google.colab.kernel.invokeFunction('convertToInteractive',\n",
              "                                                     [key], {});\n",
              "          if (!dataTable) return;\n",
              "\n",
              "          const docLinkHtml = 'Like what you see? Visit the ' +\n",
              "            '<a target=\"_blank\" href=https://colab.research.google.com/notebooks/data_table.ipynb>data table notebook</a>'\n",
              "            + ' to learn more about interactive tables.';\n",
              "          element.innerHTML = '';\n",
              "          dataTable['output_type'] = 'display_data';\n",
              "          await google.colab.output.renderOutput(dataTable, element);\n",
              "          const docLink = document.createElement('div');\n",
              "          docLink.innerHTML = docLinkHtml;\n",
              "          element.appendChild(docLink);\n",
              "        }\n",
              "      </script>\n",
              "    </div>\n",
              "  </div>\n",
              "  "
            ]
          },
          "metadata": {},
          "execution_count": 158
        }
      ]
    },
    {
      "cell_type": "code",
      "source": [
        "df.rank()"
      ],
      "metadata": {
        "colab": {
          "base_uri": "https://localhost:8080/",
          "height": 363
        },
        "id": "Qk_zpFTKoUa5",
        "outputId": "dcbd81d0-fe5a-4b3e-975b-a27cc91865ce"
      },
      "execution_count": 160,
      "outputs": [
        {
          "output_type": "execute_result",
          "data": {
            "text/plain": [
              "       國文    英文    數學    理化    總分    平均\n",
              "郭雅惠   7.0   8.0   1.0   4.0   3.0   3.0\n",
              "陳欣虹   8.0   2.0   5.0   2.0   7.0   7.0\n",
              "王孟修   4.0   3.0   6.0   8.5   6.0   6.0\n",
              "李政勇   2.0   6.0   7.0   6.0   4.0   4.0\n",
              "陳仲燦  10.0  10.0   9.0   1.0   9.0   9.0\n",
              "王寧東   9.0   7.0  10.0   7.0  10.0  10.0\n",
              "楊雅名   6.0   9.0   8.0  10.0   8.0   8.0\n",
              "藍冰啟   1.0   1.0   2.5   5.0   1.0   1.0\n",
              "林玉亨   5.0   4.0   2.5   3.0   2.0   2.0\n",
              "崔承睿   3.0   5.0   4.0   8.5   5.0   5.0"
            ],
            "text/html": [
              "\n",
              "  <div id=\"df-b2993cb0-7e75-47e6-ba50-9ebaf53d1da8\">\n",
              "    <div class=\"colab-df-container\">\n",
              "      <div>\n",
              "<style scoped>\n",
              "    .dataframe tbody tr th:only-of-type {\n",
              "        vertical-align: middle;\n",
              "    }\n",
              "\n",
              "    .dataframe tbody tr th {\n",
              "        vertical-align: top;\n",
              "    }\n",
              "\n",
              "    .dataframe thead th {\n",
              "        text-align: right;\n",
              "    }\n",
              "</style>\n",
              "<table border=\"1\" class=\"dataframe\">\n",
              "  <thead>\n",
              "    <tr style=\"text-align: right;\">\n",
              "      <th></th>\n",
              "      <th>國文</th>\n",
              "      <th>英文</th>\n",
              "      <th>數學</th>\n",
              "      <th>理化</th>\n",
              "      <th>總分</th>\n",
              "      <th>平均</th>\n",
              "    </tr>\n",
              "  </thead>\n",
              "  <tbody>\n",
              "    <tr>\n",
              "      <th>郭雅惠</th>\n",
              "      <td>7.0</td>\n",
              "      <td>8.0</td>\n",
              "      <td>1.0</td>\n",
              "      <td>4.0</td>\n",
              "      <td>3.0</td>\n",
              "      <td>3.0</td>\n",
              "    </tr>\n",
              "    <tr>\n",
              "      <th>陳欣虹</th>\n",
              "      <td>8.0</td>\n",
              "      <td>2.0</td>\n",
              "      <td>5.0</td>\n",
              "      <td>2.0</td>\n",
              "      <td>7.0</td>\n",
              "      <td>7.0</td>\n",
              "    </tr>\n",
              "    <tr>\n",
              "      <th>王孟修</th>\n",
              "      <td>4.0</td>\n",
              "      <td>3.0</td>\n",
              "      <td>6.0</td>\n",
              "      <td>8.5</td>\n",
              "      <td>6.0</td>\n",
              "      <td>6.0</td>\n",
              "    </tr>\n",
              "    <tr>\n",
              "      <th>李政勇</th>\n",
              "      <td>2.0</td>\n",
              "      <td>6.0</td>\n",
              "      <td>7.0</td>\n",
              "      <td>6.0</td>\n",
              "      <td>4.0</td>\n",
              "      <td>4.0</td>\n",
              "    </tr>\n",
              "    <tr>\n",
              "      <th>陳仲燦</th>\n",
              "      <td>10.0</td>\n",
              "      <td>10.0</td>\n",
              "      <td>9.0</td>\n",
              "      <td>1.0</td>\n",
              "      <td>9.0</td>\n",
              "      <td>9.0</td>\n",
              "    </tr>\n",
              "    <tr>\n",
              "      <th>王寧東</th>\n",
              "      <td>9.0</td>\n",
              "      <td>7.0</td>\n",
              "      <td>10.0</td>\n",
              "      <td>7.0</td>\n",
              "      <td>10.0</td>\n",
              "      <td>10.0</td>\n",
              "    </tr>\n",
              "    <tr>\n",
              "      <th>楊雅名</th>\n",
              "      <td>6.0</td>\n",
              "      <td>9.0</td>\n",
              "      <td>8.0</td>\n",
              "      <td>10.0</td>\n",
              "      <td>8.0</td>\n",
              "      <td>8.0</td>\n",
              "    </tr>\n",
              "    <tr>\n",
              "      <th>藍冰啟</th>\n",
              "      <td>1.0</td>\n",
              "      <td>1.0</td>\n",
              "      <td>2.5</td>\n",
              "      <td>5.0</td>\n",
              "      <td>1.0</td>\n",
              "      <td>1.0</td>\n",
              "    </tr>\n",
              "    <tr>\n",
              "      <th>林玉亨</th>\n",
              "      <td>5.0</td>\n",
              "      <td>4.0</td>\n",
              "      <td>2.5</td>\n",
              "      <td>3.0</td>\n",
              "      <td>2.0</td>\n",
              "      <td>2.0</td>\n",
              "    </tr>\n",
              "    <tr>\n",
              "      <th>崔承睿</th>\n",
              "      <td>3.0</td>\n",
              "      <td>5.0</td>\n",
              "      <td>4.0</td>\n",
              "      <td>8.5</td>\n",
              "      <td>5.0</td>\n",
              "      <td>5.0</td>\n",
              "    </tr>\n",
              "  </tbody>\n",
              "</table>\n",
              "</div>\n",
              "      <button class=\"colab-df-convert\" onclick=\"convertToInteractive('df-b2993cb0-7e75-47e6-ba50-9ebaf53d1da8')\"\n",
              "              title=\"Convert this dataframe to an interactive table.\"\n",
              "              style=\"display:none;\">\n",
              "        \n",
              "  <svg xmlns=\"http://www.w3.org/2000/svg\" height=\"24px\"viewBox=\"0 0 24 24\"\n",
              "       width=\"24px\">\n",
              "    <path d=\"M0 0h24v24H0V0z\" fill=\"none\"/>\n",
              "    <path d=\"M18.56 5.44l.94 2.06.94-2.06 2.06-.94-2.06-.94-.94-2.06-.94 2.06-2.06.94zm-11 1L8.5 8.5l.94-2.06 2.06-.94-2.06-.94L8.5 2.5l-.94 2.06-2.06.94zm10 10l.94 2.06.94-2.06 2.06-.94-2.06-.94-.94-2.06-.94 2.06-2.06.94z\"/><path d=\"M17.41 7.96l-1.37-1.37c-.4-.4-.92-.59-1.43-.59-.52 0-1.04.2-1.43.59L10.3 9.45l-7.72 7.72c-.78.78-.78 2.05 0 2.83L4 21.41c.39.39.9.59 1.41.59.51 0 1.02-.2 1.41-.59l7.78-7.78 2.81-2.81c.8-.78.8-2.07 0-2.86zM5.41 20L4 18.59l7.72-7.72 1.47 1.35L5.41 20z\"/>\n",
              "  </svg>\n",
              "      </button>\n",
              "      \n",
              "  <style>\n",
              "    .colab-df-container {\n",
              "      display:flex;\n",
              "      flex-wrap:wrap;\n",
              "      gap: 12px;\n",
              "    }\n",
              "\n",
              "    .colab-df-convert {\n",
              "      background-color: #E8F0FE;\n",
              "      border: none;\n",
              "      border-radius: 50%;\n",
              "      cursor: pointer;\n",
              "      display: none;\n",
              "      fill: #1967D2;\n",
              "      height: 32px;\n",
              "      padding: 0 0 0 0;\n",
              "      width: 32px;\n",
              "    }\n",
              "\n",
              "    .colab-df-convert:hover {\n",
              "      background-color: #E2EBFA;\n",
              "      box-shadow: 0px 1px 2px rgba(60, 64, 67, 0.3), 0px 1px 3px 1px rgba(60, 64, 67, 0.15);\n",
              "      fill: #174EA6;\n",
              "    }\n",
              "\n",
              "    [theme=dark] .colab-df-convert {\n",
              "      background-color: #3B4455;\n",
              "      fill: #D2E3FC;\n",
              "    }\n",
              "\n",
              "    [theme=dark] .colab-df-convert:hover {\n",
              "      background-color: #434B5C;\n",
              "      box-shadow: 0px 1px 3px 1px rgba(0, 0, 0, 0.15);\n",
              "      filter: drop-shadow(0px 1px 2px rgba(0, 0, 0, 0.3));\n",
              "      fill: #FFFFFF;\n",
              "    }\n",
              "  </style>\n",
              "\n",
              "      <script>\n",
              "        const buttonEl =\n",
              "          document.querySelector('#df-b2993cb0-7e75-47e6-ba50-9ebaf53d1da8 button.colab-df-convert');\n",
              "        buttonEl.style.display =\n",
              "          google.colab.kernel.accessAllowed ? 'block' : 'none';\n",
              "\n",
              "        async function convertToInteractive(key) {\n",
              "          const element = document.querySelector('#df-b2993cb0-7e75-47e6-ba50-9ebaf53d1da8');\n",
              "          const dataTable =\n",
              "            await google.colab.kernel.invokeFunction('convertToInteractive',\n",
              "                                                     [key], {});\n",
              "          if (!dataTable) return;\n",
              "\n",
              "          const docLinkHtml = 'Like what you see? Visit the ' +\n",
              "            '<a target=\"_blank\" href=https://colab.research.google.com/notebooks/data_table.ipynb>data table notebook</a>'\n",
              "            + ' to learn more about interactive tables.';\n",
              "          element.innerHTML = '';\n",
              "          dataTable['output_type'] = 'display_data';\n",
              "          await google.colab.output.renderOutput(dataTable, element);\n",
              "          const docLink = document.createElement('div');\n",
              "          docLink.innerHTML = docLinkHtml;\n",
              "          element.appendChild(docLink);\n",
              "        }\n",
              "      </script>\n",
              "    </div>\n",
              "  </div>\n",
              "  "
            ]
          },
          "metadata": {},
          "execution_count": 160
        }
      ]
    },
    {
      "cell_type": "code",
      "source": [
        "df['總分'].rank(ascending=False)"
      ],
      "metadata": {
        "colab": {
          "base_uri": "https://localhost:8080/"
        },
        "id": "voJZx2PZoVPo",
        "outputId": "9f8d8f92-05ff-498b-90e1-1381f505b1f4"
      },
      "execution_count": 161,
      "outputs": [
        {
          "output_type": "execute_result",
          "data": {
            "text/plain": [
              "郭雅惠     8.0\n",
              "陳欣虹     4.0\n",
              "王孟修     5.0\n",
              "李政勇     7.0\n",
              "陳仲燦     2.0\n",
              "王寧東     1.0\n",
              "楊雅名     3.0\n",
              "藍冰啟    10.0\n",
              "林玉亨     9.0\n",
              "崔承睿     6.0\n",
              "Name: 總分, dtype: float64"
            ]
          },
          "metadata": {},
          "execution_count": 161
        }
      ]
    },
    {
      "cell_type": "code",
      "source": [
        "df['名次'] = df['總分'].rank(ascending=False)"
      ],
      "metadata": {
        "id": "jkAZDhrao7QA"
      },
      "execution_count": 162,
      "outputs": []
    },
    {
      "cell_type": "code",
      "source": [
        "df"
      ],
      "metadata": {
        "colab": {
          "base_uri": "https://localhost:8080/",
          "height": 363
        },
        "id": "Qt4UgioPpZfu",
        "outputId": "fd6279b7-4ea5-40f0-c3dd-a66e156fa43d"
      },
      "execution_count": 163,
      "outputs": [
        {
          "output_type": "execute_result",
          "data": {
            "text/plain": [
              "     國文  英文  數學  理化   總分     平均    名次\n",
              "郭雅惠  68  66  35  56  225  56.25   8.0\n",
              "陳欣虹  95  54  65  43  257  64.25   4.0\n",
              "王孟修  40  55  72  87  254  63.50   5.0\n",
              "李政勇  35  64  73  64  236  59.00   7.0\n",
              "陳仲燦  98  81  84  37  300  75.00   2.0\n",
              "王寧東  97  65  96  86  344  86.00   1.0\n",
              "楊雅名  48  74  78  99  299  74.75   3.0\n",
              "藍冰啟  30  43  54  58  185  46.25  10.0\n",
              "林玉亨  46  61  54  44  205  51.25   9.0\n",
              "崔承睿  39  62  63  87  251  62.75   6.0"
            ],
            "text/html": [
              "\n",
              "  <div id=\"df-166573d4-aa55-4613-bbff-f1bc7e9057d7\">\n",
              "    <div class=\"colab-df-container\">\n",
              "      <div>\n",
              "<style scoped>\n",
              "    .dataframe tbody tr th:only-of-type {\n",
              "        vertical-align: middle;\n",
              "    }\n",
              "\n",
              "    .dataframe tbody tr th {\n",
              "        vertical-align: top;\n",
              "    }\n",
              "\n",
              "    .dataframe thead th {\n",
              "        text-align: right;\n",
              "    }\n",
              "</style>\n",
              "<table border=\"1\" class=\"dataframe\">\n",
              "  <thead>\n",
              "    <tr style=\"text-align: right;\">\n",
              "      <th></th>\n",
              "      <th>國文</th>\n",
              "      <th>英文</th>\n",
              "      <th>數學</th>\n",
              "      <th>理化</th>\n",
              "      <th>總分</th>\n",
              "      <th>平均</th>\n",
              "      <th>名次</th>\n",
              "    </tr>\n",
              "  </thead>\n",
              "  <tbody>\n",
              "    <tr>\n",
              "      <th>郭雅惠</th>\n",
              "      <td>68</td>\n",
              "      <td>66</td>\n",
              "      <td>35</td>\n",
              "      <td>56</td>\n",
              "      <td>225</td>\n",
              "      <td>56.25</td>\n",
              "      <td>8.0</td>\n",
              "    </tr>\n",
              "    <tr>\n",
              "      <th>陳欣虹</th>\n",
              "      <td>95</td>\n",
              "      <td>54</td>\n",
              "      <td>65</td>\n",
              "      <td>43</td>\n",
              "      <td>257</td>\n",
              "      <td>64.25</td>\n",
              "      <td>4.0</td>\n",
              "    </tr>\n",
              "    <tr>\n",
              "      <th>王孟修</th>\n",
              "      <td>40</td>\n",
              "      <td>55</td>\n",
              "      <td>72</td>\n",
              "      <td>87</td>\n",
              "      <td>254</td>\n",
              "      <td>63.50</td>\n",
              "      <td>5.0</td>\n",
              "    </tr>\n",
              "    <tr>\n",
              "      <th>李政勇</th>\n",
              "      <td>35</td>\n",
              "      <td>64</td>\n",
              "      <td>73</td>\n",
              "      <td>64</td>\n",
              "      <td>236</td>\n",
              "      <td>59.00</td>\n",
              "      <td>7.0</td>\n",
              "    </tr>\n",
              "    <tr>\n",
              "      <th>陳仲燦</th>\n",
              "      <td>98</td>\n",
              "      <td>81</td>\n",
              "      <td>84</td>\n",
              "      <td>37</td>\n",
              "      <td>300</td>\n",
              "      <td>75.00</td>\n",
              "      <td>2.0</td>\n",
              "    </tr>\n",
              "    <tr>\n",
              "      <th>王寧東</th>\n",
              "      <td>97</td>\n",
              "      <td>65</td>\n",
              "      <td>96</td>\n",
              "      <td>86</td>\n",
              "      <td>344</td>\n",
              "      <td>86.00</td>\n",
              "      <td>1.0</td>\n",
              "    </tr>\n",
              "    <tr>\n",
              "      <th>楊雅名</th>\n",
              "      <td>48</td>\n",
              "      <td>74</td>\n",
              "      <td>78</td>\n",
              "      <td>99</td>\n",
              "      <td>299</td>\n",
              "      <td>74.75</td>\n",
              "      <td>3.0</td>\n",
              "    </tr>\n",
              "    <tr>\n",
              "      <th>藍冰啟</th>\n",
              "      <td>30</td>\n",
              "      <td>43</td>\n",
              "      <td>54</td>\n",
              "      <td>58</td>\n",
              "      <td>185</td>\n",
              "      <td>46.25</td>\n",
              "      <td>10.0</td>\n",
              "    </tr>\n",
              "    <tr>\n",
              "      <th>林玉亨</th>\n",
              "      <td>46</td>\n",
              "      <td>61</td>\n",
              "      <td>54</td>\n",
              "      <td>44</td>\n",
              "      <td>205</td>\n",
              "      <td>51.25</td>\n",
              "      <td>9.0</td>\n",
              "    </tr>\n",
              "    <tr>\n",
              "      <th>崔承睿</th>\n",
              "      <td>39</td>\n",
              "      <td>62</td>\n",
              "      <td>63</td>\n",
              "      <td>87</td>\n",
              "      <td>251</td>\n",
              "      <td>62.75</td>\n",
              "      <td>6.0</td>\n",
              "    </tr>\n",
              "  </tbody>\n",
              "</table>\n",
              "</div>\n",
              "      <button class=\"colab-df-convert\" onclick=\"convertToInteractive('df-166573d4-aa55-4613-bbff-f1bc7e9057d7')\"\n",
              "              title=\"Convert this dataframe to an interactive table.\"\n",
              "              style=\"display:none;\">\n",
              "        \n",
              "  <svg xmlns=\"http://www.w3.org/2000/svg\" height=\"24px\"viewBox=\"0 0 24 24\"\n",
              "       width=\"24px\">\n",
              "    <path d=\"M0 0h24v24H0V0z\" fill=\"none\"/>\n",
              "    <path d=\"M18.56 5.44l.94 2.06.94-2.06 2.06-.94-2.06-.94-.94-2.06-.94 2.06-2.06.94zm-11 1L8.5 8.5l.94-2.06 2.06-.94-2.06-.94L8.5 2.5l-.94 2.06-2.06.94zm10 10l.94 2.06.94-2.06 2.06-.94-2.06-.94-.94-2.06-.94 2.06-2.06.94z\"/><path d=\"M17.41 7.96l-1.37-1.37c-.4-.4-.92-.59-1.43-.59-.52 0-1.04.2-1.43.59L10.3 9.45l-7.72 7.72c-.78.78-.78 2.05 0 2.83L4 21.41c.39.39.9.59 1.41.59.51 0 1.02-.2 1.41-.59l7.78-7.78 2.81-2.81c.8-.78.8-2.07 0-2.86zM5.41 20L4 18.59l7.72-7.72 1.47 1.35L5.41 20z\"/>\n",
              "  </svg>\n",
              "      </button>\n",
              "      \n",
              "  <style>\n",
              "    .colab-df-container {\n",
              "      display:flex;\n",
              "      flex-wrap:wrap;\n",
              "      gap: 12px;\n",
              "    }\n",
              "\n",
              "    .colab-df-convert {\n",
              "      background-color: #E8F0FE;\n",
              "      border: none;\n",
              "      border-radius: 50%;\n",
              "      cursor: pointer;\n",
              "      display: none;\n",
              "      fill: #1967D2;\n",
              "      height: 32px;\n",
              "      padding: 0 0 0 0;\n",
              "      width: 32px;\n",
              "    }\n",
              "\n",
              "    .colab-df-convert:hover {\n",
              "      background-color: #E2EBFA;\n",
              "      box-shadow: 0px 1px 2px rgba(60, 64, 67, 0.3), 0px 1px 3px 1px rgba(60, 64, 67, 0.15);\n",
              "      fill: #174EA6;\n",
              "    }\n",
              "\n",
              "    [theme=dark] .colab-df-convert {\n",
              "      background-color: #3B4455;\n",
              "      fill: #D2E3FC;\n",
              "    }\n",
              "\n",
              "    [theme=dark] .colab-df-convert:hover {\n",
              "      background-color: #434B5C;\n",
              "      box-shadow: 0px 1px 3px 1px rgba(0, 0, 0, 0.15);\n",
              "      filter: drop-shadow(0px 1px 2px rgba(0, 0, 0, 0.3));\n",
              "      fill: #FFFFFF;\n",
              "    }\n",
              "  </style>\n",
              "\n",
              "      <script>\n",
              "        const buttonEl =\n",
              "          document.querySelector('#df-166573d4-aa55-4613-bbff-f1bc7e9057d7 button.colab-df-convert');\n",
              "        buttonEl.style.display =\n",
              "          google.colab.kernel.accessAllowed ? 'block' : 'none';\n",
              "\n",
              "        async function convertToInteractive(key) {\n",
              "          const element = document.querySelector('#df-166573d4-aa55-4613-bbff-f1bc7e9057d7');\n",
              "          const dataTable =\n",
              "            await google.colab.kernel.invokeFunction('convertToInteractive',\n",
              "                                                     [key], {});\n",
              "          if (!dataTable) return;\n",
              "\n",
              "          const docLinkHtml = 'Like what you see? Visit the ' +\n",
              "            '<a target=\"_blank\" href=https://colab.research.google.com/notebooks/data_table.ipynb>data table notebook</a>'\n",
              "            + ' to learn more about interactive tables.';\n",
              "          element.innerHTML = '';\n",
              "          dataTable['output_type'] = 'display_data';\n",
              "          await google.colab.output.renderOutput(dataTable, element);\n",
              "          const docLink = document.createElement('div');\n",
              "          docLink.innerHTML = docLinkHtml;\n",
              "          element.appendChild(docLink);\n",
              "        }\n",
              "      </script>\n",
              "    </div>\n",
              "  </div>\n",
              "  "
            ]
          },
          "metadata": {},
          "execution_count": 163
        }
      ]
    },
    {
      "cell_type": "code",
      "source": [],
      "metadata": {
        "id": "qTCplbC0pa6-"
      },
      "execution_count": null,
      "outputs": []
    }
  ]
}